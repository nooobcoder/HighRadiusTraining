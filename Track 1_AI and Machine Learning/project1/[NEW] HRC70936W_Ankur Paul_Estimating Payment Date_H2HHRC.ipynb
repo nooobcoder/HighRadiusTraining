{
 "cells": [
  {
   "cell_type": "markdown",
   "id": "wcq6dWzy1ZR0",
   "metadata": {
    "id": "wcq6dWzy1ZR0"
   },
   "source": [
    "# Payment Date Prediction"
   ]
  },
  {
   "cell_type": "markdown",
   "id": "2778654e",
   "metadata": {
    "id": "2778654e"
   },
   "source": [
    "\n",
    "### Importing related Libraries "
   ]
  },
  {
   "cell_type": "code",
   "execution_count": 1,
   "id": "304c9e38",
   "metadata": {
    "id": "304c9e38"
   },
   "outputs": [],
   "source": [
    "import warnings\n",
    "\n",
    "import matplotlib.pyplot as plt\n",
    "import numpy as np\n",
    "import pandas as pd\n",
    "import seaborn as sns\n",
    "\n",
    "# Silencing warnings (Stealth as a tiger 🐯)\n",
    "warnings.filterwarnings(\"ignore\")\n",
    "from sklearn.model_selection import train_test_split"
   ]
  },
  {
   "cell_type": "markdown",
   "id": "8724f5ee",
   "metadata": {
    "id": "8724f5ee"
   },
   "source": [
    "### Store the dataset into the Dataframe\n"
   ]
  },
  {
   "cell_type": "code",
   "execution_count": 2,
   "id": "415db50a",
   "metadata": {
    "id": "415db50a"
   },
   "outputs": [],
   "source": [
    "df = pd.read_csv(r'./h2h_new_assignment_dataset.csv')"
   ]
  },
  {
   "cell_type": "markdown",
   "id": "42e37f05",
   "metadata": {
    "id": "42e37f05"
   },
   "source": [
    "### Check the shape of the dataframe\n"
   ]
  },
  {
   "cell_type": "code",
   "execution_count": 3,
   "id": "27cc0907",
   "metadata": {
    "id": "27cc0907"
   },
   "outputs": [
    {
     "data": {
      "text/plain": "(50099, 19)"
     },
     "execution_count": 3,
     "metadata": {},
     "output_type": "execute_result"
    }
   ],
   "source": [
    "df.shape"
   ]
  },
  {
   "cell_type": "markdown",
   "id": "b68c955d",
   "metadata": {
    "id": "b68c955d"
   },
   "source": [
    "### Check the Detail information of the dataframe"
   ]
  },
  {
   "cell_type": "code",
   "execution_count": 4,
   "id": "e092ec9e",
   "metadata": {
    "id": "e092ec9e"
   },
   "outputs": [
    {
     "name": "stdout",
     "output_type": "stream",
     "text": [
      "<class 'pandas.core.frame.DataFrame'>\n",
      "RangeIndex: 50099 entries, 0 to 50098\n",
      "Data columns (total 19 columns):\n",
      " #   Column                  Non-Null Count  Dtype  \n",
      "---  ------                  --------------  -----  \n",
      " 0   business_code           50099 non-null  object \n",
      " 1   cust_number             50099 non-null  object \n",
      " 2   name_customer           50099 non-null  object \n",
      " 3   clear_date              40000 non-null  object \n",
      " 4   buisness_year           50099 non-null  int64  \n",
      " 5   doc_id                  50099 non-null  int64  \n",
      " 6   posting_date            50099 non-null  object \n",
      " 7   document_create_date    50099 non-null  int64  \n",
      " 8   document_create_date.1  50099 non-null  int64  \n",
      " 9   due_in_date             50099 non-null  int64  \n",
      " 10  invoice_currency        50099 non-null  object \n",
      " 11  document type           50099 non-null  object \n",
      " 12  posting_id              50099 non-null  int64  \n",
      " 13  area_business           0 non-null      float64\n",
      " 14  total_open_amount       50099 non-null  float64\n",
      " 15  baseline_create_date    50099 non-null  int64  \n",
      " 16  cust_payment_terms      50099 non-null  object \n",
      " 17  invoice_id              50093 non-null  float64\n",
      " 18  isOpen                  50099 non-null  int64  \n",
      "dtypes: float64(3), int64(8), object(8)\n",
      "memory usage: 7.3+ MB\n"
     ]
    }
   ],
   "source": [
    "df.info()"
   ]
  },
  {
   "cell_type": "markdown",
   "id": "112f2d0e",
   "metadata": {
    "id": "112f2d0e"
   },
   "source": [
    "### Display All the column names"
   ]
  },
  {
   "cell_type": "code",
   "execution_count": 5,
   "id": "1416e2fd",
   "metadata": {
    "id": "1416e2fd"
   },
   "outputs": [
    {
     "data": {
      "text/plain": "Index(['business_code', 'cust_number', 'name_customer', 'clear_date',\n       'buisness_year', 'doc_id', 'posting_date', 'document_create_date',\n       'document_create_date.1', 'due_in_date', 'invoice_currency',\n       'document type', 'posting_id', 'area_business', 'total_open_amount',\n       'baseline_create_date', 'cust_payment_terms', 'invoice_id', 'isOpen'],\n      dtype='object')"
     },
     "execution_count": 5,
     "metadata": {},
     "output_type": "execute_result"
    }
   ],
   "source": [
    "df.columns"
   ]
  },
  {
   "cell_type": "markdown",
   "id": "d465ed7a",
   "metadata": {
    "id": "d465ed7a"
   },
   "source": [
    "### Describe the entire dataset"
   ]
  },
  {
   "cell_type": "code",
   "execution_count": 6,
   "id": "25f65e1b",
   "metadata": {
    "id": "25f65e1b"
   },
   "outputs": [
    {
     "data": {
      "text/plain": "       buisness_year        doc_id  document_create_date  \\\ncount   50099.000000  5.009900e+04          5.009900e+04   \nmean     2019.307072  2.014112e+09          2.019353e+07   \nstd         0.461284  2.912992e+08          4.501712e+03   \nmin      2019.000000  1.928502e+09          2.018123e+07   \n25%      2019.000000  1.929343e+09          2.019051e+07   \n50%      2019.000000  1.929968e+09          2.019091e+07   \n75%      2020.000000  1.930621e+09          2.020013e+07   \nmax      2020.000000  9.500000e+09          2.020052e+07   \n\n       document_create_date.1   due_in_date  posting_id  area_business  \\\ncount            5.009900e+04  5.009900e+04     50099.0            0.0   \nmean             2.019355e+07  2.019369e+07         1.0            NaN   \nstd              4.487779e+03  4.475909e+03         0.0            NaN   \nmin              2.018123e+07  2.018122e+07         1.0            NaN   \n25%              2.019051e+07  2.019052e+07         1.0            NaN   \n50%              2.019091e+07  2.019093e+07         1.0            NaN   \n75%              2.020013e+07  2.020022e+07         1.0            NaN   \nmax              2.020052e+07  2.020071e+07         1.0            NaN   \n\n       total_open_amount  baseline_create_date    invoice_id        isOpen  \ncount       50099.000000          5.009900e+04  5.009300e+04  50099.000000  \nmean        32456.565546          2.019355e+07  2.013216e+09      0.201581  \nstd         39259.249400          4.488339e+03  2.795573e+08      0.401185  \nmin             0.720000          2.018121e+07  1.928502e+09      0.000000  \n25%          4943.480000          2.019051e+07  1.929343e+09      0.000000  \n50%         17700.000000          2.019091e+07  1.929968e+09      0.000000  \n75%         47385.590000          2.020013e+07  1.930621e+09      0.000000  \nmax        668593.360000          2.020052e+07  2.960636e+09      1.000000  ",
      "text/html": "<div>\n<style scoped>\n    .dataframe tbody tr th:only-of-type {\n        vertical-align: middle;\n    }\n\n    .dataframe tbody tr th {\n        vertical-align: top;\n    }\n\n    .dataframe thead th {\n        text-align: right;\n    }\n</style>\n<table border=\"1\" class=\"dataframe\">\n  <thead>\n    <tr style=\"text-align: right;\">\n      <th></th>\n      <th>buisness_year</th>\n      <th>doc_id</th>\n      <th>document_create_date</th>\n      <th>document_create_date.1</th>\n      <th>due_in_date</th>\n      <th>posting_id</th>\n      <th>area_business</th>\n      <th>total_open_amount</th>\n      <th>baseline_create_date</th>\n      <th>invoice_id</th>\n      <th>isOpen</th>\n    </tr>\n  </thead>\n  <tbody>\n    <tr>\n      <th>count</th>\n      <td>50099.000000</td>\n      <td>5.009900e+04</td>\n      <td>5.009900e+04</td>\n      <td>5.009900e+04</td>\n      <td>5.009900e+04</td>\n      <td>50099.0</td>\n      <td>0.0</td>\n      <td>50099.000000</td>\n      <td>5.009900e+04</td>\n      <td>5.009300e+04</td>\n      <td>50099.000000</td>\n    </tr>\n    <tr>\n      <th>mean</th>\n      <td>2019.307072</td>\n      <td>2.014112e+09</td>\n      <td>2.019353e+07</td>\n      <td>2.019355e+07</td>\n      <td>2.019369e+07</td>\n      <td>1.0</td>\n      <td>NaN</td>\n      <td>32456.565546</td>\n      <td>2.019355e+07</td>\n      <td>2.013216e+09</td>\n      <td>0.201581</td>\n    </tr>\n    <tr>\n      <th>std</th>\n      <td>0.461284</td>\n      <td>2.912992e+08</td>\n      <td>4.501712e+03</td>\n      <td>4.487779e+03</td>\n      <td>4.475909e+03</td>\n      <td>0.0</td>\n      <td>NaN</td>\n      <td>39259.249400</td>\n      <td>4.488339e+03</td>\n      <td>2.795573e+08</td>\n      <td>0.401185</td>\n    </tr>\n    <tr>\n      <th>min</th>\n      <td>2019.000000</td>\n      <td>1.928502e+09</td>\n      <td>2.018123e+07</td>\n      <td>2.018123e+07</td>\n      <td>2.018122e+07</td>\n      <td>1.0</td>\n      <td>NaN</td>\n      <td>0.720000</td>\n      <td>2.018121e+07</td>\n      <td>1.928502e+09</td>\n      <td>0.000000</td>\n    </tr>\n    <tr>\n      <th>25%</th>\n      <td>2019.000000</td>\n      <td>1.929343e+09</td>\n      <td>2.019051e+07</td>\n      <td>2.019051e+07</td>\n      <td>2.019052e+07</td>\n      <td>1.0</td>\n      <td>NaN</td>\n      <td>4943.480000</td>\n      <td>2.019051e+07</td>\n      <td>1.929343e+09</td>\n      <td>0.000000</td>\n    </tr>\n    <tr>\n      <th>50%</th>\n      <td>2019.000000</td>\n      <td>1.929968e+09</td>\n      <td>2.019091e+07</td>\n      <td>2.019091e+07</td>\n      <td>2.019093e+07</td>\n      <td>1.0</td>\n      <td>NaN</td>\n      <td>17700.000000</td>\n      <td>2.019091e+07</td>\n      <td>1.929968e+09</td>\n      <td>0.000000</td>\n    </tr>\n    <tr>\n      <th>75%</th>\n      <td>2020.000000</td>\n      <td>1.930621e+09</td>\n      <td>2.020013e+07</td>\n      <td>2.020013e+07</td>\n      <td>2.020022e+07</td>\n      <td>1.0</td>\n      <td>NaN</td>\n      <td>47385.590000</td>\n      <td>2.020013e+07</td>\n      <td>1.930621e+09</td>\n      <td>0.000000</td>\n    </tr>\n    <tr>\n      <th>max</th>\n      <td>2020.000000</td>\n      <td>9.500000e+09</td>\n      <td>2.020052e+07</td>\n      <td>2.020052e+07</td>\n      <td>2.020071e+07</td>\n      <td>1.0</td>\n      <td>NaN</td>\n      <td>668593.360000</td>\n      <td>2.020052e+07</td>\n      <td>2.960636e+09</td>\n      <td>1.000000</td>\n    </tr>\n  </tbody>\n</table>\n</div>"
     },
     "execution_count": 6,
     "metadata": {},
     "output_type": "execute_result"
    }
   ],
   "source": [
    "df.describe()"
   ]
  },
  {
   "cell_type": "markdown",
   "id": "0f2c8d02",
   "metadata": {
    "id": "0f2c8d02"
   },
   "source": [
    "# Data Cleaning\n",
    "\n",
    "- Show top 5 records from the dataset"
   ]
  },
  {
   "cell_type": "code",
   "execution_count": 7,
   "id": "8f876212",
   "metadata": {
    "id": "8f876212"
   },
   "outputs": [
    {
     "data": {
      "text/plain": "  business_code cust_number       name_customer        clear_date  \\\n0          U001   200769623        WAL-MAR corp  11-02-2020 00:00   \n1          U001   200980828              BEN E   08-08-2019 00:00   \n2          U001   200792734          MDV/ trust  30-12-2019 00:00   \n3          CA02   140105686            SYSC llc               NaN   \n4          U001   200769623  WAL-MAR foundation  25-11-2019 00:00   \n\n   buisness_year      doc_id posting_date  document_create_date  \\\n0           2020  1930438491   26-01-2020              20200125   \n1           2019  1929646410   22-07-2019              20190722   \n2           2019  1929873765   14-09-2019              20190914   \n3           2020  2960623488   30-03-2020              20200330   \n4           2019  1930147974   13-11-2019              20191113   \n\n   document_create_date.1  due_in_date invoice_currency document type  \\\n0                20200126     20200210              USD            RV   \n1                20190722     20190811              USD            RV   \n2                20190914     20190929              USD            RV   \n3                20200330     20200410              CAD            RV   \n4                20191113     20191128              USD            RV   \n\n   posting_id  area_business  total_open_amount  baseline_create_date  \\\n0           1            NaN           54273.28              20200126   \n1           1            NaN           79656.60              20190722   \n2           1            NaN            2253.86              20190914   \n3           1            NaN            3299.70              20200331   \n4           1            NaN           33133.29              20191113   \n\n  cust_payment_terms    invoice_id  isOpen  \n0               NAH4  1.930438e+09       0  \n1               NAD1  1.929646e+09       0  \n2               NAA8  1.929874e+09       0  \n3               CA10  2.960623e+09       1  \n4               NAH4  1.930148e+09       0  ",
      "text/html": "<div>\n<style scoped>\n    .dataframe tbody tr th:only-of-type {\n        vertical-align: middle;\n    }\n\n    .dataframe tbody tr th {\n        vertical-align: top;\n    }\n\n    .dataframe thead th {\n        text-align: right;\n    }\n</style>\n<table border=\"1\" class=\"dataframe\">\n  <thead>\n    <tr style=\"text-align: right;\">\n      <th></th>\n      <th>business_code</th>\n      <th>cust_number</th>\n      <th>name_customer</th>\n      <th>clear_date</th>\n      <th>buisness_year</th>\n      <th>doc_id</th>\n      <th>posting_date</th>\n      <th>document_create_date</th>\n      <th>document_create_date.1</th>\n      <th>due_in_date</th>\n      <th>invoice_currency</th>\n      <th>document type</th>\n      <th>posting_id</th>\n      <th>area_business</th>\n      <th>total_open_amount</th>\n      <th>baseline_create_date</th>\n      <th>cust_payment_terms</th>\n      <th>invoice_id</th>\n      <th>isOpen</th>\n    </tr>\n  </thead>\n  <tbody>\n    <tr>\n      <th>0</th>\n      <td>U001</td>\n      <td>200769623</td>\n      <td>WAL-MAR corp</td>\n      <td>11-02-2020 00:00</td>\n      <td>2020</td>\n      <td>1930438491</td>\n      <td>26-01-2020</td>\n      <td>20200125</td>\n      <td>20200126</td>\n      <td>20200210</td>\n      <td>USD</td>\n      <td>RV</td>\n      <td>1</td>\n      <td>NaN</td>\n      <td>54273.28</td>\n      <td>20200126</td>\n      <td>NAH4</td>\n      <td>1.930438e+09</td>\n      <td>0</td>\n    </tr>\n    <tr>\n      <th>1</th>\n      <td>U001</td>\n      <td>200980828</td>\n      <td>BEN E</td>\n      <td>08-08-2019 00:00</td>\n      <td>2019</td>\n      <td>1929646410</td>\n      <td>22-07-2019</td>\n      <td>20190722</td>\n      <td>20190722</td>\n      <td>20190811</td>\n      <td>USD</td>\n      <td>RV</td>\n      <td>1</td>\n      <td>NaN</td>\n      <td>79656.60</td>\n      <td>20190722</td>\n      <td>NAD1</td>\n      <td>1.929646e+09</td>\n      <td>0</td>\n    </tr>\n    <tr>\n      <th>2</th>\n      <td>U001</td>\n      <td>200792734</td>\n      <td>MDV/ trust</td>\n      <td>30-12-2019 00:00</td>\n      <td>2019</td>\n      <td>1929873765</td>\n      <td>14-09-2019</td>\n      <td>20190914</td>\n      <td>20190914</td>\n      <td>20190929</td>\n      <td>USD</td>\n      <td>RV</td>\n      <td>1</td>\n      <td>NaN</td>\n      <td>2253.86</td>\n      <td>20190914</td>\n      <td>NAA8</td>\n      <td>1.929874e+09</td>\n      <td>0</td>\n    </tr>\n    <tr>\n      <th>3</th>\n      <td>CA02</td>\n      <td>140105686</td>\n      <td>SYSC llc</td>\n      <td>NaN</td>\n      <td>2020</td>\n      <td>2960623488</td>\n      <td>30-03-2020</td>\n      <td>20200330</td>\n      <td>20200330</td>\n      <td>20200410</td>\n      <td>CAD</td>\n      <td>RV</td>\n      <td>1</td>\n      <td>NaN</td>\n      <td>3299.70</td>\n      <td>20200331</td>\n      <td>CA10</td>\n      <td>2.960623e+09</td>\n      <td>1</td>\n    </tr>\n    <tr>\n      <th>4</th>\n      <td>U001</td>\n      <td>200769623</td>\n      <td>WAL-MAR foundation</td>\n      <td>25-11-2019 00:00</td>\n      <td>2019</td>\n      <td>1930147974</td>\n      <td>13-11-2019</td>\n      <td>20191113</td>\n      <td>20191113</td>\n      <td>20191128</td>\n      <td>USD</td>\n      <td>RV</td>\n      <td>1</td>\n      <td>NaN</td>\n      <td>33133.29</td>\n      <td>20191113</td>\n      <td>NAH4</td>\n      <td>1.930148e+09</td>\n      <td>0</td>\n    </tr>\n  </tbody>\n</table>\n</div>"
     },
     "execution_count": 7,
     "metadata": {},
     "output_type": "execute_result"
    }
   ],
   "source": [
    "df.head()"
   ]
  },
  {
   "cell_type": "markdown",
   "id": "92b044e4",
   "metadata": {
    "id": "92b044e4"
   },
   "source": [
    "### Display the Null values percentage against every columns (compare to the total number of records)\n",
    "\n",
    "- Output expected : area_business - 100% null, clear_data = 20% null, invoice_id = 0.12% null"
   ]
  },
  {
   "cell_type": "code",
   "execution_count": 8,
   "id": "24c7b13d",
   "metadata": {
    "id": "24c7b13d"
   },
   "outputs": [
    {
     "data": {
      "text/plain": "business_code               0.0\ncust_number                 0.0\nname_customer               0.0\nclear_date                 20.0\nbuisness_year               0.0\ndoc_id                      0.0\nposting_date                0.0\ndocument_create_date        0.0\ndocument_create_date.1      0.0\ndue_in_date                 0.0\ninvoice_currency            0.0\ndocument type               0.0\nposting_id                  0.0\narea_business             100.0\ntotal_open_amount           0.0\nbaseline_create_date        0.0\ncust_payment_terms          0.0\ninvoice_id                  0.0\nisOpen                      0.0\ndtype: float64"
     },
     "execution_count": 8,
     "metadata": {},
     "output_type": "execute_result"
    }
   ],
   "source": [
    "round((df.isnull().sum() / len(df)) * 100)"
   ]
  },
  {
   "cell_type": "markdown",
   "id": "2c46a98b",
   "metadata": {
    "id": "2c46a98b"
   },
   "source": [
    "### Display Invoice_id and Doc_Id\n",
    "\n",
    "- Note - Many of the would have same invoice_id and doc_id\n"
   ]
  },
  {
   "cell_type": "code",
   "execution_count": 9,
   "id": "038f24bb",
   "metadata": {
    "id": "038f24bb"
   },
   "outputs": [
    {
     "data": {
      "text/plain": "         invoice_id      doc_id\n0      1.930438e+09  1930438491\n1      1.929646e+09  1929646410\n2      1.929874e+09  1929873765\n3      2.960623e+09  2960623488\n4      1.930148e+09  1930147974\n...             ...         ...\n50094  2.960619e+09  2960618884\n50095  2.960619e+09  2960618885\n50096  2.960619e+09  2960618886\n50097  2.960619e+09  2960618887\n50098  2.960619e+09  2960618888\n\n[50099 rows x 2 columns]",
      "text/html": "<div>\n<style scoped>\n    .dataframe tbody tr th:only-of-type {\n        vertical-align: middle;\n    }\n\n    .dataframe tbody tr th {\n        vertical-align: top;\n    }\n\n    .dataframe thead th {\n        text-align: right;\n    }\n</style>\n<table border=\"1\" class=\"dataframe\">\n  <thead>\n    <tr style=\"text-align: right;\">\n      <th></th>\n      <th>invoice_id</th>\n      <th>doc_id</th>\n    </tr>\n  </thead>\n  <tbody>\n    <tr>\n      <th>0</th>\n      <td>1.930438e+09</td>\n      <td>1930438491</td>\n    </tr>\n    <tr>\n      <th>1</th>\n      <td>1.929646e+09</td>\n      <td>1929646410</td>\n    </tr>\n    <tr>\n      <th>2</th>\n      <td>1.929874e+09</td>\n      <td>1929873765</td>\n    </tr>\n    <tr>\n      <th>3</th>\n      <td>2.960623e+09</td>\n      <td>2960623488</td>\n    </tr>\n    <tr>\n      <th>4</th>\n      <td>1.930148e+09</td>\n      <td>1930147974</td>\n    </tr>\n    <tr>\n      <th>...</th>\n      <td>...</td>\n      <td>...</td>\n    </tr>\n    <tr>\n      <th>50094</th>\n      <td>2.960619e+09</td>\n      <td>2960618884</td>\n    </tr>\n    <tr>\n      <th>50095</th>\n      <td>2.960619e+09</td>\n      <td>2960618885</td>\n    </tr>\n    <tr>\n      <th>50096</th>\n      <td>2.960619e+09</td>\n      <td>2960618886</td>\n    </tr>\n    <tr>\n      <th>50097</th>\n      <td>2.960619e+09</td>\n      <td>2960618887</td>\n    </tr>\n    <tr>\n      <th>50098</th>\n      <td>2.960619e+09</td>\n      <td>2960618888</td>\n    </tr>\n  </tbody>\n</table>\n<p>50099 rows × 2 columns</p>\n</div>"
     },
     "execution_count": 9,
     "metadata": {},
     "output_type": "execute_result"
    }
   ],
   "source": [
    "df[['invoice_id', 'doc_id']]"
   ]
  },
  {
   "cell_type": "markdown",
   "id": "18cfe10a",
   "metadata": {
    "id": "18cfe10a"
   },
   "source": [
    "#### Write a code to check - 'baseline_create_date',\"document_create_date\",'document_create_date.1' - these columns are almost same.\n",
    "\n",
    "- Please note, if they are same, we need to drop them later\n",
    "\n"
   ]
  },
  {
   "cell_type": "code",
   "execution_count": 10,
   "id": "cf5b40ff",
   "metadata": {
    "id": "cf5b40ff"
   },
   "outputs": [
    {
     "data": {
      "text/plain": "                        baseline_create_date  document_create_date  \\\nbaseline_create_date                1.000000              0.994105   \ndocument_create_date                0.994105              1.000000   \ndocument_create_date.1              0.999529              0.994572   \n\n                        document_create_date.1  \nbaseline_create_date                  0.999529  \ndocument_create_date                  0.994572  \ndocument_create_date.1                1.000000  ",
      "text/html": "<div>\n<style scoped>\n    .dataframe tbody tr th:only-of-type {\n        vertical-align: middle;\n    }\n\n    .dataframe tbody tr th {\n        vertical-align: top;\n    }\n\n    .dataframe thead th {\n        text-align: right;\n    }\n</style>\n<table border=\"1\" class=\"dataframe\">\n  <thead>\n    <tr style=\"text-align: right;\">\n      <th></th>\n      <th>baseline_create_date</th>\n      <th>document_create_date</th>\n      <th>document_create_date.1</th>\n    </tr>\n  </thead>\n  <tbody>\n    <tr>\n      <th>baseline_create_date</th>\n      <td>1.000000</td>\n      <td>0.994105</td>\n      <td>0.999529</td>\n    </tr>\n    <tr>\n      <th>document_create_date</th>\n      <td>0.994105</td>\n      <td>1.000000</td>\n      <td>0.994572</td>\n    </tr>\n    <tr>\n      <th>document_create_date.1</th>\n      <td>0.999529</td>\n      <td>0.994572</td>\n      <td>1.000000</td>\n    </tr>\n  </tbody>\n</table>\n</div>"
     },
     "execution_count": 10,
     "metadata": {},
     "output_type": "execute_result"
    }
   ],
   "source": [
    "cr = df[['baseline_create_date', \"document_create_date\", 'document_create_date.1']].corr()\n",
    "cr"
   ]
  },
  {
   "cell_type": "markdown",
   "id": "33110576",
   "metadata": {
    "id": "33110576"
   },
   "source": [
    "#### Please check, Column 'posting_id' is constant columns or not\n"
   ]
  },
  {
   "cell_type": "code",
   "execution_count": 11,
   "id": "ecce2664",
   "metadata": {
    "id": "ecce2664"
   },
   "outputs": [
    {
     "data": {
      "text/plain": "Index(['posting_id', 'area_business'], dtype='object')"
     },
     "execution_count": 11,
     "metadata": {},
     "output_type": "execute_result"
    }
   ],
   "source": [
    "df.columns[df.nunique() <= 1]"
   ]
  },
  {
   "cell_type": "markdown",
   "id": "e5fb8daf",
   "metadata": {
    "id": "e5fb8daf"
   },
   "source": [
    "#### Please check 'isOpen' is a constant column and relevant column for this project or not"
   ]
  },
  {
   "cell_type": "code",
   "execution_count": 12,
   "id": "8db9956b",
   "metadata": {
    "id": "8db9956b"
   },
   "outputs": [
    {
     "data": {
      "text/plain": "2"
     },
     "execution_count": 12,
     "metadata": {},
     "output_type": "execute_result"
    }
   ],
   "source": [
    "df.isOpen.nunique()"
   ]
  },
  {
   "cell_type": "markdown",
   "id": "45a11a62",
   "metadata": {
    "id": "45a11a62"
   },
   "source": [
    "### Write the code to drop all the following columns from the dataframe\n",
    "\n",
    "- 'area_business'\n",
    "- \"posting_id\"\n",
    "- \"invoice_id\"\n",
    "- \"document_create_date\"\n",
    "- \"isOpen\"\n",
    "- 'document type' \n",
    "- 'document_create_date.1"
   ]
  },
  {
   "cell_type": "code",
   "execution_count": 13,
   "id": "270d85d1",
   "metadata": {
    "id": "270d85d1"
   },
   "outputs": [],
   "source": [
    "df.drop(['area_business', 'posting_id', 'invoice_id', 'document_create_date', 'isOpen', 'document type',\n",
    "         'document_create_date.1'], axis=1, inplace=True)"
   ]
  },
  {
   "cell_type": "markdown",
   "id": "K5LHAM2XVGnk",
   "metadata": {
    "id": "K5LHAM2XVGnk"
   },
   "source": [
    "### Please check from the dataframe whether all the columns are removed or not "
   ]
  },
  {
   "cell_type": "code",
   "execution_count": 14,
   "id": "ef3f7d2b",
   "metadata": {
    "id": "ef3f7d2b"
   },
   "outputs": [
    {
     "name": "stdout",
     "output_type": "stream",
     "text": [
      "<class 'pandas.core.frame.DataFrame'>\n",
      "RangeIndex: 50099 entries, 0 to 50098\n",
      "Data columns (total 12 columns):\n",
      " #   Column                Non-Null Count  Dtype  \n",
      "---  ------                --------------  -----  \n",
      " 0   business_code         50099 non-null  object \n",
      " 1   cust_number           50099 non-null  object \n",
      " 2   name_customer         50099 non-null  object \n",
      " 3   clear_date            40000 non-null  object \n",
      " 4   buisness_year         50099 non-null  int64  \n",
      " 5   doc_id                50099 non-null  int64  \n",
      " 6   posting_date          50099 non-null  object \n",
      " 7   due_in_date           50099 non-null  int64  \n",
      " 8   invoice_currency      50099 non-null  object \n",
      " 9   total_open_amount     50099 non-null  float64\n",
      " 10  baseline_create_date  50099 non-null  int64  \n",
      " 11  cust_payment_terms    50099 non-null  object \n",
      "dtypes: float64(1), int64(4), object(7)\n",
      "memory usage: 4.6+ MB\n"
     ]
    }
   ],
   "source": [
    "df.info()"
   ]
  },
  {
   "cell_type": "markdown",
   "id": "6bc052c7",
   "metadata": {
    "id": "6bc052c7"
   },
   "source": [
    "### Show all the Duplicate rows from the dataframe"
   ]
  },
  {
   "cell_type": "code",
   "execution_count": 15,
   "id": "1ae3c7e4",
   "metadata": {
    "id": "1ae3c7e4"
   },
   "outputs": [
    {
     "data": {
      "text/plain": "      business_code cust_number        name_customer        clear_date  \\\n1041           U001   200769623           WAL-MAR in  12-03-2019 00:00   \n2400           U001   200769623        WAL-MAR trust  28-08-2019 00:00   \n2584           U001   200769623  WAL-MAR corporation  16-12-2019 00:00   \n3755           U001   200769623             WAL-MAR   22-11-2019 00:00   \n3873           CA02   140104409       LOB associates               NaN   \n...             ...         ...                  ...               ...   \n49963          U001   200759878                SA us  29-01-2019 00:00   \n49986          U001   200772670  ASSOCIAT foundation  12-06-2019 00:00   \n49990          U001   200765011           MAINES llc  06-06-2019 00:00   \n49991          U001   200704045             RA trust  25-10-2019 00:00   \n50000          CA02   140106408           WAL-M corp               NaN   \n\n       buisness_year      doc_id posting_date  due_in_date invoice_currency  \\\n1041            2019  1928870382   28-02-2019     20190315              USD   \n2400            2019  1929758460   18-08-2019     20190902              USD   \n2584            2019  1930216806   04-12-2019     20191219              USD   \n3755            2019  1930137035   12-11-2019     20191127              USD   \n3873            2020  2960628616   14-04-2020     20200425              CAD   \n...              ...         ...          ...          ...              ...   \n49963           2019  1928613993   13-01-2019     20190128              USD   \n49986           2019  1929403090   29-05-2019     20190613              USD   \n49990           2019  1929365364   22-05-2019     20190606              USD   \n49991           2019  1930001131   10-10-2019     20191025              USD   \n50000           2020  2960618790   06-03-2020     20200316              CAD   \n\n       total_open_amount  baseline_create_date cust_payment_terms  \n1041            19557.41              20190228               NAH4  \n2400             5600.41              20190818               NAH4  \n2584            35352.17              20191204               NAH4  \n3755             2982.64              20191112               NAH4  \n3873            82975.82              20200415               CA10  \n...                  ...                   ...                ...  \n49963           10968.24              20190113               NAH4  \n49986          155837.53              20190529               NAU5  \n49990            4008.05              20190522               NAA8  \n49991           73002.24              20191010               NAA8  \n50000           92832.27              20200306               CA10  \n\n[1162 rows x 12 columns]",
      "text/html": "<div>\n<style scoped>\n    .dataframe tbody tr th:only-of-type {\n        vertical-align: middle;\n    }\n\n    .dataframe tbody tr th {\n        vertical-align: top;\n    }\n\n    .dataframe thead th {\n        text-align: right;\n    }\n</style>\n<table border=\"1\" class=\"dataframe\">\n  <thead>\n    <tr style=\"text-align: right;\">\n      <th></th>\n      <th>business_code</th>\n      <th>cust_number</th>\n      <th>name_customer</th>\n      <th>clear_date</th>\n      <th>buisness_year</th>\n      <th>doc_id</th>\n      <th>posting_date</th>\n      <th>due_in_date</th>\n      <th>invoice_currency</th>\n      <th>total_open_amount</th>\n      <th>baseline_create_date</th>\n      <th>cust_payment_terms</th>\n    </tr>\n  </thead>\n  <tbody>\n    <tr>\n      <th>1041</th>\n      <td>U001</td>\n      <td>200769623</td>\n      <td>WAL-MAR in</td>\n      <td>12-03-2019 00:00</td>\n      <td>2019</td>\n      <td>1928870382</td>\n      <td>28-02-2019</td>\n      <td>20190315</td>\n      <td>USD</td>\n      <td>19557.41</td>\n      <td>20190228</td>\n      <td>NAH4</td>\n    </tr>\n    <tr>\n      <th>2400</th>\n      <td>U001</td>\n      <td>200769623</td>\n      <td>WAL-MAR trust</td>\n      <td>28-08-2019 00:00</td>\n      <td>2019</td>\n      <td>1929758460</td>\n      <td>18-08-2019</td>\n      <td>20190902</td>\n      <td>USD</td>\n      <td>5600.41</td>\n      <td>20190818</td>\n      <td>NAH4</td>\n    </tr>\n    <tr>\n      <th>2584</th>\n      <td>U001</td>\n      <td>200769623</td>\n      <td>WAL-MAR corporation</td>\n      <td>16-12-2019 00:00</td>\n      <td>2019</td>\n      <td>1930216806</td>\n      <td>04-12-2019</td>\n      <td>20191219</td>\n      <td>USD</td>\n      <td>35352.17</td>\n      <td>20191204</td>\n      <td>NAH4</td>\n    </tr>\n    <tr>\n      <th>3755</th>\n      <td>U001</td>\n      <td>200769623</td>\n      <td>WAL-MAR</td>\n      <td>22-11-2019 00:00</td>\n      <td>2019</td>\n      <td>1930137035</td>\n      <td>12-11-2019</td>\n      <td>20191127</td>\n      <td>USD</td>\n      <td>2982.64</td>\n      <td>20191112</td>\n      <td>NAH4</td>\n    </tr>\n    <tr>\n      <th>3873</th>\n      <td>CA02</td>\n      <td>140104409</td>\n      <td>LOB associates</td>\n      <td>NaN</td>\n      <td>2020</td>\n      <td>2960628616</td>\n      <td>14-04-2020</td>\n      <td>20200425</td>\n      <td>CAD</td>\n      <td>82975.82</td>\n      <td>20200415</td>\n      <td>CA10</td>\n    </tr>\n    <tr>\n      <th>...</th>\n      <td>...</td>\n      <td>...</td>\n      <td>...</td>\n      <td>...</td>\n      <td>...</td>\n      <td>...</td>\n      <td>...</td>\n      <td>...</td>\n      <td>...</td>\n      <td>...</td>\n      <td>...</td>\n      <td>...</td>\n    </tr>\n    <tr>\n      <th>49963</th>\n      <td>U001</td>\n      <td>200759878</td>\n      <td>SA us</td>\n      <td>29-01-2019 00:00</td>\n      <td>2019</td>\n      <td>1928613993</td>\n      <td>13-01-2019</td>\n      <td>20190128</td>\n      <td>USD</td>\n      <td>10968.24</td>\n      <td>20190113</td>\n      <td>NAH4</td>\n    </tr>\n    <tr>\n      <th>49986</th>\n      <td>U001</td>\n      <td>200772670</td>\n      <td>ASSOCIAT foundation</td>\n      <td>12-06-2019 00:00</td>\n      <td>2019</td>\n      <td>1929403090</td>\n      <td>29-05-2019</td>\n      <td>20190613</td>\n      <td>USD</td>\n      <td>155837.53</td>\n      <td>20190529</td>\n      <td>NAU5</td>\n    </tr>\n    <tr>\n      <th>49990</th>\n      <td>U001</td>\n      <td>200765011</td>\n      <td>MAINES llc</td>\n      <td>06-06-2019 00:00</td>\n      <td>2019</td>\n      <td>1929365364</td>\n      <td>22-05-2019</td>\n      <td>20190606</td>\n      <td>USD</td>\n      <td>4008.05</td>\n      <td>20190522</td>\n      <td>NAA8</td>\n    </tr>\n    <tr>\n      <th>49991</th>\n      <td>U001</td>\n      <td>200704045</td>\n      <td>RA trust</td>\n      <td>25-10-2019 00:00</td>\n      <td>2019</td>\n      <td>1930001131</td>\n      <td>10-10-2019</td>\n      <td>20191025</td>\n      <td>USD</td>\n      <td>73002.24</td>\n      <td>20191010</td>\n      <td>NAA8</td>\n    </tr>\n    <tr>\n      <th>50000</th>\n      <td>CA02</td>\n      <td>140106408</td>\n      <td>WAL-M corp</td>\n      <td>NaN</td>\n      <td>2020</td>\n      <td>2960618790</td>\n      <td>06-03-2020</td>\n      <td>20200316</td>\n      <td>CAD</td>\n      <td>92832.27</td>\n      <td>20200306</td>\n      <td>CA10</td>\n    </tr>\n  </tbody>\n</table>\n<p>1162 rows × 12 columns</p>\n</div>"
     },
     "execution_count": 15,
     "metadata": {},
     "output_type": "execute_result"
    }
   ],
   "source": [
    "df[df.duplicated()]"
   ]
  },
  {
   "cell_type": "markdown",
   "id": "464fab09",
   "metadata": {
    "id": "464fab09"
   },
   "source": [
    "### Display the Number of Duplicate Rows"
   ]
  },
  {
   "cell_type": "code",
   "execution_count": 16,
   "id": "b1ea2397",
   "metadata": {
    "id": "b1ea2397"
   },
   "outputs": [
    {
     "data": {
      "text/plain": "1162"
     },
     "execution_count": 16,
     "metadata": {},
     "output_type": "execute_result"
    }
   ],
   "source": [
    "df.duplicated().sum()"
   ]
  },
  {
   "cell_type": "markdown",
   "id": "827a6718",
   "metadata": {
    "id": "827a6718"
   },
   "source": [
    "### Drop all the Duplicate Rows"
   ]
  },
  {
   "cell_type": "code",
   "execution_count": 17,
   "id": "5d10151c",
   "metadata": {
    "id": "5d10151c"
   },
   "outputs": [],
   "source": [
    "df = df.drop_duplicates(keep=False)"
   ]
  },
  {
   "cell_type": "markdown",
   "id": "7e5d1f9b",
   "metadata": {
    "id": "7e5d1f9b"
   },
   "source": [
    "#### Now check for all duplicate rows now\n",
    "\n",
    "- Note - It must be 0 by now"
   ]
  },
  {
   "cell_type": "code",
   "execution_count": 18,
   "id": "9accc9fc",
   "metadata": {
    "id": "9accc9fc"
   },
   "outputs": [
    {
     "data": {
      "text/plain": "0"
     },
     "execution_count": 18,
     "metadata": {},
     "output_type": "execute_result"
    }
   ],
   "source": [
    "df.duplicated().sum()"
   ]
  },
  {
   "cell_type": "markdown",
   "id": "d0704898",
   "metadata": {
    "id": "d0704898"
   },
   "source": [
    "### Check for the number of Rows and Columns in your dataset"
   ]
  },
  {
   "cell_type": "code",
   "execution_count": 19,
   "id": "582748a8",
   "metadata": {
    "id": "582748a8"
   },
   "outputs": [
    {
     "data": {
      "text/plain": "(47789, 12)"
     },
     "execution_count": 19,
     "metadata": {},
     "output_type": "execute_result"
    }
   ],
   "source": [
    "df.shape"
   ]
  },
  {
   "cell_type": "markdown",
   "id": "4o9c5UodWRtl",
   "metadata": {
    "id": "4o9c5UodWRtl"
   },
   "source": [
    "### Find out the total count of null values in each columns"
   ]
  },
  {
   "cell_type": "code",
   "execution_count": 20,
   "id": "b0612cb5",
   "metadata": {
    "id": "b0612cb5"
   },
   "outputs": [
    {
     "data": {
      "text/plain": "business_code           47789\ncust_number             47789\nname_customer           47789\nclear_date              47789\nbuisness_year           47789\ndoc_id                  47789\nposting_date            47789\ndue_in_date             47789\ninvoice_currency        47789\ntotal_open_amount       47789\nbaseline_create_date    47789\ncust_payment_terms      47789\ndtype: int64"
     },
     "execution_count": 20,
     "metadata": {},
     "output_type": "execute_result"
    }
   ],
   "source": [
    "df.isnull().count()"
   ]
  },
  {
   "cell_type": "markdown",
   "id": "7abdb98b",
   "metadata": {
    "id": "7abdb98b"
   },
   "source": [
    "#Data type Conversion "
   ]
  },
  {
   "cell_type": "markdown",
   "id": "LPfSUSp-WpPj",
   "metadata": {
    "id": "LPfSUSp-WpPj"
   },
   "source": [
    "### Please check the data type of each column of the dataframe"
   ]
  },
  {
   "cell_type": "code",
   "execution_count": 21,
   "id": "689c8592",
   "metadata": {
    "id": "689c8592"
   },
   "outputs": [
    {
     "data": {
      "text/plain": "business_code            object\ncust_number              object\nname_customer            object\nclear_date               object\nbuisness_year             int64\ndoc_id                    int64\nposting_date             object\ndue_in_date               int64\ninvoice_currency         object\ntotal_open_amount       float64\nbaseline_create_date      int64\ncust_payment_terms       object\ndtype: object"
     },
     "execution_count": 21,
     "metadata": {},
     "output_type": "execute_result"
    }
   ],
   "source": [
    "df.dtypes"
   ]
  },
  {
   "cell_type": "markdown",
   "id": "0nsem0_3XzOt",
   "metadata": {
    "id": "0nsem0_3XzOt"
   },
   "source": [
    "### Check the datatype format of below columns\n",
    "\n",
    "- clear_date  \n",
    "- posting_date\n",
    "- due_in_date \n",
    "- baseline_create_date"
   ]
  },
  {
   "cell_type": "code",
   "execution_count": 22,
   "id": "-yyODyW3X6pL",
   "metadata": {
    "id": "-yyODyW3X6pL"
   },
   "outputs": [
    {
     "name": "stdout",
     "output_type": "stream",
     "text": [
      "Datatypes :\n",
      "clear_date :  object\n",
      "posting_date :  object\n",
      "due_in_date :  int64\n",
      "baseline_create_date:  int64\n"
     ]
    }
   ],
   "source": [
    "print('Datatypes :')\n",
    "print(\"clear_date : \", df['clear_date'].dtype)\n",
    "print(\"posting_date : \", df['posting_date'].dtype)\n",
    "print('due_in_date : ', df['due_in_date'].dtype)\n",
    "print('baseline_create_date: ', df['baseline_create_date'].dtype)"
   ]
  },
  {
   "cell_type": "markdown",
   "id": "11cf9478",
   "metadata": {
    "id": "11cf9478"
   },
   "source": [
    "### converting date columns into date time formats\n",
    "\n",
    "- clear_date  \n",
    "- posting_date\n",
    "- due_in_date \n",
    "- baseline_create_date\n",
    "\n",
    "\n",
    "- **Note - You have to convert all these above columns into \"%Y%m%d\" format**"
   ]
  },
  {
   "cell_type": "code",
   "execution_count": 23,
   "id": "3efd92b3",
   "metadata": {},
   "outputs": [],
   "source": [
    "def FormatDate(col):\n",
    "    df[col] = df[col].astype(int)\n",
    "    df[col] = df[col].astype(str)\n",
    "    df[col] = pd.to_datetime(df[col], format='%Y%m%d')\n",
    "    return df[col]"
   ]
  },
  {
   "cell_type": "code",
   "execution_count": 24,
   "id": "9a8c6c71",
   "metadata": {
    "id": "9a8c6c71"
   },
   "outputs": [],
   "source": [
    "df['clear_date'] = pd.to_datetime(df['clear_date'])\n",
    "df['posting_date'] = pd.to_datetime(df['posting_date'])\n",
    "df['due_in_date'] = FormatDate('due_in_date')\n",
    "df['baseline_create_date'] = FormatDate('baseline_create_date')"
   ]
  },
  {
   "cell_type": "markdown",
   "id": "7adq0wSIYSCS",
   "metadata": {
    "id": "7adq0wSIYSCS"
   },
   "source": [
    "### Please check the datatype of all the columns after conversion of the above 4 columns"
   ]
  },
  {
   "cell_type": "code",
   "execution_count": 25,
   "id": "fd028c61",
   "metadata": {
    "id": "fd028c61"
   },
   "outputs": [
    {
     "data": {
      "text/plain": "(dtype('<M8[ns]'), dtype('<M8[ns]'), dtype('<M8[ns]'), dtype('<M8[ns]'))"
     },
     "execution_count": 25,
     "metadata": {},
     "output_type": "execute_result"
    }
   ],
   "source": [
    "df['clear_date'].dtype, df['posting_date'].dtype, df['due_in_date'].dtype, df['baseline_create_date'].dtype"
   ]
  },
  {
   "cell_type": "markdown",
   "id": "8c9882fa",
   "metadata": {
    "id": "8c9882fa"
   },
   "source": [
    "#### the invoice_currency column contains two different categories, USD and CAD\n",
    "\n",
    "- Please do a count of each currency "
   ]
  },
  {
   "cell_type": "code",
   "execution_count": 26,
   "id": "72085397",
   "metadata": {
    "id": "72085397"
   },
   "outputs": [
    {
     "data": {
      "text/plain": "USD    43953\nCAD     3836\nName: invoice_currency, dtype: int64"
     },
     "execution_count": 26,
     "metadata": {},
     "output_type": "execute_result"
    }
   ],
   "source": [
    "df['invoice_currency'].value_counts()"
   ]
  },
  {
   "cell_type": "markdown",
   "id": "6cbe26ee",
   "metadata": {
    "id": "6cbe26ee"
   },
   "source": [
    "#### display the \"total_open_amount\" column value"
   ]
  },
  {
   "cell_type": "code",
   "execution_count": 27,
   "id": "6c49f2ab",
   "metadata": {
    "id": "6c49f2ab"
   },
   "outputs": [
    {
     "data": {
      "text/plain": "0        54273.28\n1        79656.60\n2         2253.86\n3         3299.70\n4        33133.29\n           ...   \n50094    92832.27\n50095    92832.27\n50096    92832.27\n50097    92832.27\n50098    92832.27\nName: total_open_amount, Length: 47789, dtype: float64"
     },
     "execution_count": 27,
     "metadata": {},
     "output_type": "execute_result"
    }
   ],
   "source": [
    "df['total_open_amount']"
   ]
  },
  {
   "cell_type": "markdown",
   "id": "df899966",
   "metadata": {
    "id": "df899966"
   },
   "source": [
    "### Convert all CAD into USD currency of \"total_open_amount\" column\n",
    "\n",
    "- 1 CAD = 0.7 USD\n",
    "- Create a new column i.e \"converted_usd\" and store USD and convered CAD to USD"
   ]
  },
  {
   "cell_type": "code",
   "execution_count": 28,
   "id": "ed3f1962",
   "metadata": {},
   "outputs": [],
   "source": [
    "df['converted_usd'] = np.where(df['invoice_currency'] == 'CAD', df['total_open_amount'] * 0.7, df['total_open_amount'])\n",
    "\n",
    "# df['converted_usd'] = df['total_open_amount']\n",
    "# df.loc[df['invoice_currency'] == 'CAD','converted_usd'] = (df['total_open_amount'] * 0.7)"
   ]
  },
  {
   "cell_type": "markdown",
   "id": "f9f6ef1d",
   "metadata": {
    "id": "f9f6ef1d"
   },
   "source": [
    "### Display the new \"converted_usd\" column values"
   ]
  },
  {
   "cell_type": "code",
   "execution_count": 29,
   "id": "1fc1a178",
   "metadata": {
    "id": "1fc1a178"
   },
   "outputs": [
    {
     "data": {
      "text/plain": "0        54273.280\n1        79656.600\n2         2253.860\n3         2309.790\n4        33133.290\n           ...    \n50094    64982.589\n50095    64982.589\n50096    64982.589\n50097    64982.589\n50098    64982.589\nName: converted_usd, Length: 47789, dtype: float64"
     },
     "execution_count": 29,
     "metadata": {},
     "output_type": "execute_result"
    }
   ],
   "source": [
    "df['converted_usd']"
   ]
  },
  {
   "cell_type": "markdown",
   "id": "6XLXX17kayuy",
   "metadata": {
    "id": "6XLXX17kayuy"
   },
   "source": [
    "### Display year wise total number of record \n",
    "\n",
    "- Note -  use \"buisness_year\" column for this "
   ]
  },
  {
   "cell_type": "code",
   "execution_count": 30,
   "id": "00c9f6ee",
   "metadata": {
    "id": "00c9f6ee"
   },
   "outputs": [
    {
     "data": {
      "text/plain": "2019    33242\n2020    14547\nName: buisness_year, dtype: int64"
     },
     "execution_count": 30,
     "metadata": {},
     "output_type": "execute_result"
    }
   ],
   "source": [
    "# df.groupby(['buisness_year'])['buisness_year'].count()\n",
    "df['buisness_year'].value_counts()"
   ]
  },
  {
   "cell_type": "markdown",
   "id": "05c35904",
   "metadata": {
    "id": "05c35904"
   },
   "source": [
    "### Write the code to delete the following columns \n",
    "\n",
    "- 'invoice_currency'\n",
    "- 'total_open_amount', "
   ]
  },
  {
   "cell_type": "code",
   "execution_count": 31,
   "id": "4ac28aa5",
   "metadata": {
    "id": "4ac28aa5"
   },
   "outputs": [],
   "source": [
    "df.drop(['invoice_currency', 'total_open_amount'], axis=1, inplace=True)"
   ]
  },
  {
   "cell_type": "markdown",
   "id": "bDBJ_Kvwc086",
   "metadata": {
    "id": "bDBJ_Kvwc086"
   },
   "source": [
    "### Write a code to check the number of columns in dataframe"
   ]
  },
  {
   "cell_type": "code",
   "execution_count": 32,
   "id": "ea360a8c",
   "metadata": {
    "id": "ea360a8c"
   },
   "outputs": [
    {
     "data": {
      "text/plain": "47789"
     },
     "execution_count": 32,
     "metadata": {},
     "output_type": "execute_result"
    }
   ],
   "source": [
    "len(df)"
   ]
  },
  {
   "cell_type": "markdown",
   "id": "b8f63655",
   "metadata": {
    "id": "b8f63655"
   },
   "source": [
    "# Splitting the Dataset "
   ]
  },
  {
   "cell_type": "markdown",
   "id": "a00f749d",
   "metadata": {
    "id": "a00f749d"
   },
   "source": [
    "### Look for all columns containing null value\n",
    "\n",
    "- Note - Output expected is only one column "
   ]
  },
  {
   "cell_type": "code",
   "execution_count": 33,
   "id": "148c801e",
   "metadata": {
    "id": "148c801e"
   },
   "outputs": [
    {
     "data": {
      "text/plain": "business_code              0\ncust_number                0\nname_customer              0\nclear_date              9464\nbuisness_year              0\ndoc_id                     0\nposting_date               0\ndue_in_date                0\nbaseline_create_date       0\ncust_payment_terms         0\nconverted_usd              0\ndtype: int64"
     },
     "execution_count": 33,
     "metadata": {},
     "output_type": "execute_result"
    }
   ],
   "source": [
    "df.isnull().sum()"
   ]
  },
  {
   "cell_type": "markdown",
   "id": "a094a290",
   "metadata": {
    "id": "a094a290"
   },
   "source": [
    "#### Find out the number of null values from the column that you got from the above code"
   ]
  },
  {
   "cell_type": "code",
   "execution_count": 34,
   "id": "30bfb113",
   "metadata": {
    "id": "30bfb113"
   },
   "outputs": [
    {
     "data": {
      "text/plain": "clear_date    9464\ndtype: int64"
     },
     "execution_count": 34,
     "metadata": {},
     "output_type": "execute_result"
    }
   ],
   "source": [
    "null_counts = df.isnull().sum()\n",
    "null_counts[null_counts > 0]"
   ]
  },
  {
   "cell_type": "markdown",
   "id": "7f6d939b",
   "metadata": {
    "id": "7f6d939b"
   },
   "source": [
    "### On basis of the above column we are spliting data into dataset\n",
    "\n",
    "- First dataframe (refer that as maindata) only containing the rows, that have NO NULL data in that column ( This is going to be our train dataset ) \n",
    "- Second dataframe (refer that as nulldata) that contains the columns, that have Null data in that column ( This is going to be our test dataset ) "
   ]
  },
  {
   "cell_type": "code",
   "execution_count": 35,
   "id": "c8764c33",
   "metadata": {
    "id": "c8764c33"
   },
   "outputs": [],
   "source": [
    "Nulldata = df[df['clear_date'].isnull()]\n",
    "notNull = df[df['clear_date'].notnull()]\n",
    "df = notNull"
   ]
  },
  {
   "cell_type": "code",
   "execution_count": 36,
   "id": "3011476b",
   "metadata": {},
   "outputs": [
    {
     "data": {
      "text/plain": "      business_code cust_number       name_customer clear_date  buisness_year  \\\n0              U001   200769623        WAL-MAR corp 2020-11-02           2020   \n1              U001   200980828              BEN E  2019-08-08           2019   \n2              U001   200792734          MDV/ trust 2019-12-30           2019   \n4              U001   200769623  WAL-MAR foundation 2019-11-25           2019   \n5              CA02   140106181    THE  corporation 2019-04-12           2019   \n...             ...         ...                 ...        ...            ...   \n49994          U001   200762301        C&S WH trust 2019-07-25           2019   \n49996          U001   200769623          WAL-MAR co 2019-03-09           2019   \n49997          U001   200772595    SAFEW associates 2020-05-03           2020   \n49998          U001   200726979           BJ'S  llc 2019-12-12           2019   \n49999          U001   200020431            DEC corp 2019-01-15           2019   \n\n           doc_id posting_date due_in_date baseline_create_date  \\\n0      1930438491   2020-01-26  2020-02-10           2020-01-26   \n1      1929646410   2019-07-22  2019-08-11           2019-07-22   \n2      1929873765   2019-09-14  2019-09-29           2019-09-14   \n4      1930147974   2019-11-13  2019-11-28           2019-11-13   \n5      2960581231   2019-09-20  2019-10-04           2019-09-24   \n...           ...          ...         ...                  ...   \n49994  1929600989   2019-10-07  2019-07-25           2019-07-10   \n49996  1929744070   2019-08-15  2019-08-30           2019-08-15   \n49997  1930536775   2020-02-19  2020-03-05           2020-02-19   \n49998  1930198546   2019-11-27  2019-12-12           2019-11-27   \n49999  1928576325   2019-05-01  2019-01-24           2019-01-01   \n\n      cust_payment_terms  converted_usd  \n0                   NAH4      54273.280  \n1                   NAD1      79656.600  \n2                   NAA8       2253.860  \n4                   NAH4      33133.290  \n5                   CA10      15558.088  \n...                  ...            ...  \n49994               NAC6      84780.400  \n49996               NAH4       6766.540  \n49997               NAA8       6120.860  \n49998               NAA8         63.480  \n49999               NAM4       1790.300  \n\n[38325 rows x 11 columns]",
      "text/html": "<div>\n<style scoped>\n    .dataframe tbody tr th:only-of-type {\n        vertical-align: middle;\n    }\n\n    .dataframe tbody tr th {\n        vertical-align: top;\n    }\n\n    .dataframe thead th {\n        text-align: right;\n    }\n</style>\n<table border=\"1\" class=\"dataframe\">\n  <thead>\n    <tr style=\"text-align: right;\">\n      <th></th>\n      <th>business_code</th>\n      <th>cust_number</th>\n      <th>name_customer</th>\n      <th>clear_date</th>\n      <th>buisness_year</th>\n      <th>doc_id</th>\n      <th>posting_date</th>\n      <th>due_in_date</th>\n      <th>baseline_create_date</th>\n      <th>cust_payment_terms</th>\n      <th>converted_usd</th>\n    </tr>\n  </thead>\n  <tbody>\n    <tr>\n      <th>0</th>\n      <td>U001</td>\n      <td>200769623</td>\n      <td>WAL-MAR corp</td>\n      <td>2020-11-02</td>\n      <td>2020</td>\n      <td>1930438491</td>\n      <td>2020-01-26</td>\n      <td>2020-02-10</td>\n      <td>2020-01-26</td>\n      <td>NAH4</td>\n      <td>54273.280</td>\n    </tr>\n    <tr>\n      <th>1</th>\n      <td>U001</td>\n      <td>200980828</td>\n      <td>BEN E</td>\n      <td>2019-08-08</td>\n      <td>2019</td>\n      <td>1929646410</td>\n      <td>2019-07-22</td>\n      <td>2019-08-11</td>\n      <td>2019-07-22</td>\n      <td>NAD1</td>\n      <td>79656.600</td>\n    </tr>\n    <tr>\n      <th>2</th>\n      <td>U001</td>\n      <td>200792734</td>\n      <td>MDV/ trust</td>\n      <td>2019-12-30</td>\n      <td>2019</td>\n      <td>1929873765</td>\n      <td>2019-09-14</td>\n      <td>2019-09-29</td>\n      <td>2019-09-14</td>\n      <td>NAA8</td>\n      <td>2253.860</td>\n    </tr>\n    <tr>\n      <th>4</th>\n      <td>U001</td>\n      <td>200769623</td>\n      <td>WAL-MAR foundation</td>\n      <td>2019-11-25</td>\n      <td>2019</td>\n      <td>1930147974</td>\n      <td>2019-11-13</td>\n      <td>2019-11-28</td>\n      <td>2019-11-13</td>\n      <td>NAH4</td>\n      <td>33133.290</td>\n    </tr>\n    <tr>\n      <th>5</th>\n      <td>CA02</td>\n      <td>140106181</td>\n      <td>THE  corporation</td>\n      <td>2019-04-12</td>\n      <td>2019</td>\n      <td>2960581231</td>\n      <td>2019-09-20</td>\n      <td>2019-10-04</td>\n      <td>2019-09-24</td>\n      <td>CA10</td>\n      <td>15558.088</td>\n    </tr>\n    <tr>\n      <th>...</th>\n      <td>...</td>\n      <td>...</td>\n      <td>...</td>\n      <td>...</td>\n      <td>...</td>\n      <td>...</td>\n      <td>...</td>\n      <td>...</td>\n      <td>...</td>\n      <td>...</td>\n      <td>...</td>\n    </tr>\n    <tr>\n      <th>49994</th>\n      <td>U001</td>\n      <td>200762301</td>\n      <td>C&amp;S WH trust</td>\n      <td>2019-07-25</td>\n      <td>2019</td>\n      <td>1929600989</td>\n      <td>2019-10-07</td>\n      <td>2019-07-25</td>\n      <td>2019-07-10</td>\n      <td>NAC6</td>\n      <td>84780.400</td>\n    </tr>\n    <tr>\n      <th>49996</th>\n      <td>U001</td>\n      <td>200769623</td>\n      <td>WAL-MAR co</td>\n      <td>2019-03-09</td>\n      <td>2019</td>\n      <td>1929744070</td>\n      <td>2019-08-15</td>\n      <td>2019-08-30</td>\n      <td>2019-08-15</td>\n      <td>NAH4</td>\n      <td>6766.540</td>\n    </tr>\n    <tr>\n      <th>49997</th>\n      <td>U001</td>\n      <td>200772595</td>\n      <td>SAFEW associates</td>\n      <td>2020-05-03</td>\n      <td>2020</td>\n      <td>1930536775</td>\n      <td>2020-02-19</td>\n      <td>2020-03-05</td>\n      <td>2020-02-19</td>\n      <td>NAA8</td>\n      <td>6120.860</td>\n    </tr>\n    <tr>\n      <th>49998</th>\n      <td>U001</td>\n      <td>200726979</td>\n      <td>BJ'S  llc</td>\n      <td>2019-12-12</td>\n      <td>2019</td>\n      <td>1930198546</td>\n      <td>2019-11-27</td>\n      <td>2019-12-12</td>\n      <td>2019-11-27</td>\n      <td>NAA8</td>\n      <td>63.480</td>\n    </tr>\n    <tr>\n      <th>49999</th>\n      <td>U001</td>\n      <td>200020431</td>\n      <td>DEC corp</td>\n      <td>2019-01-15</td>\n      <td>2019</td>\n      <td>1928576325</td>\n      <td>2019-05-01</td>\n      <td>2019-01-24</td>\n      <td>2019-01-01</td>\n      <td>NAM4</td>\n      <td>1790.300</td>\n    </tr>\n  </tbody>\n</table>\n<p>38325 rows × 11 columns</p>\n</div>"
     },
     "execution_count": 36,
     "metadata": {},
     "output_type": "execute_result"
    }
   ],
   "source": [
    "notNull"
   ]
  },
  {
   "cell_type": "markdown",
   "id": "3P8riRBHd_r6",
   "metadata": {
    "id": "3P8riRBHd_r6"
   },
   "source": [
    "### Check the number of Rows and Columns for both the dataframes "
   ]
  },
  {
   "cell_type": "code",
   "execution_count": 37,
   "id": "0693a464",
   "metadata": {
    "id": "0693a464"
   },
   "outputs": [
    {
     "data": {
      "text/plain": "(9464, 11)"
     },
     "execution_count": 37,
     "metadata": {},
     "output_type": "execute_result"
    }
   ],
   "source": [
    "Nulldata.shape\n"
   ]
  },
  {
   "cell_type": "code",
   "execution_count": 38,
   "id": "7f86bc74",
   "metadata": {
    "id": "7f86bc74"
   },
   "outputs": [
    {
     "data": {
      "text/plain": "(38325, 11)"
     },
     "execution_count": 38,
     "metadata": {},
     "output_type": "execute_result"
    }
   ],
   "source": [
    "notNull.shape"
   ]
  },
  {
   "cell_type": "markdown",
   "id": "0747165d",
   "metadata": {
    "id": "0747165d"
   },
   "source": [
    "### Display the 5 records from maindata and nulldata dataframes"
   ]
  },
  {
   "cell_type": "code",
   "execution_count": 39,
   "id": "dec2ec36",
   "metadata": {
    "id": "dec2ec36"
   },
   "outputs": [
    {
     "data": {
      "text/plain": "   business_code cust_number     name_customer clear_date  buisness_year  \\\n3           CA02   140105686          SYSC llc        NaT           2020   \n7           U001   200744019           TARG us        NaT           2020   \n10          U001   200418007               AM         NaT           2020   \n14          U001   200739534        OK systems        NaT           2020   \n15          U001   200353024  DECA corporation        NaT           2020   \n\n        doc_id posting_date due_in_date baseline_create_date  \\\n3   2960623488   2020-03-30  2020-04-10           2020-03-31   \n7   1930659387   2020-03-19  2020-04-03           2020-03-19   \n10  1930610806   2020-11-03  2020-03-26           2020-03-11   \n14  1930788296   2020-04-15  2020-04-30           2020-04-15   \n15  1930817482   2020-04-23  2020-04-26           2020-04-16   \n\n   cust_payment_terms  converted_usd  \n3                CA10        2309.79  \n7                NAA8       11173.02  \n10               NAA8        3525.59  \n14               NAA8      121105.65  \n15               NAM2        3726.06  ",
      "text/html": "<div>\n<style scoped>\n    .dataframe tbody tr th:only-of-type {\n        vertical-align: middle;\n    }\n\n    .dataframe tbody tr th {\n        vertical-align: top;\n    }\n\n    .dataframe thead th {\n        text-align: right;\n    }\n</style>\n<table border=\"1\" class=\"dataframe\">\n  <thead>\n    <tr style=\"text-align: right;\">\n      <th></th>\n      <th>business_code</th>\n      <th>cust_number</th>\n      <th>name_customer</th>\n      <th>clear_date</th>\n      <th>buisness_year</th>\n      <th>doc_id</th>\n      <th>posting_date</th>\n      <th>due_in_date</th>\n      <th>baseline_create_date</th>\n      <th>cust_payment_terms</th>\n      <th>converted_usd</th>\n    </tr>\n  </thead>\n  <tbody>\n    <tr>\n      <th>3</th>\n      <td>CA02</td>\n      <td>140105686</td>\n      <td>SYSC llc</td>\n      <td>NaT</td>\n      <td>2020</td>\n      <td>2960623488</td>\n      <td>2020-03-30</td>\n      <td>2020-04-10</td>\n      <td>2020-03-31</td>\n      <td>CA10</td>\n      <td>2309.79</td>\n    </tr>\n    <tr>\n      <th>7</th>\n      <td>U001</td>\n      <td>200744019</td>\n      <td>TARG us</td>\n      <td>NaT</td>\n      <td>2020</td>\n      <td>1930659387</td>\n      <td>2020-03-19</td>\n      <td>2020-04-03</td>\n      <td>2020-03-19</td>\n      <td>NAA8</td>\n      <td>11173.02</td>\n    </tr>\n    <tr>\n      <th>10</th>\n      <td>U001</td>\n      <td>200418007</td>\n      <td>AM</td>\n      <td>NaT</td>\n      <td>2020</td>\n      <td>1930610806</td>\n      <td>2020-11-03</td>\n      <td>2020-03-26</td>\n      <td>2020-03-11</td>\n      <td>NAA8</td>\n      <td>3525.59</td>\n    </tr>\n    <tr>\n      <th>14</th>\n      <td>U001</td>\n      <td>200739534</td>\n      <td>OK systems</td>\n      <td>NaT</td>\n      <td>2020</td>\n      <td>1930788296</td>\n      <td>2020-04-15</td>\n      <td>2020-04-30</td>\n      <td>2020-04-15</td>\n      <td>NAA8</td>\n      <td>121105.65</td>\n    </tr>\n    <tr>\n      <th>15</th>\n      <td>U001</td>\n      <td>200353024</td>\n      <td>DECA corporation</td>\n      <td>NaT</td>\n      <td>2020</td>\n      <td>1930817482</td>\n      <td>2020-04-23</td>\n      <td>2020-04-26</td>\n      <td>2020-04-16</td>\n      <td>NAM2</td>\n      <td>3726.06</td>\n    </tr>\n  </tbody>\n</table>\n</div>"
     },
     "execution_count": 39,
     "metadata": {},
     "output_type": "execute_result"
    }
   ],
   "source": [
    "Nulldata.head()"
   ]
  },
  {
   "cell_type": "code",
   "execution_count": 40,
   "id": "eee2d68a",
   "metadata": {
    "id": "eee2d68a"
   },
   "outputs": [
    {
     "data": {
      "text/plain": "  business_code cust_number       name_customer clear_date  buisness_year  \\\n0          U001   200769623        WAL-MAR corp 2020-11-02           2020   \n1          U001   200980828              BEN E  2019-08-08           2019   \n2          U001   200792734          MDV/ trust 2019-12-30           2019   \n4          U001   200769623  WAL-MAR foundation 2019-11-25           2019   \n5          CA02   140106181    THE  corporation 2019-04-12           2019   \n\n       doc_id posting_date due_in_date baseline_create_date  \\\n0  1930438491   2020-01-26  2020-02-10           2020-01-26   \n1  1929646410   2019-07-22  2019-08-11           2019-07-22   \n2  1929873765   2019-09-14  2019-09-29           2019-09-14   \n4  1930147974   2019-11-13  2019-11-28           2019-11-13   \n5  2960581231   2019-09-20  2019-10-04           2019-09-24   \n\n  cust_payment_terms  converted_usd  \n0               NAH4      54273.280  \n1               NAD1      79656.600  \n2               NAA8       2253.860  \n4               NAH4      33133.290  \n5               CA10      15558.088  ",
      "text/html": "<div>\n<style scoped>\n    .dataframe tbody tr th:only-of-type {\n        vertical-align: middle;\n    }\n\n    .dataframe tbody tr th {\n        vertical-align: top;\n    }\n\n    .dataframe thead th {\n        text-align: right;\n    }\n</style>\n<table border=\"1\" class=\"dataframe\">\n  <thead>\n    <tr style=\"text-align: right;\">\n      <th></th>\n      <th>business_code</th>\n      <th>cust_number</th>\n      <th>name_customer</th>\n      <th>clear_date</th>\n      <th>buisness_year</th>\n      <th>doc_id</th>\n      <th>posting_date</th>\n      <th>due_in_date</th>\n      <th>baseline_create_date</th>\n      <th>cust_payment_terms</th>\n      <th>converted_usd</th>\n    </tr>\n  </thead>\n  <tbody>\n    <tr>\n      <th>0</th>\n      <td>U001</td>\n      <td>200769623</td>\n      <td>WAL-MAR corp</td>\n      <td>2020-11-02</td>\n      <td>2020</td>\n      <td>1930438491</td>\n      <td>2020-01-26</td>\n      <td>2020-02-10</td>\n      <td>2020-01-26</td>\n      <td>NAH4</td>\n      <td>54273.280</td>\n    </tr>\n    <tr>\n      <th>1</th>\n      <td>U001</td>\n      <td>200980828</td>\n      <td>BEN E</td>\n      <td>2019-08-08</td>\n      <td>2019</td>\n      <td>1929646410</td>\n      <td>2019-07-22</td>\n      <td>2019-08-11</td>\n      <td>2019-07-22</td>\n      <td>NAD1</td>\n      <td>79656.600</td>\n    </tr>\n    <tr>\n      <th>2</th>\n      <td>U001</td>\n      <td>200792734</td>\n      <td>MDV/ trust</td>\n      <td>2019-12-30</td>\n      <td>2019</td>\n      <td>1929873765</td>\n      <td>2019-09-14</td>\n      <td>2019-09-29</td>\n      <td>2019-09-14</td>\n      <td>NAA8</td>\n      <td>2253.860</td>\n    </tr>\n    <tr>\n      <th>4</th>\n      <td>U001</td>\n      <td>200769623</td>\n      <td>WAL-MAR foundation</td>\n      <td>2019-11-25</td>\n      <td>2019</td>\n      <td>1930147974</td>\n      <td>2019-11-13</td>\n      <td>2019-11-28</td>\n      <td>2019-11-13</td>\n      <td>NAH4</td>\n      <td>33133.290</td>\n    </tr>\n    <tr>\n      <th>5</th>\n      <td>CA02</td>\n      <td>140106181</td>\n      <td>THE  corporation</td>\n      <td>2019-04-12</td>\n      <td>2019</td>\n      <td>2960581231</td>\n      <td>2019-09-20</td>\n      <td>2019-10-04</td>\n      <td>2019-09-24</td>\n      <td>CA10</td>\n      <td>15558.088</td>\n    </tr>\n  </tbody>\n</table>\n</div>"
     },
     "execution_count": 40,
     "metadata": {},
     "output_type": "execute_result"
    }
   ],
   "source": [
    "notNull.head()"
   ]
  },
  {
   "cell_type": "markdown",
   "id": "24aa6746",
   "metadata": {
    "id": "24aa6746"
   },
   "source": [
    "## Considering the **maindata**"
   ]
  },
  {
   "cell_type": "markdown",
   "id": "f92c4aa7",
   "metadata": {
    "id": "f92c4aa7"
   },
   "source": [
    "#### Generate a new column \"Delay\" from the existing columns\n",
    "\n",
    "- Note - You are expected to create a new column 'Delay' from two existing columns, \"clear_date\" and \"due_in_date\" \n",
    "- Formula - Delay = clear_date - due_in_date"
   ]
  },
  {
   "cell_type": "code",
   "execution_count": 41,
   "id": "8eeceb9c",
   "metadata": {
    "id": "8eeceb9c"
   },
   "outputs": [
    {
     "data": {
      "text/plain": "  business_code cust_number       name_customer clear_date  buisness_year  \\\n0          U001   200769623        WAL-MAR corp 2020-11-02           2020   \n1          U001   200980828              BEN E  2019-08-08           2019   \n2          U001   200792734          MDV/ trust 2019-12-30           2019   \n4          U001   200769623  WAL-MAR foundation 2019-11-25           2019   \n5          CA02   140106181    THE  corporation 2019-04-12           2019   \n\n       doc_id posting_date due_in_date baseline_create_date  \\\n0  1930438491   2020-01-26  2020-02-10           2020-01-26   \n1  1929646410   2019-07-22  2019-08-11           2019-07-22   \n2  1929873765   2019-09-14  2019-09-29           2019-09-14   \n4  1930147974   2019-11-13  2019-11-28           2019-11-13   \n5  2960581231   2019-09-20  2019-10-04           2019-09-24   \n\n  cust_payment_terms  converted_usd     Delay  \n0               NAH4      54273.280  266 days  \n1               NAD1      79656.600   -3 days  \n2               NAA8       2253.860   92 days  \n4               NAH4      33133.290   -3 days  \n5               CA10      15558.088 -175 days  ",
      "text/html": "<div>\n<style scoped>\n    .dataframe tbody tr th:only-of-type {\n        vertical-align: middle;\n    }\n\n    .dataframe tbody tr th {\n        vertical-align: top;\n    }\n\n    .dataframe thead th {\n        text-align: right;\n    }\n</style>\n<table border=\"1\" class=\"dataframe\">\n  <thead>\n    <tr style=\"text-align: right;\">\n      <th></th>\n      <th>business_code</th>\n      <th>cust_number</th>\n      <th>name_customer</th>\n      <th>clear_date</th>\n      <th>buisness_year</th>\n      <th>doc_id</th>\n      <th>posting_date</th>\n      <th>due_in_date</th>\n      <th>baseline_create_date</th>\n      <th>cust_payment_terms</th>\n      <th>converted_usd</th>\n      <th>Delay</th>\n    </tr>\n  </thead>\n  <tbody>\n    <tr>\n      <th>0</th>\n      <td>U001</td>\n      <td>200769623</td>\n      <td>WAL-MAR corp</td>\n      <td>2020-11-02</td>\n      <td>2020</td>\n      <td>1930438491</td>\n      <td>2020-01-26</td>\n      <td>2020-02-10</td>\n      <td>2020-01-26</td>\n      <td>NAH4</td>\n      <td>54273.280</td>\n      <td>266 days</td>\n    </tr>\n    <tr>\n      <th>1</th>\n      <td>U001</td>\n      <td>200980828</td>\n      <td>BEN E</td>\n      <td>2019-08-08</td>\n      <td>2019</td>\n      <td>1929646410</td>\n      <td>2019-07-22</td>\n      <td>2019-08-11</td>\n      <td>2019-07-22</td>\n      <td>NAD1</td>\n      <td>79656.600</td>\n      <td>-3 days</td>\n    </tr>\n    <tr>\n      <th>2</th>\n      <td>U001</td>\n      <td>200792734</td>\n      <td>MDV/ trust</td>\n      <td>2019-12-30</td>\n      <td>2019</td>\n      <td>1929873765</td>\n      <td>2019-09-14</td>\n      <td>2019-09-29</td>\n      <td>2019-09-14</td>\n      <td>NAA8</td>\n      <td>2253.860</td>\n      <td>92 days</td>\n    </tr>\n    <tr>\n      <th>4</th>\n      <td>U001</td>\n      <td>200769623</td>\n      <td>WAL-MAR foundation</td>\n      <td>2019-11-25</td>\n      <td>2019</td>\n      <td>1930147974</td>\n      <td>2019-11-13</td>\n      <td>2019-11-28</td>\n      <td>2019-11-13</td>\n      <td>NAH4</td>\n      <td>33133.290</td>\n      <td>-3 days</td>\n    </tr>\n    <tr>\n      <th>5</th>\n      <td>CA02</td>\n      <td>140106181</td>\n      <td>THE  corporation</td>\n      <td>2019-04-12</td>\n      <td>2019</td>\n      <td>2960581231</td>\n      <td>2019-09-20</td>\n      <td>2019-10-04</td>\n      <td>2019-09-24</td>\n      <td>CA10</td>\n      <td>15558.088</td>\n      <td>-175 days</td>\n    </tr>\n  </tbody>\n</table>\n</div>"
     },
     "execution_count": 41,
     "metadata": {},
     "output_type": "execute_result"
    }
   ],
   "source": [
    "df['Delay'] = df['clear_date'] - df['due_in_date']\n",
    "df.head()"
   ]
  },
  {
   "cell_type": "markdown",
   "id": "f482144e",
   "metadata": {
    "id": "f482144e"
   },
   "source": [
    "### Generate a new column \"avgdelay\" from the existing columns\n",
    "\n",
    "- Note - You are expected to make a new column \"avgdelay\" by grouping \"name_customer\" column with reapect to mean of the \"Delay\" column.\n",
    "- This new column \"avg_delay\" is meant to store \"customer_name\" wise delay\n",
    "- groupby('name_customer')['Delay'].mean(numeric_only=False)\n",
    "- Display the new \"avg_delay\" column"
   ]
  },
  {
   "cell_type": "code",
   "execution_count": 42,
   "id": "d18d2f8d",
   "metadata": {
    "id": "d18d2f8d"
   },
   "outputs": [
    {
     "data": {
      "text/plain": "name_customer\n11078 us               -69 days +00:00:00\n17135 associates       -10 days +00:00:00\n17135 llc               -3 days +00:00:00\n236008 associates       -3 days +00:00:00\n99 CE                    16 days 00:00:00\n                              ...        \nYEN BROS corp             0 days 00:00:00\nYEN BROS corporation    -1 days +12:00:00\nYEN BROS llc            -2 days +00:00:00\nZARCO co                -1 days +00:00:00\nZIYAD  us              -83 days +00:00:00\nName: Delay, Length: 3856, dtype: timedelta64[ns]"
     },
     "execution_count": 42,
     "metadata": {},
     "output_type": "execute_result"
    }
   ],
   "source": [
    "avgdelay = df.groupby('name_customer')['Delay'].mean(numeric_only=False)\n",
    "avgdelay"
   ]
  },
  {
   "cell_type": "markdown",
   "id": "64b995e8",
   "metadata": {
    "id": "64b995e8"
   },
   "source": [
    "You need to add the \"avg_delay\" column with the maindata, mapped with \"name_customer\" column\n",
    "\n",
    " - Note - You need to use map function to map the avgdelay with respect to \"name_customer\" column"
   ]
  },
  {
   "cell_type": "code",
   "execution_count": 43,
   "id": "e1e1f3d9",
   "metadata": {
    "id": "e1e1f3d9"
   },
   "outputs": [
    {
     "data": {
      "text/plain": "      business_code cust_number       name_customer clear_date  buisness_year  \\\n0              U001   200769623        WAL-MAR corp 2020-11-02           2020   \n1              U001   200980828              BEN E  2019-08-08           2019   \n2              U001   200792734          MDV/ trust 2019-12-30           2019   \n4              U001   200769623  WAL-MAR foundation 2019-11-25           2019   \n5              CA02   140106181    THE  corporation 2019-04-12           2019   \n...             ...         ...                 ...        ...            ...   \n49994          U001   200762301        C&S WH trust 2019-07-25           2019   \n49996          U001   200769623          WAL-MAR co 2019-03-09           2019   \n49997          U001   200772595    SAFEW associates 2020-05-03           2020   \n49998          U001   200726979           BJ'S  llc 2019-12-12           2019   \n49999          U001   200020431            DEC corp 2019-01-15           2019   \n\n           doc_id posting_date due_in_date baseline_create_date  \\\n0      1930438491   2020-01-26  2020-02-10           2020-01-26   \n1      1929646410   2019-07-22  2019-08-11           2019-07-22   \n2      1929873765   2019-09-14  2019-09-29           2019-09-14   \n4      1930147974   2019-11-13  2019-11-28           2019-11-13   \n5      2960581231   2019-09-20  2019-10-04           2019-09-24   \n...           ...          ...         ...                  ...   \n49994  1929600989   2019-10-07  2019-07-25           2019-07-10   \n49996  1929744070   2019-08-15  2019-08-30           2019-08-15   \n49997  1930536775   2020-02-19  2020-03-05           2020-02-19   \n49998  1930198546   2019-11-27  2019-12-12           2019-11-27   \n49999  1928576325   2019-05-01  2019-01-24           2019-01-01   \n\n      cust_payment_terms  converted_usd     Delay                    avg_delay  \n0                   NAH4      54273.280  266 days    2 days 21:47:04.615384615  \n1                   NAD1      79656.600   -3 days             25 days 00:00:00  \n2                   NAA8       2253.860   92 days             29 days 19:12:00  \n4                   NAH4      33133.290   -3 days    4 days 09:56:54.022140221  \n5                   CA10      15558.088 -175 days   48 days 06:51:25.714285714  \n...                  ...            ...       ...                          ...  \n49994               NAC6      84780.400    0 days -10 days +01:15:47.368421053  \n49996               NAH4       6766.540 -174 days  -2 days +16:11:02.469733657  \n49997               NAA8       6120.860   59 days    2 days 11:25:42.857142857  \n49998               NAA8         63.480    0 days   17 days 22:31:23.076923077  \n49999               NAM4       1790.300   -9 days  -9 days +00:31:38.901098902  \n\n[38325 rows x 13 columns]",
      "text/html": "<div>\n<style scoped>\n    .dataframe tbody tr th:only-of-type {\n        vertical-align: middle;\n    }\n\n    .dataframe tbody tr th {\n        vertical-align: top;\n    }\n\n    .dataframe thead th {\n        text-align: right;\n    }\n</style>\n<table border=\"1\" class=\"dataframe\">\n  <thead>\n    <tr style=\"text-align: right;\">\n      <th></th>\n      <th>business_code</th>\n      <th>cust_number</th>\n      <th>name_customer</th>\n      <th>clear_date</th>\n      <th>buisness_year</th>\n      <th>doc_id</th>\n      <th>posting_date</th>\n      <th>due_in_date</th>\n      <th>baseline_create_date</th>\n      <th>cust_payment_terms</th>\n      <th>converted_usd</th>\n      <th>Delay</th>\n      <th>avg_delay</th>\n    </tr>\n  </thead>\n  <tbody>\n    <tr>\n      <th>0</th>\n      <td>U001</td>\n      <td>200769623</td>\n      <td>WAL-MAR corp</td>\n      <td>2020-11-02</td>\n      <td>2020</td>\n      <td>1930438491</td>\n      <td>2020-01-26</td>\n      <td>2020-02-10</td>\n      <td>2020-01-26</td>\n      <td>NAH4</td>\n      <td>54273.280</td>\n      <td>266 days</td>\n      <td>2 days 21:47:04.615384615</td>\n    </tr>\n    <tr>\n      <th>1</th>\n      <td>U001</td>\n      <td>200980828</td>\n      <td>BEN E</td>\n      <td>2019-08-08</td>\n      <td>2019</td>\n      <td>1929646410</td>\n      <td>2019-07-22</td>\n      <td>2019-08-11</td>\n      <td>2019-07-22</td>\n      <td>NAD1</td>\n      <td>79656.600</td>\n      <td>-3 days</td>\n      <td>25 days 00:00:00</td>\n    </tr>\n    <tr>\n      <th>2</th>\n      <td>U001</td>\n      <td>200792734</td>\n      <td>MDV/ trust</td>\n      <td>2019-12-30</td>\n      <td>2019</td>\n      <td>1929873765</td>\n      <td>2019-09-14</td>\n      <td>2019-09-29</td>\n      <td>2019-09-14</td>\n      <td>NAA8</td>\n      <td>2253.860</td>\n      <td>92 days</td>\n      <td>29 days 19:12:00</td>\n    </tr>\n    <tr>\n      <th>4</th>\n      <td>U001</td>\n      <td>200769623</td>\n      <td>WAL-MAR foundation</td>\n      <td>2019-11-25</td>\n      <td>2019</td>\n      <td>1930147974</td>\n      <td>2019-11-13</td>\n      <td>2019-11-28</td>\n      <td>2019-11-13</td>\n      <td>NAH4</td>\n      <td>33133.290</td>\n      <td>-3 days</td>\n      <td>4 days 09:56:54.022140221</td>\n    </tr>\n    <tr>\n      <th>5</th>\n      <td>CA02</td>\n      <td>140106181</td>\n      <td>THE  corporation</td>\n      <td>2019-04-12</td>\n      <td>2019</td>\n      <td>2960581231</td>\n      <td>2019-09-20</td>\n      <td>2019-10-04</td>\n      <td>2019-09-24</td>\n      <td>CA10</td>\n      <td>15558.088</td>\n      <td>-175 days</td>\n      <td>48 days 06:51:25.714285714</td>\n    </tr>\n    <tr>\n      <th>...</th>\n      <td>...</td>\n      <td>...</td>\n      <td>...</td>\n      <td>...</td>\n      <td>...</td>\n      <td>...</td>\n      <td>...</td>\n      <td>...</td>\n      <td>...</td>\n      <td>...</td>\n      <td>...</td>\n      <td>...</td>\n      <td>...</td>\n    </tr>\n    <tr>\n      <th>49994</th>\n      <td>U001</td>\n      <td>200762301</td>\n      <td>C&amp;S WH trust</td>\n      <td>2019-07-25</td>\n      <td>2019</td>\n      <td>1929600989</td>\n      <td>2019-10-07</td>\n      <td>2019-07-25</td>\n      <td>2019-07-10</td>\n      <td>NAC6</td>\n      <td>84780.400</td>\n      <td>0 days</td>\n      <td>-10 days +01:15:47.368421053</td>\n    </tr>\n    <tr>\n      <th>49996</th>\n      <td>U001</td>\n      <td>200769623</td>\n      <td>WAL-MAR co</td>\n      <td>2019-03-09</td>\n      <td>2019</td>\n      <td>1929744070</td>\n      <td>2019-08-15</td>\n      <td>2019-08-30</td>\n      <td>2019-08-15</td>\n      <td>NAH4</td>\n      <td>6766.540</td>\n      <td>-174 days</td>\n      <td>-2 days +16:11:02.469733657</td>\n    </tr>\n    <tr>\n      <th>49997</th>\n      <td>U001</td>\n      <td>200772595</td>\n      <td>SAFEW associates</td>\n      <td>2020-05-03</td>\n      <td>2020</td>\n      <td>1930536775</td>\n      <td>2020-02-19</td>\n      <td>2020-03-05</td>\n      <td>2020-02-19</td>\n      <td>NAA8</td>\n      <td>6120.860</td>\n      <td>59 days</td>\n      <td>2 days 11:25:42.857142857</td>\n    </tr>\n    <tr>\n      <th>49998</th>\n      <td>U001</td>\n      <td>200726979</td>\n      <td>BJ'S  llc</td>\n      <td>2019-12-12</td>\n      <td>2019</td>\n      <td>1930198546</td>\n      <td>2019-11-27</td>\n      <td>2019-12-12</td>\n      <td>2019-11-27</td>\n      <td>NAA8</td>\n      <td>63.480</td>\n      <td>0 days</td>\n      <td>17 days 22:31:23.076923077</td>\n    </tr>\n    <tr>\n      <th>49999</th>\n      <td>U001</td>\n      <td>200020431</td>\n      <td>DEC corp</td>\n      <td>2019-01-15</td>\n      <td>2019</td>\n      <td>1928576325</td>\n      <td>2019-05-01</td>\n      <td>2019-01-24</td>\n      <td>2019-01-01</td>\n      <td>NAM4</td>\n      <td>1790.300</td>\n      <td>-9 days</td>\n      <td>-9 days +00:31:38.901098902</td>\n    </tr>\n  </tbody>\n</table>\n<p>38325 rows × 13 columns</p>\n</div>"
     },
     "execution_count": 43,
     "metadata": {},
     "output_type": "execute_result"
    }
   ],
   "source": [
    "df['avg_delay'] = df['name_customer'].map(avgdelay)\n",
    "df"
   ]
  },
  {
   "cell_type": "markdown",
   "id": "1d332525",
   "metadata": {
    "id": "1d332525"
   },
   "source": [
    "### Observe that the \"avg_delay\" column is in days format. You need to change the format into seconds\n",
    "\n",
    "- Days_format :  17 days 00:00:00\n",
    "- Format in seconds : 1641600.0"
   ]
  },
  {
   "cell_type": "code",
   "execution_count": 44,
   "id": "d5f1041e",
   "metadata": {
    "id": "d5f1041e"
   },
   "outputs": [],
   "source": [
    "df['avg_delay'] = pd.to_timedelta(df['avg_delay']).dt.total_seconds()"
   ]
  },
  {
   "cell_type": "markdown",
   "id": "OvgtHSsx_O-n",
   "metadata": {
    "id": "OvgtHSsx_O-n"
   },
   "source": [
    "### Display the maindata dataframe "
   ]
  },
  {
   "cell_type": "code",
   "execution_count": 45,
   "id": "97ca9c45",
   "metadata": {
    "id": "97ca9c45"
   },
   "outputs": [
    {
     "data": {
      "text/plain": "      business_code cust_number       name_customer clear_date  buisness_year  \\\n0              U001   200769623        WAL-MAR corp 2020-11-02           2020   \n1              U001   200980828              BEN E  2019-08-08           2019   \n2              U001   200792734          MDV/ trust 2019-12-30           2019   \n4              U001   200769623  WAL-MAR foundation 2019-11-25           2019   \n5              CA02   140106181    THE  corporation 2019-04-12           2019   \n...             ...         ...                 ...        ...            ...   \n49994          U001   200762301        C&S WH trust 2019-07-25           2019   \n49996          U001   200769623          WAL-MAR co 2019-03-09           2019   \n49997          U001   200772595    SAFEW associates 2020-05-03           2020   \n49998          U001   200726979           BJ'S  llc 2019-12-12           2019   \n49999          U001   200020431            DEC corp 2019-01-15           2019   \n\n           doc_id posting_date due_in_date baseline_create_date  \\\n0      1930438491   2020-01-26  2020-02-10           2020-01-26   \n1      1929646410   2019-07-22  2019-08-11           2019-07-22   \n2      1929873765   2019-09-14  2019-09-29           2019-09-14   \n4      1930147974   2019-11-13  2019-11-28           2019-11-13   \n5      2960581231   2019-09-20  2019-10-04           2019-09-24   \n...           ...          ...         ...                  ...   \n49994  1929600989   2019-10-07  2019-07-25           2019-07-10   \n49996  1929744070   2019-08-15  2019-08-30           2019-08-15   \n49997  1930536775   2020-02-19  2020-03-05           2020-02-19   \n49998  1930198546   2019-11-27  2019-12-12           2019-11-27   \n49999  1928576325   2019-05-01  2019-01-24           2019-01-01   \n\n      cust_payment_terms  converted_usd     Delay     avg_delay  \n0                   NAH4      54273.280  266 days  2.512246e+05  \n1                   NAD1      79656.600   -3 days  2.160000e+06  \n2                   NAA8       2253.860   92 days  2.574720e+06  \n4                   NAH4      33133.290   -3 days  3.814140e+05  \n5                   CA10      15558.088 -175 days  4.171886e+06  \n...                  ...            ...       ...           ...  \n49994               NAC6      84780.400    0 days -8.594526e+05  \n49996               NAH4       6766.540 -174 days -1.145375e+05  \n49997               NAA8       6120.860   59 days  2.139429e+05  \n49998               NAA8         63.480    0 days  1.549883e+06  \n49999               NAM4       1790.300   -9 days -7.757011e+05  \n\n[38325 rows x 13 columns]",
      "text/html": "<div>\n<style scoped>\n    .dataframe tbody tr th:only-of-type {\n        vertical-align: middle;\n    }\n\n    .dataframe tbody tr th {\n        vertical-align: top;\n    }\n\n    .dataframe thead th {\n        text-align: right;\n    }\n</style>\n<table border=\"1\" class=\"dataframe\">\n  <thead>\n    <tr style=\"text-align: right;\">\n      <th></th>\n      <th>business_code</th>\n      <th>cust_number</th>\n      <th>name_customer</th>\n      <th>clear_date</th>\n      <th>buisness_year</th>\n      <th>doc_id</th>\n      <th>posting_date</th>\n      <th>due_in_date</th>\n      <th>baseline_create_date</th>\n      <th>cust_payment_terms</th>\n      <th>converted_usd</th>\n      <th>Delay</th>\n      <th>avg_delay</th>\n    </tr>\n  </thead>\n  <tbody>\n    <tr>\n      <th>0</th>\n      <td>U001</td>\n      <td>200769623</td>\n      <td>WAL-MAR corp</td>\n      <td>2020-11-02</td>\n      <td>2020</td>\n      <td>1930438491</td>\n      <td>2020-01-26</td>\n      <td>2020-02-10</td>\n      <td>2020-01-26</td>\n      <td>NAH4</td>\n      <td>54273.280</td>\n      <td>266 days</td>\n      <td>2.512246e+05</td>\n    </tr>\n    <tr>\n      <th>1</th>\n      <td>U001</td>\n      <td>200980828</td>\n      <td>BEN E</td>\n      <td>2019-08-08</td>\n      <td>2019</td>\n      <td>1929646410</td>\n      <td>2019-07-22</td>\n      <td>2019-08-11</td>\n      <td>2019-07-22</td>\n      <td>NAD1</td>\n      <td>79656.600</td>\n      <td>-3 days</td>\n      <td>2.160000e+06</td>\n    </tr>\n    <tr>\n      <th>2</th>\n      <td>U001</td>\n      <td>200792734</td>\n      <td>MDV/ trust</td>\n      <td>2019-12-30</td>\n      <td>2019</td>\n      <td>1929873765</td>\n      <td>2019-09-14</td>\n      <td>2019-09-29</td>\n      <td>2019-09-14</td>\n      <td>NAA8</td>\n      <td>2253.860</td>\n      <td>92 days</td>\n      <td>2.574720e+06</td>\n    </tr>\n    <tr>\n      <th>4</th>\n      <td>U001</td>\n      <td>200769623</td>\n      <td>WAL-MAR foundation</td>\n      <td>2019-11-25</td>\n      <td>2019</td>\n      <td>1930147974</td>\n      <td>2019-11-13</td>\n      <td>2019-11-28</td>\n      <td>2019-11-13</td>\n      <td>NAH4</td>\n      <td>33133.290</td>\n      <td>-3 days</td>\n      <td>3.814140e+05</td>\n    </tr>\n    <tr>\n      <th>5</th>\n      <td>CA02</td>\n      <td>140106181</td>\n      <td>THE  corporation</td>\n      <td>2019-04-12</td>\n      <td>2019</td>\n      <td>2960581231</td>\n      <td>2019-09-20</td>\n      <td>2019-10-04</td>\n      <td>2019-09-24</td>\n      <td>CA10</td>\n      <td>15558.088</td>\n      <td>-175 days</td>\n      <td>4.171886e+06</td>\n    </tr>\n    <tr>\n      <th>...</th>\n      <td>...</td>\n      <td>...</td>\n      <td>...</td>\n      <td>...</td>\n      <td>...</td>\n      <td>...</td>\n      <td>...</td>\n      <td>...</td>\n      <td>...</td>\n      <td>...</td>\n      <td>...</td>\n      <td>...</td>\n      <td>...</td>\n    </tr>\n    <tr>\n      <th>49994</th>\n      <td>U001</td>\n      <td>200762301</td>\n      <td>C&amp;S WH trust</td>\n      <td>2019-07-25</td>\n      <td>2019</td>\n      <td>1929600989</td>\n      <td>2019-10-07</td>\n      <td>2019-07-25</td>\n      <td>2019-07-10</td>\n      <td>NAC6</td>\n      <td>84780.400</td>\n      <td>0 days</td>\n      <td>-8.594526e+05</td>\n    </tr>\n    <tr>\n      <th>49996</th>\n      <td>U001</td>\n      <td>200769623</td>\n      <td>WAL-MAR co</td>\n      <td>2019-03-09</td>\n      <td>2019</td>\n      <td>1929744070</td>\n      <td>2019-08-15</td>\n      <td>2019-08-30</td>\n      <td>2019-08-15</td>\n      <td>NAH4</td>\n      <td>6766.540</td>\n      <td>-174 days</td>\n      <td>-1.145375e+05</td>\n    </tr>\n    <tr>\n      <th>49997</th>\n      <td>U001</td>\n      <td>200772595</td>\n      <td>SAFEW associates</td>\n      <td>2020-05-03</td>\n      <td>2020</td>\n      <td>1930536775</td>\n      <td>2020-02-19</td>\n      <td>2020-03-05</td>\n      <td>2020-02-19</td>\n      <td>NAA8</td>\n      <td>6120.860</td>\n      <td>59 days</td>\n      <td>2.139429e+05</td>\n    </tr>\n    <tr>\n      <th>49998</th>\n      <td>U001</td>\n      <td>200726979</td>\n      <td>BJ'S  llc</td>\n      <td>2019-12-12</td>\n      <td>2019</td>\n      <td>1930198546</td>\n      <td>2019-11-27</td>\n      <td>2019-12-12</td>\n      <td>2019-11-27</td>\n      <td>NAA8</td>\n      <td>63.480</td>\n      <td>0 days</td>\n      <td>1.549883e+06</td>\n    </tr>\n    <tr>\n      <th>49999</th>\n      <td>U001</td>\n      <td>200020431</td>\n      <td>DEC corp</td>\n      <td>2019-01-15</td>\n      <td>2019</td>\n      <td>1928576325</td>\n      <td>2019-05-01</td>\n      <td>2019-01-24</td>\n      <td>2019-01-01</td>\n      <td>NAM4</td>\n      <td>1790.300</td>\n      <td>-9 days</td>\n      <td>-7.757011e+05</td>\n    </tr>\n  </tbody>\n</table>\n<p>38325 rows × 13 columns</p>\n</div>"
     },
     "execution_count": 45,
     "metadata": {},
     "output_type": "execute_result"
    }
   ],
   "source": [
    "df"
   ]
  },
  {
   "cell_type": "markdown",
   "id": "ae24c7bb",
   "metadata": {
    "id": "ae24c7bb"
   },
   "source": [
    "### Since you have created the \"avg_delay\" column from \"Delay\" and \"clear_date\" column, there is no need of these two columns anymore \n",
    "\n",
    "- You are expected to drop \"Delay\" and \"clear_date\" columns from maindata dataframe "
   ]
  },
  {
   "cell_type": "code",
   "execution_count": 46,
   "id": "78a61ab9",
   "metadata": {
    "id": "78a61ab9"
   },
   "outputs": [],
   "source": [
    "df.drop(['Delay', 'clear_date'], axis=1, inplace=True)"
   ]
  },
  {
   "cell_type": "code",
   "execution_count": 47,
   "id": "6e99a8ee",
   "metadata": {},
   "outputs": [
    {
     "data": {
      "text/plain": "      business_code cust_number       name_customer  buisness_year  \\\n0              U001   200769623        WAL-MAR corp           2020   \n1              U001   200980828              BEN E            2019   \n2              U001   200792734          MDV/ trust           2019   \n4              U001   200769623  WAL-MAR foundation           2019   \n5              CA02   140106181    THE  corporation           2019   \n...             ...         ...                 ...            ...   \n49994          U001   200762301        C&S WH trust           2019   \n49996          U001   200769623          WAL-MAR co           2019   \n49997          U001   200772595    SAFEW associates           2020   \n49998          U001   200726979           BJ'S  llc           2019   \n49999          U001   200020431            DEC corp           2019   \n\n           doc_id posting_date due_in_date baseline_create_date  \\\n0      1930438491   2020-01-26  2020-02-10           2020-01-26   \n1      1929646410   2019-07-22  2019-08-11           2019-07-22   \n2      1929873765   2019-09-14  2019-09-29           2019-09-14   \n4      1930147974   2019-11-13  2019-11-28           2019-11-13   \n5      2960581231   2019-09-20  2019-10-04           2019-09-24   \n...           ...          ...         ...                  ...   \n49994  1929600989   2019-10-07  2019-07-25           2019-07-10   \n49996  1929744070   2019-08-15  2019-08-30           2019-08-15   \n49997  1930536775   2020-02-19  2020-03-05           2020-02-19   \n49998  1930198546   2019-11-27  2019-12-12           2019-11-27   \n49999  1928576325   2019-05-01  2019-01-24           2019-01-01   \n\n      cust_payment_terms  converted_usd     avg_delay  \n0                   NAH4      54273.280  2.512246e+05  \n1                   NAD1      79656.600  2.160000e+06  \n2                   NAA8       2253.860  2.574720e+06  \n4                   NAH4      33133.290  3.814140e+05  \n5                   CA10      15558.088  4.171886e+06  \n...                  ...            ...           ...  \n49994               NAC6      84780.400 -8.594526e+05  \n49996               NAH4       6766.540 -1.145375e+05  \n49997               NAA8       6120.860  2.139429e+05  \n49998               NAA8         63.480  1.549883e+06  \n49999               NAM4       1790.300 -7.757011e+05  \n\n[38325 rows x 11 columns]",
      "text/html": "<div>\n<style scoped>\n    .dataframe tbody tr th:only-of-type {\n        vertical-align: middle;\n    }\n\n    .dataframe tbody tr th {\n        vertical-align: top;\n    }\n\n    .dataframe thead th {\n        text-align: right;\n    }\n</style>\n<table border=\"1\" class=\"dataframe\">\n  <thead>\n    <tr style=\"text-align: right;\">\n      <th></th>\n      <th>business_code</th>\n      <th>cust_number</th>\n      <th>name_customer</th>\n      <th>buisness_year</th>\n      <th>doc_id</th>\n      <th>posting_date</th>\n      <th>due_in_date</th>\n      <th>baseline_create_date</th>\n      <th>cust_payment_terms</th>\n      <th>converted_usd</th>\n      <th>avg_delay</th>\n    </tr>\n  </thead>\n  <tbody>\n    <tr>\n      <th>0</th>\n      <td>U001</td>\n      <td>200769623</td>\n      <td>WAL-MAR corp</td>\n      <td>2020</td>\n      <td>1930438491</td>\n      <td>2020-01-26</td>\n      <td>2020-02-10</td>\n      <td>2020-01-26</td>\n      <td>NAH4</td>\n      <td>54273.280</td>\n      <td>2.512246e+05</td>\n    </tr>\n    <tr>\n      <th>1</th>\n      <td>U001</td>\n      <td>200980828</td>\n      <td>BEN E</td>\n      <td>2019</td>\n      <td>1929646410</td>\n      <td>2019-07-22</td>\n      <td>2019-08-11</td>\n      <td>2019-07-22</td>\n      <td>NAD1</td>\n      <td>79656.600</td>\n      <td>2.160000e+06</td>\n    </tr>\n    <tr>\n      <th>2</th>\n      <td>U001</td>\n      <td>200792734</td>\n      <td>MDV/ trust</td>\n      <td>2019</td>\n      <td>1929873765</td>\n      <td>2019-09-14</td>\n      <td>2019-09-29</td>\n      <td>2019-09-14</td>\n      <td>NAA8</td>\n      <td>2253.860</td>\n      <td>2.574720e+06</td>\n    </tr>\n    <tr>\n      <th>4</th>\n      <td>U001</td>\n      <td>200769623</td>\n      <td>WAL-MAR foundation</td>\n      <td>2019</td>\n      <td>1930147974</td>\n      <td>2019-11-13</td>\n      <td>2019-11-28</td>\n      <td>2019-11-13</td>\n      <td>NAH4</td>\n      <td>33133.290</td>\n      <td>3.814140e+05</td>\n    </tr>\n    <tr>\n      <th>5</th>\n      <td>CA02</td>\n      <td>140106181</td>\n      <td>THE  corporation</td>\n      <td>2019</td>\n      <td>2960581231</td>\n      <td>2019-09-20</td>\n      <td>2019-10-04</td>\n      <td>2019-09-24</td>\n      <td>CA10</td>\n      <td>15558.088</td>\n      <td>4.171886e+06</td>\n    </tr>\n    <tr>\n      <th>...</th>\n      <td>...</td>\n      <td>...</td>\n      <td>...</td>\n      <td>...</td>\n      <td>...</td>\n      <td>...</td>\n      <td>...</td>\n      <td>...</td>\n      <td>...</td>\n      <td>...</td>\n      <td>...</td>\n    </tr>\n    <tr>\n      <th>49994</th>\n      <td>U001</td>\n      <td>200762301</td>\n      <td>C&amp;S WH trust</td>\n      <td>2019</td>\n      <td>1929600989</td>\n      <td>2019-10-07</td>\n      <td>2019-07-25</td>\n      <td>2019-07-10</td>\n      <td>NAC6</td>\n      <td>84780.400</td>\n      <td>-8.594526e+05</td>\n    </tr>\n    <tr>\n      <th>49996</th>\n      <td>U001</td>\n      <td>200769623</td>\n      <td>WAL-MAR co</td>\n      <td>2019</td>\n      <td>1929744070</td>\n      <td>2019-08-15</td>\n      <td>2019-08-30</td>\n      <td>2019-08-15</td>\n      <td>NAH4</td>\n      <td>6766.540</td>\n      <td>-1.145375e+05</td>\n    </tr>\n    <tr>\n      <th>49997</th>\n      <td>U001</td>\n      <td>200772595</td>\n      <td>SAFEW associates</td>\n      <td>2020</td>\n      <td>1930536775</td>\n      <td>2020-02-19</td>\n      <td>2020-03-05</td>\n      <td>2020-02-19</td>\n      <td>NAA8</td>\n      <td>6120.860</td>\n      <td>2.139429e+05</td>\n    </tr>\n    <tr>\n      <th>49998</th>\n      <td>U001</td>\n      <td>200726979</td>\n      <td>BJ'S  llc</td>\n      <td>2019</td>\n      <td>1930198546</td>\n      <td>2019-11-27</td>\n      <td>2019-12-12</td>\n      <td>2019-11-27</td>\n      <td>NAA8</td>\n      <td>63.480</td>\n      <td>1.549883e+06</td>\n    </tr>\n    <tr>\n      <th>49999</th>\n      <td>U001</td>\n      <td>200020431</td>\n      <td>DEC corp</td>\n      <td>2019</td>\n      <td>1928576325</td>\n      <td>2019-05-01</td>\n      <td>2019-01-24</td>\n      <td>2019-01-01</td>\n      <td>NAM4</td>\n      <td>1790.300</td>\n      <td>-7.757011e+05</td>\n    </tr>\n  </tbody>\n</table>\n<p>38325 rows × 11 columns</p>\n</div>"
     },
     "execution_count": 47,
     "metadata": {},
     "output_type": "execute_result"
    }
   ],
   "source": [
    "df"
   ]
  },
  {
   "cell_type": "markdown",
   "id": "ae724bfc",
   "metadata": {
    "id": "ae724bfc"
   },
   "source": [
    "# Splitting of Train and the Test Data"
   ]
  },
  {
   "cell_type": "markdown",
   "id": "cb6f0264",
   "metadata": {
    "id": "cb6f0264"
   },
   "source": [
    "### You need to split the \"maindata\" columns into X and y dataframe\n",
    "\n",
    "- Note - y should have the target column i.e. \"avg_delay\" and the other column should be in X\n",
    "\n",
    "- X is going to hold the source fields and y will be going to hold the target fields"
   ]
  },
  {
   "cell_type": "code",
   "execution_count": 48,
   "id": "75ab29ab",
   "metadata": {
    "id": "75ab29ab"
   },
   "outputs": [
    {
     "data": {
      "text/plain": "(38325, 10)"
     },
     "execution_count": 48,
     "metadata": {},
     "output_type": "execute_result"
    }
   ],
   "source": [
    "X = df.drop(['avg_delay'], axis=1)\n",
    "X.shape"
   ]
  },
  {
   "cell_type": "code",
   "execution_count": 49,
   "id": "6412c62b",
   "metadata": {
    "id": "6412c62b"
   },
   "outputs": [
    {
     "data": {
      "text/plain": "(38325,)"
     },
     "execution_count": 49,
     "metadata": {},
     "output_type": "execute_result"
    }
   ],
   "source": [
    "y = df['avg_delay']\n",
    "y.shape"
   ]
  },
  {
   "cell_type": "markdown",
   "id": "1c2942bf",
   "metadata": {
    "id": "1c2942bf"
   },
   "source": [
    "#### You are expected to split both the dataframes into train and test format in 60:40 ratio \n",
    "\n",
    "- Note - The expected output should be in \"X_train\", \"X_loc_test\", \"y_train\", \"y_loc_test\" format "
   ]
  },
  {
   "cell_type": "code",
   "execution_count": 50,
   "id": "d92160a5",
   "metadata": {
    "id": "d92160a5"
   },
   "outputs": [],
   "source": [
    "X_train, X_loc_test, y_train, y_loc_test = train_test_split(X, y, test_size=0.4)"
   ]
  },
  {
   "cell_type": "markdown",
   "id": "p4OME62pDufR",
   "metadata": {
    "id": "p4OME62pDufR"
   },
   "source": [
    "### Please check for the number of rows and columns of all the new dataframes (all 4)"
   ]
  },
  {
   "cell_type": "code",
   "execution_count": 51,
   "id": "48328d0a",
   "metadata": {
    "id": "48328d0a"
   },
   "outputs": [
    {
     "data": {
      "text/plain": "((22995, 10), (15330, 10), (22995,), (15330,))"
     },
     "execution_count": 51,
     "metadata": {},
     "output_type": "execute_result"
    }
   ],
   "source": [
    "X_train.shape, X_loc_test.shape, y_train.shape, y_loc_test.shape"
   ]
  },
  {
   "cell_type": "markdown",
   "id": "4a68ed71",
   "metadata": {
    "id": "4a68ed71"
   },
   "source": [
    "### Now you are expected to split the \"X_loc_test\" and \"y_loc_test\" dataset into \"Test\" and \"Validation\" (as the names given below) dataframe with 50:50 format \n",
    "\n",
    "- Note - The expected output should be in \"X_val\", \"X_test\", \"y_val\", \"y_test\" format"
   ]
  },
  {
   "cell_type": "code",
   "execution_count": 52,
   "id": "b56c62f2",
   "metadata": {
    "id": "b56c62f2"
   },
   "outputs": [],
   "source": [
    "X_val, X_test, y_val, y_test = train_test_split(X_loc_test, y_loc_test, test_size=0.5)"
   ]
  },
  {
   "cell_type": "markdown",
   "id": "bJTSAskvERH1",
   "metadata": {
    "id": "bJTSAskvERH1"
   },
   "source": [
    "### Please check for the number of rows and columns of all the 4 dataframes "
   ]
  },
  {
   "cell_type": "code",
   "execution_count": 53,
   "id": "845d7564",
   "metadata": {
    "id": "845d7564"
   },
   "outputs": [
    {
     "data": {
      "text/plain": "((7665, 10), (7665, 10), (7665,), (7665,))"
     },
     "execution_count": 53,
     "metadata": {},
     "output_type": "execute_result"
    }
   ],
   "source": [
    "X_val.shape, X_test.shape, y_val.shape, y_test.shape"
   ]
  },
  {
   "cell_type": "markdown",
   "id": "110fa872",
   "metadata": {
    "id": "110fa872"
   },
   "source": [
    "# Exploratory Data Analysis (EDA) "
   ]
  },
  {
   "cell_type": "markdown",
   "id": "ffc8fe0f",
   "metadata": {
    "id": "ffc8fe0f"
   },
   "source": [
    "### Distribution Plot of the target variable (use the dataframe which contains the target field)\n",
    "\n",
    "- Note - You are expected to make a distribution plot for the target variable "
   ]
  },
  {
   "cell_type": "code",
   "execution_count": 54,
   "id": "ba2bf8ed",
   "metadata": {
    "id": "ba2bf8ed"
   },
   "outputs": [
    {
     "data": {
      "text/plain": "<seaborn.axisgrid.FacetGrid at 0x25f833acd30>"
     },
     "execution_count": 54,
     "metadata": {},
     "output_type": "execute_result"
    },
    {
     "data": {
      "text/plain": "<Figure size 360x360 with 1 Axes>",
      "image/png": "[encoded data removed]"
     },
     "metadata": {
      "needs_background": "light"
     },
     "output_type": "display_data"
    }
   ],
   "source": [
    "sns.displot(y_train)"
   ]
  },
  {
   "cell_type": "markdown",
   "id": "d0e323a3",
   "metadata": {
    "id": "d0e323a3"
   },
   "source": [
    "### You are expected to group the X_train dataset on 'name_customer' column with 'doc_id' in the x_train set\n",
    "\n",
    "### Need to store the outcome into a new dataframe \n",
    "\n",
    "- Note code given for groupby statement- X_train.groupby(by=['name_customer'], as_index=False)['doc_id'].count()"
   ]
  },
  {
   "cell_type": "code",
   "execution_count": 55,
   "id": "719b8273",
   "metadata": {},
   "outputs": [],
   "source": [
    "x_train = X_train.groupby(by=['name_customer'], as_index=False)['doc_id'].count()"
   ]
  },
  {
   "cell_type": "markdown",
   "id": "cA43bFffFt6i",
   "metadata": {
    "id": "cA43bFffFt6i"
   },
   "source": [
    "### You can make another distribution plot of the \"doc_id\" column from x_train"
   ]
  },
  {
   "cell_type": "code",
   "execution_count": 56,
   "id": "9576bf33",
   "metadata": {
    "id": "9576bf33"
   },
   "outputs": [
    {
     "data": {
      "text/plain": "<seaborn.axisgrid.FacetGrid at 0x25f84a662e0>"
     },
     "execution_count": 56,
     "metadata": {},
     "output_type": "execute_result"
    },
    {
     "data": {
      "text/plain": "<Figure size 360x360 with 1 Axes>",
      "image/png": "[encoded data removed]"
     },
     "metadata": {
      "needs_background": "light"
     },
     "output_type": "display_data"
    }
   ],
   "source": [
    "sns.displot(x_train['doc_id'], kind='kde', fill=True, color='g')"
   ]
  },
  {
   "cell_type": "markdown",
   "id": "fba2c44f",
   "metadata": {
    "id": "fba2c44f"
   },
   "source": [
    "#### Create a Distribution plot only for business_year and a seperate distribution plot of \"business_year\" column along with the doc_id\" column\n"
   ]
  },
  {
   "cell_type": "code",
   "execution_count": 57,
   "id": "4fecec77",
   "metadata": {
    "id": "4fecec77"
   },
   "outputs": [
    {
     "data": {
      "text/plain": "<AxesSubplot:xlabel='buisness_year', ylabel='Density'>"
     },
     "execution_count": 57,
     "metadata": {},
     "output_type": "execute_result"
    },
    {
     "data": {
      "text/plain": "<Figure size 432x288 with 1 Axes>",
      "image/png": "[encoded data removed]"
     },
     "metadata": {
      "needs_background": "light"
     },
     "output_type": "display_data"
    }
   ],
   "source": [
    "sns.distplot(X_train['buisness_year'])"
   ]
  },
  {
   "cell_type": "code",
   "execution_count": 58,
   "id": "qr1jGhfOKjnw",
   "metadata": {
    "id": "qr1jGhfOKjnw"
   },
   "outputs": [
    {
     "data": {
      "text/plain": "<AxesSubplot:ylabel='Density'>"
     },
     "execution_count": 58,
     "metadata": {},
     "output_type": "execute_result"
    },
    {
     "data": {
      "text/plain": "<Figure size 432x288 with 1 Axes>",
      "image/png": "[encoded data removed]"
     },
     "metadata": {
      "needs_background": "light"
     },
     "output_type": "display_data"
    }
   ],
   "source": [
    "sns.distplot(x=X_train['buisness_year'])\n",
    "sns.distplot(x=X_train['doc_id'])"
   ]
  },
  {
   "cell_type": "markdown",
   "id": "968fbcc9",
   "metadata": {
    "id": "968fbcc9"
   },
   "source": [
    "# Feature Engineering "
   ]
  },
  {
   "cell_type": "markdown",
   "id": "jbh6CyGqH3XE",
   "metadata": {
    "id": "jbh6CyGqH3XE"
   },
   "source": [
    "### Display and describe the X_train dataframe "
   ]
  },
  {
   "cell_type": "code",
   "execution_count": 59,
   "id": "e6bcf307",
   "metadata": {
    "id": "e6bcf307",
    "scrolled": true
   },
   "outputs": [
    {
     "data": {
      "text/plain": "      business_code cust_number       name_customer  buisness_year  \\\n20862          U001   200762301  C&S WH corporation           2019   \n4364           U001   200769623     WAL-MAR systems           2019   \n30532          U001   200726979   BJ'S  corporation           2020   \n40637          U001   200707822   PUBLI corporation           2020   \n8286           U001   200769623     WAL-MAR systems           2019   \n...             ...         ...                 ...            ...   \n13535          U001   200726979    BJ'S  foundation           2020   \n24124          U001   200936373    SUPE corporation           2019   \n14370          U001      CCU013        KRAFT F corp           2019   \n28495          U001   200592182             DECA us           2019   \n37930          CA02      CCU001   KRAFT  foundation           2019   \n\n           doc_id posting_date due_in_date baseline_create_date  \\\n20862  1929158817   2019-04-17  2019-05-02           2019-04-17   \n4364   1929154913   2019-04-16  2019-05-01           2019-04-16   \n30532  1930370885   2020-08-01  2020-01-23           2020-01-08   \n40637  1930353725   2020-03-01  2020-01-18           2020-01-03   \n8286   1929353974   2019-05-21  2019-06-05           2019-05-21   \n...           ...          ...         ...                  ...   \n13535  1930395567   2020-01-14  2020-01-29           2020-01-14   \n24124  1930193165   2019-11-27  2019-12-12           2019-11-27   \n14370  1929288837   2019-05-13  2019-05-13           2019-05-13   \n28495  1929800952   2019-08-28  2019-09-08           2019-08-16   \n37930  2960572639   2019-12-08  2019-09-18           2019-08-14   \n\n      cust_payment_terms  converted_usd  \n20862               NAC6      141942.94  \n4364                NAH4        5830.20  \n30532               NAA8         525.03  \n40637               NAA8       67935.23  \n8286                NAH4       39014.53  \n...                  ...            ...  \n13535               NAA8         779.66  \n24124               NAA8       34040.62  \n14370               NAX2        4117.21  \n28495               NAM4         799.44  \n37930               NAG2       14830.20  \n\n[22995 rows x 10 columns]",
      "text/html": "<div>\n<style scoped>\n    .dataframe tbody tr th:only-of-type {\n        vertical-align: middle;\n    }\n\n    .dataframe tbody tr th {\n        vertical-align: top;\n    }\n\n    .dataframe thead th {\n        text-align: right;\n    }\n</style>\n<table border=\"1\" class=\"dataframe\">\n  <thead>\n    <tr style=\"text-align: right;\">\n      <th></th>\n      <th>business_code</th>\n      <th>cust_number</th>\n      <th>name_customer</th>\n      <th>buisness_year</th>\n      <th>doc_id</th>\n      <th>posting_date</th>\n      <th>due_in_date</th>\n      <th>baseline_create_date</th>\n      <th>cust_payment_terms</th>\n      <th>converted_usd</th>\n    </tr>\n  </thead>\n  <tbody>\n    <tr>\n      <th>20862</th>\n      <td>U001</td>\n      <td>200762301</td>\n      <td>C&amp;S WH corporation</td>\n      <td>2019</td>\n      <td>1929158817</td>\n      <td>2019-04-17</td>\n      <td>2019-05-02</td>\n      <td>2019-04-17</td>\n      <td>NAC6</td>\n      <td>141942.94</td>\n    </tr>\n    <tr>\n      <th>4364</th>\n      <td>U001</td>\n      <td>200769623</td>\n      <td>WAL-MAR systems</td>\n      <td>2019</td>\n      <td>1929154913</td>\n      <td>2019-04-16</td>\n      <td>2019-05-01</td>\n      <td>2019-04-16</td>\n      <td>NAH4</td>\n      <td>5830.20</td>\n    </tr>\n    <tr>\n      <th>30532</th>\n      <td>U001</td>\n      <td>200726979</td>\n      <td>BJ'S  corporation</td>\n      <td>2020</td>\n      <td>1930370885</td>\n      <td>2020-08-01</td>\n      <td>2020-01-23</td>\n      <td>2020-01-08</td>\n      <td>NAA8</td>\n      <td>525.03</td>\n    </tr>\n    <tr>\n      <th>40637</th>\n      <td>U001</td>\n      <td>200707822</td>\n      <td>PUBLI corporation</td>\n      <td>2020</td>\n      <td>1930353725</td>\n      <td>2020-03-01</td>\n      <td>2020-01-18</td>\n      <td>2020-01-03</td>\n      <td>NAA8</td>\n      <td>67935.23</td>\n    </tr>\n    <tr>\n      <th>8286</th>\n      <td>U001</td>\n      <td>200769623</td>\n      <td>WAL-MAR systems</td>\n      <td>2019</td>\n      <td>1929353974</td>\n      <td>2019-05-21</td>\n      <td>2019-06-05</td>\n      <td>2019-05-21</td>\n      <td>NAH4</td>\n      <td>39014.53</td>\n    </tr>\n    <tr>\n      <th>...</th>\n      <td>...</td>\n      <td>...</td>\n      <td>...</td>\n      <td>...</td>\n      <td>...</td>\n      <td>...</td>\n      <td>...</td>\n      <td>...</td>\n      <td>...</td>\n      <td>...</td>\n    </tr>\n    <tr>\n      <th>13535</th>\n      <td>U001</td>\n      <td>200726979</td>\n      <td>BJ'S  foundation</td>\n      <td>2020</td>\n      <td>1930395567</td>\n      <td>2020-01-14</td>\n      <td>2020-01-29</td>\n      <td>2020-01-14</td>\n      <td>NAA8</td>\n      <td>779.66</td>\n    </tr>\n    <tr>\n      <th>24124</th>\n      <td>U001</td>\n      <td>200936373</td>\n      <td>SUPE corporation</td>\n      <td>2019</td>\n      <td>1930193165</td>\n      <td>2019-11-27</td>\n      <td>2019-12-12</td>\n      <td>2019-11-27</td>\n      <td>NAA8</td>\n      <td>34040.62</td>\n    </tr>\n    <tr>\n      <th>14370</th>\n      <td>U001</td>\n      <td>CCU013</td>\n      <td>KRAFT F corp</td>\n      <td>2019</td>\n      <td>1929288837</td>\n      <td>2019-05-13</td>\n      <td>2019-05-13</td>\n      <td>2019-05-13</td>\n      <td>NAX2</td>\n      <td>4117.21</td>\n    </tr>\n    <tr>\n      <th>28495</th>\n      <td>U001</td>\n      <td>200592182</td>\n      <td>DECA us</td>\n      <td>2019</td>\n      <td>1929800952</td>\n      <td>2019-08-28</td>\n      <td>2019-09-08</td>\n      <td>2019-08-16</td>\n      <td>NAM4</td>\n      <td>799.44</td>\n    </tr>\n    <tr>\n      <th>37930</th>\n      <td>CA02</td>\n      <td>CCU001</td>\n      <td>KRAFT  foundation</td>\n      <td>2019</td>\n      <td>2960572639</td>\n      <td>2019-12-08</td>\n      <td>2019-09-18</td>\n      <td>2019-08-14</td>\n      <td>NAG2</td>\n      <td>14830.20</td>\n    </tr>\n  </tbody>\n</table>\n<p>22995 rows × 10 columns</p>\n</div>"
     },
     "execution_count": 59,
     "metadata": {},
     "output_type": "execute_result"
    }
   ],
   "source": [
    "X_train"
   ]
  },
  {
   "cell_type": "code",
   "execution_count": 60,
   "id": "08ccc819",
   "metadata": {
    "id": "08ccc819"
   },
   "outputs": [
    {
     "data": {
      "text/plain": "       buisness_year        doc_id  converted_usd\ncount   22995.000000  2.299500e+04   22995.000000\nmean     2019.133377  2.012871e+09   30740.032408\nstd         0.339989  2.868549e+08   36435.294532\nmin      2019.000000  1.928502e+09       2.400000\n25%      2019.000000  1.929181e+09    4529.790000\n50%      2019.000000  1.929734e+09   16839.520000\n75%      2019.000000  1.930210e+09   45522.508000\nmax      2020.000000  9.500000e+09  632134.240000",
      "text/html": "<div>\n<style scoped>\n    .dataframe tbody tr th:only-of-type {\n        vertical-align: middle;\n    }\n\n    .dataframe tbody tr th {\n        vertical-align: top;\n    }\n\n    .dataframe thead th {\n        text-align: right;\n    }\n</style>\n<table border=\"1\" class=\"dataframe\">\n  <thead>\n    <tr style=\"text-align: right;\">\n      <th></th>\n      <th>buisness_year</th>\n      <th>doc_id</th>\n      <th>converted_usd</th>\n    </tr>\n  </thead>\n  <tbody>\n    <tr>\n      <th>count</th>\n      <td>22995.000000</td>\n      <td>2.299500e+04</td>\n      <td>22995.000000</td>\n    </tr>\n    <tr>\n      <th>mean</th>\n      <td>2019.133377</td>\n      <td>2.012871e+09</td>\n      <td>30740.032408</td>\n    </tr>\n    <tr>\n      <th>std</th>\n      <td>0.339989</td>\n      <td>2.868549e+08</td>\n      <td>36435.294532</td>\n    </tr>\n    <tr>\n      <th>min</th>\n      <td>2019.000000</td>\n      <td>1.928502e+09</td>\n      <td>2.400000</td>\n    </tr>\n    <tr>\n      <th>25%</th>\n      <td>2019.000000</td>\n      <td>1.929181e+09</td>\n      <td>4529.790000</td>\n    </tr>\n    <tr>\n      <th>50%</th>\n      <td>2019.000000</td>\n      <td>1.929734e+09</td>\n      <td>16839.520000</td>\n    </tr>\n    <tr>\n      <th>75%</th>\n      <td>2019.000000</td>\n      <td>1.930210e+09</td>\n      <td>45522.508000</td>\n    </tr>\n    <tr>\n      <th>max</th>\n      <td>2020.000000</td>\n      <td>9.500000e+09</td>\n      <td>632134.240000</td>\n    </tr>\n  </tbody>\n</table>\n</div>"
     },
     "execution_count": 60,
     "metadata": {},
     "output_type": "execute_result"
    }
   ],
   "source": [
    "X_train.describe()"
   ]
  },
  {
   "cell_type": "markdown",
   "id": "abd7ac8b",
   "metadata": {
    "id": "abd7ac8b"
   },
   "source": [
    "#### The \"business_code\" column inside X_train, is a categorical column, so you need to perform Labelencoder on that particular column\n",
    "\n",
    "- Note - call the Label Encoder from sklearn library and use the fit() function on \"business_code\" column\n",
    "- Note - Please fill in the blanks (two) to complete this code"
   ]
  },
  {
   "cell_type": "code",
   "execution_count": 61,
   "id": "7c223545",
   "metadata": {
    "id": "7c223545"
   },
   "outputs": [
    {
     "data": {
      "text/plain": "array([1, 1, 1, ..., 1, 1, 0])"
     },
     "execution_count": 61,
     "metadata": {},
     "output_type": "execute_result"
    }
   ],
   "source": [
    "from sklearn.preprocessing import LabelEncoder\n",
    "\n",
    "business_coder = LabelEncoder()\n",
    "business_coder.fit_transform(X_train['business_code'])"
   ]
  },
  {
   "cell_type": "markdown",
   "id": "f86f7d9c",
   "metadata": {
    "id": "f86f7d9c"
   },
   "source": [
    "#### You are expected to store the value into a new column i.e. \"business_code_enc\"\n",
    "\n",
    "- Note - For Training set you are expected to use fit_trainsform()\n",
    "- Note - For Test set you are expected to use the trainsform()\n",
    "- Note - For Validation set you are expected to use the trainsform()\n",
    "\n",
    "\n",
    "- Partial code is provided, please fill in the blanks "
   ]
  },
  {
   "cell_type": "code",
   "execution_count": 62,
   "id": "4269c307",
   "metadata": {
    "id": "4269c307"
   },
   "outputs": [],
   "source": [
    "X_train['business_code_enc'] = business_coder.fit_transform(X_train['business_code'])"
   ]
  },
  {
   "cell_type": "code",
   "execution_count": 63,
   "id": "70a53712",
   "metadata": {
    "id": "70a53712"
   },
   "outputs": [],
   "source": [
    "X_val['business_code_enc'] = business_coder.fit_transform(X_val['business_code'])\n",
    "X_test['business_code_enc'] = business_coder.fit_transform(X_test['business_code'])"
   ]
  },
  {
   "cell_type": "markdown",
   "id": "gdNYxTkqNfmz",
   "metadata": {
    "id": "gdNYxTkqNfmz"
   },
   "source": [
    "### Display \"business_code\" and \"business_code_enc\" together from X_train dataframe "
   ]
  },
  {
   "cell_type": "code",
   "execution_count": 64,
   "id": "1196a002",
   "metadata": {
    "id": "1196a002"
   },
   "outputs": [
    {
     "data": {
      "text/plain": "      business_code  business_code_enc\n20862          U001                  1\n4364           U001                  1\n30532          U001                  1\n40637          U001                  1\n8286           U001                  1\n...             ...                ...\n13535          U001                  1\n24124          U001                  1\n14370          U001                  1\n28495          U001                  1\n37930          CA02                  0\n\n[22995 rows x 2 columns]",
      "text/html": "<div>\n<style scoped>\n    .dataframe tbody tr th:only-of-type {\n        vertical-align: middle;\n    }\n\n    .dataframe tbody tr th {\n        vertical-align: top;\n    }\n\n    .dataframe thead th {\n        text-align: right;\n    }\n</style>\n<table border=\"1\" class=\"dataframe\">\n  <thead>\n    <tr style=\"text-align: right;\">\n      <th></th>\n      <th>business_code</th>\n      <th>business_code_enc</th>\n    </tr>\n  </thead>\n  <tbody>\n    <tr>\n      <th>20862</th>\n      <td>U001</td>\n      <td>1</td>\n    </tr>\n    <tr>\n      <th>4364</th>\n      <td>U001</td>\n      <td>1</td>\n    </tr>\n    <tr>\n      <th>30532</th>\n      <td>U001</td>\n      <td>1</td>\n    </tr>\n    <tr>\n      <th>40637</th>\n      <td>U001</td>\n      <td>1</td>\n    </tr>\n    <tr>\n      <th>8286</th>\n      <td>U001</td>\n      <td>1</td>\n    </tr>\n    <tr>\n      <th>...</th>\n      <td>...</td>\n      <td>...</td>\n    </tr>\n    <tr>\n      <th>13535</th>\n      <td>U001</td>\n      <td>1</td>\n    </tr>\n    <tr>\n      <th>24124</th>\n      <td>U001</td>\n      <td>1</td>\n    </tr>\n    <tr>\n      <th>14370</th>\n      <td>U001</td>\n      <td>1</td>\n    </tr>\n    <tr>\n      <th>28495</th>\n      <td>U001</td>\n      <td>1</td>\n    </tr>\n    <tr>\n      <th>37930</th>\n      <td>CA02</td>\n      <td>0</td>\n    </tr>\n  </tbody>\n</table>\n<p>22995 rows × 2 columns</p>\n</div>"
     },
     "execution_count": 64,
     "metadata": {},
     "output_type": "execute_result"
    }
   ],
   "source": [
    "X_train[['business_code', 'business_code_enc']]"
   ]
  },
  {
   "cell_type": "markdown",
   "id": "11477224",
   "metadata": {
    "id": "11477224"
   },
   "source": [
    "#### Create a function called \"custom\" for dropping the columns 'business_code' from train, test and validation dataframe\n",
    "\n",
    "- Note - Fill in the blank to complete the code"
   ]
  },
  {
   "cell_type": "code",
   "execution_count": 65,
   "id": "1052868a",
   "metadata": {
    "id": "1052868a"
   },
   "outputs": [],
   "source": [
    "def custom(col, traindf=X_train, valdf=X_val, testdf=X_test):\n",
    "    traindf.drop(col, axis=1, inplace=True)\n",
    "    valdf.drop(col, axis=1, inplace=True)\n",
    "    testdf.drop(col, axis=1, inplace=True)\n",
    "\n",
    "    return traindf, valdf, testdf"
   ]
  },
  {
   "cell_type": "markdown",
   "id": "rI--ZuMbNLne",
   "metadata": {
    "id": "rI--ZuMbNLne"
   },
   "source": [
    "### Call the function by passing the column name which needed to be dropped from train, test and validation dataframes. Return updated dataframes to be stored in X_train ,X_val, X_test  \n",
    "\n",
    "- Note = Fill in the blank to complete the code "
   ]
  },
  {
   "cell_type": "code",
   "execution_count": 66,
   "id": "1a0f955c",
   "metadata": {
    "id": "1a0f955c"
   },
   "outputs": [],
   "source": [
    "X_train, X_val, X_test = custom(['business_code'])"
   ]
  },
  {
   "cell_type": "markdown",
   "id": "28b5b27e",
   "metadata": {
    "id": "28b5b27e"
   },
   "source": [
    "### Manually replacing str values with numbers, Here we are trying manually replace the customer numbers with some specific values like, 'CCCA' as 1, 'CCU' as 2 and so on. Also we are converting the datatype \"cust_number\" field to int type.\n",
    "\n",
    "- We are doing it for all the three dataframes as shown below. This is fully completed code. No need to modify anything here \n",
    "\n"
   ]
  },
  {
   "cell_type": "code",
   "execution_count": 67,
   "id": "85dd129e",
   "metadata": {
    "id": "85dd129e"
   },
   "outputs": [],
   "source": [
    "X_train['cust_number'] = X_train['cust_number'].str.replace('CCCA', \"1\").str.replace('CCU', \"2\").str.replace('CC',\n",
    "                                                                                                             \"3\").astype(\n",
    "    int)\n",
    "X_test['cust_number'] = X_test['cust_number'].str.replace('CCCA', \"1\").str.replace('CCU', \"2\").str.replace('CC',\n",
    "                                                                                                           \"3\").astype(\n",
    "    int)\n",
    "X_val['cust_number'] = X_val['cust_number'].str.replace('CCCA', \"1\").str.replace('CCU', \"2\").str.replace('CC',\n",
    "                                                                                                         \"3\").astype(\n",
    "    int)\n"
   ]
  },
  {
   "cell_type": "markdown",
   "id": "U8vA-zmdPnJ8",
   "metadata": {
    "id": "U8vA-zmdPnJ8"
   },
   "source": [
    "#### It differs from LabelEncoder by handling new classes and providing a value for it [Unknown]. Unknown will be added in fit and transform will take care of new item. It gives unknown class id.\n",
    "\n",
    "#### This will fit the encoder for all the unique values and introduce unknown value\n",
    "\n",
    "- Note - Keep this code as it is, we will be using this later on.  "
   ]
  },
  {
   "cell_type": "code",
   "execution_count": 68,
   "id": "151f48ba",
   "metadata": {
    "id": "151f48ba"
   },
   "outputs": [],
   "source": [
    "#For encoding unseen labels\n",
    "class EncoderExt(object):\n",
    "    def __init__(self):\n",
    "        self.label_encoder = LabelEncoder()\n",
    "\n",
    "    def fit(self, data_list):\n",
    "        self.label_encoder = self.label_encoder.fit(list(data_list) + ['Unknown'])\n",
    "        self.classes_ = self.label_encoder.classes_\n",
    "        return self\n",
    "\n",
    "    def transform(self, data_list):\n",
    "        new_data_list = list(data_list)\n",
    "        for unique_item in np.unique(data_list):\n",
    "            if unique_item not in self.label_encoder.classes_:\n",
    "                new_data_list = ['Unknown' if x == unique_item else x for x in new_data_list]\n",
    "        return self.label_encoder.transform(new_data_list)"
   ]
  },
  {
   "cell_type": "markdown",
   "id": "254c64e6",
   "metadata": {
    "id": "254c64e6"
   },
   "source": [
    "### Use the user define Label Encoder function called \"EncoderExt\" for the \"name_customer\" column\n",
    "\n",
    "- Note - Keep the code as it is, no need to change"
   ]
  },
  {
   "cell_type": "code",
   "execution_count": 69,
   "id": "62b17eff",
   "metadata": {
    "id": "62b17eff"
   },
   "outputs": [],
   "source": [
    "label_encoder = EncoderExt()\n",
    "label_encoder.fit(X_train['name_customer'])\n",
    "X_train['name_customer_enc'] = label_encoder.transform(X_train['name_customer'])\n",
    "X_val['name_customer_enc'] = label_encoder.transform(X_val['name_customer'])\n",
    "X_test['name_customer_enc'] = label_encoder.transform(X_test['name_customer'])"
   ]
  },
  {
   "cell_type": "markdown",
   "id": "mK7LMoy2QZhy",
   "metadata": {
    "id": "mK7LMoy2QZhy"
   },
   "source": [
    "### As we have created the a new column \"name_customer_enc\", so now drop \"name_customer\" column from all three dataframes\n",
    "\n",
    "- Note - Keep the code as it is, no need to change"
   ]
  },
  {
   "cell_type": "code",
   "execution_count": 70,
   "id": "ef85f1c0",
   "metadata": {
    "id": "ef85f1c0"
   },
   "outputs": [],
   "source": [
    "X_train, X_val, X_test = custom(['name_customer'])"
   ]
  },
  {
   "cell_type": "markdown",
   "id": "3aa09d22",
   "metadata": {
    "id": "3aa09d22"
   },
   "source": [
    "### Using Label Encoder for the \"cust_payment_terms\" column\n",
    "\n",
    "- Note - Keep the code as it is, no need to change"
   ]
  },
  {
   "cell_type": "code",
   "execution_count": 71,
   "id": "6f9ab642",
   "metadata": {
    "id": "6f9ab642"
   },
   "outputs": [],
   "source": [
    "label_encoder1 = EncoderExt()\n",
    "label_encoder1.fit(X_train['cust_payment_terms'])\n",
    "X_train['cust_payment_terms_enc'] = label_encoder1.transform(X_train['cust_payment_terms'])\n",
    "X_val['cust_payment_terms_enc'] = label_encoder1.transform(X_val['cust_payment_terms'])\n",
    "X_test['cust_payment_terms_enc'] = label_encoder1.transform(X_test['cust_payment_terms'])"
   ]
  },
  {
   "cell_type": "code",
   "execution_count": 72,
   "id": "55f9a7c2",
   "metadata": {
    "id": "55f9a7c2"
   },
   "outputs": [],
   "source": [
    "X_train, X_val, X_test = custom(['cust_payment_terms'])"
   ]
  },
  {
   "cell_type": "markdown",
   "id": "0788f42b",
   "metadata": {
    "id": "0788f42b"
   },
   "source": [
    "## Check the datatype of all the columns of Train, Test and Validation dataframes realted to X\n",
    "\n",
    "- Note - You are expected yo use dtype"
   ]
  },
  {
   "cell_type": "code",
   "execution_count": 73,
   "id": "bc79a316",
   "metadata": {
    "id": "bc79a316"
   },
   "outputs": [
    {
     "data": {
      "text/plain": "cust_number                        int32\nbuisness_year                      int64\ndoc_id                             int64\nposting_date              datetime64[ns]\ndue_in_date               datetime64[ns]\nbaseline_create_date      datetime64[ns]\nconverted_usd                    float64\nbusiness_code_enc                  int32\nname_customer_enc                  int32\ncust_payment_terms_enc             int32\ndtype: object"
     },
     "execution_count": 73,
     "metadata": {},
     "output_type": "execute_result"
    }
   ],
   "source": [
    "X_train.dtypes"
   ]
  },
  {
   "cell_type": "code",
   "execution_count": 74,
   "id": "b33242d8",
   "metadata": {
    "id": "b33242d8"
   },
   "outputs": [
    {
     "data": {
      "text/plain": "cust_number                        int32\nbuisness_year                      int64\ndoc_id                             int64\nposting_date              datetime64[ns]\ndue_in_date               datetime64[ns]\nbaseline_create_date      datetime64[ns]\nconverted_usd                    float64\nbusiness_code_enc                  int32\nname_customer_enc                  int32\ncust_payment_terms_enc             int32\ndtype: object"
     },
     "execution_count": 74,
     "metadata": {},
     "output_type": "execute_result"
    }
   ],
   "source": [
    "X_test.dtypes"
   ]
  },
  {
   "cell_type": "code",
   "execution_count": 75,
   "id": "6bd4da71",
   "metadata": {
    "id": "6bd4da71"
   },
   "outputs": [
    {
     "data": {
      "text/plain": "cust_number                        int32\nbuisness_year                      int64\ndoc_id                             int64\nposting_date              datetime64[ns]\ndue_in_date               datetime64[ns]\nbaseline_create_date      datetime64[ns]\nconverted_usd                    float64\nbusiness_code_enc                  int32\nname_customer_enc                  int32\ncust_payment_terms_enc             int32\ndtype: object"
     },
     "execution_count": 75,
     "metadata": {},
     "output_type": "execute_result"
    }
   ],
   "source": [
    "X_val.dtypes"
   ]
  },
  {
   "cell_type": "markdown",
   "id": "LVfvuPiWPeMB",
   "metadata": {
    "id": "LVfvuPiWPeMB"
   },
   "source": [
    "### From the above output you can notice their are multiple date columns with datetime format\n",
    "\n",
    "### In order to pass it into our model, we need to convert it into float format"
   ]
  },
  {
   "cell_type": "markdown",
   "id": "9d344db9",
   "metadata": {
    "id": "9d344db9"
   },
   "source": [
    "### You need to extract day, month and year from the \"posting_date\" column \n",
    "\n",
    "1.   Extract days from \"posting_date\" column and store it into a new column \"day_of_postingdate\" for train, test and validation dataset \n",
    "2.   Extract months from \"posting_date\" column and store it into a new column \"month_of_postingdate\" for train, test and validation dataset\n",
    "3.   Extract year from \"posting_date\" column and store it into a new column \"year_of_postingdate\" for train, test and validation dataset \n",
    "\n",
    "\n",
    "\n",
    "- Note - You are supposed yo use \n",
    "\n",
    "*   dt.day\n",
    "*   dt.month\n",
    "*   dt.year\n",
    "\n",
    "\n",
    "\n",
    "\n"
   ]
  },
  {
   "cell_type": "code",
   "execution_count": 76,
   "id": "6e3cdfd6",
   "metadata": {
    "id": "6e3cdfd6"
   },
   "outputs": [],
   "source": [
    "X_train['day_of_postingdate'] = X_train['posting_date'].dt.day\n",
    "X_train['month_of_postingdate'] = X_train['posting_date'].dt.month\n",
    "X_train['year_of_postingdate'] = X_train['posting_date'].dt.year\n",
    "\n",
    "X_val['day_of_postingdate'] = X_val['posting_date'].dt.day\n",
    "X_val['month_of_postingdate'] = X_val['posting_date'].dt.month\n",
    "X_val['year_of_postingdate'] = X_val['posting_date'].dt.year\n",
    "\n",
    "X_test['day_of_postingdate'] = X_test['posting_date'].dt.day\n",
    "X_test['month_of_postingdate'] = X_test['posting_date'].dt.month\n",
    "X_test['year_of_postingdate'] = X_test['posting_date'].dt.year\n",
    "\n"
   ]
  },
  {
   "cell_type": "markdown",
   "id": "GyI-F853Rxa7",
   "metadata": {
    "id": "GyI-F853Rxa7"
   },
   "source": [
    "### pass the \"posting_date\" column into the Custom function for train, test and validation dataset"
   ]
  },
  {
   "cell_type": "code",
   "execution_count": 77,
   "id": "FQHtQkrnRx_V",
   "metadata": {
    "id": "FQHtQkrnRx_V"
   },
   "outputs": [],
   "source": [
    "X_train, X_val, X_test = custom(['posting_date'])"
   ]
  },
  {
   "cell_type": "markdown",
   "id": "GMnCaEcKReSw",
   "metadata": {
    "id": "GMnCaEcKReSw"
   },
   "source": [
    "### You need to extract day, month and year from the \"baseline_create_date\" column \n",
    "\n",
    "1.   Extract days from \"baseline_create_date\" column and store it into a new column \"day_of_createdate\" for train, test and validation dataset \n",
    "2.   Extract months from \"baseline_create_date\" column and store it into a new column \"month_of_createdate\" for train, test and validation dataset\n",
    "3.   Extract year from \"baseline_create_date\" column and store it into a new column \"year_of_createdate\" for train, test and validation dataset \n",
    "\n",
    "\n",
    "\n",
    "- Note - You are supposed yo use \n",
    "\n",
    "*   dt.day\n",
    "*   dt.month\n",
    "*   dt.year\n",
    "\n",
    "\n",
    "- Note - Do as it is been shown in the previous two code boxes"
   ]
  },
  {
   "cell_type": "markdown",
   "id": "ee4d83d0",
   "metadata": {
    "id": "ee4d83d0"
   },
   "source": [
    "### Extracting Day, Month, Year for 'baseline_create_date' column"
   ]
  },
  {
   "cell_type": "code",
   "execution_count": 78,
   "id": "32b240e1",
   "metadata": {
    "id": "32b240e1"
   },
   "outputs": [],
   "source": [
    "X_train['day_of_createdate'] = X_train['baseline_create_date'].dt.day\n",
    "X_train['month_of_createdate'] = X_train['baseline_create_date'].dt.month\n",
    "X_train['year_of_createdate'] = X_train['baseline_create_date'].dt.year\n",
    "\n",
    "X_val['day_of_createdate'] = X_val['baseline_create_date'].dt.day\n",
    "X_val['month_of_createdate'] = X_val['baseline_create_date'].dt.month\n",
    "X_val['year_of_createdate'] = X_val['baseline_create_date'].dt.year\n",
    "\n",
    "X_test['day_of_createdate'] = X_test['baseline_create_date'].dt.day\n",
    "X_test['month_of_createdate'] = X_test['baseline_create_date'].dt.month\n",
    "X_test['year_of_createdate'] = X_test['baseline_create_date'].dt.year"
   ]
  },
  {
   "cell_type": "markdown",
   "id": "cFgwkS5rSDDs",
   "metadata": {
    "id": "cFgwkS5rSDDs"
   },
   "source": [
    "### pass the \"baseline_create_date\" column into the Custom function for train, test and validation dataset"
   ]
  },
  {
   "cell_type": "code",
   "execution_count": 79,
   "id": "RGYa2BEQSDg3",
   "metadata": {
    "id": "RGYa2BEQSDg3"
   },
   "outputs": [],
   "source": [
    "X_train, X_val, X_test = custom(['baseline_create_date'])"
   ]
  },
  {
   "cell_type": "markdown",
   "id": "77c7a0df",
   "metadata": {
    "id": "77c7a0df"
   },
   "source": [
    "### You need to extract day, month and year from the \"due_in_date\" column \n",
    "\n",
    "1.   Extract days from \"due_in_date\" column and store it into a new column \"day_of_due\" for train, test and validation dataset \n",
    "2.   Extract months from \"due_in_date\" column and store it into a new column \"month_of_due\" for train, test and validation dataset\n",
    "3.   Extract year from \"due_in_date\" column and store it into a new column \"year_of_due\" for train, test and validation dataset \n",
    "\n",
    "\n",
    "\n",
    "- Note - You are supposed yo use \n",
    "\n",
    "*   dt.day\n",
    "*   dt.month\n",
    "*   dt.year\n",
    "\n",
    "- Note - Do as it is been shown in the previous code"
   ]
  },
  {
   "cell_type": "code",
   "execution_count": 80,
   "id": "5c745547",
   "metadata": {
    "id": "5c745547"
   },
   "outputs": [],
   "source": [
    "X_train['day_of_due_in_date'] = X_train['due_in_date'].dt.day\n",
    "X_train['month_of_due_in_date'] = X_train['due_in_date'].dt.month\n",
    "X_train['year_of_due_in_date'] = X_train['due_in_date'].dt.year\n",
    "\n",
    "X_val['day_of_due_in_date'] = X_val['due_in_date'].dt.day\n",
    "X_val['month_of_due_in_date'] = X_val['due_in_date'].dt.month\n",
    "X_val['year_of_due_in_date'] = X_val['due_in_date'].dt.year\n",
    "\n",
    "X_test['day_of_due_in_date'] = X_test['due_in_date'].dt.day\n",
    "X_test['month_of_due_in_date'] = X_test['due_in_date'].dt.month\n",
    "X_test['year_of_due_in_date'] = X_test['due_in_date'].dt.year"
   ]
  },
  {
   "cell_type": "markdown",
   "id": "FYLLzulGSvRd",
   "metadata": {
    "id": "FYLLzulGSvRd"
   },
   "source": [
    "pass the \"due_in_date\" column into the Custom function for train, test and validation dataset"
   ]
  },
  {
   "cell_type": "code",
   "execution_count": 81,
   "id": "1-s6QuY9Svrh",
   "metadata": {
    "id": "1-s6QuY9Svrh"
   },
   "outputs": [],
   "source": [
    "X_train, X_val, X_test = custom(['due_in_date'])"
   ]
  },
  {
   "cell_type": "markdown",
   "id": "1ae5d052",
   "metadata": {
    "id": "1ae5d052"
   },
   "source": [
    "### Check for the datatypes for train, test and validation set again\n",
    "\n",
    "- Note - all the data type should be in either int64 or float64 format \n"
   ]
  },
  {
   "cell_type": "code",
   "execution_count": 82,
   "id": "aee9d828",
   "metadata": {
    "id": "aee9d828"
   },
   "outputs": [
    {
     "data": {
      "text/plain": "(cust_number                 int32\n buisness_year               int64\n doc_id                      int64\n converted_usd             float64\n business_code_enc           int32\n name_customer_enc           int32\n cust_payment_terms_enc      int32\n day_of_postingdate          int64\n month_of_postingdate        int64\n year_of_postingdate         int64\n day_of_createdate           int64\n month_of_createdate         int64\n year_of_createdate          int64\n day_of_due_in_date          int64\n month_of_due_in_date        int64\n year_of_due_in_date         int64\n dtype: object,\n cust_number                 int32\n buisness_year               int64\n doc_id                      int64\n converted_usd             float64\n business_code_enc           int32\n name_customer_enc           int32\n cust_payment_terms_enc      int32\n day_of_postingdate          int64\n month_of_postingdate        int64\n year_of_postingdate         int64\n day_of_createdate           int64\n month_of_createdate         int64\n year_of_createdate          int64\n day_of_due_in_date          int64\n month_of_due_in_date        int64\n year_of_due_in_date         int64\n dtype: object,\n cust_number                 int32\n buisness_year               int64\n doc_id                      int64\n converted_usd             float64\n business_code_enc           int32\n name_customer_enc           int32\n cust_payment_terms_enc      int32\n day_of_postingdate          int64\n month_of_postingdate        int64\n year_of_postingdate         int64\n day_of_createdate           int64\n month_of_createdate         int64\n year_of_createdate          int64\n day_of_due_in_date          int64\n month_of_due_in_date        int64\n year_of_due_in_date         int64\n dtype: object)"
     },
     "execution_count": 82,
     "metadata": {},
     "output_type": "execute_result"
    }
   ],
   "source": [
    "X_train.dtypes, X_test.dtypes, X_val.dtypes"
   ]
  },
  {
   "cell_type": "markdown",
   "id": "65810f55",
   "metadata": {
    "id": "65810f55"
   },
   "source": [
    "# Feature Selection"
   ]
  },
  {
   "cell_type": "markdown",
   "id": "4bb1ad9f",
   "metadata": {
    "id": "4bb1ad9f"
   },
   "source": [
    "### Filter Method\n",
    "\n",
    "- Calling the VarianceThreshold Function \n",
    "- Note - Keep the code as it is, no need to change "
   ]
  },
  {
   "cell_type": "code",
   "execution_count": 83,
   "id": "e882509f",
   "metadata": {
    "id": "e882509f"
   },
   "outputs": [
    {
     "data": {
      "text/plain": "16"
     },
     "execution_count": 83,
     "metadata": {},
     "output_type": "execute_result"
    }
   ],
   "source": [
    "from sklearn.feature_selection import VarianceThreshold\n",
    "\n",
    "constant_filter = VarianceThreshold(threshold=0)\n",
    "constant_filter.fit(X_train)\n",
    "len(X_train.columns[constant_filter.get_support()])"
   ]
  },
  {
   "cell_type": "markdown",
   "id": "V9531H3jR-W2",
   "metadata": {
    "id": "V9531H3jR-W2"
   },
   "source": [
    "- Note - Keep the code as it is, no need to change \n"
   ]
  },
  {
   "cell_type": "code",
   "execution_count": 84,
   "id": "c77c12e1",
   "metadata": {
    "id": "c77c12e1"
   },
   "outputs": [
    {
     "name": "stdout",
     "output_type": "stream",
     "text": [
      "0\n"
     ]
    }
   ],
   "source": [
    "constant_columns = [column for column in X_train.columns\n",
    "                    if column not in X_train.columns[constant_filter.get_support()]]\n",
    "print(len(constant_columns))"
   ]
  },
  {
   "cell_type": "markdown",
   "id": "6d9b8610",
   "metadata": {
    "id": "6d9b8610"
   },
   "source": [
    "- transpose the feature matrice\n",
    "- print the number of duplicated features\n",
    "- select the duplicated features columns names\n",
    "\n",
    "- Note - Keep the code as it is, no need to change \n"
   ]
  },
  {
   "cell_type": "code",
   "execution_count": 85,
   "id": "0fb7db95",
   "metadata": {
    "id": "0fb7db95"
   },
   "outputs": [
    {
     "name": "stdout",
     "output_type": "stream",
     "text": [
      "0\n"
     ]
    }
   ],
   "source": [
    "x_train_T = X_train.T\n",
    "print(x_train_T.duplicated().sum())\n",
    "duplicated_columns = x_train_T[x_train_T.duplicated()].index.values"
   ]
  },
  {
   "cell_type": "markdown",
   "id": "510fa831",
   "metadata": {
    "id": "510fa831"
   },
   "source": [
    "### Filtering depending upon correlation matrix value\n",
    "- We have created a function called handling correlation which is going to return fields based on the correlation matrix value with a threshold of 0.8\n",
    "\n",
    "- Note - Keep the code as it is, no need to change "
   ]
  },
  {
   "cell_type": "code",
   "execution_count": 86,
   "id": "67731abc",
   "metadata": {
    "id": "67731abc"
   },
   "outputs": [],
   "source": [
    "def handling_correlation(X_train, threshold=0.8):\n",
    "    corr_features = set()\n",
    "    corr_matrix = X_train.corr()\n",
    "    for i in range(len(corr_matrix.columns)):\n",
    "        for j in range(i):\n",
    "            if abs(corr_matrix.iloc[i, j]) > threshold:\n",
    "                colname = corr_matrix.columns[i]\n",
    "                corr_features.add(colname)\n",
    "    return list(corr_features)"
   ]
  },
  {
   "cell_type": "markdown",
   "id": "JaE_6qVgSXl3",
   "metadata": {
    "id": "JaE_6qVgSXl3"
   },
   "source": [
    "- Note : Here we are trying to find out the relevant fields, from X_train\n",
    "- Please fill in the blanks to call handling_correlation() function with a threshold value of 0.85"
   ]
  },
  {
   "cell_type": "code",
   "execution_count": 87,
   "id": "dd91d1a2",
   "metadata": {
    "id": "dd91d1a2"
   },
   "outputs": [
    {
     "data": {
      "text/plain": "['month_of_due_in_date',\n 'day_of_createdate',\n 'year_of_due_in_date',\n 'year_of_postingdate',\n 'year_of_createdate']"
     },
     "execution_count": 87,
     "metadata": {},
     "output_type": "execute_result"
    }
   ],
   "source": [
    "train = X_train.copy()\n",
    "handling_correlation(train.copy(), 0.85)"
   ]
  },
  {
   "cell_type": "markdown",
   "id": "154da511",
   "metadata": {
    "id": "154da511"
   },
   "source": [
    "### Heatmap for X_train\n",
    "\n",
    "- Note - Keep the code as it is, no need to change"
   ]
  },
  {
   "cell_type": "code",
   "execution_count": 88,
   "id": "2e8f2fe4",
   "metadata": {
    "id": "2e8f2fe4"
   },
   "outputs": [
    {
     "data": {
      "text/plain": "<AxesSubplot:title={'center':'Pearson Correlation of Features'}>"
     },
     "execution_count": 88,
     "metadata": {},
     "output_type": "execute_result"
    },
    {
     "data": {
      "text/plain": "<Figure size 1008x864 with 2 Axes>",
      "image/png": "[encoded data removed]"
     },
     "metadata": {
      "needs_background": "light"
     },
     "output_type": "display_data"
    }
   ],
   "source": [
    "colormap = plt.cm.RdBu\n",
    "plt.figure(figsize=(14, 12))\n",
    "plt.title('Pearson Correlation of Features', y=1.05, size=20)\n",
    "sns.heatmap(X_train.merge(y_train, on=X_train.index).corr(), linewidths=0.1, vmax=1.0,\n",
    "            square=True, cmap='gist_rainbow_r', linecolor='white', annot=True)"
   ]
  },
  {
   "cell_type": "markdown",
   "id": "e3b0d745",
   "metadata": {
    "id": "e3b0d745"
   },
   "source": [
    "#### Calling variance threshold for threshold value = 0.8\n",
    "\n",
    "- Note -  Fill in the blanks to call the appropriate method"
   ]
  },
  {
   "cell_type": "code",
   "execution_count": 89,
   "id": "a9b2080f",
   "metadata": {
    "id": "a9b2080f"
   },
   "outputs": [
    {
     "data": {
      "text/plain": "VarianceThreshold(threshold=0.8)"
     },
     "execution_count": 89,
     "metadata": {},
     "output_type": "execute_result"
    }
   ],
   "source": [
    "from sklearn.feature_selection import VarianceThreshold\n",
    "\n",
    "sel = VarianceThreshold(0.8)\n",
    "sel.fit(X_train)"
   ]
  },
  {
   "cell_type": "code",
   "execution_count": 90,
   "id": "6cb8c3dc",
   "metadata": {
    "id": "6cb8c3dc"
   },
   "outputs": [
    {
     "data": {
      "text/plain": "array([1.77968046e+15, 1.15587445e-01, 8.22821720e+16, 1.32747296e+09,\n       2.85819575e-01, 1.06652270e+06, 1.27594293e+02, 8.19440549e+01,\n       1.19592468e+01, 1.15994442e-01, 7.74177428e+01, 1.23264306e+01,\n       1.16103329e-01, 7.61711013e+01, 1.21357590e+01, 1.18907239e-01])"
     },
     "execution_count": 90,
     "metadata": {},
     "output_type": "execute_result"
    }
   ],
   "source": [
    "sel.variances_"
   ]
  },
  {
   "cell_type": "markdown",
   "id": "62633a84",
   "metadata": {
    "id": "62633a84"
   },
   "source": [
    "### Features columns are \n",
    "- 'year_of_createdate' \n",
    "- 'year_of_due'\n",
    "- 'day_of_createdate'\n",
    "- 'year_of_postingdate'\n",
    "- 'month_of_due'\n",
    "- 'month_of_createdate'"
   ]
  },
  {
   "cell_type": "markdown",
   "id": "651f1ad0",
   "metadata": {
    "id": "651f1ad0"
   },
   "source": [
    "# Modelling \n",
    "\n",
    "#### Now you need to compare with different machine learning models, and needs to find out the best predicted model\n",
    "\n",
    "- Linear Regression\n",
    "- Decision Tree Regression\n",
    "- Random Forest Regression\n",
    "- Support Vector Regression\n",
    "- Extreme Gradient Boost Regression "
   ]
  },
  {
   "cell_type": "markdown",
   "id": "PicEhSuUUOkt",
   "metadata": {
    "id": "PicEhSuUUOkt"
   },
   "source": [
    "### You need to make different blank list for different evaluation matrix \n",
    "\n",
    "- MSE\n",
    "- R2\n",
    "- Algorithm"
   ]
  },
  {
   "cell_type": "code",
   "execution_count": 91,
   "id": "701e12b0",
   "metadata": {
    "id": "701e12b0"
   },
   "outputs": [],
   "source": [
    "MSE_Score = []\n",
    "R2_Score = []\n",
    "Algorithm = []\n",
    "from sklearn.metrics import mean_squared_error\n",
    "from sklearn.metrics import r2_score"
   ]
  },
  {
   "cell_type": "markdown",
   "id": "29310119",
   "metadata": {
    "id": "29310119"
   },
   "source": [
    "### You need to start with the baseline model Linear Regression\n",
    "\n",
    "- Step 1 : Call the Linear Regression from sklearn library\n",
    "- Step 2 : make an object of Linear Regression \n",
    "- Step 3 : fit the X_train and y_train dataframe into the object \n",
    "- Step 4 : Predict the output by passing the X_test Dataset into predict function\n",
    "\n",
    "\n",
    "\n",
    "\n",
    "- Note - Append the Algorithm name into the algorithm list for tracking purpose"
   ]
  },
  {
   "cell_type": "code",
   "execution_count": 92,
   "id": "6bdea395",
   "metadata": {
    "id": "6bdea395"
   },
   "outputs": [],
   "source": [
    "from sklearn.linear_model import LinearRegression\n",
    "\n",
    "Algorithm.append('LinearRegression')\n",
    "regressor_lr = LinearRegression()\n",
    "regressor_lr.fit(X_train, y_train)\n",
    "predicted = regressor_lr.predict(X_test)"
   ]
  },
  {
   "cell_type": "markdown",
   "id": "G02cpnBhXJ14",
   "metadata": {
    "id": "G02cpnBhXJ14"
   },
   "source": [
    "### Check for the \n",
    "\n",
    "- Mean Square Error\n",
    "- R Square Error \n",
    "\n",
    "for y_test and predicted dataset and store those data inside respective list for comparison "
   ]
  },
  {
   "cell_type": "code",
   "execution_count": 93,
   "id": "0f69ca19",
   "metadata": {
    "id": "0f69ca19"
   },
   "outputs": [],
   "source": [
    "\n",
    "\n",
    "MSE_Score.append(mean_squared_error(y_test, predicted))\n",
    "R2_Score.append(r2_score(y_test, predicted))"
   ]
  },
  {
   "cell_type": "markdown",
   "id": "CsmScbHjYMv1",
   "metadata": {
    "id": "CsmScbHjYMv1"
   },
   "source": [
    "### Check the same for the Validation set also "
   ]
  },
  {
   "cell_type": "code",
   "execution_count": 94,
   "id": "fe653295",
   "metadata": {
    "colab": {
     "base_uri": "https://localhost:8080/"
    },
    "executionInfo": {
     "elapsed": 10,
     "status": "ok",
     "timestamp": 1643093994094,
     "user": {
      "displayName": "Chandramouli Das",
      "photoUrl": "https://lh3.googleusercontent.com/a-/AOh14GgsMuDXf6PZsS77v0Q5x8metxFPnlLXsBC6Y3O7=s64",
      "userId": "13777762579346461395"
     },
     "user_tz": -330
    },
    "id": "fe653295",
    "outputId": "0c7429ca-50d0-42a2-96a1-effaa92f549e"
   },
   "outputs": [
    {
     "data": {
      "text/plain": "2452013.3265379453"
     },
     "execution_count": 94,
     "metadata": {},
     "output_type": "execute_result"
    }
   ],
   "source": [
    "predict_test = regressor_lr.predict(X_val)\n",
    "mean_squared_error(y_val, predict_test, squared=False)"
   ]
  },
  {
   "cell_type": "markdown",
   "id": "LokxV2LGYUVh",
   "metadata": {
    "id": "LokxV2LGYUVh"
   },
   "source": [
    "### Display The Comparison Lists"
   ]
  },
  {
   "cell_type": "code",
   "execution_count": 95,
   "id": "9c405bd3",
   "metadata": {
    "colab": {
     "base_uri": "https://localhost:8080/"
    },
    "executionInfo": {
     "elapsed": 8,
     "status": "ok",
     "timestamp": 1643093994095,
     "user": {
      "displayName": "Chandramouli Das",
      "photoUrl": "https://lh3.googleusercontent.com/a-/AOh14GgsMuDXf6PZsS77v0Q5x8metxFPnlLXsBC6Y3O7=s64",
      "userId": "13777762579346461395"
     },
     "user_tz": -330
    },
    "id": "9c405bd3",
    "outputId": "9d78f4a9-33fc-48d1-edc8-c997eca38de0"
   },
   "outputs": [
    {
     "name": "stdout",
     "output_type": "stream",
     "text": [
      "['LinearRegression'],[5710266556914.443],[0.041190823113051334],"
     ]
    }
   ],
   "source": [
    "for i in Algorithm, MSE_Score, R2_Score:\n",
    "    print(i, end=',')"
   ]
  },
  {
   "cell_type": "markdown",
   "id": "b0e65c86",
   "metadata": {
    "id": "b0e65c86"
   },
   "source": [
    "### You need to start with the baseline model Support Vector Regression\n",
    "\n",
    "- Step 1 : Call the Support Vector Regressor from sklearn library\n",
    "- Step 2 : make an object of SVR\n",
    "- Step 3 : fit the X_train and y_train dataframe into the object \n",
    "- Step 4 : Predict the output by passing the X_test Dataset into predict function\n",
    "\n",
    "\n",
    "\n",
    "\n",
    "- Note - Append the Algorithm name into the algorithm list for tracking purpose"
   ]
  },
  {
   "cell_type": "code",
   "execution_count": 96,
   "id": "ccb5de08",
   "metadata": {
    "id": "ccb5de08"
   },
   "outputs": [],
   "source": [
    "Algorithm.append('Random Forest Regression')\n",
    "from sklearn.svm import SVR\n",
    "\n",
    "model = SVR()\n",
    "model.fit(X_train, y_train)\n",
    "predicted = model.predict(X_test)"
   ]
  },
  {
   "cell_type": "markdown",
   "id": "zz9kcrViYt7e",
   "metadata": {
    "id": "zz9kcrViYt7e"
   },
   "source": [
    "### Check for the \n",
    "\n",
    "- Mean Square Error\n",
    "- R Square Error \n",
    "\n",
    "for \"y_test\" and \"predicted\" dataset and store those data inside respective list for comparison "
   ]
  },
  {
   "cell_type": "code",
   "execution_count": 97,
   "id": "5bb9db76",
   "metadata": {
    "id": "5bb9db76"
   },
   "outputs": [],
   "source": [
    "MSE_Score.append(mean_squared_error(y_test, predicted))\n",
    "R2_Score.append(r2_score(y_test, predicted))"
   ]
  },
  {
   "cell_type": "markdown",
   "id": "0YAxd8N9Y0hJ",
   "metadata": {
    "id": "0YAxd8N9Y0hJ"
   },
   "source": [
    "### Check the same for the Validation set also "
   ]
  },
  {
   "cell_type": "code",
   "execution_count": 98,
   "id": "d6ee71b1",
   "metadata": {
    "id": "d6ee71b1"
   },
   "outputs": [
    {
     "data": {
      "text/plain": "6366502333492.721"
     },
     "execution_count": 98,
     "metadata": {},
     "output_type": "execute_result"
    }
   ],
   "source": [
    "predict_val = model.predict(X_test)\n",
    "mean_squared_error(y_val, predict_val)"
   ]
  },
  {
   "cell_type": "markdown",
   "id": "eGcqS5EcY4BI",
   "metadata": {
    "id": "eGcqS5EcY4BI"
   },
   "source": [
    "### Display The Comparison Lists"
   ]
  },
  {
   "cell_type": "code",
   "execution_count": 99,
   "id": "aa72c1ec",
   "metadata": {
    "id": "aa72c1ec"
   },
   "outputs": [
    {
     "name": "stdout",
     "output_type": "stream",
     "text": [
      "['LinearRegression', 'Random Forest Regression'],[5710266556914.443, 5967381623177.835],[0.041190823113051334, -0.001981291987376732],"
     ]
    }
   ],
   "source": [
    "for i in Algorithm, MSE_Score, R2_Score:\n",
    "    print(i, end=',')"
   ]
  },
  {
   "cell_type": "markdown",
   "id": "dad18bb3",
   "metadata": {
    "id": "dad18bb3"
   },
   "source": [
    "### Your next model would be Decision Tree Regression\n",
    "\n",
    "- Step 1 : Call the Decision Tree Regressor from sklearn library\n",
    "- Step 2 : make an object of Decision Tree\n",
    "- Step 3 : fit the X_train and y_train dataframe into the object \n",
    "- Step 4 : Predict the output by passing the X_test Dataset into predict function\n",
    "\n",
    "\n",
    "\n",
    "\n",
    "- Note - Append the Algorithm name into the algorithm list for tracking purpose"
   ]
  },
  {
   "cell_type": "code",
   "execution_count": 100,
   "id": "1b6a51eb",
   "metadata": {
    "id": "1b6a51eb"
   },
   "outputs": [],
   "source": [
    "from sklearn.tree import DecisionTreeRegressor\n",
    "\n",
    "Algorithm.append('Desision Tree Regression ')\n",
    "model1 = DecisionTreeRegressor()\n",
    "model1.fit(X_train, y_train)\n",
    "predict_DT = model.predict(X_test)"
   ]
  },
  {
   "cell_type": "markdown",
   "id": "AOzfgfeOZo3F",
   "metadata": {
    "id": "AOzfgfeOZo3F"
   },
   "source": [
    "### Check for the \n",
    "\n",
    "- Mean Square Error\n",
    "- R Square Error \n",
    "\n",
    "for y_test and predicted dataset and store those data inside respective list for comparison "
   ]
  },
  {
   "cell_type": "code",
   "execution_count": 101,
   "id": "776e6983",
   "metadata": {
    "id": "776e6983"
   },
   "outputs": [],
   "source": [
    "MSE_Score.append(mean_squared_error(y_test, predict_DT))\n",
    "R2_Score.append(r2_score(y_test, predict_DT))"
   ]
  },
  {
   "cell_type": "markdown",
   "id": "eI6d49DQZrhW",
   "metadata": {
    "id": "eI6d49DQZrhW"
   },
   "source": [
    "### Check the same for the Validation set also "
   ]
  },
  {
   "cell_type": "code",
   "execution_count": 102,
   "id": "155fb55c",
   "metadata": {
    "id": "155fb55c"
   },
   "outputs": [
    {
     "data": {
      "text/plain": "6366502333492.721"
     },
     "execution_count": 102,
     "metadata": {},
     "output_type": "execute_result"
    }
   ],
   "source": [
    "predict_val_RT = model1.predict(X_test)\n",
    "mean_squared_error(y_val, predict_DT)"
   ]
  },
  {
   "cell_type": "markdown",
   "id": "sbGXvBLQZw5E",
   "metadata": {
    "id": "sbGXvBLQZw5E"
   },
   "source": [
    "### Display The Comparison Lists"
   ]
  },
  {
   "cell_type": "code",
   "execution_count": 103,
   "id": "1d74d515",
   "metadata": {
    "id": "1d74d515"
   },
   "outputs": [
    {
     "name": "stdout",
     "output_type": "stream",
     "text": [
      "['LinearRegression', 'Random Forest Regression', 'Desision Tree Regression '],[5710266556914.443, 5967381623177.835, 5967381623177.835],[0.041190823113051334, -0.001981291987376732, -0.001981291987376732],"
     ]
    }
   ],
   "source": [
    "for i in Algorithm, MSE_Score, R2_Score:\n",
    "    print(i, end=',')"
   ]
  },
  {
   "cell_type": "markdown",
   "id": "4ae9979b",
   "metadata": {
    "id": "4ae9979b"
   },
   "source": [
    "### Your next model would be Random Forest Regression\n",
    "\n",
    "- Step 1 : Call the Random Forest Regressor from sklearn library\n",
    "- Step 2 : make an object of Random Forest\n",
    "- Step 3 : fit the X_train and y_train dataframe into the object \n",
    "- Step 4 : Predict the output by passing the X_test Dataset into predict function\n",
    "\n",
    "\n",
    "\n",
    "\n",
    "- Note - Append the Algorithm name into the algorithm list for tracking purpose"
   ]
  },
  {
   "cell_type": "code",
   "execution_count": 104,
   "id": "a69e476a",
   "metadata": {
    "id": "a69e476a"
   },
   "outputs": [],
   "source": [
    "from sklearn.ensemble import RandomForestRegressor\n",
    "\n",
    "model_RF = RandomForestRegressor(max_leaf_nodes=10)\n",
    "model_RF.fit(X_train, y_train)\n",
    "predict_RF = model_RF.predict(X_test)"
   ]
  },
  {
   "cell_type": "markdown",
   "id": "XNcEJF-6anof",
   "metadata": {
    "id": "XNcEJF-6anof"
   },
   "source": [
    "### Check for the \n",
    "\n",
    "- Mean Square Error\n",
    "- R Square Error \n",
    "\n",
    "for y_test and predicted dataset and store those data inside respective list for comparison "
   ]
  },
  {
   "cell_type": "code",
   "execution_count": 105,
   "id": "826f63f4",
   "metadata": {
    "id": "826f63f4"
   },
   "outputs": [],
   "source": [
    "MSE_Score.append(mean_squared_error(y_test, predict_RF))\n",
    "R2_Score.append(r2_score(y_test, predict_RF))"
   ]
  },
  {
   "cell_type": "markdown",
   "id": "yMbyr9V4ati1",
   "metadata": {
    "id": "yMbyr9V4ati1"
   },
   "source": [
    "### Check the same for the Validation set also "
   ]
  },
  {
   "cell_type": "code",
   "execution_count": 106,
   "id": "55b9fb54",
   "metadata": {
    "id": "55b9fb54"
   },
   "outputs": [
    {
     "data": {
      "text/plain": "6893139617895.2705"
     },
     "execution_count": 106,
     "metadata": {},
     "output_type": "execute_result"
    }
   ],
   "source": [
    "predict_val_RF = model_RF.predict(X_test)\n",
    "mean_squared_error(y_val, predict_RF)"
   ]
  },
  {
   "cell_type": "markdown",
   "id": "tiBawcCsaw_Z",
   "metadata": {
    "id": "tiBawcCsaw_Z"
   },
   "source": [
    "### Display The Comparison Lists\n"
   ]
  },
  {
   "cell_type": "code",
   "execution_count": 107,
   "id": "8277c13e",
   "metadata": {
    "id": "8277c13e"
   },
   "outputs": [
    {
     "name": "stdout",
     "output_type": "stream",
     "text": [
      "['LinearRegression', 'Random Forest Regression', 'Desision Tree Regression '],[5710266556914.443, 5967381623177.835, 5967381623177.835, 5431167158224.611],[0.041190823113051334, -0.001981291987376732, -0.001981291987376732, 0.08805432100062449],"
     ]
    }
   ],
   "source": [
    "for i in Algorithm, MSE_Score, R2_Score:\n",
    "    print(i, end=',')"
   ]
  },
  {
   "cell_type": "markdown",
   "id": "e6b21881",
   "metadata": {
    "id": "e6b21881"
   },
   "source": [
    "### The last but not the least model would be XGBoost or Extreme Gradient Boost Regression\n",
    "\n",
    "- Step 1 : Call the XGBoost Regressor from xgb library\n",
    "- Step 2 : make an object of Xgboost\n",
    "- Step 3 : fit the X_train and y_train dataframe into the object \n",
    "- Step 4 : Predict the output by passing the X_test Dataset into predict function\n",
    "\n",
    "\n",
    "\n",
    "\n",
    "- Note - Append the Algorithm name into the algorithm list for tracking purpose### Extreme Gradient Boost Regression\n",
    "- Note -  No need to change the code "
   ]
  },
  {
   "cell_type": "code",
   "execution_count": 108,
   "id": "705a38ec",
   "metadata": {
    "id": "705a38ec"
   },
   "outputs": [],
   "source": [
    "import xgboost as xgb\n",
    "\n",
    "Algorithm.append('XGB Regressor')\n",
    "regressor = xgb.XGBRegressor()\n",
    "regressor.fit(X_train, y_train)\n",
    "predicted = regressor.predict(X_test)"
   ]
  },
  {
   "cell_type": "markdown",
   "id": "ierNZkb9bQDD",
   "metadata": {
    "id": "ierNZkb9bQDD"
   },
   "source": [
    "### Check for the \n",
    "\n",
    "- Mean Square Error\n",
    "- R Square Error \n",
    "\n",
    "for y_test and predicted dataset and store those data inside respective list for comparison "
   ]
  },
  {
   "cell_type": "code",
   "execution_count": 109,
   "id": "507a9d2f",
   "metadata": {
    "id": "507a9d2f"
   },
   "outputs": [],
   "source": [
    "MSE_Score.append(mean_squared_error(y_test, predicted))\n",
    "R2_Score.append(r2_score(y_test, predicted))"
   ]
  },
  {
   "cell_type": "markdown",
   "id": "84UZ2ojsbWaH",
   "metadata": {
    "id": "84UZ2ojsbWaH"
   },
   "source": [
    "### Check the same for the Validation set also "
   ]
  },
  {
   "cell_type": "code",
   "execution_count": 110,
   "id": "e78ac250",
   "metadata": {
    "id": "e78ac250"
   },
   "outputs": [
    {
     "data": {
      "text/plain": "6893139617895.2705"
     },
     "execution_count": 110,
     "metadata": {},
     "output_type": "execute_result"
    }
   ],
   "source": [
    "predict_val_Xb = model_RF.predict(X_test)\n",
    "mean_squared_error(y_val, predict_val_Xb)"
   ]
  },
  {
   "cell_type": "markdown",
   "id": "9FJFyaVbbbAH",
   "metadata": {
    "id": "9FJFyaVbbbAH"
   },
   "source": [
    "### Display The Comparison Lists\n"
   ]
  },
  {
   "cell_type": "code",
   "execution_count": 111,
   "id": "f765ba35",
   "metadata": {
    "id": "f765ba35"
   },
   "outputs": [
    {
     "name": "stdout",
     "output_type": "stream",
     "text": [
      "['LinearRegression', 'Random Forest Regression', 'Desision Tree Regression ', 'XGB Regressor'],[5710266556914.443, 5967381623177.835, 5967381623177.835, 5431167158224.611, 4851532428584.986],[0.041190823113051334, -0.001981291987376732, -0.001981291987376732, 0.08805432100062449, 0.18538061785237148],"
     ]
    }
   ],
   "source": [
    "for i in Algorithm, MSE_Score, R2_Score:\n",
    "    print(i, end=',')"
   ]
  },
  {
   "cell_type": "markdown",
   "id": "a71bc90f",
   "metadata": {
    "id": "a71bc90f"
   },
   "source": [
    "## You need to make the comparison list into a comparison dataframe "
   ]
  },
  {
   "cell_type": "code",
   "execution_count": 112,
   "id": "ff5159a7",
   "metadata": {
    "id": "ff5159a7"
   },
   "outputs": [
    {
     "data": {
      "text/plain": "                   Algorithm     MSE_Score  R2_score\n0           LinearRegression  5.710267e+12  0.041191\n1   Random Forest Regression  5.967382e+12 -0.001981\n2  Desision Tree Regression   5.967382e+12 -0.001981\n3              XGB Regressor  5.431167e+12  0.088054",
      "text/html": "<div>\n<style scoped>\n    .dataframe tbody tr th:only-of-type {\n        vertical-align: middle;\n    }\n\n    .dataframe tbody tr th {\n        vertical-align: top;\n    }\n\n    .dataframe thead th {\n        text-align: right;\n    }\n</style>\n<table border=\"1\" class=\"dataframe\">\n  <thead>\n    <tr style=\"text-align: right;\">\n      <th></th>\n      <th>Algorithm</th>\n      <th>MSE_Score</th>\n      <th>R2_score</th>\n    </tr>\n  </thead>\n  <tbody>\n    <tr>\n      <th>0</th>\n      <td>LinearRegression</td>\n      <td>5.710267e+12</td>\n      <td>0.041191</td>\n    </tr>\n    <tr>\n      <th>1</th>\n      <td>Random Forest Regression</td>\n      <td>5.967382e+12</td>\n      <td>-0.001981</td>\n    </tr>\n    <tr>\n      <th>2</th>\n      <td>Desision Tree Regression</td>\n      <td>5.967382e+12</td>\n      <td>-0.001981</td>\n    </tr>\n    <tr>\n      <th>3</th>\n      <td>XGB Regressor</td>\n      <td>5.431167e+12</td>\n      <td>0.088054</td>\n    </tr>\n  </tbody>\n</table>\n</div>"
     },
     "execution_count": 112,
     "metadata": {},
     "output_type": "execute_result"
    }
   ],
   "source": [
    "comparision = pd.DataFrame(list(zip(Algorithm, MSE_Score, R2_Score)), columns=[\"Algorithm\", \"MSE_Score\", \"R2_score\"])\n",
    "comparision"
   ]
  },
  {
   "cell_type": "markdown",
   "id": "62e61c60",
   "metadata": {
    "id": "62e61c60"
   },
   "source": [
    "## Now from the Comparison table, you need to choose the best fit model\n",
    "\n",
    "- Step 1 - Fit X_train and y_train inside the model \n",
    "- Step 2 - Predict the X_test dataset\n",
    "- Step 3 - Predict the X_val dataset\n",
    "\n",
    "\n",
    "- Note - No need to change the code"
   ]
  },
  {
   "cell_type": "code",
   "execution_count": 113,
   "id": "3e07c258",
   "metadata": {
    "id": "3e07c258"
   },
   "outputs": [
    {
     "data": {
      "text/plain": "XGBRegressor(base_score=0.5, booster='gbtree', colsample_bylevel=1,\n             colsample_bynode=1, colsample_bytree=1, enable_categorical=False,\n             gamma=0, gpu_id=-1, importance_type=None,\n             interaction_constraints='', learning_rate=0.300000012,\n             max_delta_step=0, max_depth=6, min_child_weight=1, missing=nan,\n             monotone_constraints='()', n_estimators=100, n_jobs=4,\n             num_parallel_tree=1, predictor='auto', random_state=0, reg_alpha=0,\n             reg_lambda=1, scale_pos_weight=1, subsample=1, tree_method='exact',\n             validate_parameters=1, verbosity=None)"
     },
     "execution_count": 113,
     "metadata": {},
     "output_type": "execute_result"
    }
   ],
   "source": [
    "regressorfinal = xgb.XGBRegressor()\n",
    "regressorfinal.fit(X_train, y_train)"
   ]
  },
  {
   "cell_type": "markdown",
   "source": [
    "## Save the model to disk (.sav) using Pickle\n",
    "\n",
    "> The created model.sav would be then consumed by the flask service."
   ],
   "metadata": {
    "collapsed": false
   }
  },
  {
   "cell_type": "code",
   "execution_count": 114,
   "outputs": [],
   "source": [
    "import pickle\n",
    "\n",
    "filename = './Flask Integration/model.sav'\n",
    "pickle.dump(regressorfinal, open(filename, 'wb'))"
   ],
   "metadata": {
    "collapsed": false,
    "pycharm": {
     "name": "#%%\n"
    }
   }
  },
  {
   "cell_type": "code",
   "execution_count": 115,
   "outputs": [],
   "source": [
    "predictedfinal = regressorfinal.predict(X_test)\n",
    "predict_testfinal = regressorfinal.predict(X_val)"
   ],
   "metadata": {
    "collapsed": false,
    "pycharm": {
     "name": "#%%\n"
    }
   }
  },
  {
   "cell_type": "markdown",
   "id": "8e4df6c4",
   "metadata": {
    "id": "8e4df6c4"
   },
   "source": [
    "### Calculate the Mean Square Error for test dataset\n",
    "\n",
    "- Note - No need to change the code"
   ]
  },
  {
   "cell_type": "code",
   "execution_count": 116,
   "id": "5fb466d0",
   "metadata": {
    "id": "5fb466d0"
   },
   "outputs": [
    {
     "data": {
      "text/plain": "2202619.4470641054"
     },
     "execution_count": 116,
     "metadata": {},
     "output_type": "execute_result"
    }
   ],
   "source": [
    "mean_squared_error(y_test, predictedfinal, squared=False)"
   ]
  },
  {
   "cell_type": "markdown",
   "id": "ce27f87f",
   "metadata": {
    "id": "ce27f87f"
   },
   "source": [
    "### Calculate the mean Square Error for validation dataset"
   ]
  },
  {
   "cell_type": "code",
   "execution_count": 117,
   "id": "b47978ea",
   "metadata": {
    "id": "b47978ea"
   },
   "outputs": [
    {
     "data": {
      "text/plain": "2196266.1515774997"
     },
     "execution_count": 117,
     "metadata": {},
     "output_type": "execute_result"
    }
   ],
   "source": [
    "mean_squared_error(y_val, predict_testfinal, squared=False)"
   ]
  },
  {
   "cell_type": "markdown",
   "id": "30014dbd",
   "metadata": {
    "id": "30014dbd"
   },
   "source": [
    "### Calculate the R2 score for test"
   ]
  },
  {
   "cell_type": "code",
   "execution_count": 118,
   "id": "8a162737",
   "metadata": {
    "id": "8a162737"
   },
   "outputs": [
    {
     "data": {
      "text/plain": "0.18538061785237148"
     },
     "execution_count": 118,
     "metadata": {},
     "output_type": "execute_result"
    }
   ],
   "source": [
    "r2_score(y_test, predictedfinal)"
   ]
  },
  {
   "cell_type": "markdown",
   "id": "1c9853b0",
   "metadata": {
    "id": "1c9853b0"
   },
   "source": [
    "### Calculate the R2 score for Validation"
   ]
  },
  {
   "cell_type": "code",
   "execution_count": 119,
   "id": "1a6dc77c",
   "metadata": {
    "id": "1a6dc77c"
   },
   "outputs": [
    {
     "data": {
      "text/plain": "0.2382970235909262"
     },
     "execution_count": 119,
     "metadata": {},
     "output_type": "execute_result"
    }
   ],
   "source": [
    "r2_score(y_val, predict_testfinal)"
   ]
  },
  {
   "cell_type": "markdown",
   "id": "499522d9",
   "metadata": {
    "id": "499522d9"
   },
   "source": [
    "### Calculate the Accuracy for train Dataset "
   ]
  },
  {
   "cell_type": "code",
   "execution_count": 120,
   "id": "7a4f1ce8",
   "metadata": {
    "id": "7a4f1ce8"
   },
   "outputs": [
    {
     "data": {
      "text/plain": "0.6778023898214733"
     },
     "execution_count": 120,
     "metadata": {},
     "output_type": "execute_result"
    }
   ],
   "source": [
    "regressorfinal.score(X_train, y_train)"
   ]
  },
  {
   "cell_type": "markdown",
   "id": "12a1c921",
   "metadata": {
    "id": "12a1c921"
   },
   "source": [
    "### Calculate the accuracy for validation"
   ]
  },
  {
   "cell_type": "code",
   "execution_count": 121,
   "id": "d2579b4f",
   "metadata": {
    "id": "d2579b4f"
   },
   "outputs": [
    {
     "data": {
      "text/plain": "0.2382970235909262"
     },
     "execution_count": 121,
     "metadata": {},
     "output_type": "execute_result"
    }
   ],
   "source": [
    "regressorfinal.score(X_val, y_val)"
   ]
  },
  {
   "cell_type": "markdown",
   "id": "79b82e84",
   "metadata": {
    "id": "79b82e84"
   },
   "source": [
    "### Calculate the accuracy for test"
   ]
  },
  {
   "cell_type": "code",
   "execution_count": 122,
   "id": "f09e6431",
   "metadata": {
    "id": "f09e6431"
   },
   "outputs": [
    {
     "data": {
      "text/plain": "0.18538061785237148"
     },
     "execution_count": 122,
     "metadata": {},
     "output_type": "execute_result"
    }
   ],
   "source": [
    "regressorfinal.score(X_test, y_test)"
   ]
  },
  {
   "cell_type": "markdown",
   "id": "9488a5d9",
   "metadata": {
    "id": "9488a5d9"
   },
   "source": [
    "## Specify the reason behind choosing your machine learning model \n",
    "\n",
    "The two main reasons to use XGBoost are execution speed and model performance. XGBoost dominates structured or tabular datasets on classification and regression predictive modeling problems. "
   ]
  },
  {
   "cell_type": "markdown",
   "id": "387a6519",
   "metadata": {
    "id": "387a6519"
   },
   "source": [
    "## Now you need to pass the Nulldata dataframe into this machine learning model\n",
    "\n",
    "#### In order to pass this Nulldata dataframe into the ML model, we need to perform the following\n",
    "\n",
    "- Step 1 : Label Encoding \n",
    "- Step 2 : Day, Month and Year extraction \n",
    "- Step 3 : Change all the column data type into int64 or float64\n",
    "- Step 4 : Need to drop the useless columns "
   ]
  },
  {
   "cell_type": "markdown",
   "id": "I7JuxAkdiAdI",
   "metadata": {
    "id": "I7JuxAkdiAdI"
   },
   "source": [
    "### Display the Nulldata "
   ]
  },
  {
   "cell_type": "code",
   "execution_count": 123,
   "id": "6d6a51d2",
   "metadata": {
    "id": "6d6a51d2"
   },
   "outputs": [
    {
     "data": {
      "text/plain": "      business_code cust_number     name_customer clear_date  buisness_year  \\\n3              CA02   140105686          SYSC llc        NaT           2020   \n7              U001   200744019           TARG us        NaT           2020   \n10             U001   200418007               AM         NaT           2020   \n14             U001   200739534        OK systems        NaT           2020   \n15             U001   200353024  DECA corporation        NaT           2020   \n...             ...         ...               ...        ...            ...   \n50094          CA02   140106408        WAL-M corp        NaT           2020   \n50095          CA02   140106408        WAL-M corp        NaT           2020   \n50096          CA02   140106408        WAL-M corp        NaT           2020   \n50097          CA02   140106408        WAL-M corp        NaT           2020   \n50098          CA02   140106408        WAL-M corp        NaT           2020   \n\n           doc_id posting_date due_in_date baseline_create_date  \\\n3      2960623488   2020-03-30  2020-04-10           2020-03-31   \n7      1930659387   2020-03-19  2020-04-03           2020-03-19   \n10     1930610806   2020-11-03  2020-03-26           2020-03-11   \n14     1930788296   2020-04-15  2020-04-30           2020-04-15   \n15     1930817482   2020-04-23  2020-04-26           2020-04-16   \n...           ...          ...         ...                  ...   \n50094  2960618884   2020-06-03  2020-03-16           2020-03-06   \n50095  2960618885   2020-06-03  2020-03-16           2020-03-06   \n50096  2960618886   2020-06-03  2020-03-16           2020-03-06   \n50097  2960618887   2020-06-03  2020-03-16           2020-03-06   \n50098  2960618888   2020-06-03  2020-03-16           2020-03-06   \n\n      cust_payment_terms  converted_usd  \n3                   CA10       2309.790  \n7                   NAA8      11173.020  \n10                  NAA8       3525.590  \n14                  NAA8     121105.650  \n15                  NAM2       3726.060  \n...                  ...            ...  \n50094               CA10      64982.589  \n50095               CA10      64982.589  \n50096               CA10      64982.589  \n50097               CA10      64982.589  \n50098               CA10      64982.589  \n\n[9464 rows x 11 columns]",
      "text/html": "<div>\n<style scoped>\n    .dataframe tbody tr th:only-of-type {\n        vertical-align: middle;\n    }\n\n    .dataframe tbody tr th {\n        vertical-align: top;\n    }\n\n    .dataframe thead th {\n        text-align: right;\n    }\n</style>\n<table border=\"1\" class=\"dataframe\">\n  <thead>\n    <tr style=\"text-align: right;\">\n      <th></th>\n      <th>business_code</th>\n      <th>cust_number</th>\n      <th>name_customer</th>\n      <th>clear_date</th>\n      <th>buisness_year</th>\n      <th>doc_id</th>\n      <th>posting_date</th>\n      <th>due_in_date</th>\n      <th>baseline_create_date</th>\n      <th>cust_payment_terms</th>\n      <th>converted_usd</th>\n    </tr>\n  </thead>\n  <tbody>\n    <tr>\n      <th>3</th>\n      <td>CA02</td>\n      <td>140105686</td>\n      <td>SYSC llc</td>\n      <td>NaT</td>\n      <td>2020</td>\n      <td>2960623488</td>\n      <td>2020-03-30</td>\n      <td>2020-04-10</td>\n      <td>2020-03-31</td>\n      <td>CA10</td>\n      <td>2309.790</td>\n    </tr>\n    <tr>\n      <th>7</th>\n      <td>U001</td>\n      <td>200744019</td>\n      <td>TARG us</td>\n      <td>NaT</td>\n      <td>2020</td>\n      <td>1930659387</td>\n      <td>2020-03-19</td>\n      <td>2020-04-03</td>\n      <td>2020-03-19</td>\n      <td>NAA8</td>\n      <td>11173.020</td>\n    </tr>\n    <tr>\n      <th>10</th>\n      <td>U001</td>\n      <td>200418007</td>\n      <td>AM</td>\n      <td>NaT</td>\n      <td>2020</td>\n      <td>1930610806</td>\n      <td>2020-11-03</td>\n      <td>2020-03-26</td>\n      <td>2020-03-11</td>\n      <td>NAA8</td>\n      <td>3525.590</td>\n    </tr>\n    <tr>\n      <th>14</th>\n      <td>U001</td>\n      <td>200739534</td>\n      <td>OK systems</td>\n      <td>NaT</td>\n      <td>2020</td>\n      <td>1930788296</td>\n      <td>2020-04-15</td>\n      <td>2020-04-30</td>\n      <td>2020-04-15</td>\n      <td>NAA8</td>\n      <td>121105.650</td>\n    </tr>\n    <tr>\n      <th>15</th>\n      <td>U001</td>\n      <td>200353024</td>\n      <td>DECA corporation</td>\n      <td>NaT</td>\n      <td>2020</td>\n      <td>1930817482</td>\n      <td>2020-04-23</td>\n      <td>2020-04-26</td>\n      <td>2020-04-16</td>\n      <td>NAM2</td>\n      <td>3726.060</td>\n    </tr>\n    <tr>\n      <th>...</th>\n      <td>...</td>\n      <td>...</td>\n      <td>...</td>\n      <td>...</td>\n      <td>...</td>\n      <td>...</td>\n      <td>...</td>\n      <td>...</td>\n      <td>...</td>\n      <td>...</td>\n      <td>...</td>\n    </tr>\n    <tr>\n      <th>50094</th>\n      <td>CA02</td>\n      <td>140106408</td>\n      <td>WAL-M corp</td>\n      <td>NaT</td>\n      <td>2020</td>\n      <td>2960618884</td>\n      <td>2020-06-03</td>\n      <td>2020-03-16</td>\n      <td>2020-03-06</td>\n      <td>CA10</td>\n      <td>64982.589</td>\n    </tr>\n    <tr>\n      <th>50095</th>\n      <td>CA02</td>\n      <td>140106408</td>\n      <td>WAL-M corp</td>\n      <td>NaT</td>\n      <td>2020</td>\n      <td>2960618885</td>\n      <td>2020-06-03</td>\n      <td>2020-03-16</td>\n      <td>2020-03-06</td>\n      <td>CA10</td>\n      <td>64982.589</td>\n    </tr>\n    <tr>\n      <th>50096</th>\n      <td>CA02</td>\n      <td>140106408</td>\n      <td>WAL-M corp</td>\n      <td>NaT</td>\n      <td>2020</td>\n      <td>2960618886</td>\n      <td>2020-06-03</td>\n      <td>2020-03-16</td>\n      <td>2020-03-06</td>\n      <td>CA10</td>\n      <td>64982.589</td>\n    </tr>\n    <tr>\n      <th>50097</th>\n      <td>CA02</td>\n      <td>140106408</td>\n      <td>WAL-M corp</td>\n      <td>NaT</td>\n      <td>2020</td>\n      <td>2960618887</td>\n      <td>2020-06-03</td>\n      <td>2020-03-16</td>\n      <td>2020-03-06</td>\n      <td>CA10</td>\n      <td>64982.589</td>\n    </tr>\n    <tr>\n      <th>50098</th>\n      <td>CA02</td>\n      <td>140106408</td>\n      <td>WAL-M corp</td>\n      <td>NaT</td>\n      <td>2020</td>\n      <td>2960618888</td>\n      <td>2020-06-03</td>\n      <td>2020-03-16</td>\n      <td>2020-03-06</td>\n      <td>CA10</td>\n      <td>64982.589</td>\n    </tr>\n  </tbody>\n</table>\n<p>9464 rows × 11 columns</p>\n</div>"
     },
     "execution_count": 123,
     "metadata": {},
     "output_type": "execute_result"
    }
   ],
   "source": [
    "Nulldata"
   ]
  },
  {
   "cell_type": "markdown",
   "id": "Vamx5xqtiHCH",
   "metadata": {
    "id": "Vamx5xqtiHCH"
   },
   "source": [
    "### Check for the number of rows and columns in the nulldata"
   ]
  },
  {
   "cell_type": "code",
   "execution_count": 124,
   "id": "59de1092",
   "metadata": {
    "id": "59de1092"
   },
   "outputs": [
    {
     "data": {
      "text/plain": "(9464, 11)"
     },
     "execution_count": 124,
     "metadata": {},
     "output_type": "execute_result"
    }
   ],
   "source": [
    "Nulldata.shape"
   ]
  },
  {
   "cell_type": "markdown",
   "id": "BxzHNbBjpqXL",
   "metadata": {
    "id": "BxzHNbBjpqXL"
   },
   "source": [
    "### Check the Description and Information of the nulldata "
   ]
  },
  {
   "cell_type": "code",
   "execution_count": 125,
   "id": "a6294d29",
   "metadata": {
    "id": "a6294d29"
   },
   "outputs": [
    {
     "name": "stdout",
     "output_type": "stream",
     "text": [
      "<class 'pandas.core.frame.DataFrame'>\n",
      "Int64Index: 9464 entries, 3 to 50098\n",
      "Data columns (total 11 columns):\n",
      " #   Column                Non-Null Count  Dtype         \n",
      "---  ------                --------------  -----         \n",
      " 0   business_code         9464 non-null   object        \n",
      " 1   cust_number           9464 non-null   object        \n",
      " 2   name_customer         9464 non-null   object        \n",
      " 3   clear_date            0 non-null      datetime64[ns]\n",
      " 4   buisness_year         9464 non-null   int64         \n",
      " 5   doc_id                9464 non-null   int64         \n",
      " 6   posting_date          9464 non-null   datetime64[ns]\n",
      " 7   due_in_date           9464 non-null   datetime64[ns]\n",
      " 8   baseline_create_date  9464 non-null   datetime64[ns]\n",
      " 9   cust_payment_terms    9464 non-null   object        \n",
      " 10  converted_usd         9464 non-null   float64       \n",
      "dtypes: datetime64[ns](4), float64(1), int64(2), object(4)\n",
      "memory usage: 887.2+ KB\n"
     ]
    },
    {
     "data": {
      "text/plain": "(None,\n        buisness_year        doc_id  converted_usd\n count         9464.0  9.464000e+03    9464.000000\n mean          2020.0  2.014942e+09   32375.615590\n std              0.0  2.813097e+08   35367.557011\n min           2020.0  1.930535e+09       0.720000\n 25%           2020.0  1.930660e+09    5758.240000\n 50%           2020.0  1.930732e+09   19429.170000\n 75%           2020.0  1.930820e+09   48778.890000\n max           2020.0  2.960636e+09  653644.800000)"
     },
     "execution_count": 125,
     "metadata": {},
     "output_type": "execute_result"
    }
   ],
   "source": [
    "Nulldata.info(), Nulldata.describe()"
   ]
  },
  {
   "cell_type": "markdown",
   "id": "fe860d94",
   "metadata": {
    "id": "fe860d94"
   },
   "source": [
    "### Storing the Nulldata into a different dataset \n",
    "# for BACKUP"
   ]
  },
  {
   "cell_type": "code",
   "execution_count": 126,
   "id": "16352034",
   "metadata": {
    "id": "16352034"
   },
   "outputs": [],
   "source": [
    "nulldata1 = Nulldata.copy()\n",
    "nulldata = Nulldata"
   ]
  },
  {
   "cell_type": "markdown",
   "id": "00f35b8c",
   "metadata": {
    "id": "00f35b8c"
   },
   "source": [
    "### Call the Label Encoder for Nulldata\n",
    "\n",
    "- Note - you are expected to fit \"business_code\" as it is a categorical variable\n",
    "- Note - No need to change the code"
   ]
  },
  {
   "cell_type": "code",
   "execution_count": 127,
   "id": "baf04b17",
   "metadata": {
    "id": "baf04b17"
   },
   "outputs": [],
   "source": [
    "from sklearn.preprocessing import LabelEncoder\n",
    "\n",
    "business_codern = LabelEncoder()\n",
    "business_codern.fit(nulldata['business_code'])\n",
    "nulldata['business_code_enc'] = business_codern.transform(nulldata['business_code'])"
   ]
  },
  {
   "cell_type": "markdown",
   "id": "ZCPBK9karIR-",
   "metadata": {
    "id": "ZCPBK9karIR-"
   },
   "source": [
    "### Now you need to manually replacing str values with numbers\n",
    "- Note - No need to change the code"
   ]
  },
  {
   "cell_type": "code",
   "execution_count": 128,
   "id": "c64924be",
   "metadata": {
    "id": "c64924be"
   },
   "outputs": [],
   "source": [
    "nulldata['cust_number'] = nulldata['cust_number'].str.replace('CCCA', \"1\").str.replace('CCU', \"2\").str.replace('CC',\n",
    "                                                                                                               \"3\").astype(\n",
    "    int)"
   ]
  },
  {
   "cell_type": "markdown",
   "id": "9a55f5f6",
   "metadata": {
    "id": "9a55f5f6"
   },
   "source": [
    "## You need to extract day, month and year from the \"clear_date\", \"posting_date\", \"due_in_date\", \"baseline_create_date\" columns\n",
    "\n",
    "\n",
    "##### 1.   Extract day from \"clear_date\" column and store it into 'day_of_cleardate'\n",
    "##### 2.   Extract month from \"clear_date\" column and store it into 'month_of_cleardate'\n",
    "##### 3.   Extract year from \"clear_date\" column and store it into 'year_of_cleardate'\n",
    "\n",
    "\n",
    "\n",
    "##### 4.   Extract day from \"posting_date\" column and store it into 'day_of_postingdate'\n",
    "##### 5.   Extract month from \"posting_date\" column and store it into 'month_of_postingdate'\n",
    "##### 6.   Extract year from \"posting_date\" column and store it into 'year_of_postingdate'\n",
    "\n",
    "\n",
    "\n",
    "\n",
    "##### 7.   Extract day from \"due_in_date\" column and store it into 'day_of_due'\n",
    "##### 8.   Extract month from \"due_in_date\" column and store it into 'month_of_due'\n",
    "##### 9.   Extract year from \"due_in_date\" column and store it into 'year_of_due'\n",
    "\n",
    "\n",
    "\n",
    "\n",
    "##### 10.   Extract day from \"baseline_create_date\" column and store it into 'day_of_createdate'\n",
    "##### 11.   Extract month from \"baseline_create_date\" column and store it into 'month_of_createdate'\n",
    "##### 12.   Extract year from \"baseline_create_date\" column and store it into 'year_of_createdate'\n",
    "\n",
    "\n",
    "\n",
    "\n",
    "- Note - You are supposed To use - \n",
    "\n",
    "*   dt.day\n",
    "*   dt.month\n",
    "*   dt.year"
   ]
  },
  {
   "cell_type": "code",
   "execution_count": 129,
   "id": "4166fbe4",
   "metadata": {
    "id": "4166fbe4"
   },
   "outputs": [],
   "source": [
    "nulldata['day_of_cleardate'] = nulldata['clear_date'].dt.day\n",
    "nulldata['month_of_cleardate'] = nulldata['clear_date'].dt.day\n",
    "nulldata['year_of_cleardate'] = nulldata['clear_date'].dt.day\n",
    "\n",
    "nulldata['day_of_postingdate'] = nulldata['posting_date'].dt.day\n",
    "nulldata['month_of_postingdate'] = nulldata['posting_date'].dt.day\n",
    "nulldata['year_of_postingdate'] = nulldata['posting_date'].dt.day\n",
    "\n",
    "nulldata['day_of_due'] = nulldata['due_in_date'].dt.day\n",
    "nulldata['month_of_due'] = nulldata['due_in_date'].dt.day\n",
    "nulldata['year_of_due'] = nulldata['due_in_date'].dt.day\n",
    "\n",
    "nulldata['day_of_createdate'] = nulldata['baseline_create_date'].dt.day\n",
    "nulldata['month_of_createdate'] = nulldata['baseline_create_date'].dt.day\n",
    "nulldata['year_of_createdate'] = nulldata['baseline_create_date'].dt.day"
   ]
  },
  {
   "cell_type": "markdown",
   "id": "QeHWJYrAvOC6",
   "metadata": {
    "id": "QeHWJYrAvOC6"
   },
   "source": [
    "### Use Label Encoder1 of all the following columns - \n",
    "- 'cust_payment_terms' and store into 'cust_payment_terms_enc'\n",
    "- 'business_code' and store into 'business_code_enc'\n",
    "- 'name_customer' and store into 'name_customer_enc'\n",
    "\n",
    "Note - No need to change the code"
   ]
  },
  {
   "cell_type": "code",
   "execution_count": 130,
   "id": "bac330e2",
   "metadata": {
    "id": "bac330e2"
   },
   "outputs": [],
   "source": [
    "nulldata['cust_payment_terms_enc'] = label_encoder1.transform(nulldata['cust_payment_terms'])\n",
    "nulldata['business_code_enc'] = label_encoder1.transform(nulldata['business_code'])\n",
    "nulldata['name_customer_enc'] = label_encoder.transform(nulldata['name_customer'])\n"
   ]
  },
  {
   "cell_type": "markdown",
   "id": "zD9I-XqQwC28",
   "metadata": {
    "id": "zD9I-XqQwC28"
   },
   "source": [
    "### Check for the datatypes of all the columns of Nulldata"
   ]
  },
  {
   "cell_type": "code",
   "execution_count": 131,
   "id": "d4f72517",
   "metadata": {
    "id": "d4f72517"
   },
   "outputs": [
    {
     "data": {
      "text/plain": "business_code                     object\ncust_number                        int32\nname_customer                     object\nclear_date                datetime64[ns]\nbuisness_year                      int64\ndoc_id                             int64\nposting_date              datetime64[ns]\ndue_in_date               datetime64[ns]\nbaseline_create_date      datetime64[ns]\ncust_payment_terms                object\nconverted_usd                    float64\nbusiness_code_enc                  int32\nday_of_cleardate                 float64\nmonth_of_cleardate               float64\nyear_of_cleardate                float64\nday_of_postingdate                 int64\nmonth_of_postingdate               int64\nyear_of_postingdate                int64\nday_of_due                         int64\nmonth_of_due                       int64\nyear_of_due                        int64\nday_of_createdate                  int64\nmonth_of_createdate                int64\nyear_of_createdate                 int64\ncust_payment_terms_enc             int32\nname_customer_enc                  int32\ndtype: object"
     },
     "execution_count": 131,
     "metadata": {},
     "output_type": "execute_result"
    }
   ],
   "source": [
    "nulldata.dtypes"
   ]
  },
  {
   "cell_type": "markdown",
   "id": "17cd5452",
   "metadata": {
    "id": "17cd5452"
   },
   "source": [
    "### Now you need to drop all the unnecessary columns - \n",
    "\n",
    "- 'business_code'\n",
    "- \"baseline_create_date\"\n",
    "- \"due_in_date\"\n",
    "- \"posting_date\"\n",
    "- \"name_customer\"\n",
    "- \"clear_date\"\n",
    "- \"cust_payment_terms\"\n",
    "- 'day_of_cleardate'\n",
    "- \"month_of_cleardate\"\n",
    "- \"year_of_cleardate\""
   ]
  },
  {
   "cell_type": "code",
   "execution_count": 132,
   "id": "d7c82076",
   "metadata": {
    "id": "d7c82076"
   },
   "outputs": [],
   "source": [
    "nulldata.drop([\"business_code\", \"baseline_create_date\", \"due_in_date\", \"posting_date\", \"name_customer\", \"clear_date\",\n",
    "               \"cust_payment_terms\", 'day_of_cleardate', \"month_of_cleardate\", \"year_of_cleardate\"], axis=1,\n",
    "              inplace=True)"
   ]
  },
  {
   "cell_type": "markdown",
   "id": "Q_NCr9IPweVq",
   "metadata": {
    "id": "Q_NCr9IPweVq"
   },
   "source": [
    "### Check the information of the \"nulldata\" dataframe"
   ]
  },
  {
   "cell_type": "code",
   "execution_count": 133,
   "id": "4e7ffee0",
   "metadata": {
    "id": "4e7ffee0"
   },
   "outputs": [
    {
     "name": "stdout",
     "output_type": "stream",
     "text": [
      "<class 'pandas.core.frame.DataFrame'>\n",
      "Int64Index: 9464 entries, 3 to 50098\n",
      "Data columns (total 16 columns):\n",
      " #   Column                  Non-Null Count  Dtype  \n",
      "---  ------                  --------------  -----  \n",
      " 0   cust_number             9464 non-null   int32  \n",
      " 1   buisness_year           9464 non-null   int64  \n",
      " 2   doc_id                  9464 non-null   int64  \n",
      " 3   converted_usd           9464 non-null   float64\n",
      " 4   business_code_enc       9464 non-null   int32  \n",
      " 5   day_of_postingdate      9464 non-null   int64  \n",
      " 6   month_of_postingdate    9464 non-null   int64  \n",
      " 7   year_of_postingdate     9464 non-null   int64  \n",
      " 8   day_of_due              9464 non-null   int64  \n",
      " 9   month_of_due            9464 non-null   int64  \n",
      " 10  year_of_due             9464 non-null   int64  \n",
      " 11  day_of_createdate       9464 non-null   int64  \n",
      " 12  month_of_createdate     9464 non-null   int64  \n",
      " 13  year_of_createdate      9464 non-null   int64  \n",
      " 14  cust_payment_terms_enc  9464 non-null   int32  \n",
      " 15  name_customer_enc       9464 non-null   int32  \n",
      "dtypes: float64(1), int32(4), int64(11)\n",
      "memory usage: 1.1 MB\n"
     ]
    }
   ],
   "source": [
    "nulldata.info()"
   ]
  },
  {
   "cell_type": "markdown",
   "id": "-XvjhWqmwi-C",
   "metadata": {
    "id": "-XvjhWqmwi-C"
   },
   "source": [
    "### Compare \"nulldata\" with the \"X_test\" dataframe \n",
    "\n",
    "- use info() method"
   ]
  },
  {
   "cell_type": "code",
   "execution_count": 134,
   "id": "02f4b62d",
   "metadata": {
    "id": "02f4b62d"
   },
   "outputs": [
    {
     "name": "stdout",
     "output_type": "stream",
     "text": [
      "<class 'pandas.core.frame.DataFrame'>\n",
      "Int64Index: 9464 entries, 3 to 50098\n",
      "Data columns (total 16 columns):\n",
      " #   Column                  Non-Null Count  Dtype  \n",
      "---  ------                  --------------  -----  \n",
      " 0   cust_number             9464 non-null   int32  \n",
      " 1   buisness_year           9464 non-null   int64  \n",
      " 2   doc_id                  9464 non-null   int64  \n",
      " 3   converted_usd           9464 non-null   float64\n",
      " 4   business_code_enc       9464 non-null   int32  \n",
      " 5   day_of_postingdate      9464 non-null   int64  \n",
      " 6   month_of_postingdate    9464 non-null   int64  \n",
      " 7   year_of_postingdate     9464 non-null   int64  \n",
      " 8   day_of_due              9464 non-null   int64  \n",
      " 9   month_of_due            9464 non-null   int64  \n",
      " 10  year_of_due             9464 non-null   int64  \n",
      " 11  day_of_createdate       9464 non-null   int64  \n",
      " 12  month_of_createdate     9464 non-null   int64  \n",
      " 13  year_of_createdate      9464 non-null   int64  \n",
      " 14  cust_payment_terms_enc  9464 non-null   int32  \n",
      " 15  name_customer_enc       9464 non-null   int32  \n",
      "dtypes: float64(1), int32(4), int64(11)\n",
      "memory usage: 1.1 MB\n",
      "<class 'pandas.core.frame.DataFrame'>\n",
      "Int64Index: 7665 entries, 32585 to 8362\n",
      "Data columns (total 16 columns):\n",
      " #   Column                  Non-Null Count  Dtype  \n",
      "---  ------                  --------------  -----  \n",
      " 0   cust_number             7665 non-null   int32  \n",
      " 1   buisness_year           7665 non-null   int64  \n",
      " 2   doc_id                  7665 non-null   int64  \n",
      " 3   converted_usd           7665 non-null   float64\n",
      " 4   business_code_enc       7665 non-null   int32  \n",
      " 5   name_customer_enc       7665 non-null   int32  \n",
      " 6   cust_payment_terms_enc  7665 non-null   int32  \n",
      " 7   day_of_postingdate      7665 non-null   int64  \n",
      " 8   month_of_postingdate    7665 non-null   int64  \n",
      " 9   year_of_postingdate     7665 non-null   int64  \n",
      " 10  day_of_createdate       7665 non-null   int64  \n",
      " 11  month_of_createdate     7665 non-null   int64  \n",
      " 12  year_of_createdate      7665 non-null   int64  \n",
      " 13  day_of_due_in_date      7665 non-null   int64  \n",
      " 14  month_of_due_in_date    7665 non-null   int64  \n",
      " 15  year_of_due_in_date     7665 non-null   int64  \n",
      "dtypes: float64(1), int32(4), int64(11)\n",
      "memory usage: 898.2 KB\n"
     ]
    },
    {
     "data": {
      "text/plain": "(None, None)"
     },
     "execution_count": 134,
     "metadata": {},
     "output_type": "execute_result"
    }
   ],
   "source": [
    "nulldata.info(), X_test.info()"
   ]
  },
  {
   "cell_type": "markdown",
   "id": "Us3ey-9zwqjq",
   "metadata": {
    "id": "Us3ey-9zwqjq"
   },
   "source": [
    "### You must have noticed that there is a mismatch in the column sequence while compairing the dataframes\n",
    "\n",
    "- Note - In order to fed into the machine learning model, you need to edit the sequence of \"nulldata\", similar to the \"X_test\" dataframe"
   ]
  },
  {
   "cell_type": "markdown",
   "id": "vduVNt1kxPW-",
   "metadata": {
    "id": "vduVNt1kxPW-"
   },
   "source": [
    "- Display all the columns of the X_test dataframe \n",
    "- Display all the columns of the Nulldata dataframe \n",
    "- Store the Nulldata with new sequence into a new dataframe \n",
    "\n",
    "\n",
    "- Note - The code is given below, no need to change "
   ]
  },
  {
   "cell_type": "code",
   "execution_count": 135,
   "id": "6729353e",
   "metadata": {
    "id": "6729353e"
   },
   "outputs": [
    {
     "data": {
      "text/plain": "Index(['cust_number', 'buisness_year', 'doc_id', 'converted_usd',\n       'business_code_enc', 'name_customer_enc', 'cust_payment_terms_enc',\n       'day_of_postingdate', 'month_of_postingdate', 'year_of_postingdate',\n       'day_of_createdate', 'month_of_createdate', 'year_of_createdate',\n       'day_of_due_in_date', 'month_of_due_in_date', 'year_of_due_in_date'],\n      dtype='object')"
     },
     "execution_count": 135,
     "metadata": {},
     "output_type": "execute_result"
    }
   ],
   "source": [
    "X_test.columns"
   ]
  },
  {
   "cell_type": "code",
   "execution_count": 136,
   "id": "47bd9c5e",
   "metadata": {
    "id": "47bd9c5e"
   },
   "outputs": [
    {
     "data": {
      "text/plain": "Index(['cust_number', 'buisness_year', 'doc_id', 'converted_usd',\n       'business_code_enc', 'day_of_postingdate', 'month_of_postingdate',\n       'year_of_postingdate', 'day_of_due', 'month_of_due', 'year_of_due',\n       'day_of_createdate', 'month_of_createdate', 'year_of_createdate',\n       'cust_payment_terms_enc', 'name_customer_enc'],\n      dtype='object')"
     },
     "execution_count": 136,
     "metadata": {},
     "output_type": "execute_result"
    }
   ],
   "source": [
    "nulldata.columns"
   ]
  },
  {
   "cell_type": "code",
   "execution_count": 137,
   "id": "aa5a2103",
   "metadata": {
    "id": "aa5a2103"
   },
   "outputs": [],
   "source": [
    "nulldata2 = nulldata[['cust_number', 'buisness_year', 'doc_id', 'converted_usd',\n",
    "                      'business_code_enc', 'name_customer_enc', 'cust_payment_terms_enc',\n",
    "                      'day_of_postingdate', 'month_of_postingdate', 'year_of_postingdate',\n",
    "                      'day_of_createdate', 'month_of_createdate', 'year_of_createdate',\n",
    "                      'day_of_due', 'month_of_due', 'year_of_due']]"
   ]
  },
  {
   "cell_type": "markdown",
   "id": "1dc8b021",
   "metadata": {
    "id": "1dc8b021"
   },
   "source": [
    "### Display the Final Dataset"
   ]
  },
  {
   "cell_type": "code",
   "execution_count": 138,
   "id": "2f39785a",
   "metadata": {
    "id": "2f39785a"
   },
   "outputs": [
    {
     "data": {
      "text/plain": "       cust_number  buisness_year      doc_id  converted_usd  \\\n3        140105686           2020  2960623488       2309.790   \n7        200744019           2020  1930659387      11173.020   \n10       200418007           2020  1930610806       3525.590   \n14       200739534           2020  1930788296     121105.650   \n15       200353024           2020  1930817482       3726.060   \n...            ...            ...         ...            ...   \n50094    140106408           2020  2960618884      64982.589   \n50095    140106408           2020  2960618885      64982.589   \n50096    140106408           2020  2960618886      64982.589   \n50097    140106408           2020  2960618887      64982.589   \n50098    140106408           2020  2960618888      64982.589   \n\n       business_code_enc  name_customer_enc  cust_payment_terms_enc  \\\n3                     66               2694                       5   \n7                     66               2778                      21   \n10                    66                 88                      21   \n14                    66               2013                      21   \n15                    66                711                      36   \n...                  ...                ...                     ...   \n50094                 66               2964                       5   \n50095                 66               2964                       5   \n50096                 66               2964                       5   \n50097                 66               2964                       5   \n50098                 66               2964                       5   \n\n       day_of_postingdate  month_of_postingdate  year_of_postingdate  \\\n3                      30                    30                   30   \n7                      19                    19                   19   \n10                      3                     3                    3   \n14                     15                    15                   15   \n15                     23                    23                   23   \n...                   ...                   ...                  ...   \n50094                   3                     3                    3   \n50095                   3                     3                    3   \n50096                   3                     3                    3   \n50097                   3                     3                    3   \n50098                   3                     3                    3   \n\n       day_of_createdate  month_of_createdate  year_of_createdate  day_of_due  \\\n3                     31                   31                  31          10   \n7                     19                   19                  19           3   \n10                    11                   11                  11          26   \n14                    15                   15                  15          30   \n15                    16                   16                  16          26   \n...                  ...                  ...                 ...         ...   \n50094                  6                    6                   6          16   \n50095                  6                    6                   6          16   \n50096                  6                    6                   6          16   \n50097                  6                    6                   6          16   \n50098                  6                    6                   6          16   \n\n       month_of_due  year_of_due  \n3                10           10  \n7                 3            3  \n10               26           26  \n14               30           30  \n15               26           26  \n...             ...          ...  \n50094            16           16  \n50095            16           16  \n50096            16           16  \n50097            16           16  \n50098            16           16  \n\n[9464 rows x 16 columns]",
      "text/html": "<div>\n<style scoped>\n    .dataframe tbody tr th:only-of-type {\n        vertical-align: middle;\n    }\n\n    .dataframe tbody tr th {\n        vertical-align: top;\n    }\n\n    .dataframe thead th {\n        text-align: right;\n    }\n</style>\n<table border=\"1\" class=\"dataframe\">\n  <thead>\n    <tr style=\"text-align: right;\">\n      <th></th>\n      <th>cust_number</th>\n      <th>buisness_year</th>\n      <th>doc_id</th>\n      <th>converted_usd</th>\n      <th>business_code_enc</th>\n      <th>name_customer_enc</th>\n      <th>cust_payment_terms_enc</th>\n      <th>day_of_postingdate</th>\n      <th>month_of_postingdate</th>\n      <th>year_of_postingdate</th>\n      <th>day_of_createdate</th>\n      <th>month_of_createdate</th>\n      <th>year_of_createdate</th>\n      <th>day_of_due</th>\n      <th>month_of_due</th>\n      <th>year_of_due</th>\n    </tr>\n  </thead>\n  <tbody>\n    <tr>\n      <th>3</th>\n      <td>140105686</td>\n      <td>2020</td>\n      <td>2960623488</td>\n      <td>2309.790</td>\n      <td>66</td>\n      <td>2694</td>\n      <td>5</td>\n      <td>30</td>\n      <td>30</td>\n      <td>30</td>\n      <td>31</td>\n      <td>31</td>\n      <td>31</td>\n      <td>10</td>\n      <td>10</td>\n      <td>10</td>\n    </tr>\n    <tr>\n      <th>7</th>\n      <td>200744019</td>\n      <td>2020</td>\n      <td>1930659387</td>\n      <td>11173.020</td>\n      <td>66</td>\n      <td>2778</td>\n      <td>21</td>\n      <td>19</td>\n      <td>19</td>\n      <td>19</td>\n      <td>19</td>\n      <td>19</td>\n      <td>19</td>\n      <td>3</td>\n      <td>3</td>\n      <td>3</td>\n    </tr>\n    <tr>\n      <th>10</th>\n      <td>200418007</td>\n      <td>2020</td>\n      <td>1930610806</td>\n      <td>3525.590</td>\n      <td>66</td>\n      <td>88</td>\n      <td>21</td>\n      <td>3</td>\n      <td>3</td>\n      <td>3</td>\n      <td>11</td>\n      <td>11</td>\n      <td>11</td>\n      <td>26</td>\n      <td>26</td>\n      <td>26</td>\n    </tr>\n    <tr>\n      <th>14</th>\n      <td>200739534</td>\n      <td>2020</td>\n      <td>1930788296</td>\n      <td>121105.650</td>\n      <td>66</td>\n      <td>2013</td>\n      <td>21</td>\n      <td>15</td>\n      <td>15</td>\n      <td>15</td>\n      <td>15</td>\n      <td>15</td>\n      <td>15</td>\n      <td>30</td>\n      <td>30</td>\n      <td>30</td>\n    </tr>\n    <tr>\n      <th>15</th>\n      <td>200353024</td>\n      <td>2020</td>\n      <td>1930817482</td>\n      <td>3726.060</td>\n      <td>66</td>\n      <td>711</td>\n      <td>36</td>\n      <td>23</td>\n      <td>23</td>\n      <td>23</td>\n      <td>16</td>\n      <td>16</td>\n      <td>16</td>\n      <td>26</td>\n      <td>26</td>\n      <td>26</td>\n    </tr>\n    <tr>\n      <th>...</th>\n      <td>...</td>\n      <td>...</td>\n      <td>...</td>\n      <td>...</td>\n      <td>...</td>\n      <td>...</td>\n      <td>...</td>\n      <td>...</td>\n      <td>...</td>\n      <td>...</td>\n      <td>...</td>\n      <td>...</td>\n      <td>...</td>\n      <td>...</td>\n      <td>...</td>\n      <td>...</td>\n    </tr>\n    <tr>\n      <th>50094</th>\n      <td>140106408</td>\n      <td>2020</td>\n      <td>2960618884</td>\n      <td>64982.589</td>\n      <td>66</td>\n      <td>2964</td>\n      <td>5</td>\n      <td>3</td>\n      <td>3</td>\n      <td>3</td>\n      <td>6</td>\n      <td>6</td>\n      <td>6</td>\n      <td>16</td>\n      <td>16</td>\n      <td>16</td>\n    </tr>\n    <tr>\n      <th>50095</th>\n      <td>140106408</td>\n      <td>2020</td>\n      <td>2960618885</td>\n      <td>64982.589</td>\n      <td>66</td>\n      <td>2964</td>\n      <td>5</td>\n      <td>3</td>\n      <td>3</td>\n      <td>3</td>\n      <td>6</td>\n      <td>6</td>\n      <td>6</td>\n      <td>16</td>\n      <td>16</td>\n      <td>16</td>\n    </tr>\n    <tr>\n      <th>50096</th>\n      <td>140106408</td>\n      <td>2020</td>\n      <td>2960618886</td>\n      <td>64982.589</td>\n      <td>66</td>\n      <td>2964</td>\n      <td>5</td>\n      <td>3</td>\n      <td>3</td>\n      <td>3</td>\n      <td>6</td>\n      <td>6</td>\n      <td>6</td>\n      <td>16</td>\n      <td>16</td>\n      <td>16</td>\n    </tr>\n    <tr>\n      <th>50097</th>\n      <td>140106408</td>\n      <td>2020</td>\n      <td>2960618887</td>\n      <td>64982.589</td>\n      <td>66</td>\n      <td>2964</td>\n      <td>5</td>\n      <td>3</td>\n      <td>3</td>\n      <td>3</td>\n      <td>6</td>\n      <td>6</td>\n      <td>6</td>\n      <td>16</td>\n      <td>16</td>\n      <td>16</td>\n    </tr>\n    <tr>\n      <th>50098</th>\n      <td>140106408</td>\n      <td>2020</td>\n      <td>2960618888</td>\n      <td>64982.589</td>\n      <td>66</td>\n      <td>2964</td>\n      <td>5</td>\n      <td>3</td>\n      <td>3</td>\n      <td>3</td>\n      <td>6</td>\n      <td>6</td>\n      <td>6</td>\n      <td>16</td>\n      <td>16</td>\n      <td>16</td>\n    </tr>\n  </tbody>\n</table>\n<p>9464 rows × 16 columns</p>\n</div>"
     },
     "execution_count": 138,
     "metadata": {},
     "output_type": "execute_result"
    }
   ],
   "source": [
    "nulldata2"
   ]
  },
  {
   "cell_type": "markdown",
   "id": "84f1911d",
   "metadata": {},
   "source": [
    "### Now you can pass this dataset into you final model and store it into \"final_result\""
   ]
  },
  {
   "cell_type": "code",
   "execution_count": 139,
   "id": "9e0b6388",
   "metadata": {
    "id": "9e0b6388"
   },
   "outputs": [],
   "source": [
    "final_result = regressorfinal.predict(nulldata2)"
   ]
  },
  {
   "cell_type": "markdown",
   "id": "9653d3c6",
   "metadata": {
    "id": "9653d3c6"
   },
   "source": [
    "### you need to make the final_result as dataframe, with a column name \"avg_delay\"\n",
    "\n",
    "- Note - No need to change the code"
   ]
  },
  {
   "cell_type": "code",
   "execution_count": 140,
   "id": "25ef814d",
   "metadata": {
    "id": "25ef814d"
   },
   "outputs": [],
   "source": [
    "final_result = pd.Series(final_result, name='avg_delay')"
   ]
  },
  {
   "cell_type": "markdown",
   "id": "C86staIhyf2C",
   "metadata": {
    "id": "C86staIhyf2C"
   },
   "source": [
    "### Display the \"avg_delay\" column"
   ]
  },
  {
   "cell_type": "code",
   "execution_count": 141,
   "id": "4fd46406",
   "metadata": {
    "id": "4fd46406"
   },
   "outputs": [
    {
     "data": {
      "text/plain": "0       2.882096e+04\n1      -1.167870e+06\n2       1.641834e+06\n3      -1.011282e+06\n4      -1.945911e+06\n            ...     \n9459    2.829775e+06\n9460    2.829775e+06\n9461    2.829775e+06\n9462    2.829775e+06\n9463    2.829775e+06\nName: avg_delay, Length: 9464, dtype: float32"
     },
     "execution_count": 141,
     "metadata": {},
     "output_type": "execute_result"
    }
   ],
   "source": [
    "final_result"
   ]
  },
  {
   "cell_type": "markdown",
   "id": "44f71a7e",
   "metadata": {
    "id": "44f71a7e"
   },
   "source": [
    "### Now you need to merge this final_result dataframe with the BACKUP of \"nulldata\" Dataframe which we have created in earlier steps"
   ]
  },
  {
   "cell_type": "code",
   "execution_count": 154,
   "id": "e8f0969d",
   "metadata": {
    "id": "e8f0969d"
   },
   "outputs": [
    {
     "name": "stdout",
     "output_type": "stream",
     "text": [
      "     business_code cust_number     name_customer clear_date  buisness_year  \\\n",
      "0             CA02   140105686          SYSC llc        NaT           2020   \n",
      "1             U001   200744019           TARG us        NaT           2020   \n",
      "2             U001   200418007               AM         NaT           2020   \n",
      "3             U001   200739534        OK systems        NaT           2020   \n",
      "4             U001   200353024  DECA corporation        NaT           2020   \n",
      "...            ...         ...               ...        ...            ...   \n",
      "9459          CA02   140106408        WAL-M corp        NaT           2020   \n",
      "9460          CA02   140106408        WAL-M corp        NaT           2020   \n",
      "9461          CA02   140106408        WAL-M corp        NaT           2020   \n",
      "9462          CA02   140106408        WAL-M corp        NaT           2020   \n",
      "9463          CA02   140106408        WAL-M corp        NaT           2020   \n",
      "\n",
      "          doc_id posting_date due_in_date baseline_create_date  \\\n",
      "0     2960623488   2020-03-30  2020-04-10           2020-03-31   \n",
      "1     1930659387   2020-03-19  2020-04-03           2020-03-19   \n",
      "2     1930610806   2020-11-03  2020-03-26           2020-03-11   \n",
      "3     1930788296   2020-04-15  2020-04-30           2020-04-15   \n",
      "4     1930817482   2020-04-23  2020-04-26           2020-04-16   \n",
      "...          ...          ...         ...                  ...   \n",
      "9459  2960618884   2020-06-03  2020-03-16           2020-03-06   \n",
      "9460  2960618885   2020-06-03  2020-03-16           2020-03-06   \n",
      "9461  2960618886   2020-06-03  2020-03-16           2020-03-06   \n",
      "9462  2960618887   2020-06-03  2020-03-16           2020-03-06   \n",
      "9463  2960618888   2020-06-03  2020-03-16           2020-03-06   \n",
      "\n",
      "     cust_payment_terms  converted_usd  \n",
      "0                  CA10       2309.790  \n",
      "1                  NAA8      11173.020  \n",
      "2                  NAA8       3525.590  \n",
      "3                  NAA8     121105.650  \n",
      "4                  NAM2       3726.060  \n",
      "...                 ...            ...  \n",
      "9459               CA10      64982.589  \n",
      "9460               CA10      64982.589  \n",
      "9461               CA10      64982.589  \n",
      "9462               CA10      64982.589  \n",
      "9463               CA10      64982.589  \n",
      "\n",
      "[9464 rows x 11 columns]\n"
     ]
    }
   ],
   "source": [
    "nulldata1.reset_index(drop=True, inplace=True)\n",
    "Final = nulldata1.merge(final_result, on=nulldata.index)"
   ]
  },
  {
   "cell_type": "markdown",
   "id": "G-hLtxXgy4GZ",
   "metadata": {
    "id": "G-hLtxXgy4GZ"
   },
   "source": [
    "### Display the \"Final\" dataframe "
   ]
  },
  {
   "cell_type": "code",
   "execution_count": 143,
   "id": "71fb4dc0",
   "metadata": {
    "id": "71fb4dc0"
   },
   "outputs": [
    {
     "data": {
      "text/plain": "      key_0 business_code cust_number     name_customer clear_date  \\\n0         3          CA02   140105686          SYSC llc        NaT   \n1         7          U001   200744019           TARG us        NaT   \n2        10          U001   200418007               AM         NaT   \n3        14          U001   200739534        OK systems        NaT   \n4        15          U001   200353024  DECA corporation        NaT   \n...     ...           ...         ...               ...        ...   \n9459  50094          CA02   140106408        WAL-M corp        NaT   \n9460  50095          CA02   140106408        WAL-M corp        NaT   \n9461  50096          CA02   140106408        WAL-M corp        NaT   \n9462  50097          CA02   140106408        WAL-M corp        NaT   \n9463  50098          CA02   140106408        WAL-M corp        NaT   \n\n      buisness_year      doc_id posting_date due_in_date baseline_create_date  \\\n0              2020  2960623488   2020-03-30  2020-04-10           2020-03-31   \n1              2020  1930659387   2020-03-19  2020-04-03           2020-03-19   \n2              2020  1930610806   2020-11-03  2020-03-26           2020-03-11   \n3              2020  1930788296   2020-04-15  2020-04-30           2020-04-15   \n4              2020  1930817482   2020-04-23  2020-04-26           2020-04-16   \n...             ...         ...          ...         ...                  ...   \n9459           2020  2960618884   2020-06-03  2020-03-16           2020-03-06   \n9460           2020  2960618885   2020-06-03  2020-03-16           2020-03-06   \n9461           2020  2960618886   2020-06-03  2020-03-16           2020-03-06   \n9462           2020  2960618887   2020-06-03  2020-03-16           2020-03-06   \n9463           2020  2960618888   2020-06-03  2020-03-16           2020-03-06   \n\n     cust_payment_terms  converted_usd     avg_delay  \n0                  CA10       2309.790  2.882096e+04  \n1                  NAA8      11173.020 -1.167870e+06  \n2                  NAA8       3525.590  1.641834e+06  \n3                  NAA8     121105.650 -1.011282e+06  \n4                  NAM2       3726.060 -1.945911e+06  \n...                 ...            ...           ...  \n9459               CA10      64982.589  2.829775e+06  \n9460               CA10      64982.589  2.829775e+06  \n9461               CA10      64982.589  2.829775e+06  \n9462               CA10      64982.589  2.829775e+06  \n9463               CA10      64982.589  2.829775e+06  \n\n[9464 rows x 13 columns]",
      "text/html": "<div>\n<style scoped>\n    .dataframe tbody tr th:only-of-type {\n        vertical-align: middle;\n    }\n\n    .dataframe tbody tr th {\n        vertical-align: top;\n    }\n\n    .dataframe thead th {\n        text-align: right;\n    }\n</style>\n<table border=\"1\" class=\"dataframe\">\n  <thead>\n    <tr style=\"text-align: right;\">\n      <th></th>\n      <th>key_0</th>\n      <th>business_code</th>\n      <th>cust_number</th>\n      <th>name_customer</th>\n      <th>clear_date</th>\n      <th>buisness_year</th>\n      <th>doc_id</th>\n      <th>posting_date</th>\n      <th>due_in_date</th>\n      <th>baseline_create_date</th>\n      <th>cust_payment_terms</th>\n      <th>converted_usd</th>\n      <th>avg_delay</th>\n    </tr>\n  </thead>\n  <tbody>\n    <tr>\n      <th>0</th>\n      <td>3</td>\n      <td>CA02</td>\n      <td>140105686</td>\n      <td>SYSC llc</td>\n      <td>NaT</td>\n      <td>2020</td>\n      <td>2960623488</td>\n      <td>2020-03-30</td>\n      <td>2020-04-10</td>\n      <td>2020-03-31</td>\n      <td>CA10</td>\n      <td>2309.790</td>\n      <td>2.882096e+04</td>\n    </tr>\n    <tr>\n      <th>1</th>\n      <td>7</td>\n      <td>U001</td>\n      <td>200744019</td>\n      <td>TARG us</td>\n      <td>NaT</td>\n      <td>2020</td>\n      <td>1930659387</td>\n      <td>2020-03-19</td>\n      <td>2020-04-03</td>\n      <td>2020-03-19</td>\n      <td>NAA8</td>\n      <td>11173.020</td>\n      <td>-1.167870e+06</td>\n    </tr>\n    <tr>\n      <th>2</th>\n      <td>10</td>\n      <td>U001</td>\n      <td>200418007</td>\n      <td>AM</td>\n      <td>NaT</td>\n      <td>2020</td>\n      <td>1930610806</td>\n      <td>2020-11-03</td>\n      <td>2020-03-26</td>\n      <td>2020-03-11</td>\n      <td>NAA8</td>\n      <td>3525.590</td>\n      <td>1.641834e+06</td>\n    </tr>\n    <tr>\n      <th>3</th>\n      <td>14</td>\n      <td>U001</td>\n      <td>200739534</td>\n      <td>OK systems</td>\n      <td>NaT</td>\n      <td>2020</td>\n      <td>1930788296</td>\n      <td>2020-04-15</td>\n      <td>2020-04-30</td>\n      <td>2020-04-15</td>\n      <td>NAA8</td>\n      <td>121105.650</td>\n      <td>-1.011282e+06</td>\n    </tr>\n    <tr>\n      <th>4</th>\n      <td>15</td>\n      <td>U001</td>\n      <td>200353024</td>\n      <td>DECA corporation</td>\n      <td>NaT</td>\n      <td>2020</td>\n      <td>1930817482</td>\n      <td>2020-04-23</td>\n      <td>2020-04-26</td>\n      <td>2020-04-16</td>\n      <td>NAM2</td>\n      <td>3726.060</td>\n      <td>-1.945911e+06</td>\n    </tr>\n    <tr>\n      <th>...</th>\n      <td>...</td>\n      <td>...</td>\n      <td>...</td>\n      <td>...</td>\n      <td>...</td>\n      <td>...</td>\n      <td>...</td>\n      <td>...</td>\n      <td>...</td>\n      <td>...</td>\n      <td>...</td>\n      <td>...</td>\n      <td>...</td>\n    </tr>\n    <tr>\n      <th>9459</th>\n      <td>50094</td>\n      <td>CA02</td>\n      <td>140106408</td>\n      <td>WAL-M corp</td>\n      <td>NaT</td>\n      <td>2020</td>\n      <td>2960618884</td>\n      <td>2020-06-03</td>\n      <td>2020-03-16</td>\n      <td>2020-03-06</td>\n      <td>CA10</td>\n      <td>64982.589</td>\n      <td>2.829775e+06</td>\n    </tr>\n    <tr>\n      <th>9460</th>\n      <td>50095</td>\n      <td>CA02</td>\n      <td>140106408</td>\n      <td>WAL-M corp</td>\n      <td>NaT</td>\n      <td>2020</td>\n      <td>2960618885</td>\n      <td>2020-06-03</td>\n      <td>2020-03-16</td>\n      <td>2020-03-06</td>\n      <td>CA10</td>\n      <td>64982.589</td>\n      <td>2.829775e+06</td>\n    </tr>\n    <tr>\n      <th>9461</th>\n      <td>50096</td>\n      <td>CA02</td>\n      <td>140106408</td>\n      <td>WAL-M corp</td>\n      <td>NaT</td>\n      <td>2020</td>\n      <td>2960618886</td>\n      <td>2020-06-03</td>\n      <td>2020-03-16</td>\n      <td>2020-03-06</td>\n      <td>CA10</td>\n      <td>64982.589</td>\n      <td>2.829775e+06</td>\n    </tr>\n    <tr>\n      <th>9462</th>\n      <td>50097</td>\n      <td>CA02</td>\n      <td>140106408</td>\n      <td>WAL-M corp</td>\n      <td>NaT</td>\n      <td>2020</td>\n      <td>2960618887</td>\n      <td>2020-06-03</td>\n      <td>2020-03-16</td>\n      <td>2020-03-06</td>\n      <td>CA10</td>\n      <td>64982.589</td>\n      <td>2.829775e+06</td>\n    </tr>\n    <tr>\n      <th>9463</th>\n      <td>50098</td>\n      <td>CA02</td>\n      <td>140106408</td>\n      <td>WAL-M corp</td>\n      <td>NaT</td>\n      <td>2020</td>\n      <td>2960618888</td>\n      <td>2020-06-03</td>\n      <td>2020-03-16</td>\n      <td>2020-03-06</td>\n      <td>CA10</td>\n      <td>64982.589</td>\n      <td>2.829775e+06</td>\n    </tr>\n  </tbody>\n</table>\n<p>9464 rows × 13 columns</p>\n</div>"
     },
     "execution_count": 143,
     "metadata": {},
     "output_type": "execute_result"
    }
   ],
   "source": [
    "Final"
   ]
  },
  {
   "cell_type": "markdown",
   "id": "4sc27Uz-y-0O",
   "metadata": {
    "id": "4sc27Uz-y-0O"
   },
   "source": [
    "### Check for the Number of Rows and Columns in your \"Final\" dataframe "
   ]
  },
  {
   "cell_type": "code",
   "execution_count": 144,
   "id": "5iUXOIhzy_HR",
   "metadata": {
    "id": "5iUXOIhzy_HR"
   },
   "outputs": [
    {
     "data": {
      "text/plain": "(9464, 13)"
     },
     "execution_count": 144,
     "metadata": {},
     "output_type": "execute_result"
    }
   ],
   "source": [
    "Final.shape"
   ]
  },
  {
   "cell_type": "markdown",
   "id": "48886d2c",
   "metadata": {
    "id": "48886d2c"
   },
   "source": [
    "### Now, you need to do convert the below fields back into date and time format \n",
    "\n",
    "- Convert \"due_in_date\" into datetime format\n",
    "- Convert \"avg_delay\" into datetime format\n",
    "- Create a new column \"clear_date\" and store the sum of \"due_in_date\" and \"avg_delay\"\n",
    "- display the new \"clear_date\" column\n",
    "- Note - Code is given below, no need to change "
   ]
  },
  {
   "cell_type": "code",
   "execution_count": 145,
   "id": "243abc2d",
   "metadata": {
    "id": "243abc2d"
   },
   "outputs": [],
   "source": [
    "Final['clear_date'] = pd.to_datetime(Final['due_in_date']) + pd.to_timedelta(Final['avg_delay'], unit='s')"
   ]
  },
  {
   "cell_type": "markdown",
   "id": "9QcX_fAjIkYR",
   "metadata": {
    "id": "9QcX_fAjIkYR"
   },
   "source": [
    "### Display the \"clear_date\" column"
   ]
  },
  {
   "cell_type": "code",
   "execution_count": 146,
   "id": "740e1486",
   "metadata": {
    "id": "740e1486"
   },
   "outputs": [
    {
     "data": {
      "text/plain": "0      2020-04-10 08:00:20.964843750\n1      2020-03-20 11:35:29.625000000\n2      2020-04-14 00:03:53.750000000\n3      2020-04-18 07:05:17.500000000\n4      2020-04-03 11:28:09.375000000\n                    ...             \n9459   2020-04-17 18:02:54.750000000\n9460   2020-04-17 18:02:54.750000000\n9461   2020-04-17 18:02:54.750000000\n9462   2020-04-17 18:02:54.750000000\n9463   2020-04-17 18:02:54.750000000\nName: clear_date, Length: 9464, dtype: datetime64[ns]"
     },
     "execution_count": 146,
     "metadata": {},
     "output_type": "execute_result"
    }
   ],
   "source": [
    "Final['clear_date']"
   ]
  },
  {
   "cell_type": "markdown",
   "id": "MSkNLq6-z7rZ",
   "metadata": {
    "id": "MSkNLq6-z7rZ"
   },
   "source": [
    "### Convert the average delay into number of days format \n",
    "\n",
    "- Note - Formula = avg_delay//(24 * 3600)\n",
    "- Note - full code is given for this, no need to change "
   ]
  },
  {
   "cell_type": "code",
   "execution_count": 147,
   "id": "ce6b618a",
   "metadata": {
    "id": "ce6b618a"
   },
   "outputs": [],
   "source": [
    "Final['avg_delay'] = Final.apply(lambda row: row.avg_delay // (24 * 3600), axis=1)"
   ]
  },
  {
   "cell_type": "markdown",
   "id": "wbBBZPjP0W7o",
   "metadata": {
    "id": "wbBBZPjP0W7o"
   },
   "source": [
    "### Display the \"avg_delay\" column "
   ]
  },
  {
   "cell_type": "code",
   "execution_count": 148,
   "id": "a494982f",
   "metadata": {
    "id": "a494982f",
    "scrolled": true
   },
   "outputs": [
    {
     "data": {
      "text/plain": "0        0.0\n1      -14.0\n2       19.0\n3      -12.0\n4      -23.0\n        ... \n9459    32.0\n9460    32.0\n9461    32.0\n9462    32.0\n9463    32.0\nName: avg_delay, Length: 9464, dtype: float64"
     },
     "execution_count": 148,
     "metadata": {},
     "output_type": "execute_result"
    }
   ],
   "source": [
    "Final['avg_delay']"
   ]
  },
  {
   "cell_type": "markdown",
   "id": "815d8811",
   "metadata": {
    "id": "815d8811"
   },
   "source": [
    "### Now you need to convert average delay column into bucket\n",
    "\n",
    "- Need to perform binning \n",
    "- create a list of bins i.e. bins= [0,15,30,45,60,100]\n",
    "- create a list of labels i.e. labels = ['0-15','16-30','31-45','46-60','Greatar than 60']\n",
    "- perform binning by using cut() function from \"Final\" dataframe\n",
    "\n",
    "\n",
    "- Please fill up the first two rows of the code"
   ]
  },
  {
   "cell_type": "code",
   "execution_count": 149,
   "id": "c797e4b5",
   "metadata": {
    "id": "c797e4b5"
   },
   "outputs": [],
   "source": [
    "bins = [0, 15, 30, 45, 60, 100]\n",
    "labels = [\"0-15\", \"16-30\", \"31-45\", \"46-60\", \"Greatar than 60\"]\n",
    "Final['Aging Bucket'] = pd.cut(Final['avg_delay'], bins=bins, labels=labels, right=False)"
   ]
  },
  {
   "cell_type": "markdown",
   "id": "1c35725f",
   "metadata": {
    "id": "1c35725f"
   },
   "source": [
    "### Now you need to drop \"key_0\" and \"avg_delay\" columns from the \"Final\" Dataframe"
   ]
  },
  {
   "cell_type": "code",
   "execution_count": 150,
   "id": "b31bc6a3",
   "metadata": {
    "id": "b31bc6a3"
   },
   "outputs": [],
   "source": [
    "Final.drop(columns=['key_0', 'avg_delay'], inplace=True)"
   ]
  },
  {
   "cell_type": "markdown",
   "id": "Ui-tyIvU0-5u",
   "metadata": {
    "id": "Ui-tyIvU0-5u"
   },
   "source": [
    "### Display the count of each categoty of new \"Aging Bucket\" column "
   ]
  },
  {
   "cell_type": "code",
   "execution_count": 151,
   "id": "a6e16218",
   "metadata": {
    "id": "a6e16218"
   },
   "outputs": [
    {
     "data": {
      "text/plain": "Aging Bucket\n0-15               2349\n16-30              1417\n31-45               884\n46-60               162\nGreatar than 60      50\nName: Aging Bucket, dtype: int64"
     },
     "execution_count": 151,
     "metadata": {},
     "output_type": "execute_result"
    }
   ],
   "source": [
    "Final.groupby('Aging Bucket')['Aging Bucket'].count()"
   ]
  },
  {
   "cell_type": "markdown",
   "id": "kgYegy551GKJ",
   "metadata": {
    "id": "kgYegy551GKJ"
   },
   "source": [
    "### Display your final dataset with aging buckets "
   ]
  },
  {
   "cell_type": "code",
   "execution_count": 152,
   "id": "c4bc87ec",
   "metadata": {
    "id": "c4bc87ec"
   },
   "outputs": [
    {
     "data": {
      "text/plain": "     business_code cust_number     name_customer  \\\n0             CA02   140105686          SYSC llc   \n1             U001   200744019           TARG us   \n2             U001   200418007               AM    \n3             U001   200739534        OK systems   \n4             U001   200353024  DECA corporation   \n...            ...         ...               ...   \n9459          CA02   140106408        WAL-M corp   \n9460          CA02   140106408        WAL-M corp   \n9461          CA02   140106408        WAL-M corp   \n9462          CA02   140106408        WAL-M corp   \n9463          CA02   140106408        WAL-M corp   \n\n                        clear_date  buisness_year      doc_id posting_date  \\\n0    2020-04-10 08:00:20.964843750           2020  2960623488   2020-03-30   \n1    2020-03-20 11:35:29.625000000           2020  1930659387   2020-03-19   \n2    2020-04-14 00:03:53.750000000           2020  1930610806   2020-11-03   \n3    2020-04-18 07:05:17.500000000           2020  1930788296   2020-04-15   \n4    2020-04-03 11:28:09.375000000           2020  1930817482   2020-04-23   \n...                            ...            ...         ...          ...   \n9459 2020-04-17 18:02:54.750000000           2020  2960618884   2020-06-03   \n9460 2020-04-17 18:02:54.750000000           2020  2960618885   2020-06-03   \n9461 2020-04-17 18:02:54.750000000           2020  2960618886   2020-06-03   \n9462 2020-04-17 18:02:54.750000000           2020  2960618887   2020-06-03   \n9463 2020-04-17 18:02:54.750000000           2020  2960618888   2020-06-03   \n\n     due_in_date baseline_create_date cust_payment_terms  converted_usd  \\\n0     2020-04-10           2020-03-31               CA10       2309.790   \n1     2020-04-03           2020-03-19               NAA8      11173.020   \n2     2020-03-26           2020-03-11               NAA8       3525.590   \n3     2020-04-30           2020-04-15               NAA8     121105.650   \n4     2020-04-26           2020-04-16               NAM2       3726.060   \n...          ...                  ...                ...            ...   \n9459  2020-03-16           2020-03-06               CA10      64982.589   \n9460  2020-03-16           2020-03-06               CA10      64982.589   \n9461  2020-03-16           2020-03-06               CA10      64982.589   \n9462  2020-03-16           2020-03-06               CA10      64982.589   \n9463  2020-03-16           2020-03-06               CA10      64982.589   \n\n     Aging Bucket  \n0            0-15  \n1             NaN  \n2           16-30  \n3             NaN  \n4             NaN  \n...           ...  \n9459        31-45  \n9460        31-45  \n9461        31-45  \n9462        31-45  \n9463        31-45  \n\n[9464 rows x 12 columns]",
      "text/html": "<div>\n<style scoped>\n    .dataframe tbody tr th:only-of-type {\n        vertical-align: middle;\n    }\n\n    .dataframe tbody tr th {\n        vertical-align: top;\n    }\n\n    .dataframe thead th {\n        text-align: right;\n    }\n</style>\n<table border=\"1\" class=\"dataframe\">\n  <thead>\n    <tr style=\"text-align: right;\">\n      <th></th>\n      <th>business_code</th>\n      <th>cust_number</th>\n      <th>name_customer</th>\n      <th>clear_date</th>\n      <th>buisness_year</th>\n      <th>doc_id</th>\n      <th>posting_date</th>\n      <th>due_in_date</th>\n      <th>baseline_create_date</th>\n      <th>cust_payment_terms</th>\n      <th>converted_usd</th>\n      <th>Aging Bucket</th>\n    </tr>\n  </thead>\n  <tbody>\n    <tr>\n      <th>0</th>\n      <td>CA02</td>\n      <td>140105686</td>\n      <td>SYSC llc</td>\n      <td>2020-04-10 08:00:20.964843750</td>\n      <td>2020</td>\n      <td>2960623488</td>\n      <td>2020-03-30</td>\n      <td>2020-04-10</td>\n      <td>2020-03-31</td>\n      <td>CA10</td>\n      <td>2309.790</td>\n      <td>0-15</td>\n    </tr>\n    <tr>\n      <th>1</th>\n      <td>U001</td>\n      <td>200744019</td>\n      <td>TARG us</td>\n      <td>2020-03-20 11:35:29.625000000</td>\n      <td>2020</td>\n      <td>1930659387</td>\n      <td>2020-03-19</td>\n      <td>2020-04-03</td>\n      <td>2020-03-19</td>\n      <td>NAA8</td>\n      <td>11173.020</td>\n      <td>NaN</td>\n    </tr>\n    <tr>\n      <th>2</th>\n      <td>U001</td>\n      <td>200418007</td>\n      <td>AM</td>\n      <td>2020-04-14 00:03:53.750000000</td>\n      <td>2020</td>\n      <td>1930610806</td>\n      <td>2020-11-03</td>\n      <td>2020-03-26</td>\n      <td>2020-03-11</td>\n      <td>NAA8</td>\n      <td>3525.590</td>\n      <td>16-30</td>\n    </tr>\n    <tr>\n      <th>3</th>\n      <td>U001</td>\n      <td>200739534</td>\n      <td>OK systems</td>\n      <td>2020-04-18 07:05:17.500000000</td>\n      <td>2020</td>\n      <td>1930788296</td>\n      <td>2020-04-15</td>\n      <td>2020-04-30</td>\n      <td>2020-04-15</td>\n      <td>NAA8</td>\n      <td>121105.650</td>\n      <td>NaN</td>\n    </tr>\n    <tr>\n      <th>4</th>\n      <td>U001</td>\n      <td>200353024</td>\n      <td>DECA corporation</td>\n      <td>2020-04-03 11:28:09.375000000</td>\n      <td>2020</td>\n      <td>1930817482</td>\n      <td>2020-04-23</td>\n      <td>2020-04-26</td>\n      <td>2020-04-16</td>\n      <td>NAM2</td>\n      <td>3726.060</td>\n      <td>NaN</td>\n    </tr>\n    <tr>\n      <th>...</th>\n      <td>...</td>\n      <td>...</td>\n      <td>...</td>\n      <td>...</td>\n      <td>...</td>\n      <td>...</td>\n      <td>...</td>\n      <td>...</td>\n      <td>...</td>\n      <td>...</td>\n      <td>...</td>\n      <td>...</td>\n    </tr>\n    <tr>\n      <th>9459</th>\n      <td>CA02</td>\n      <td>140106408</td>\n      <td>WAL-M corp</td>\n      <td>2020-04-17 18:02:54.750000000</td>\n      <td>2020</td>\n      <td>2960618884</td>\n      <td>2020-06-03</td>\n      <td>2020-03-16</td>\n      <td>2020-03-06</td>\n      <td>CA10</td>\n      <td>64982.589</td>\n      <td>31-45</td>\n    </tr>\n    <tr>\n      <th>9460</th>\n      <td>CA02</td>\n      <td>140106408</td>\n      <td>WAL-M corp</td>\n      <td>2020-04-17 18:02:54.750000000</td>\n      <td>2020</td>\n      <td>2960618885</td>\n      <td>2020-06-03</td>\n      <td>2020-03-16</td>\n      <td>2020-03-06</td>\n      <td>CA10</td>\n      <td>64982.589</td>\n      <td>31-45</td>\n    </tr>\n    <tr>\n      <th>9461</th>\n      <td>CA02</td>\n      <td>140106408</td>\n      <td>WAL-M corp</td>\n      <td>2020-04-17 18:02:54.750000000</td>\n      <td>2020</td>\n      <td>2960618886</td>\n      <td>2020-06-03</td>\n      <td>2020-03-16</td>\n      <td>2020-03-06</td>\n      <td>CA10</td>\n      <td>64982.589</td>\n      <td>31-45</td>\n    </tr>\n    <tr>\n      <th>9462</th>\n      <td>CA02</td>\n      <td>140106408</td>\n      <td>WAL-M corp</td>\n      <td>2020-04-17 18:02:54.750000000</td>\n      <td>2020</td>\n      <td>2960618887</td>\n      <td>2020-06-03</td>\n      <td>2020-03-16</td>\n      <td>2020-03-06</td>\n      <td>CA10</td>\n      <td>64982.589</td>\n      <td>31-45</td>\n    </tr>\n    <tr>\n      <th>9463</th>\n      <td>CA02</td>\n      <td>140106408</td>\n      <td>WAL-M corp</td>\n      <td>2020-04-17 18:02:54.750000000</td>\n      <td>2020</td>\n      <td>2960618888</td>\n      <td>2020-06-03</td>\n      <td>2020-03-16</td>\n      <td>2020-03-06</td>\n      <td>CA10</td>\n      <td>64982.589</td>\n      <td>31-45</td>\n    </tr>\n  </tbody>\n</table>\n<p>9464 rows × 12 columns</p>\n</div>"
     },
     "execution_count": 152,
     "metadata": {},
     "output_type": "execute_result"
    }
   ],
   "source": [
    "Final"
   ]
  },
  {
   "cell_type": "markdown",
   "id": "Ji7AoDCB1L_x",
   "metadata": {
    "id": "Ji7AoDCB1L_x"
   },
   "source": [
    "### Store this dataframe into the .csv format"
   ]
  },
  {
   "cell_type": "code",
   "execution_count": 153,
   "id": "727d0b8d",
   "metadata": {
    "id": "727d0b8d"
   },
   "outputs": [],
   "source": [
    "Final.to_csv('Predicted Dates.csv')"
   ]
  },
  {
   "cell_type": "markdown",
   "id": "FK0fabl61SkC",
   "metadata": {
    "id": "FK0fabl61SkC",
    "pycharm": {
     "name": "#%% md\n"
    }
   },
   "source": []
  }
 ],
 "metadata": {
  "colab": {
   "collapsed_sections": [
    "62633a84"
   ],
   "name": "Payment date prediction.ipynb",
   "provenance": []
  },
  "kernelspec": {
   "display_name": "Python 3 (ipykernel)",
   "language": "python",
   "name": "python3"
  },
  "language_info": {
   "codemirror_mode": {
    "name": "ipython",
    "version": 3
   },
   "file_extension": ".py",
   "mimetype": "text/x-python",
   "name": "python",
   "nbconvert_exporter": "python",
   "pygments_lexer": "ipython3",
   "version": "3.9.7"
  }
 },
 "nbformat": 4,
 "nbformat_minor": 5
}