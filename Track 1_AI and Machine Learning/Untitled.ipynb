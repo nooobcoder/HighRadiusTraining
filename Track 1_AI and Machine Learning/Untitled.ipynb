{
 "cells": [
  {
   "cell_type": "code",
   "execution_count": null,
   "id": "d9a34020-23d0-4fda-92ed-817ef5bc963c",
   "metadata": {},
   "outputs": [],
   "source": [
    "import numpy as np\n",
    "import pandas as pd"
   ]
  },
  {
   "cell_type": "code",
   "execution_count": null,
   "id": "b11097c2-7d82-4f8a-8588-b73024b0a4db",
   "metadata": {},
   "outputs": [],
   "source": [
    "data = [{\"Name\": \"Ankur Paul\", \"Age\": 18}, {\"Name\": \"A Bose\", \"Age\": 32}]\n",
    "df = pd.DataFrame(data)"
   ]
  },
  {
   "cell_type": "code",
   "execution_count": null,
   "id": "545b21de-3d75-4c8c-95d8-937522954a8c",
   "metadata": {},
   "outputs": [],
   "source": [
    "df"
   ]
  },
  {
   "cell_type": "code",
   "execution_count": null,
   "id": "4eeb9901-0cb6-48a9-9fcf-979d8e47a9b3",
   "metadata": {},
   "outputs": [],
   "source": [
    "# Adding a row\n",
    "df.loc[2] = {\"Name\": \"A B\", \"Age\": 22}\n",
    "\n",
    "df"
   ]
  },
  {
   "cell_type": "code",
   "execution_count": null,
   "id": "3090b546-0349-4398-97ac-4d09fd49e959",
   "metadata": {},
   "outputs": [],
   "source": [
    "# Adding a column\n",
    "df['Email']=['a','b','c']\n",
    "\n",
    "df"
   ]
  },
  {
   "cell_type": "code",
   "execution_count": null,
   "id": "3736ec71-b39e-4545-9a93-3c04676040ff",
   "metadata": {},
   "outputs": [],
   "source": []
  }
 ],
 "metadata": {
  "kernelspec": {
   "display_name": "Python 3 (ipykernel)",
   "language": "python",
   "name": "python3"
  },
  "language_info": {
   "codemirror_mode": {
    "name": "ipython",
    "version": 3
   },
   "file_extension": ".py",
   "mimetype": "text/x-python",
   "name": "python",
   "nbconvert_exporter": "python",
   "pygments_lexer": "ipython3",
   "version": "3.9.7"
  }
 },
 "nbformat": 4,
 "nbformat_minor": 5
}