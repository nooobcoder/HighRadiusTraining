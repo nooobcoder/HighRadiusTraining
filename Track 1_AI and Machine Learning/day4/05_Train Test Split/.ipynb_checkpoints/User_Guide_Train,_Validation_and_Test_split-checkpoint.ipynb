{
  "nbformat": 4,
  "nbformat_minor": 0,
  "metadata": {
    "colab": {
      "name": "User Guide - Train, Validation and Test split.ipynb",
      "provenance": [],
      "collapsed_sections": []
    },
    "kernelspec": {
      "name": "python3",
      "display_name": "Python 3"
    }
  },
  "cells": [
    {
      "cell_type": "code",
      "metadata": {
        "id": "Rl4h7w_Srqs5",
        "colab": {
          "base_uri": "https://localhost:8080/",
          "height": 126
        },
        "outputId": "ca46b856-2008-4baa-d779-b0da454ea2d7"
      },
      "source": [
        "from google.colab import drive\n",
        "drive.mount('/content/drive/')"
      ],
      "execution_count": null,
      "outputs": [
        {
          "output_type": "stream",
          "text": [
            "Go to this URL in a browser: https://accounts.google.com/o/oauth2/auth?client_id=947318989803-6bn6qk8qdgf4n4g3pfee6491hc0brc4i.apps.googleusercontent.com&redirect_uri=urn%3aietf%3awg%3aoauth%3a2.0%3aoob&response_type=code&scope=email%20https%3a%2f%2fwww.googleapis.com%2fauth%2fdocs.test%20https%3a%2f%2fwww.googleapis.com%2fauth%2fdrive%20https%3a%2f%2fwww.googleapis.com%2fauth%2fdrive.photos.readonly%20https%3a%2f%2fwww.googleapis.com%2fauth%2fpeopleapi.readonly\n",
            "\n",
            "Enter your authorization code:\n",
            "··········\n",
            "Mounted at /content/drive/\n"
          ],
          "name": "stdout"
        }
      ]
    },
    {
      "cell_type": "code",
      "metadata": {
        "id": "PJL1SUVjtj8V"
      },
      "source": [
        "import pandas as pd\n",
        "import numpy as np\n",
        "from sklearn.model_selection import train_test_split"
      ],
      "execution_count": null,
      "outputs": []
    },
    {
      "cell_type": "code",
      "metadata": {
        "id": "vW-EpErquU9G"
      },
      "source": [
        "dataframe = pd.read_pickle(r'/content/drive/My Drive/- - -.CSV')"
      ],
      "execution_count": null,
      "outputs": []
    },
    {
      "cell_type": "code",
      "metadata": {
        "id": "eg11zHtIvhk0",
        "colab": {
          "base_uri": "https://localhost:8080/",
          "height": 35
        },
        "outputId": "e6cf1625-a392-4310-e896-1bc854e0d244"
      },
      "source": [
        "dataframe.shape"
      ],
      "execution_count": null,
      "outputs": [
        {
          "output_type": "execute_result",
          "data": {
            "text/plain": [
              "(222978, 21)"
            ]
          },
          "metadata": {
            "tags": []
          },
          "execution_count": 6
        }
      ]
    },
    {
      "cell_type": "markdown",
      "metadata": {
        "id": "0Oi-ypXAxogk"
      },
      "source": [
        "#Case 1(splitting the data randomly)"
      ]
    },
    {
      "cell_type": "markdown",
      "metadata": {
        "id": "J_dueL0Dv_fb"
      },
      "source": [
        "###Splitting the initial dataframe into Train and Test set."
      ]
    },
    {
      "cell_type": "code",
      "metadata": {
        "id": "tszhIfexuwcU",
        "colab": {
          "base_uri": "https://localhost:8080/",
          "height": 35
        },
        "outputId": "3e615de7-6eb3-4a6f-fcc1-64ac12491261"
      },
      "source": [
        "X_train, X_test_initially = train_test_split(dataframe,test_size=.30,shuffle=False,random_state=42)\n",
        "X_train.shape,X_test_initially.shape"
      ],
      "execution_count": null,
      "outputs": [
        {
          "output_type": "execute_result",
          "data": {
            "text/plain": [
              "((156084, 21), (66894, 21))"
            ]
          },
          "metadata": {
            "tags": []
          },
          "execution_count": 12
        }
      ]
    },
    {
      "cell_type": "markdown",
      "metadata": {
        "id": "3NbEZlNvwf1g"
      },
      "source": [
        "###Splitting the X_test_initially into Validation and Test set"
      ]
    },
    {
      "cell_type": "code",
      "metadata": {
        "id": "hg7CwrudvYq5",
        "colab": {
          "base_uri": "https://localhost:8080/",
          "height": 35
        },
        "outputId": "370a42ac-4853-47e1-d37e-0ce89782bf2e"
      },
      "source": [
        "X_validation, X_test_new = train_test_split(X_test_initially,test_size=.50,shuffle=False,random_state=42)\n",
        "X_validation.shape,X_test_new.shape"
      ],
      "execution_count": null,
      "outputs": [
        {
          "output_type": "execute_result",
          "data": {
            "text/plain": [
              "((33447, 21), (33447, 21))"
            ]
          },
          "metadata": {
            "tags": []
          },
          "execution_count": 14
        }
      ]
    },
    {
      "cell_type": "markdown",
      "metadata": {
        "id": "Zcw2PAHIIHhH"
      },
      "source": [
        "Note: And in this case if the value in the target variable is NULL then put it in the test set."
      ]
    },
    {
      "cell_type": "markdown",
      "metadata": {
        "id": "-bXxA12xxxvU"
      },
      "source": [
        "#Case 2(splitting the data on the basis of date)"
      ]
    },
    {
      "cell_type": "markdown",
      "metadata": {
        "id": "TxhwrvDDyCOv"
      },
      "source": [
        "**Reason for splitting on date basis :- Since in some of the use cases we will always be making prediction for the future data so in this case we will have to make the train, validation, and test split on the basis of date instead of random split. For example if we are training the model for data between january to september then the validation set can be from october to mid of november and test set can be from mid of november and onwards.**"
      ]
    },
    {
      "cell_type": "code",
      "metadata": {
        "id": "f6NqudJyxMhf"
      },
      "source": [
        "dataframe = pd.read_csv(r'/content/drive/My Drive/- - -.CSV')"
      ],
      "execution_count": null,
      "outputs": []
    },
    {
      "cell_type": "code",
      "metadata": {
        "id": "OMYU13gu38K8",
        "colab": {
          "base_uri": "https://localhost:8080/",
          "height": 35
        },
        "outputId": "619cbbd1-e091-4062-d0d3-4612c026bf1f"
      },
      "source": [
        "dataframe.shape"
      ],
      "execution_count": null,
      "outputs": [
        {
          "output_type": "execute_result",
          "data": {
            "text/plain": [
              "(5835724, 31)"
            ]
          },
          "metadata": {
            "tags": []
          },
          "execution_count": 16
        }
      ]
    },
    {
      "cell_type": "code",
      "metadata": {
        "id": "A8odOBvX5Wq7"
      },
      "source": [
        "# Converting all the date columns into datetime format\n",
        "dataframe['Date_Column']=pd.to_datetime(dataframe['Date_Column'])"
      ],
      "execution_count": null,
      "outputs": []
    },
    {
      "cell_type": "code",
      "metadata": {
        "id": "GmrPugGM4vcp"
      },
      "source": [
        "# Splitting the initial dataframe into train and temp\n",
        "# Suppose the dataframe is from '2019-01-01' to '2019-12-31'\n",
        "# So in this case we can consider last 3 months for validation and test set.\n",
        "x_train=new_data[new_data['Date_Column'] <= '2019-09-30'].copy()\n",
        "x_temp=new_data[new_data['Date_Column'] > '2019-09-31'].copy()\n",
        "\n",
        "\n",
        "# Spliting the temp into validation and test set\n",
        "# Now we can take 1 and a half month for validation and the remaining 1 and a half month for test.\n",
        "x_validation=x_temp[x_temp['Date_Column'] <= '2019-11-15'].copy()\n",
        "x_test=x_temp[x_temp['Date_Column'] > '2019-11-15'].copy()"
      ],
      "execution_count": null,
      "outputs": []
    },
    {
      "cell_type": "code",
      "metadata": {
        "id": "IlPTUMOF4vkC"
      },
      "source": [
        "print(x_train.shape)\n",
        "print(x_validation.shape)\n",
        "print(x_test.shape)"
      ],
      "execution_count": null,
      "outputs": []
    }
  ]
}