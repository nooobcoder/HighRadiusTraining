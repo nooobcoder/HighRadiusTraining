{
 "cells": [
  {
   "cell_type": "code",
   "execution_count": null,
   "metadata": {
    "colab": {
     "base_uri": "https://localhost:8080/",
     "height": 126
    },
    "id": "Rl4h7w_Srqs5",
    "outputId": "ca46b856-2008-4baa-d779-b0da454ea2d7"
   },
   "outputs": [
    {
     "name": "stdout",
     "output_type": "stream",
     "text": [
      "Go to this URL in a browser: https://accounts.google.com/o/oauth2/auth?client_id=947318989803-6bn6qk8qdgf4n4g3pfee6491hc0brc4i.apps.googleusercontent.com&redirect_uri=urn%3aietf%3awg%3aoauth%3a2.0%3aoob&response_type=code&scope=email%20https%3a%2f%2fwww.googleapis.com%2fauth%2fdocs.test%20https%3a%2f%2fwww.googleapis.com%2fauth%2fdrive%20https%3a%2f%2fwww.googleapis.com%2fauth%2fdrive.photos.readonly%20https%3a%2f%2fwww.googleapis.com%2fauth%2fpeopleapi.readonly\n",
      "\n",
      "Enter your authorization code:\n",
      "··········\n",
      "Mounted at /content/drive/\n"
     ]
    }
   ],
   "source": [
    "from google.colab import drive\n",
    "\n",
    "drive.mount(\"/content/drive/\")"
   ]
  },
  {
   "cell_type": "code",
   "execution_count": null,
   "metadata": {
    "id": "PJL1SUVjtj8V"
   },
   "outputs": [],
   "source": [
    "import numpy as np\n",
    "import pandas as pd\n",
    "from sklearn.model_selection import train_test_split"
   ]
  },
  {
   "cell_type": "code",
   "execution_count": null,
   "metadata": {
    "id": "vW-EpErquU9G"
   },
   "outputs": [],
   "source": [
    "dataframe = pd.read_pickle(r\"/content/drive/My Drive/- - -.CSV\")"
   ]
  },
  {
   "cell_type": "code",
   "execution_count": null,
   "metadata": {
    "colab": {
     "base_uri": "https://localhost:8080/",
     "height": 35
    },
    "id": "eg11zHtIvhk0",
    "outputId": "e6cf1625-a392-4310-e896-1bc854e0d244"
   },
   "outputs": [
    {
     "data": {
      "text/plain": [
       "(222978, 21)"
      ]
     },
     "execution_count": 6,
     "metadata": {
      "tags": []
     },
     "output_type": "execute_result"
    }
   ],
   "source": [
    "dataframe.shape"
   ]
  },
  {
   "cell_type": "markdown",
   "metadata": {
    "id": "0Oi-ypXAxogk"
   },
   "source": [
    "#Case 1(splitting the data randomly)"
   ]
  },
  {
   "cell_type": "markdown",
   "metadata": {
    "id": "J_dueL0Dv_fb"
   },
   "source": [
    "###Splitting the initial dataframe into Train and Test set."
   ]
  },
  {
   "cell_type": "code",
   "execution_count": null,
   "metadata": {
    "colab": {
     "base_uri": "https://localhost:8080/",
     "height": 35
    },
    "id": "tszhIfexuwcU",
    "outputId": "3e615de7-6eb3-4a6f-fcc1-64ac12491261"
   },
   "outputs": [
    {
     "data": {
      "text/plain": [
       "((156084, 21), (66894, 21))"
      ]
     },
     "execution_count": 12,
     "metadata": {
      "tags": []
     },
     "output_type": "execute_result"
    }
   ],
   "source": [
    "X_train, X_test_initially = train_test_split(\n",
    "    dataframe, test_size=0.30, shuffle=False, random_state=42\n",
    ")\n",
    "X_train.shape, X_test_initially.shape"
   ]
  },
  {
   "cell_type": "markdown",
   "metadata": {
    "id": "3NbEZlNvwf1g"
   },
   "source": [
    "###Splitting the X_test_initially into Validation and Test set"
   ]
  },
  {
   "cell_type": "code",
   "execution_count": null,
   "metadata": {
    "colab": {
     "base_uri": "https://localhost:8080/",
     "height": 35
    },
    "id": "hg7CwrudvYq5",
    "outputId": "370a42ac-4853-47e1-d37e-0ce89782bf2e"
   },
   "outputs": [
    {
     "data": {
      "text/plain": [
       "((33447, 21), (33447, 21))"
      ]
     },
     "execution_count": 14,
     "metadata": {
      "tags": []
     },
     "output_type": "execute_result"
    }
   ],
   "source": [
    "X_validation, X_test_new = train_test_split(\n",
    "    X_test_initially, test_size=0.50, shuffle=False, random_state=42\n",
    ")\n",
    "X_validation.shape, X_test_new.shape"
   ]
  },
  {
   "cell_type": "markdown",
   "metadata": {
    "id": "Zcw2PAHIIHhH"
   },
   "source": [
    "Note: And in this case if the value in the target variable is NULL then put it in the test set."
   ]
  },
  {
   "cell_type": "markdown",
   "metadata": {
    "id": "-bXxA12xxxvU"
   },
   "source": [
    "#Case 2(splitting the data on the basis of date)"
   ]
  },
  {
   "cell_type": "markdown",
   "metadata": {
    "id": "TxhwrvDDyCOv"
   },
   "source": [
    "**Reason for splitting on date basis :- Since in some of the use cases we will always be making prediction for the future data so in this case we will have to make the train, validation, and test split on the basis of date instead of random split. For example if we are training the model for data between january to september then the validation set can be from october to mid of november and test set can be from mid of november and onwards.**"
   ]
  },
  {
   "cell_type": "code",
   "execution_count": null,
   "metadata": {
    "id": "f6NqudJyxMhf"
   },
   "outputs": [],
   "source": [
    "dataframe = pd.read_csv(r\"/content/drive/My Drive/- - -.CSV\")"
   ]
  },
  {
   "cell_type": "code",
   "execution_count": null,
   "metadata": {
    "colab": {
     "base_uri": "https://localhost:8080/",
     "height": 35
    },
    "id": "OMYU13gu38K8",
    "outputId": "619cbbd1-e091-4062-d0d3-4612c026bf1f"
   },
   "outputs": [
    {
     "data": {
      "text/plain": [
       "(5835724, 31)"
      ]
     },
     "execution_count": 16,
     "metadata": {
      "tags": []
     },
     "output_type": "execute_result"
    }
   ],
   "source": [
    "dataframe.shape"
   ]
  },
  {
   "cell_type": "code",
   "execution_count": null,
   "metadata": {
    "id": "A8odOBvX5Wq7"
   },
   "outputs": [],
   "source": [
    "# Converting all the date columns into datetime format\n",
    "dataframe[\"Date_Column\"] = pd.to_datetime(dataframe[\"Date_Column\"])"
   ]
  },
  {
   "cell_type": "code",
   "execution_count": null,
   "metadata": {
    "id": "GmrPugGM4vcp"
   },
   "outputs": [],
   "source": [
    "# Splitting the initial dataframe into train and temp\n",
    "# Suppose the dataframe is from '2019-01-01' to '2019-12-31'\n",
    "# So in this case we can consider last 3 months for validation and test set.\n",
    "x_train = new_data[new_data[\"Date_Column\"] <= \"2019-09-30\"].copy()\n",
    "x_temp = new_data[new_data[\"Date_Column\"] > \"2019-09-31\"].copy()\n",
    "\n",
    "\n",
    "# Spliting the temp into validation and test set\n",
    "# Now we can take 1 and a half month for validation and the remaining 1 and a half month for test.\n",
    "x_validation = x_temp[x_temp[\"Date_Column\"] <= \"2019-11-15\"].copy()\n",
    "x_test = x_temp[x_temp[\"Date_Column\"] > \"2019-11-15\"].copy()"
   ]
  },
  {
   "cell_type": "code",
   "execution_count": null,
   "metadata": {
    "id": "IlPTUMOF4vkC"
   },
   "outputs": [],
   "source": [
    "print(x_train.shape)\n",
    "print(x_validation.shape)\n",
    "print(x_test.shape)"
   ]
  }
 ],
 "metadata": {
  "colab": {
   "collapsed_sections": [],
   "name": "User Guide - Train, Validation and Test split.ipynb",
   "provenance": []
  },
  "kernelspec": {
   "display_name": "Python 3 (ipykernel)",
   "language": "python",
   "name": "python3"
  },
  "language_info": {
   "codemirror_mode": {
    "name": "ipython",
    "version": 3
   },
   "file_extension": ".py",
   "mimetype": "text/x-python",
   "name": "python",
   "nbconvert_exporter": "python",
   "pygments_lexer": "ipython3",
   "version": "3.9.7"
  }
 },
 "nbformat": 4,
 "nbformat_minor": 4
}
