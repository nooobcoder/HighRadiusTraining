{
 "cells": [
  {
   "cell_type": "code",
   "execution_count": 1,
   "id": "03771e17-c1c9-4335-9fc0-bf904f8342c4",
   "metadata": {},
   "outputs": [],
   "source": [
    "import numpy as np\n",
    "import pandas as pd"
   ]
  },
  {
   "cell_type": "code",
   "execution_count": 2,
   "id": "df6e0f35-214f-4280-aa6f-6f6c0b1fe1ff",
   "metadata": {},
   "outputs": [
    {
     "name": "stdout",
     "output_type": "stream",
     "text": [
      "1\n",
      "2\n"
     ]
    }
   ],
   "source": [
    "i = 1\n",
    "while True:\n",
    "    if i % 3 == 0:\n",
    "        break\n",
    "\n",
    "    print(i)\n",
    "    i += 1"
   ]
  },
  {
   "cell_type": "code",
   "execution_count": 3,
   "id": "d767268f-6b26-49d3-bda7-451a2f205512",
   "metadata": {},
   "outputs": [
    {
     "name": "stdout",
     "output_type": "stream",
     "text": [
      "2416\n"
     ]
    }
   ],
   "source": [
    "x = \"24\" + \"16\"\n",
    "print(x)"
   ]
  },
  {
   "cell_type": "code",
   "execution_count": 5,
   "id": "fabd2bcc-12d9-4536-9bdc-241b86394532",
   "metadata": {},
   "outputs": [
    {
     "ename": "TypeError",
     "evalue": "__init__() missing 1 required positional argument: 'a'",
     "output_type": "error",
     "traceback": [
      "\u001b[0;31m---------------------------------------------------------------------------\u001b[0m",
      "\u001b[0;31mTypeError\u001b[0m                                 Traceback (most recent call last)",
      "\u001b[0;32m/tmp/ipykernel_488/2473527757.py\u001b[0m in \u001b[0;36m<module>\u001b[0;34m\u001b[0m\n\u001b[1;32m      6\u001b[0m         \u001b[0mprint\u001b[0m\u001b[0;34m(\u001b[0m\u001b[0mself\u001b[0m\u001b[0;34m.\u001b[0m\u001b[0ma\u001b[0m\u001b[0;34m)\u001b[0m\u001b[0;34m\u001b[0m\u001b[0;34m\u001b[0m\u001b[0m\n\u001b[1;32m      7\u001b[0m \u001b[0;34m\u001b[0m\u001b[0m\n\u001b[0;32m----> 8\u001b[0;31m \u001b[0mobj\u001b[0m\u001b[0;34m=\u001b[0m\u001b[0mtest\u001b[0m\u001b[0;34m(\u001b[0m\u001b[0;34m)\u001b[0m\u001b[0;34m\u001b[0m\u001b[0;34m\u001b[0m\u001b[0m\n\u001b[0m\u001b[1;32m      9\u001b[0m \u001b[0mobj\u001b[0m\u001b[0;34m.\u001b[0m\u001b[0mdisplay\u001b[0m\u001b[0;34m(\u001b[0m\u001b[0;34m)\u001b[0m\u001b[0;34m\u001b[0m\u001b[0;34m\u001b[0m\u001b[0m\n",
      "\u001b[0;31mTypeError\u001b[0m: __init__() missing 1 required positional argument: 'a'"
     ]
    }
   ],
   "source": [
    "class test:\n",
    "    def __init__(self, a):\n",
    "        self.a = a\n",
    "\n",
    "    def display(self):\n",
    "        print(self.a)\n",
    "\n",
    "\n",
    "obj = test()\n",
    "obj.display()"
   ]
  },
  {
   "cell_type": "code",
   "execution_count": 6,
   "id": "122c9573-5fe1-40c6-a102-463d0a204a49",
   "metadata": {},
   "outputs": [
    {
     "name": "stdout",
     "output_type": "stream",
     "text": [
      "0\n",
      "1\n",
      "2\n"
     ]
    }
   ],
   "source": [
    "i = 0\n",
    "while i < 5:\n",
    "    print(i)\n",
    "    i += 1\n",
    "    if i == 3:\n",
    "        break\n",
    "else:\n",
    "    print(0)"
   ]
  },
  {
   "cell_type": "code",
   "execution_count": 7,
   "id": "c5d67bdb-afbb-416b-b329-82acf2a1c084",
   "metadata": {},
   "outputs": [
    {
     "ename": "TypeError",
     "evalue": "'float' object cannot be interpreted as an integer",
     "output_type": "error",
     "traceback": [
      "\u001b[0;31m---------------------------------------------------------------------------\u001b[0m",
      "\u001b[0;31mTypeError\u001b[0m                                 Traceback (most recent call last)",
      "\u001b[0;32m/tmp/ipykernel_488/3345124285.py\u001b[0m in \u001b[0;36m<module>\u001b[0;34m\u001b[0m\n\u001b[1;32m      1\u001b[0m \u001b[0msum\u001b[0m\u001b[0;34m=\u001b[0m\u001b[0;36m0\u001b[0m\u001b[0;34m\u001b[0m\u001b[0;34m\u001b[0m\u001b[0m\n\u001b[0;32m----> 2\u001b[0;31m \u001b[0;32mfor\u001b[0m \u001b[0md\u001b[0m \u001b[0;32min\u001b[0m \u001b[0mrange\u001b[0m \u001b[0;34m(\u001b[0m\u001b[0;36m0\u001b[0m\u001b[0;34m,\u001b[0m\u001b[0;36m10\u001b[0m\u001b[0;34m,\u001b[0m\u001b[0;36m0.1\u001b[0m\u001b[0;34m)\u001b[0m\u001b[0;34m:\u001b[0m\u001b[0;34m\u001b[0m\u001b[0;34m\u001b[0m\u001b[0m\n\u001b[0m\u001b[1;32m      3\u001b[0m     \u001b[0msum\u001b[0m\u001b[0;34m+=\u001b[0m\u001b[0msum\u001b[0m\u001b[0;34m+\u001b[0m\u001b[0md\u001b[0m\u001b[0;34m\u001b[0m\u001b[0;34m\u001b[0m\u001b[0m\n",
      "\u001b[0;31mTypeError\u001b[0m: 'float' object cannot be interpreted as an integer"
     ]
    }
   ],
   "source": [
    "sum = 0\n",
    "for d in range(0, 10, 0.1):\n",
    "    sum += sum + d"
   ]
  },
  {
   "cell_type": "code",
   "execution_count": 8,
   "id": "71a13098-3c61-499f-bbf3-084838a5ec47",
   "metadata": {},
   "outputs": [
    {
     "name": "stdout",
     "output_type": "stream",
     "text": [
      "r\n"
     ]
    }
   ],
   "source": [
    "lst = [\"Superman\", \"Thor\", \"batman\", \"Deadpool\"]\n",
    "print(lst[1][-1])"
   ]
  },
  {
   "cell_type": "code",
   "execution_count": 9,
   "id": "97c17687-5d3d-4d2d-b7a4-c7a136886f38",
   "metadata": {},
   "outputs": [
    {
     "name": "stdout",
     "output_type": "stream",
     "text": [
      "4.0\n"
     ]
    }
   ],
   "source": [
    "print(100 / 25)"
   ]
  },
  {
   "cell_type": "code",
   "execution_count": 10,
   "id": "63d7df5e-6aef-401b-9617-de761d3fd358",
   "metadata": {},
   "outputs": [
    {
     "name": "stdout",
     "output_type": "stream",
     "text": [
      "Not same\n"
     ]
    }
   ],
   "source": [
    "l1 = [1, 2, 3]\n",
    "l2 = [1, 3, 2, 4]\n",
    "\n",
    "for i in l1:\n",
    "    if len(l1) != len(l2):\n",
    "        print(\"Not same\")\n",
    "        break\n",
    "    if i not in l2:\n",
    "        print(\"Lists are not same\")\n",
    "        break\n",
    "else:\n",
    "    print(\"Both are same\")"
   ]
  },
  {
   "cell_type": "code",
   "execution_count": 11,
   "id": "20452a2a-a202-49fa-853f-a28d49c0650d",
   "metadata": {},
   "outputs": [
    {
     "name": "stdout",
     "output_type": "stream",
     "text": [
      "556777"
     ]
    }
   ],
   "source": [
    "a = [5, 5, 6, 7, 7, 7]\n",
    "b = set(a)\n",
    "\n",
    "\n",
    "def test(lst):\n",
    "    if lst in b:\n",
    "        return 1\n",
    "    else:\n",
    "        return 0\n",
    "\n",
    "\n",
    "for i in filter(test, a):\n",
    "    print(i, end=\"\")"
   ]
  },
  {
   "cell_type": "code",
   "execution_count": 12,
   "id": "f22f0ff6-7c84-4338-8b67-a9384f3ffb0d",
   "metadata": {},
   "outputs": [
    {
     "name": "stdout",
     "output_type": "stream",
     "text": [
      "03691215"
     ]
    }
   ],
   "source": [
    "count = 0\n",
    "while True:\n",
    "    if count % 3 == 0:\n",
    "        print(count, end=\"\")\n",
    "    if count > 15:\n",
    "        break\n",
    "    count += 1"
   ]
  },
  {
   "cell_type": "code",
   "execution_count": 13,
   "id": "87c4bd98-c6f0-46dc-b121-0226c4a9aa96",
   "metadata": {},
   "outputs": [
    {
     "name": "stdout",
     "output_type": "stream",
     "text": [
      "30\n"
     ]
    }
   ],
   "source": [
    "a = np.array([6, 21, 3, 5, 8])\n",
    "b = np.array([6, 8, 2, 1, 9])\n",
    "\n",
    "c = a + b\n",
    "c = c * a\n",
    "\n",
    "print(c[3])"
   ]
  },
  {
   "cell_type": "code",
   "execution_count": 14,
   "id": "7b55afe1-b88b-4848-9807-6830576c3400",
   "metadata": {},
   "outputs": [
    {
     "name": "stdout",
     "output_type": "stream",
     "text": [
      "[ True False False]\n"
     ]
    }
   ],
   "source": [
    "import numpy as np\n",
    "\n",
    "a = np.array([101, 89, 87])\n",
    "b = np.array([99, 97, 100])\n",
    "print(np.greater_equal(a, b))"
   ]
  },
  {
   "cell_type": "code",
   "execution_count": 15,
   "id": "5d57f0e8-225b-40b9-aa82-4030b8defb44",
   "metadata": {},
   "outputs": [
    {
     "name": "stdout",
     "output_type": "stream",
     "text": [
      "6\n"
     ]
    }
   ],
   "source": [
    "a = np.array([[1, 2, 3], [0, 1, 4]])\n",
    "print(a.size)"
   ]
  },
  {
   "cell_type": "code",
   "execution_count": 18,
   "id": "d0b6a5bf-d885-4552-bf34-09e92c0be712",
   "metadata": {},
   "outputs": [
    {
     "name": "stdout",
     "output_type": "stream",
     "text": [
      "8\n"
     ]
    }
   ],
   "source": [
    "a = np.array([[2, 3, 1], [6, 7, 9]])\n",
    "b = np.zeros((2, 3), dtype=np.int16)\n",
    "c = np.ones((2, 3), dtype=np.int16)\n",
    "\n",
    "d = a + b + c\n",
    "print(d[1, 1])"
   ]
  },
  {
   "cell_type": "code",
   "execution_count": 22,
   "id": "408e4d2b-a762-4c91-b030-7045f0112204",
   "metadata": {},
   "outputs": [
    {
     "name": "stdout",
     "output_type": "stream",
     "text": [
      "[7.]\n"
     ]
    }
   ],
   "source": [
    "hello = np.linspace(7, 10, 1)\n",
    "print(hello)"
   ]
  },
  {
   "cell_type": "code",
   "execution_count": 24,
   "id": "bda2507a-45f1-40c4-b7c7-2d332de266bc",
   "metadata": {},
   "outputs": [
    {
     "data": {
      "text/plain": [
       "array([1, 2, 3])"
      ]
     },
     "execution_count": 24,
     "metadata": {},
     "output_type": "execute_result"
    }
   ],
   "source": [
    "x = np.array([1, 2, 3])\n",
    "x"
   ]
  },
  {
   "cell_type": "code",
   "execution_count": 25,
   "id": "dee3b311-6ea1-43b9-8e76-70c996378563",
   "metadata": {},
   "outputs": [
    {
     "name": "stdout",
     "output_type": "stream",
     "text": [
      "int32\n"
     ]
    }
   ],
   "source": [
    "dt = dt = np.dtype(\"i4\")\n",
    "print(dt)"
   ]
  },
  {
   "cell_type": "code",
   "execution_count": 26,
   "id": "9e22aee7-bc1e-4b63-be75-75397541771b",
   "metadata": {},
   "outputs": [
    {
     "name": "stdout",
     "output_type": "stream",
     "text": [
      "[0 0 0 1 0 1]\n"
     ]
    }
   ],
   "source": [
    "a = np.array([1, 45, 3, 66, 23, 58])\n",
    "l = np.where(a % 2 == 0, 1, 0)\n",
    "print(l)"
   ]
  },
  {
   "cell_type": "code",
   "execution_count": 27,
   "id": "a1e27eb0-a522-4ad0-8c10-388e33fbcad1",
   "metadata": {},
   "outputs": [
    {
     "name": "stdout",
     "output_type": "stream",
     "text": [
      "24 24\n"
     ]
    }
   ],
   "source": [
    "arr = np.array((1, 2, 3))\n",
    "a = arr.nbytes\n",
    "b = arr.size * arr.itemsize\n",
    "print(a, b)"
   ]
  }
 ],
 "metadata": {
  "kernelspec": {
   "display_name": "Python 3 (ipykernel)",
   "language": "python",
   "name": "python3"
  },
  "language_info": {
   "codemirror_mode": {
    "name": "ipython",
    "version": 3
   },
   "file_extension": ".py",
   "mimetype": "text/x-python",
   "name": "python",
   "nbconvert_exporter": "python",
   "pygments_lexer": "ipython3",
   "version": "3.9.6"
  }
 },
 "nbformat": 4,
 "nbformat_minor": 5
}
