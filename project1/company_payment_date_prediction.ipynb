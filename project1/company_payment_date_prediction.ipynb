{
 "cells": [
  {
   "cell_type": "code",
   "execution_count": 1,
   "metadata": {},
   "outputs": [],
   "source": [
    "import warnings\n",
    "\n",
    "import matplotlib.pyplot as plt\n",
    "import numpy as np\n",
    "import pandas as pd\n",
    "\n",
    "# warnings.filterwarnings(\"ignore\")  # Disabling warnings"
   ]
  },
  {
   "cell_type": "code",
   "execution_count": 10,
   "metadata": {
    "scrolled": true
   },
   "outputs": [
    {
     "data": {
      "text/plain": [
       "(50000, 19)"
      ]
     },
     "execution_count": 10,
     "metadata": {},
     "output_type": "execute_result"
    }
   ],
   "source": [
    "data = pd.read_csv(\"./h2h_assignment_dataset.csv\")\n",
    "data.head(5)\n",
    "\n",
    "data.shape  # Returns the (rows, columns)"
   ]
  },
  {
   "cell_type": "code",
   "execution_count": 11,
   "metadata": {},
   "outputs": [
    {
     "data": {
      "text/plain": [
       "area_business                 0\n",
       "posting_id                    1\n",
       "isOpen                        2\n",
       "document type                 2\n",
       "buisness_year                 2\n",
       "invoice_currency              2\n",
       "business_code                 6\n",
       "cust_payment_terms           74\n",
       "clear_date                  403\n",
       "document_create_date.1      506\n",
       "baseline_create_date        506\n",
       "posting_date                506\n",
       "document_create_date        507\n",
       "due_in_date                 547\n",
       "cust_number                1425\n",
       "name_customer              4197\n",
       "total_open_amount         44349\n",
       "invoice_id                48833\n",
       "doc_id                    48839\n",
       "dtype: int64"
      ]
     },
     "execution_count": 11,
     "metadata": {},
     "output_type": "execute_result"
    }
   ],
   "source": [
    "# finding the number of unique values\n",
    "data.nunique().sort_values()"
   ]
  },
  {
   "cell_type": "code",
   "execution_count": 4,
   "metadata": {},
   "outputs": [
    {
     "data": {
      "text/plain": [
       "business_code                 0\n",
       "cust_payment_terms            0\n",
       "baseline_create_date          0\n",
       "total_open_amount             0\n",
       "posting_id                    0\n",
       "document type                 0\n",
       "invoice_currency              0\n",
       "document_create_date.1        0\n",
       "due_in_date                   0\n",
       "posting_date                  0\n",
       "doc_id                        0\n",
       "buisness_year                 0\n",
       "name_customer                 0\n",
       "cust_number                   0\n",
       "document_create_date          0\n",
       "isOpen                        0\n",
       "invoice_id                    6\n",
       "clear_date                10000\n",
       "area_business             50000\n",
       "dtype: int64"
      ]
     },
     "execution_count": 4,
     "metadata": {},
     "output_type": "execute_result"
    }
   ],
   "source": [
    "# Sum of null values\n",
    "df.isnull().sum().sort_values()"
   ]
  },
  {
   "cell_type": "code",
   "execution_count": 12,
   "metadata": {},
   "outputs": [
    {
     "data": {
      "text/plain": [
       "(40000, 19)"
      ]
     },
     "execution_count": 12,
     "metadata": {},
     "output_type": "execute_result"
    }
   ],
   "source": [
    "data1 = df[df[\"clear_date\"].notnull()].copy()\n",
    "data1.shape\n",
    "# I am dividing my data into data1 where clear dates are given"
   ]
  },
  {
   "cell_type": "code",
   "execution_count": 13,
   "metadata": {
    "scrolled": true
   },
   "outputs": [
    {
     "data": {
      "text/html": [
       "<div>\n",
       "<style scoped>\n",
       "    .dataframe tbody tr th:only-of-type {\n",
       "        vertical-align: middle;\n",
       "    }\n",
       "\n",
       "    .dataframe tbody tr th {\n",
       "        vertical-align: top;\n",
       "    }\n",
       "\n",
       "    .dataframe thead th {\n",
       "        text-align: right;\n",
       "    }\n",
       "</style>\n",
       "<table border=\"1\" class=\"dataframe\">\n",
       "  <thead>\n",
       "    <tr style=\"text-align: right;\">\n",
       "      <th></th>\n",
       "      <th>business_code</th>\n",
       "      <th>cust_number</th>\n",
       "      <th>name_customer</th>\n",
       "      <th>clear_date</th>\n",
       "      <th>buisness_year</th>\n",
       "      <th>doc_id</th>\n",
       "      <th>posting_date</th>\n",
       "      <th>document_create_date</th>\n",
       "      <th>document_create_date.1</th>\n",
       "      <th>due_in_date</th>\n",
       "      <th>invoice_currency</th>\n",
       "      <th>document type</th>\n",
       "      <th>posting_id</th>\n",
       "      <th>area_business</th>\n",
       "      <th>total_open_amount</th>\n",
       "      <th>baseline_create_date</th>\n",
       "      <th>cust_payment_terms</th>\n",
       "      <th>invoice_id</th>\n",
       "      <th>isOpen</th>\n",
       "    </tr>\n",
       "  </thead>\n",
       "  <tbody>\n",
       "    <tr>\n",
       "      <th>0</th>\n",
       "      <td>U001</td>\n",
       "      <td>0200769623</td>\n",
       "      <td>WAL-MAR corp</td>\n",
       "      <td>2020-02-11 00:00:00</td>\n",
       "      <td>2020.0</td>\n",
       "      <td>1.930438e+09</td>\n",
       "      <td>2020-01-26</td>\n",
       "      <td>20200125</td>\n",
       "      <td>20200126</td>\n",
       "      <td>20200210.0</td>\n",
       "      <td>USD</td>\n",
       "      <td>RV</td>\n",
       "      <td>1.0</td>\n",
       "      <td>NaN</td>\n",
       "      <td>54273.28</td>\n",
       "      <td>20200126.0</td>\n",
       "      <td>NAH4</td>\n",
       "      <td>1.930438e+09</td>\n",
       "      <td>0</td>\n",
       "    </tr>\n",
       "    <tr>\n",
       "      <th>1</th>\n",
       "      <td>U001</td>\n",
       "      <td>0200980828</td>\n",
       "      <td>BEN E</td>\n",
       "      <td>2019-08-08 00:00:00</td>\n",
       "      <td>2019.0</td>\n",
       "      <td>1.929646e+09</td>\n",
       "      <td>2019-07-22</td>\n",
       "      <td>20190722</td>\n",
       "      <td>20190722</td>\n",
       "      <td>20190811.0</td>\n",
       "      <td>USD</td>\n",
       "      <td>RV</td>\n",
       "      <td>1.0</td>\n",
       "      <td>NaN</td>\n",
       "      <td>79656.60</td>\n",
       "      <td>20190722.0</td>\n",
       "      <td>NAD1</td>\n",
       "      <td>1.929646e+09</td>\n",
       "      <td>0</td>\n",
       "    </tr>\n",
       "    <tr>\n",
       "      <th>2</th>\n",
       "      <td>U001</td>\n",
       "      <td>0200792734</td>\n",
       "      <td>MDV/ trust</td>\n",
       "      <td>2019-12-30 00:00:00</td>\n",
       "      <td>2019.0</td>\n",
       "      <td>1.929874e+09</td>\n",
       "      <td>2019-09-14</td>\n",
       "      <td>20190914</td>\n",
       "      <td>20190914</td>\n",
       "      <td>20190929.0</td>\n",
       "      <td>USD</td>\n",
       "      <td>RV</td>\n",
       "      <td>1.0</td>\n",
       "      <td>NaN</td>\n",
       "      <td>2253.86</td>\n",
       "      <td>20190914.0</td>\n",
       "      <td>NAA8</td>\n",
       "      <td>1.929874e+09</td>\n",
       "      <td>0</td>\n",
       "    </tr>\n",
       "    <tr>\n",
       "      <th>4</th>\n",
       "      <td>U001</td>\n",
       "      <td>0200769623</td>\n",
       "      <td>WAL-MAR foundation</td>\n",
       "      <td>2019-11-25 00:00:00</td>\n",
       "      <td>2019.0</td>\n",
       "      <td>1.930148e+09</td>\n",
       "      <td>2019-11-13</td>\n",
       "      <td>20191113</td>\n",
       "      <td>20191113</td>\n",
       "      <td>20191128.0</td>\n",
       "      <td>USD</td>\n",
       "      <td>RV</td>\n",
       "      <td>1.0</td>\n",
       "      <td>NaN</td>\n",
       "      <td>33133.29</td>\n",
       "      <td>20191113.0</td>\n",
       "      <td>NAH4</td>\n",
       "      <td>1.930148e+09</td>\n",
       "      <td>0</td>\n",
       "    </tr>\n",
       "    <tr>\n",
       "      <th>5</th>\n",
       "      <td>CA02</td>\n",
       "      <td>0140106181</td>\n",
       "      <td>THE  corporation</td>\n",
       "      <td>2019-12-04 00:00:00</td>\n",
       "      <td>2019.0</td>\n",
       "      <td>2.960581e+09</td>\n",
       "      <td>2019-09-20</td>\n",
       "      <td>20190920</td>\n",
       "      <td>20190920</td>\n",
       "      <td>20191004.0</td>\n",
       "      <td>CAD</td>\n",
       "      <td>RV</td>\n",
       "      <td>1.0</td>\n",
       "      <td>NaN</td>\n",
       "      <td>22225.84</td>\n",
       "      <td>20190924.0</td>\n",
       "      <td>CA10</td>\n",
       "      <td>2.960581e+09</td>\n",
       "      <td>0</td>\n",
       "    </tr>\n",
       "  </tbody>\n",
       "</table>\n",
       "</div>"
      ],
      "text/plain": [
       "  business_code cust_number       name_customer           clear_date  \\\n",
       "0          U001  0200769623        WAL-MAR corp  2020-02-11 00:00:00   \n",
       "1          U001  0200980828              BEN E   2019-08-08 00:00:00   \n",
       "2          U001  0200792734          MDV/ trust  2019-12-30 00:00:00   \n",
       "4          U001  0200769623  WAL-MAR foundation  2019-11-25 00:00:00   \n",
       "5          CA02  0140106181    THE  corporation  2019-12-04 00:00:00   \n",
       "\n",
       "   buisness_year        doc_id posting_date  document_create_date  \\\n",
       "0         2020.0  1.930438e+09   2020-01-26              20200125   \n",
       "1         2019.0  1.929646e+09   2019-07-22              20190722   \n",
       "2         2019.0  1.929874e+09   2019-09-14              20190914   \n",
       "4         2019.0  1.930148e+09   2019-11-13              20191113   \n",
       "5         2019.0  2.960581e+09   2019-09-20              20190920   \n",
       "\n",
       "   document_create_date.1  due_in_date invoice_currency document type  \\\n",
       "0                20200126   20200210.0              USD            RV   \n",
       "1                20190722   20190811.0              USD            RV   \n",
       "2                20190914   20190929.0              USD            RV   \n",
       "4                20191113   20191128.0              USD            RV   \n",
       "5                20190920   20191004.0              CAD            RV   \n",
       "\n",
       "   posting_id  area_business  total_open_amount  baseline_create_date  \\\n",
       "0         1.0            NaN           54273.28            20200126.0   \n",
       "1         1.0            NaN           79656.60            20190722.0   \n",
       "2         1.0            NaN            2253.86            20190914.0   \n",
       "4         1.0            NaN           33133.29            20191113.0   \n",
       "5         1.0            NaN           22225.84            20190924.0   \n",
       "\n",
       "  cust_payment_terms    invoice_id  isOpen  \n",
       "0               NAH4  1.930438e+09       0  \n",
       "1               NAD1  1.929646e+09       0  \n",
       "2               NAA8  1.929874e+09       0  \n",
       "4               NAH4  1.930148e+09       0  \n",
       "5               CA10  2.960581e+09       0  "
      ]
     },
     "execution_count": 13,
     "metadata": {},
     "output_type": "execute_result"
    }
   ],
   "source": [
    "data1.head()"
   ]
  },
  {
   "cell_type": "code",
   "execution_count": 7,
   "metadata": {},
   "outputs": [],
   "source": [
    "# so see there are no null values for clearing dates in our data1"
   ]
  },
  {
   "cell_type": "code",
   "execution_count": 8,
   "metadata": {},
   "outputs": [
    {
     "data": {
      "text/plain": [
       "business_code                 0\n",
       "cust_number                   0\n",
       "name_customer                 0\n",
       "clear_date                    0\n",
       "buisness_year                 0\n",
       "doc_id                        0\n",
       "posting_date                  0\n",
       "document_create_date          0\n",
       "document_create_date.1        0\n",
       "due_in_date                   0\n",
       "invoice_currency              0\n",
       "document type                 0\n",
       "posting_id                    0\n",
       "area_business             40000\n",
       "total_open_amount             0\n",
       "baseline_create_date          0\n",
       "cust_payment_terms            0\n",
       "invoice_id                    6\n",
       "isOpen                        0\n",
       "dtype: int64"
      ]
     },
     "execution_count": 8,
     "metadata": {},
     "output_type": "execute_result"
    }
   ],
   "source": [
    "data1.isnull().sum()"
   ]
  },
  {
   "cell_type": "code",
   "execution_count": 14,
   "metadata": {},
   "outputs": [
    {
     "data": {
      "text/html": [
       "<div>\n",
       "<style scoped>\n",
       "    .dataframe tbody tr th:only-of-type {\n",
       "        vertical-align: middle;\n",
       "    }\n",
       "\n",
       "    .dataframe tbody tr th {\n",
       "        vertical-align: top;\n",
       "    }\n",
       "\n",
       "    .dataframe thead th {\n",
       "        text-align: right;\n",
       "    }\n",
       "</style>\n",
       "<table border=\"1\" class=\"dataframe\">\n",
       "  <thead>\n",
       "    <tr style=\"text-align: right;\">\n",
       "      <th></th>\n",
       "      <th>business_code</th>\n",
       "      <th>cust_number</th>\n",
       "      <th>name_customer</th>\n",
       "      <th>clear_date</th>\n",
       "      <th>buisness_year</th>\n",
       "      <th>doc_id</th>\n",
       "      <th>posting_date</th>\n",
       "      <th>document_create_date</th>\n",
       "      <th>document_create_date.1</th>\n",
       "      <th>due_in_date</th>\n",
       "      <th>invoice_currency</th>\n",
       "      <th>document type</th>\n",
       "      <th>posting_id</th>\n",
       "      <th>area_business</th>\n",
       "      <th>total_open_amount</th>\n",
       "      <th>baseline_create_date</th>\n",
       "      <th>cust_payment_terms</th>\n",
       "      <th>invoice_id</th>\n",
       "      <th>isOpen</th>\n",
       "    </tr>\n",
       "  </thead>\n",
       "  <tbody>\n",
       "    <tr>\n",
       "      <th>3</th>\n",
       "      <td>CA02</td>\n",
       "      <td>0140105686</td>\n",
       "      <td>SYSC llc</td>\n",
       "      <td>NaN</td>\n",
       "      <td>2020.0</td>\n",
       "      <td>2.960623e+09</td>\n",
       "      <td>2020-03-30</td>\n",
       "      <td>20200330</td>\n",
       "      <td>20200330</td>\n",
       "      <td>20200410.0</td>\n",
       "      <td>CAD</td>\n",
       "      <td>RV</td>\n",
       "      <td>1.0</td>\n",
       "      <td>NaN</td>\n",
       "      <td>3299.70</td>\n",
       "      <td>20200331.0</td>\n",
       "      <td>CA10</td>\n",
       "      <td>2.960623e+09</td>\n",
       "      <td>1</td>\n",
       "    </tr>\n",
       "    <tr>\n",
       "      <th>7</th>\n",
       "      <td>U001</td>\n",
       "      <td>0200744019</td>\n",
       "      <td>TARG us</td>\n",
       "      <td>NaN</td>\n",
       "      <td>2020.0</td>\n",
       "      <td>1.930659e+09</td>\n",
       "      <td>2020-03-19</td>\n",
       "      <td>20200318</td>\n",
       "      <td>20200319</td>\n",
       "      <td>20200403.0</td>\n",
       "      <td>USD</td>\n",
       "      <td>RV</td>\n",
       "      <td>1.0</td>\n",
       "      <td>NaN</td>\n",
       "      <td>11173.02</td>\n",
       "      <td>20200319.0</td>\n",
       "      <td>NAA8</td>\n",
       "      <td>1.930659e+09</td>\n",
       "      <td>1</td>\n",
       "    </tr>\n",
       "    <tr>\n",
       "      <th>10</th>\n",
       "      <td>U001</td>\n",
       "      <td>0200418007</td>\n",
       "      <td>AM</td>\n",
       "      <td>NaN</td>\n",
       "      <td>2020.0</td>\n",
       "      <td>1.930611e+09</td>\n",
       "      <td>2020-03-11</td>\n",
       "      <td>20200306</td>\n",
       "      <td>20200311</td>\n",
       "      <td>20200326.0</td>\n",
       "      <td>USD</td>\n",
       "      <td>RV</td>\n",
       "      <td>1.0</td>\n",
       "      <td>NaN</td>\n",
       "      <td>3525.59</td>\n",
       "      <td>20200311.0</td>\n",
       "      <td>NAA8</td>\n",
       "      <td>1.930611e+09</td>\n",
       "      <td>1</td>\n",
       "    </tr>\n",
       "    <tr>\n",
       "      <th>14</th>\n",
       "      <td>U001</td>\n",
       "      <td>0200739534</td>\n",
       "      <td>OK systems</td>\n",
       "      <td>NaN</td>\n",
       "      <td>2020.0</td>\n",
       "      <td>1.930788e+09</td>\n",
       "      <td>2020-04-15</td>\n",
       "      <td>20200415</td>\n",
       "      <td>20200415</td>\n",
       "      <td>20200430.0</td>\n",
       "      <td>USD</td>\n",
       "      <td>RV</td>\n",
       "      <td>1.0</td>\n",
       "      <td>NaN</td>\n",
       "      <td>121105.65</td>\n",
       "      <td>20200415.0</td>\n",
       "      <td>NAA8</td>\n",
       "      <td>1.930788e+09</td>\n",
       "      <td>1</td>\n",
       "    </tr>\n",
       "    <tr>\n",
       "      <th>15</th>\n",
       "      <td>U001</td>\n",
       "      <td>0200353024</td>\n",
       "      <td>DECA corporation</td>\n",
       "      <td>NaN</td>\n",
       "      <td>2020.0</td>\n",
       "      <td>1.930817e+09</td>\n",
       "      <td>2020-04-23</td>\n",
       "      <td>20200423</td>\n",
       "      <td>20200423</td>\n",
       "      <td>20200426.0</td>\n",
       "      <td>USD</td>\n",
       "      <td>RV</td>\n",
       "      <td>1.0</td>\n",
       "      <td>NaN</td>\n",
       "      <td>3726.06</td>\n",
       "      <td>20200416.0</td>\n",
       "      <td>NAM2</td>\n",
       "      <td>1.930817e+09</td>\n",
       "      <td>1</td>\n",
       "    </tr>\n",
       "    <tr>\n",
       "      <th>...</th>\n",
       "      <td>...</td>\n",
       "      <td>...</td>\n",
       "      <td>...</td>\n",
       "      <td>...</td>\n",
       "      <td>...</td>\n",
       "      <td>...</td>\n",
       "      <td>...</td>\n",
       "      <td>...</td>\n",
       "      <td>...</td>\n",
       "      <td>...</td>\n",
       "      <td>...</td>\n",
       "      <td>...</td>\n",
       "      <td>...</td>\n",
       "      <td>...</td>\n",
       "      <td>...</td>\n",
       "      <td>...</td>\n",
       "      <td>...</td>\n",
       "      <td>...</td>\n",
       "      <td>...</td>\n",
       "    </tr>\n",
       "    <tr>\n",
       "      <th>49975</th>\n",
       "      <td>U001</td>\n",
       "      <td>0200769623</td>\n",
       "      <td>WAL-MAR in</td>\n",
       "      <td>NaN</td>\n",
       "      <td>2020.0</td>\n",
       "      <td>1.930625e+09</td>\n",
       "      <td>2020-03-10</td>\n",
       "      <td>20200309</td>\n",
       "      <td>20200310</td>\n",
       "      <td>20200325.0</td>\n",
       "      <td>USD</td>\n",
       "      <td>RV</td>\n",
       "      <td>1.0</td>\n",
       "      <td>NaN</td>\n",
       "      <td>13114.99</td>\n",
       "      <td>20200310.0</td>\n",
       "      <td>NAH4</td>\n",
       "      <td>1.930625e+09</td>\n",
       "      <td>1</td>\n",
       "    </tr>\n",
       "    <tr>\n",
       "      <th>49980</th>\n",
       "      <td>U001</td>\n",
       "      <td>0200769623</td>\n",
       "      <td>WAL-MAR corporation</td>\n",
       "      <td>NaN</td>\n",
       "      <td>2020.0</td>\n",
       "      <td>1.930851e+09</td>\n",
       "      <td>2020-05-03</td>\n",
       "      <td>20200502</td>\n",
       "      <td>20200503</td>\n",
       "      <td>20200518.0</td>\n",
       "      <td>USD</td>\n",
       "      <td>RV</td>\n",
       "      <td>1.0</td>\n",
       "      <td>NaN</td>\n",
       "      <td>8899.71</td>\n",
       "      <td>20200503.0</td>\n",
       "      <td>NAH4</td>\n",
       "      <td>1.930851e+09</td>\n",
       "      <td>1</td>\n",
       "    </tr>\n",
       "    <tr>\n",
       "      <th>49982</th>\n",
       "      <td>U001</td>\n",
       "      <td>0200148860</td>\n",
       "      <td>DOLLA co</td>\n",
       "      <td>NaN</td>\n",
       "      <td>2020.0</td>\n",
       "      <td>1.930638e+09</td>\n",
       "      <td>2020-03-11</td>\n",
       "      <td>20200311</td>\n",
       "      <td>20200311</td>\n",
       "      <td>20200326.0</td>\n",
       "      <td>USD</td>\n",
       "      <td>RV</td>\n",
       "      <td>1.0</td>\n",
       "      <td>NaN</td>\n",
       "      <td>4967.06</td>\n",
       "      <td>20200311.0</td>\n",
       "      <td>NAA8</td>\n",
       "      <td>1.930638e+09</td>\n",
       "      <td>1</td>\n",
       "    </tr>\n",
       "    <tr>\n",
       "      <th>49992</th>\n",
       "      <td>U001</td>\n",
       "      <td>0200900909</td>\n",
       "      <td>SYSCO co</td>\n",
       "      <td>NaN</td>\n",
       "      <td>2020.0</td>\n",
       "      <td>1.930702e+09</td>\n",
       "      <td>2020-03-25</td>\n",
       "      <td>20200325</td>\n",
       "      <td>20200325</td>\n",
       "      <td>20200409.0</td>\n",
       "      <td>USD</td>\n",
       "      <td>RV</td>\n",
       "      <td>1.0</td>\n",
       "      <td>NaN</td>\n",
       "      <td>1998.64</td>\n",
       "      <td>20200325.0</td>\n",
       "      <td>NAA8</td>\n",
       "      <td>1.930702e+09</td>\n",
       "      <td>1</td>\n",
       "    </tr>\n",
       "    <tr>\n",
       "      <th>49995</th>\n",
       "      <td>U001</td>\n",
       "      <td>0200561861</td>\n",
       "      <td>CO corporation</td>\n",
       "      <td>NaN</td>\n",
       "      <td>2020.0</td>\n",
       "      <td>1.930797e+09</td>\n",
       "      <td>2020-04-21</td>\n",
       "      <td>20200417</td>\n",
       "      <td>20200421</td>\n",
       "      <td>20200506.0</td>\n",
       "      <td>USD</td>\n",
       "      <td>RV</td>\n",
       "      <td>1.0</td>\n",
       "      <td>NaN</td>\n",
       "      <td>3187.86</td>\n",
       "      <td>20200421.0</td>\n",
       "      <td>NAA8</td>\n",
       "      <td>1.930797e+09</td>\n",
       "      <td>1</td>\n",
       "    </tr>\n",
       "  </tbody>\n",
       "</table>\n",
       "<p>10000 rows × 19 columns</p>\n",
       "</div>"
      ],
      "text/plain": [
       "      business_code cust_number        name_customer clear_date  \\\n",
       "3              CA02  0140105686             SYSC llc        NaN   \n",
       "7              U001  0200744019              TARG us        NaN   \n",
       "10             U001  0200418007                  AM         NaN   \n",
       "14             U001  0200739534           OK systems        NaN   \n",
       "15             U001  0200353024     DECA corporation        NaN   \n",
       "...             ...         ...                  ...        ...   \n",
       "49975          U001  0200769623           WAL-MAR in        NaN   \n",
       "49980          U001  0200769623  WAL-MAR corporation        NaN   \n",
       "49982          U001  0200148860             DOLLA co        NaN   \n",
       "49992          U001  0200900909             SYSCO co        NaN   \n",
       "49995          U001  0200561861       CO corporation        NaN   \n",
       "\n",
       "       buisness_year        doc_id posting_date  document_create_date  \\\n",
       "3             2020.0  2.960623e+09   2020-03-30              20200330   \n",
       "7             2020.0  1.930659e+09   2020-03-19              20200318   \n",
       "10            2020.0  1.930611e+09   2020-03-11              20200306   \n",
       "14            2020.0  1.930788e+09   2020-04-15              20200415   \n",
       "15            2020.0  1.930817e+09   2020-04-23              20200423   \n",
       "...              ...           ...          ...                   ...   \n",
       "49975         2020.0  1.930625e+09   2020-03-10              20200309   \n",
       "49980         2020.0  1.930851e+09   2020-05-03              20200502   \n",
       "49982         2020.0  1.930638e+09   2020-03-11              20200311   \n",
       "49992         2020.0  1.930702e+09   2020-03-25              20200325   \n",
       "49995         2020.0  1.930797e+09   2020-04-21              20200417   \n",
       "\n",
       "       document_create_date.1  due_in_date invoice_currency document type  \\\n",
       "3                    20200330   20200410.0              CAD            RV   \n",
       "7                    20200319   20200403.0              USD            RV   \n",
       "10                   20200311   20200326.0              USD            RV   \n",
       "14                   20200415   20200430.0              USD            RV   \n",
       "15                   20200423   20200426.0              USD            RV   \n",
       "...                       ...          ...              ...           ...   \n",
       "49975                20200310   20200325.0              USD            RV   \n",
       "49980                20200503   20200518.0              USD            RV   \n",
       "49982                20200311   20200326.0              USD            RV   \n",
       "49992                20200325   20200409.0              USD            RV   \n",
       "49995                20200421   20200506.0              USD            RV   \n",
       "\n",
       "       posting_id  area_business  total_open_amount  baseline_create_date  \\\n",
       "3             1.0            NaN            3299.70            20200331.0   \n",
       "7             1.0            NaN           11173.02            20200319.0   \n",
       "10            1.0            NaN            3525.59            20200311.0   \n",
       "14            1.0            NaN          121105.65            20200415.0   \n",
       "15            1.0            NaN            3726.06            20200416.0   \n",
       "...           ...            ...                ...                   ...   \n",
       "49975         1.0            NaN           13114.99            20200310.0   \n",
       "49980         1.0            NaN            8899.71            20200503.0   \n",
       "49982         1.0            NaN            4967.06            20200311.0   \n",
       "49992         1.0            NaN            1998.64            20200325.0   \n",
       "49995         1.0            NaN            3187.86            20200421.0   \n",
       "\n",
       "      cust_payment_terms    invoice_id  isOpen  \n",
       "3                   CA10  2.960623e+09       1  \n",
       "7                   NAA8  1.930659e+09       1  \n",
       "10                  NAA8  1.930611e+09       1  \n",
       "14                  NAA8  1.930788e+09       1  \n",
       "15                  NAM2  1.930817e+09       1  \n",
       "...                  ...           ...     ...  \n",
       "49975               NAH4  1.930625e+09       1  \n",
       "49980               NAH4  1.930851e+09       1  \n",
       "49982               NAA8  1.930638e+09       1  \n",
       "49992               NAA8  1.930702e+09       1  \n",
       "49995               NAA8  1.930797e+09       1  \n",
       "\n",
       "[10000 rows x 19 columns]"
      ]
     },
     "execution_count": 14,
     "metadata": {},
     "output_type": "execute_result"
    }
   ],
   "source": [
    "data_null = data[data[\"clear_date\"].isnull()].copy()\n",
    "data_null\n",
    "\n",
    "# drop_null have those values where clear_date is null"
   ]
  },
  {
   "cell_type": "code",
   "execution_count": 15,
   "metadata": {},
   "outputs": [
    {
     "data": {
      "text/plain": [
       "business_code                6\n",
       "cust_number                694\n",
       "name_customer             1766\n",
       "clear_date                   0\n",
       "buisness_year                1\n",
       "doc_id                    9681\n",
       "posting_date                83\n",
       "document_create_date        91\n",
       "document_create_date.1      83\n",
       "due_in_date                124\n",
       "invoice_currency             2\n",
       "document type                1\n",
       "posting_id                   1\n",
       "area_business                0\n",
       "total_open_amount         9079\n",
       "baseline_create_date        83\n",
       "cust_payment_terms          43\n",
       "invoice_id                9681\n",
       "isOpen                       1\n",
       "dtype: int64"
      ]
     },
     "execution_count": 15,
     "metadata": {},
     "output_type": "execute_result"
    }
   ],
   "source": [
    "data_null.nunique()\n",
    "# checking the number og unique values"
   ]
  },
  {
   "cell_type": "code",
   "execution_count": 16,
   "metadata": {},
   "outputs": [
    {
     "data": {
      "text/html": [
       "<div>\n",
       "<style scoped>\n",
       "    .dataframe tbody tr th:only-of-type {\n",
       "        vertical-align: middle;\n",
       "    }\n",
       "\n",
       "    .dataframe tbody tr th {\n",
       "        vertical-align: top;\n",
       "    }\n",
       "\n",
       "    .dataframe thead th {\n",
       "        text-align: right;\n",
       "    }\n",
       "</style>\n",
       "<table border=\"1\" class=\"dataframe\">\n",
       "  <thead>\n",
       "    <tr style=\"text-align: right;\">\n",
       "      <th></th>\n",
       "      <th>business_code</th>\n",
       "      <th>cust_number</th>\n",
       "      <th>name_customer</th>\n",
       "      <th>clear_date</th>\n",
       "      <th>buisness_year</th>\n",
       "      <th>doc_id</th>\n",
       "      <th>posting_date</th>\n",
       "      <th>document_create_date</th>\n",
       "      <th>document_create_date.1</th>\n",
       "      <th>due_in_date</th>\n",
       "      <th>invoice_currency</th>\n",
       "      <th>document type</th>\n",
       "      <th>posting_id</th>\n",
       "      <th>area_business</th>\n",
       "      <th>total_open_amount</th>\n",
       "      <th>baseline_create_date</th>\n",
       "      <th>cust_payment_terms</th>\n",
       "      <th>invoice_id</th>\n",
       "      <th>isOpen</th>\n",
       "    </tr>\n",
       "  </thead>\n",
       "  <tbody>\n",
       "    <tr>\n",
       "      <th>3</th>\n",
       "      <td>CA02</td>\n",
       "      <td>0140105686</td>\n",
       "      <td>SYSC llc</td>\n",
       "      <td>NaN</td>\n",
       "      <td>2020.0</td>\n",
       "      <td>2.960623e+09</td>\n",
       "      <td>2020-03-30</td>\n",
       "      <td>20200330</td>\n",
       "      <td>20200330</td>\n",
       "      <td>20200410.0</td>\n",
       "      <td>CAD</td>\n",
       "      <td>RV</td>\n",
       "      <td>1.0</td>\n",
       "      <td>NaN</td>\n",
       "      <td>3299.70</td>\n",
       "      <td>20200331.0</td>\n",
       "      <td>CA10</td>\n",
       "      <td>2.960623e+09</td>\n",
       "      <td>1</td>\n",
       "    </tr>\n",
       "    <tr>\n",
       "      <th>7</th>\n",
       "      <td>U001</td>\n",
       "      <td>0200744019</td>\n",
       "      <td>TARG us</td>\n",
       "      <td>NaN</td>\n",
       "      <td>2020.0</td>\n",
       "      <td>1.930659e+09</td>\n",
       "      <td>2020-03-19</td>\n",
       "      <td>20200318</td>\n",
       "      <td>20200319</td>\n",
       "      <td>20200403.0</td>\n",
       "      <td>USD</td>\n",
       "      <td>RV</td>\n",
       "      <td>1.0</td>\n",
       "      <td>NaN</td>\n",
       "      <td>11173.02</td>\n",
       "      <td>20200319.0</td>\n",
       "      <td>NAA8</td>\n",
       "      <td>1.930659e+09</td>\n",
       "      <td>1</td>\n",
       "    </tr>\n",
       "    <tr>\n",
       "      <th>10</th>\n",
       "      <td>U001</td>\n",
       "      <td>0200418007</td>\n",
       "      <td>AM</td>\n",
       "      <td>NaN</td>\n",
       "      <td>2020.0</td>\n",
       "      <td>1.930611e+09</td>\n",
       "      <td>2020-03-11</td>\n",
       "      <td>20200306</td>\n",
       "      <td>20200311</td>\n",
       "      <td>20200326.0</td>\n",
       "      <td>USD</td>\n",
       "      <td>RV</td>\n",
       "      <td>1.0</td>\n",
       "      <td>NaN</td>\n",
       "      <td>3525.59</td>\n",
       "      <td>20200311.0</td>\n",
       "      <td>NAA8</td>\n",
       "      <td>1.930611e+09</td>\n",
       "      <td>1</td>\n",
       "    </tr>\n",
       "    <tr>\n",
       "      <th>14</th>\n",
       "      <td>U001</td>\n",
       "      <td>0200739534</td>\n",
       "      <td>OK systems</td>\n",
       "      <td>NaN</td>\n",
       "      <td>2020.0</td>\n",
       "      <td>1.930788e+09</td>\n",
       "      <td>2020-04-15</td>\n",
       "      <td>20200415</td>\n",
       "      <td>20200415</td>\n",
       "      <td>20200430.0</td>\n",
       "      <td>USD</td>\n",
       "      <td>RV</td>\n",
       "      <td>1.0</td>\n",
       "      <td>NaN</td>\n",
       "      <td>121105.65</td>\n",
       "      <td>20200415.0</td>\n",
       "      <td>NAA8</td>\n",
       "      <td>1.930788e+09</td>\n",
       "      <td>1</td>\n",
       "    </tr>\n",
       "    <tr>\n",
       "      <th>15</th>\n",
       "      <td>U001</td>\n",
       "      <td>0200353024</td>\n",
       "      <td>DECA corporation</td>\n",
       "      <td>NaN</td>\n",
       "      <td>2020.0</td>\n",
       "      <td>1.930817e+09</td>\n",
       "      <td>2020-04-23</td>\n",
       "      <td>20200423</td>\n",
       "      <td>20200423</td>\n",
       "      <td>20200426.0</td>\n",
       "      <td>USD</td>\n",
       "      <td>RV</td>\n",
       "      <td>1.0</td>\n",
       "      <td>NaN</td>\n",
       "      <td>3726.06</td>\n",
       "      <td>20200416.0</td>\n",
       "      <td>NAM2</td>\n",
       "      <td>1.930817e+09</td>\n",
       "      <td>1</td>\n",
       "    </tr>\n",
       "    <tr>\n",
       "      <th>...</th>\n",
       "      <td>...</td>\n",
       "      <td>...</td>\n",
       "      <td>...</td>\n",
       "      <td>...</td>\n",
       "      <td>...</td>\n",
       "      <td>...</td>\n",
       "      <td>...</td>\n",
       "      <td>...</td>\n",
       "      <td>...</td>\n",
       "      <td>...</td>\n",
       "      <td>...</td>\n",
       "      <td>...</td>\n",
       "      <td>...</td>\n",
       "      <td>...</td>\n",
       "      <td>...</td>\n",
       "      <td>...</td>\n",
       "      <td>...</td>\n",
       "      <td>...</td>\n",
       "      <td>...</td>\n",
       "    </tr>\n",
       "    <tr>\n",
       "      <th>49975</th>\n",
       "      <td>U001</td>\n",
       "      <td>0200769623</td>\n",
       "      <td>WAL-MAR in</td>\n",
       "      <td>NaN</td>\n",
       "      <td>2020.0</td>\n",
       "      <td>1.930625e+09</td>\n",
       "      <td>2020-03-10</td>\n",
       "      <td>20200309</td>\n",
       "      <td>20200310</td>\n",
       "      <td>20200325.0</td>\n",
       "      <td>USD</td>\n",
       "      <td>RV</td>\n",
       "      <td>1.0</td>\n",
       "      <td>NaN</td>\n",
       "      <td>13114.99</td>\n",
       "      <td>20200310.0</td>\n",
       "      <td>NAH4</td>\n",
       "      <td>1.930625e+09</td>\n",
       "      <td>1</td>\n",
       "    </tr>\n",
       "    <tr>\n",
       "      <th>49980</th>\n",
       "      <td>U001</td>\n",
       "      <td>0200769623</td>\n",
       "      <td>WAL-MAR corporation</td>\n",
       "      <td>NaN</td>\n",
       "      <td>2020.0</td>\n",
       "      <td>1.930851e+09</td>\n",
       "      <td>2020-05-03</td>\n",
       "      <td>20200502</td>\n",
       "      <td>20200503</td>\n",
       "      <td>20200518.0</td>\n",
       "      <td>USD</td>\n",
       "      <td>RV</td>\n",
       "      <td>1.0</td>\n",
       "      <td>NaN</td>\n",
       "      <td>8899.71</td>\n",
       "      <td>20200503.0</td>\n",
       "      <td>NAH4</td>\n",
       "      <td>1.930851e+09</td>\n",
       "      <td>1</td>\n",
       "    </tr>\n",
       "    <tr>\n",
       "      <th>49982</th>\n",
       "      <td>U001</td>\n",
       "      <td>0200148860</td>\n",
       "      <td>DOLLA co</td>\n",
       "      <td>NaN</td>\n",
       "      <td>2020.0</td>\n",
       "      <td>1.930638e+09</td>\n",
       "      <td>2020-03-11</td>\n",
       "      <td>20200311</td>\n",
       "      <td>20200311</td>\n",
       "      <td>20200326.0</td>\n",
       "      <td>USD</td>\n",
       "      <td>RV</td>\n",
       "      <td>1.0</td>\n",
       "      <td>NaN</td>\n",
       "      <td>4967.06</td>\n",
       "      <td>20200311.0</td>\n",
       "      <td>NAA8</td>\n",
       "      <td>1.930638e+09</td>\n",
       "      <td>1</td>\n",
       "    </tr>\n",
       "    <tr>\n",
       "      <th>49992</th>\n",
       "      <td>U001</td>\n",
       "      <td>0200900909</td>\n",
       "      <td>SYSCO co</td>\n",
       "      <td>NaN</td>\n",
       "      <td>2020.0</td>\n",
       "      <td>1.930702e+09</td>\n",
       "      <td>2020-03-25</td>\n",
       "      <td>20200325</td>\n",
       "      <td>20200325</td>\n",
       "      <td>20200409.0</td>\n",
       "      <td>USD</td>\n",
       "      <td>RV</td>\n",
       "      <td>1.0</td>\n",
       "      <td>NaN</td>\n",
       "      <td>1998.64</td>\n",
       "      <td>20200325.0</td>\n",
       "      <td>NAA8</td>\n",
       "      <td>1.930702e+09</td>\n",
       "      <td>1</td>\n",
       "    </tr>\n",
       "    <tr>\n",
       "      <th>49995</th>\n",
       "      <td>U001</td>\n",
       "      <td>0200561861</td>\n",
       "      <td>CO corporation</td>\n",
       "      <td>NaN</td>\n",
       "      <td>2020.0</td>\n",
       "      <td>1.930797e+09</td>\n",
       "      <td>2020-04-21</td>\n",
       "      <td>20200417</td>\n",
       "      <td>20200421</td>\n",
       "      <td>20200506.0</td>\n",
       "      <td>USD</td>\n",
       "      <td>RV</td>\n",
       "      <td>1.0</td>\n",
       "      <td>NaN</td>\n",
       "      <td>3187.86</td>\n",
       "      <td>20200421.0</td>\n",
       "      <td>NAA8</td>\n",
       "      <td>1.930797e+09</td>\n",
       "      <td>1</td>\n",
       "    </tr>\n",
       "  </tbody>\n",
       "</table>\n",
       "<p>10000 rows × 19 columns</p>\n",
       "</div>"
      ],
      "text/plain": [
       "      business_code cust_number        name_customer clear_date  \\\n",
       "3              CA02  0140105686             SYSC llc        NaN   \n",
       "7              U001  0200744019              TARG us        NaN   \n",
       "10             U001  0200418007                  AM         NaN   \n",
       "14             U001  0200739534           OK systems        NaN   \n",
       "15             U001  0200353024     DECA corporation        NaN   \n",
       "...             ...         ...                  ...        ...   \n",
       "49975          U001  0200769623           WAL-MAR in        NaN   \n",
       "49980          U001  0200769623  WAL-MAR corporation        NaN   \n",
       "49982          U001  0200148860             DOLLA co        NaN   \n",
       "49992          U001  0200900909             SYSCO co        NaN   \n",
       "49995          U001  0200561861       CO corporation        NaN   \n",
       "\n",
       "       buisness_year        doc_id posting_date  document_create_date  \\\n",
       "3             2020.0  2.960623e+09   2020-03-30              20200330   \n",
       "7             2020.0  1.930659e+09   2020-03-19              20200318   \n",
       "10            2020.0  1.930611e+09   2020-03-11              20200306   \n",
       "14            2020.0  1.930788e+09   2020-04-15              20200415   \n",
       "15            2020.0  1.930817e+09   2020-04-23              20200423   \n",
       "...              ...           ...          ...                   ...   \n",
       "49975         2020.0  1.930625e+09   2020-03-10              20200309   \n",
       "49980         2020.0  1.930851e+09   2020-05-03              20200502   \n",
       "49982         2020.0  1.930638e+09   2020-03-11              20200311   \n",
       "49992         2020.0  1.930702e+09   2020-03-25              20200325   \n",
       "49995         2020.0  1.930797e+09   2020-04-21              20200417   \n",
       "\n",
       "       document_create_date.1  due_in_date invoice_currency document type  \\\n",
       "3                    20200330   20200410.0              CAD            RV   \n",
       "7                    20200319   20200403.0              USD            RV   \n",
       "10                   20200311   20200326.0              USD            RV   \n",
       "14                   20200415   20200430.0              USD            RV   \n",
       "15                   20200423   20200426.0              USD            RV   \n",
       "...                       ...          ...              ...           ...   \n",
       "49975                20200310   20200325.0              USD            RV   \n",
       "49980                20200503   20200518.0              USD            RV   \n",
       "49982                20200311   20200326.0              USD            RV   \n",
       "49992                20200325   20200409.0              USD            RV   \n",
       "49995                20200421   20200506.0              USD            RV   \n",
       "\n",
       "       posting_id  area_business  total_open_amount  baseline_create_date  \\\n",
       "3             1.0            NaN            3299.70            20200331.0   \n",
       "7             1.0            NaN           11173.02            20200319.0   \n",
       "10            1.0            NaN            3525.59            20200311.0   \n",
       "14            1.0            NaN          121105.65            20200415.0   \n",
       "15            1.0            NaN            3726.06            20200416.0   \n",
       "...           ...            ...                ...                   ...   \n",
       "49975         1.0            NaN           13114.99            20200310.0   \n",
       "49980         1.0            NaN            8899.71            20200503.0   \n",
       "49982         1.0            NaN            4967.06            20200311.0   \n",
       "49992         1.0            NaN            1998.64            20200325.0   \n",
       "49995         1.0            NaN            3187.86            20200421.0   \n",
       "\n",
       "      cust_payment_terms    invoice_id  isOpen  \n",
       "3                   CA10  2.960623e+09       1  \n",
       "7                   NAA8  1.930659e+09       1  \n",
       "10                  NAA8  1.930611e+09       1  \n",
       "14                  NAA8  1.930788e+09       1  \n",
       "15                  NAM2  1.930817e+09       1  \n",
       "...                  ...           ...     ...  \n",
       "49975               NAH4  1.930625e+09       1  \n",
       "49980               NAH4  1.930851e+09       1  \n",
       "49982               NAA8  1.930638e+09       1  \n",
       "49992               NAA8  1.930702e+09       1  \n",
       "49995               NAA8  1.930797e+09       1  \n",
       "\n",
       "[10000 rows x 19 columns]"
      ]
     },
     "execution_count": 16,
     "metadata": {},
     "output_type": "execute_result"
    }
   ],
   "source": [
    "data_nat = data_null.copy()\n",
    "# I will use this data_nat at last where Ill predict the expected payment date (clear date of the null values in the data).\n",
    "\n",
    "data_nat"
   ]
  },
  {
   "cell_type": "code",
   "execution_count": null,
   "metadata": {},
   "outputs": [],
   "source": [
    "data1.dtypes"
   ]
  },
  {
   "cell_type": "markdown",
   "metadata": {},
   "source": [
    "# Preprocessing "
   ]
  },
  {
   "cell_type": "code",
   "execution_count": 25,
   "metadata": {},
   "outputs": [
    {
     "ename": "KeyError",
     "evalue": "\"['clear_date'] not found in axis\"",
     "output_type": "error",
     "traceback": [
      "\u001b[0;31m---------------------------------------------------------------------------\u001b[0m",
      "\u001b[0;31mKeyError\u001b[0m                                  Traceback (most recent call last)",
      "Input \u001b[0;32mIn [25]\u001b[0m, in \u001b[0;36m<module>\u001b[0;34m\u001b[0m\n\u001b[0;32m----> 1\u001b[0m \u001b[43mdata_null\u001b[49m\u001b[38;5;241;43m.\u001b[39;49m\u001b[43mdrop\u001b[49m\u001b[43m(\u001b[49m\u001b[38;5;124;43m\"\u001b[39;49m\u001b[38;5;124;43mclear_date\u001b[39;49m\u001b[38;5;124;43m\"\u001b[39;49m\u001b[43m,\u001b[49m\u001b[43m \u001b[49m\u001b[43maxis\u001b[49m\u001b[38;5;241;43m=\u001b[39;49m\u001b[38;5;241;43m1\u001b[39;49m\u001b[43m,\u001b[49m\u001b[43m \u001b[49m\u001b[43minplace\u001b[49m\u001b[38;5;241;43m=\u001b[39;49m\u001b[38;5;28;43;01mTrue\u001b[39;49;00m\u001b[43m)\u001b[49m\n",
      "File \u001b[0;32m/opt/conda/lib/python3.9/site-packages/pandas/util/_decorators.py:311\u001b[0m, in \u001b[0;36mdeprecate_nonkeyword_arguments.<locals>.decorate.<locals>.wrapper\u001b[0;34m(*args, **kwargs)\u001b[0m\n\u001b[1;32m    305\u001b[0m \u001b[38;5;28;01mif\u001b[39;00m \u001b[38;5;28mlen\u001b[39m(args) \u001b[38;5;241m>\u001b[39m num_allow_args:\n\u001b[1;32m    306\u001b[0m     warnings\u001b[38;5;241m.\u001b[39mwarn(\n\u001b[1;32m    307\u001b[0m         msg\u001b[38;5;241m.\u001b[39mformat(arguments\u001b[38;5;241m=\u001b[39marguments),\n\u001b[1;32m    308\u001b[0m         \u001b[38;5;167;01mFutureWarning\u001b[39;00m,\n\u001b[1;32m    309\u001b[0m         stacklevel\u001b[38;5;241m=\u001b[39mstacklevel,\n\u001b[1;32m    310\u001b[0m     )\n\u001b[0;32m--> 311\u001b[0m \u001b[38;5;28;01mreturn\u001b[39;00m \u001b[43mfunc\u001b[49m\u001b[43m(\u001b[49m\u001b[38;5;241;43m*\u001b[39;49m\u001b[43margs\u001b[49m\u001b[43m,\u001b[49m\u001b[43m \u001b[49m\u001b[38;5;241;43m*\u001b[39;49m\u001b[38;5;241;43m*\u001b[39;49m\u001b[43mkwargs\u001b[49m\u001b[43m)\u001b[49m\n",
      "File \u001b[0;32m/opt/conda/lib/python3.9/site-packages/pandas/core/frame.py:4956\u001b[0m, in \u001b[0;36mDataFrame.drop\u001b[0;34m(self, labels, axis, index, columns, level, inplace, errors)\u001b[0m\n\u001b[1;32m   4808\u001b[0m \u001b[38;5;129m@deprecate_nonkeyword_arguments\u001b[39m(version\u001b[38;5;241m=\u001b[39m\u001b[38;5;28;01mNone\u001b[39;00m, allowed_args\u001b[38;5;241m=\u001b[39m[\u001b[38;5;124m\"\u001b[39m\u001b[38;5;124mself\u001b[39m\u001b[38;5;124m\"\u001b[39m, \u001b[38;5;124m\"\u001b[39m\u001b[38;5;124mlabels\u001b[39m\u001b[38;5;124m\"\u001b[39m])\n\u001b[1;32m   4809\u001b[0m \u001b[38;5;28;01mdef\u001b[39;00m \u001b[38;5;21mdrop\u001b[39m(\n\u001b[1;32m   4810\u001b[0m     \u001b[38;5;28mself\u001b[39m,\n\u001b[0;32m   (...)\u001b[0m\n\u001b[1;32m   4817\u001b[0m     errors: \u001b[38;5;28mstr\u001b[39m \u001b[38;5;241m=\u001b[39m \u001b[38;5;124m\"\u001b[39m\u001b[38;5;124mraise\u001b[39m\u001b[38;5;124m\"\u001b[39m,\n\u001b[1;32m   4818\u001b[0m ):\n\u001b[1;32m   4819\u001b[0m     \u001b[38;5;124;03m\"\"\"\u001b[39;00m\n\u001b[1;32m   4820\u001b[0m \u001b[38;5;124;03m    Drop specified labels from rows or columns.\u001b[39;00m\n\u001b[1;32m   4821\u001b[0m \n\u001b[0;32m   (...)\u001b[0m\n\u001b[1;32m   4954\u001b[0m \u001b[38;5;124;03m            weight  1.0     0.8\u001b[39;00m\n\u001b[1;32m   4955\u001b[0m \u001b[38;5;124;03m    \"\"\"\u001b[39;00m\n\u001b[0;32m-> 4956\u001b[0m     \u001b[38;5;28;01mreturn\u001b[39;00m \u001b[38;5;28;43msuper\u001b[39;49m\u001b[43m(\u001b[49m\u001b[43m)\u001b[49m\u001b[38;5;241;43m.\u001b[39;49m\u001b[43mdrop\u001b[49m\u001b[43m(\u001b[49m\n\u001b[1;32m   4957\u001b[0m \u001b[43m        \u001b[49m\u001b[43mlabels\u001b[49m\u001b[38;5;241;43m=\u001b[39;49m\u001b[43mlabels\u001b[49m\u001b[43m,\u001b[49m\n\u001b[1;32m   4958\u001b[0m \u001b[43m        \u001b[49m\u001b[43maxis\u001b[49m\u001b[38;5;241;43m=\u001b[39;49m\u001b[43maxis\u001b[49m\u001b[43m,\u001b[49m\n\u001b[1;32m   4959\u001b[0m \u001b[43m        \u001b[49m\u001b[43mindex\u001b[49m\u001b[38;5;241;43m=\u001b[39;49m\u001b[43mindex\u001b[49m\u001b[43m,\u001b[49m\n\u001b[1;32m   4960\u001b[0m \u001b[43m        \u001b[49m\u001b[43mcolumns\u001b[49m\u001b[38;5;241;43m=\u001b[39;49m\u001b[43mcolumns\u001b[49m\u001b[43m,\u001b[49m\n\u001b[1;32m   4961\u001b[0m \u001b[43m        \u001b[49m\u001b[43mlevel\u001b[49m\u001b[38;5;241;43m=\u001b[39;49m\u001b[43mlevel\u001b[49m\u001b[43m,\u001b[49m\n\u001b[1;32m   4962\u001b[0m \u001b[43m        \u001b[49m\u001b[43minplace\u001b[49m\u001b[38;5;241;43m=\u001b[39;49m\u001b[43minplace\u001b[49m\u001b[43m,\u001b[49m\n\u001b[1;32m   4963\u001b[0m \u001b[43m        \u001b[49m\u001b[43merrors\u001b[49m\u001b[38;5;241;43m=\u001b[39;49m\u001b[43merrors\u001b[49m\u001b[43m,\u001b[49m\n\u001b[1;32m   4964\u001b[0m \u001b[43m    \u001b[49m\u001b[43m)\u001b[49m\n",
      "File \u001b[0;32m/opt/conda/lib/python3.9/site-packages/pandas/core/generic.py:4279\u001b[0m, in \u001b[0;36mNDFrame.drop\u001b[0;34m(self, labels, axis, index, columns, level, inplace, errors)\u001b[0m\n\u001b[1;32m   4277\u001b[0m \u001b[38;5;28;01mfor\u001b[39;00m axis, labels \u001b[38;5;129;01min\u001b[39;00m axes\u001b[38;5;241m.\u001b[39mitems():\n\u001b[1;32m   4278\u001b[0m     \u001b[38;5;28;01mif\u001b[39;00m labels \u001b[38;5;129;01mis\u001b[39;00m \u001b[38;5;129;01mnot\u001b[39;00m \u001b[38;5;28;01mNone\u001b[39;00m:\n\u001b[0;32m-> 4279\u001b[0m         obj \u001b[38;5;241m=\u001b[39m \u001b[43mobj\u001b[49m\u001b[38;5;241;43m.\u001b[39;49m\u001b[43m_drop_axis\u001b[49m\u001b[43m(\u001b[49m\u001b[43mlabels\u001b[49m\u001b[43m,\u001b[49m\u001b[43m \u001b[49m\u001b[43maxis\u001b[49m\u001b[43m,\u001b[49m\u001b[43m \u001b[49m\u001b[43mlevel\u001b[49m\u001b[38;5;241;43m=\u001b[39;49m\u001b[43mlevel\u001b[49m\u001b[43m,\u001b[49m\u001b[43m \u001b[49m\u001b[43merrors\u001b[49m\u001b[38;5;241;43m=\u001b[39;49m\u001b[43merrors\u001b[49m\u001b[43m)\u001b[49m\n\u001b[1;32m   4281\u001b[0m \u001b[38;5;28;01mif\u001b[39;00m inplace:\n\u001b[1;32m   4282\u001b[0m     \u001b[38;5;28mself\u001b[39m\u001b[38;5;241m.\u001b[39m_update_inplace(obj)\n",
      "File \u001b[0;32m/opt/conda/lib/python3.9/site-packages/pandas/core/generic.py:4323\u001b[0m, in \u001b[0;36mNDFrame._drop_axis\u001b[0;34m(self, labels, axis, level, errors, consolidate, only_slice)\u001b[0m\n\u001b[1;32m   4321\u001b[0m         new_axis \u001b[38;5;241m=\u001b[39m axis\u001b[38;5;241m.\u001b[39mdrop(labels, level\u001b[38;5;241m=\u001b[39mlevel, errors\u001b[38;5;241m=\u001b[39merrors)\n\u001b[1;32m   4322\u001b[0m     \u001b[38;5;28;01melse\u001b[39;00m:\n\u001b[0;32m-> 4323\u001b[0m         new_axis \u001b[38;5;241m=\u001b[39m \u001b[43maxis\u001b[49m\u001b[38;5;241;43m.\u001b[39;49m\u001b[43mdrop\u001b[49m\u001b[43m(\u001b[49m\u001b[43mlabels\u001b[49m\u001b[43m,\u001b[49m\u001b[43m \u001b[49m\u001b[43merrors\u001b[49m\u001b[38;5;241;43m=\u001b[39;49m\u001b[43merrors\u001b[49m\u001b[43m)\u001b[49m\n\u001b[1;32m   4324\u001b[0m     indexer \u001b[38;5;241m=\u001b[39m axis\u001b[38;5;241m.\u001b[39mget_indexer(new_axis)\n\u001b[1;32m   4326\u001b[0m \u001b[38;5;66;03m# Case for non-unique axis\u001b[39;00m\n\u001b[1;32m   4327\u001b[0m \u001b[38;5;28;01melse\u001b[39;00m:\n",
      "File \u001b[0;32m/opt/conda/lib/python3.9/site-packages/pandas/core/indexes/base.py:6644\u001b[0m, in \u001b[0;36mIndex.drop\u001b[0;34m(self, labels, errors)\u001b[0m\n\u001b[1;32m   6642\u001b[0m \u001b[38;5;28;01mif\u001b[39;00m mask\u001b[38;5;241m.\u001b[39many():\n\u001b[1;32m   6643\u001b[0m     \u001b[38;5;28;01mif\u001b[39;00m errors \u001b[38;5;241m!=\u001b[39m \u001b[38;5;124m\"\u001b[39m\u001b[38;5;124mignore\u001b[39m\u001b[38;5;124m\"\u001b[39m:\n\u001b[0;32m-> 6644\u001b[0m         \u001b[38;5;28;01mraise\u001b[39;00m \u001b[38;5;167;01mKeyError\u001b[39;00m(\u001b[38;5;124mf\u001b[39m\u001b[38;5;124m\"\u001b[39m\u001b[38;5;132;01m{\u001b[39;00m\u001b[38;5;28mlist\u001b[39m(labels[mask])\u001b[38;5;132;01m}\u001b[39;00m\u001b[38;5;124m not found in axis\u001b[39m\u001b[38;5;124m\"\u001b[39m)\n\u001b[1;32m   6645\u001b[0m     indexer \u001b[38;5;241m=\u001b[39m indexer[\u001b[38;5;241m~\u001b[39mmask]\n\u001b[1;32m   6646\u001b[0m \u001b[38;5;28;01mreturn\u001b[39;00m \u001b[38;5;28mself\u001b[39m\u001b[38;5;241m.\u001b[39mdelete(indexer)\n",
      "\u001b[0;31mKeyError\u001b[0m: \"['clear_date'] not found in axis\""
     ]
    }
   ],
   "source": [
    "data_null.drop(\"clear_date\", axis=1, inplace=True)\n",
    "\n",
    "# dropping the clear date in data_null because thats a null column and\n",
    "# we hav to predict that value."
   ]
  },
  {
   "cell_type": "code",
   "execution_count": 18,
   "metadata": {},
   "outputs": [],
   "source": [
    "dates = [\n",
    "    \"due_in_date\",\n",
    "    \"document_create_date\",\n",
    "    \"document_create_date.1\",\n",
    "    \"baseline_create_date\",\n",
    "]\n",
    "dates1 = [\n",
    "    \"clear_date\",\n",
    "    \"due_in_date\",\n",
    "    \"document_create_date\",\n",
    "    \"document_create_date.1\",\n",
    "    \"baseline_create_date\",\n",
    "]\n",
    "\n",
    "# making date and dates1 list sepeartly for conversion of dates column to int str then to datetime datatype\n",
    "# because direct conversion give my default value of 1970-01-01"
   ]
  },
  {
   "cell_type": "code",
   "execution_count": 19,
   "metadata": {},
   "outputs": [],
   "source": [
    "doc_c_date1 = data1[\"document_create_date.1\"] = data1[\n",
    "    \"document_create_date.1\"\n",
    "].astype(\"int\")\n",
    "doc_c_date = data1[\"document_create_date\"] = data1[\n",
    "    \"document_create_date\"\n",
    "].astype(\"int\")\n",
    "\n",
    "# here i stored two column of data1 into variables so thta later i can find correlation btw them.\n",
    "# and i can only correlate numeric data but later these column are getting converted to string which creates a problem"
   ]
  },
  {
   "cell_type": "code",
   "execution_count": 23,
   "metadata": {},
   "outputs": [
    {
     "data": {
      "text/html": [
       "<div>\n",
       "<style scoped>\n",
       "    .dataframe tbody tr th:only-of-type {\n",
       "        vertical-align: middle;\n",
       "    }\n",
       "\n",
       "    .dataframe tbody tr th {\n",
       "        vertical-align: top;\n",
       "    }\n",
       "\n",
       "    .dataframe thead th {\n",
       "        text-align: right;\n",
       "    }\n",
       "</style>\n",
       "<table border=\"1\" class=\"dataframe\">\n",
       "  <thead>\n",
       "    <tr style=\"text-align: right;\">\n",
       "      <th></th>\n",
       "      <th>due_in_date</th>\n",
       "      <th>document_create_date</th>\n",
       "      <th>document_create_date.1</th>\n",
       "      <th>baseline_create_date</th>\n",
       "    </tr>\n",
       "  </thead>\n",
       "  <tbody>\n",
       "    <tr>\n",
       "      <th>3</th>\n",
       "      <td>20200410</td>\n",
       "      <td>20200330</td>\n",
       "      <td>20200330</td>\n",
       "      <td>20200331</td>\n",
       "    </tr>\n",
       "    <tr>\n",
       "      <th>7</th>\n",
       "      <td>20200403</td>\n",
       "      <td>20200318</td>\n",
       "      <td>20200319</td>\n",
       "      <td>20200319</td>\n",
       "    </tr>\n",
       "    <tr>\n",
       "      <th>10</th>\n",
       "      <td>20200326</td>\n",
       "      <td>20200306</td>\n",
       "      <td>20200311</td>\n",
       "      <td>20200311</td>\n",
       "    </tr>\n",
       "    <tr>\n",
       "      <th>14</th>\n",
       "      <td>20200430</td>\n",
       "      <td>20200415</td>\n",
       "      <td>20200415</td>\n",
       "      <td>20200415</td>\n",
       "    </tr>\n",
       "    <tr>\n",
       "      <th>15</th>\n",
       "      <td>20200426</td>\n",
       "      <td>20200423</td>\n",
       "      <td>20200423</td>\n",
       "      <td>20200416</td>\n",
       "    </tr>\n",
       "    <tr>\n",
       "      <th>...</th>\n",
       "      <td>...</td>\n",
       "      <td>...</td>\n",
       "      <td>...</td>\n",
       "      <td>...</td>\n",
       "    </tr>\n",
       "    <tr>\n",
       "      <th>49975</th>\n",
       "      <td>20200325</td>\n",
       "      <td>20200309</td>\n",
       "      <td>20200310</td>\n",
       "      <td>20200310</td>\n",
       "    </tr>\n",
       "    <tr>\n",
       "      <th>49980</th>\n",
       "      <td>20200518</td>\n",
       "      <td>20200502</td>\n",
       "      <td>20200503</td>\n",
       "      <td>20200503</td>\n",
       "    </tr>\n",
       "    <tr>\n",
       "      <th>49982</th>\n",
       "      <td>20200326</td>\n",
       "      <td>20200311</td>\n",
       "      <td>20200311</td>\n",
       "      <td>20200311</td>\n",
       "    </tr>\n",
       "    <tr>\n",
       "      <th>49992</th>\n",
       "      <td>20200409</td>\n",
       "      <td>20200325</td>\n",
       "      <td>20200325</td>\n",
       "      <td>20200325</td>\n",
       "    </tr>\n",
       "    <tr>\n",
       "      <th>49995</th>\n",
       "      <td>20200506</td>\n",
       "      <td>20200417</td>\n",
       "      <td>20200421</td>\n",
       "      <td>20200421</td>\n",
       "    </tr>\n",
       "  </tbody>\n",
       "</table>\n",
       "<p>10000 rows × 4 columns</p>\n",
       "</div>"
      ],
      "text/plain": [
       "       due_in_date  document_create_date  document_create_date.1  \\\n",
       "3         20200410              20200330                20200330   \n",
       "7         20200403              20200318                20200319   \n",
       "10        20200326              20200306                20200311   \n",
       "14        20200430              20200415                20200415   \n",
       "15        20200426              20200423                20200423   \n",
       "...            ...                   ...                     ...   \n",
       "49975     20200325              20200309                20200310   \n",
       "49980     20200518              20200502                20200503   \n",
       "49982     20200326              20200311                20200311   \n",
       "49992     20200409              20200325                20200325   \n",
       "49995     20200506              20200417                20200421   \n",
       "\n",
       "       baseline_create_date  \n",
       "3                  20200331  \n",
       "7                  20200319  \n",
       "10                 20200311  \n",
       "14                 20200415  \n",
       "15                 20200416  \n",
       "...                     ...  \n",
       "49975              20200310  \n",
       "49980              20200503  \n",
       "49982              20200311  \n",
       "49992              20200325  \n",
       "49995              20200421  \n",
       "\n",
       "[10000 rows x 4 columns]"
      ]
     },
     "execution_count": 23,
     "metadata": {},
     "output_type": "execute_result"
    }
   ],
   "source": [
    "data_null[dates]"
   ]
  },
  {
   "cell_type": "code",
   "execution_count": 21,
   "metadata": {},
   "outputs": [],
   "source": [
    "for x in data1[dates]:\n",
    "    data1[dates] = data1[dates].astype(\"int\")\n",
    "for x in data_null[dates]:\n",
    "    data_null[dates] = data_null[dates].astype(\"int\")\n",
    "\n",
    "# earlier I wrote a code to manually convert the dates to int but it looked so unlike python and so later I wrote a for loop."
   ]
  },
  {
   "cell_type": "code",
   "execution_count": 26,
   "metadata": {},
   "outputs": [],
   "source": [
    "for x in data1[dates1]:\n",
    "    data1[dates1] = data1[dates1].astype(\"str\")\n",
    "for x in data_null[dates]:\n",
    "    data_null[dates] = data_null[dates].astype(\"str\")"
   ]
  },
  {
   "cell_type": "raw",
   "metadata": {},
   "source": [
    "for x in data1[dates1]:\n",
    "    data1[dates1]=pd.to_datetime(data1[dates1],format='%Y-%m-%d').dt.date\n",
    "    \n",
    "i tried using this code but it was giving errors for some date values so i decided to do it manually."
   ]
  },
  {
   "cell_type": "raw",
   "metadata": {},
   "source": [
    "#this is the manual conversion i was talking about.\n",
    "\n",
    "#converting the dates directly to datetime datatype resets my dates to 1970-01-01 so here I am converting them to\n",
    "#int then string and then to datetime\n",
    "\n",
    "due_date=data1['due_in_date']=data1['due_in_date'].astype('int')\n",
    "doc_c_date1=data1['document_create_date.1']=data1['document_create_date.1'].astype('int')\n",
    "doc_c_date=data1['document_create_date']=data1['document_create_date'].astype('int')\n",
    "base_date=data1['baseline_create_date']=data1['baseline_create_date'].astype('int')\n",
    "#pos_date=data1['posting_date']=data1['posting_date'].astype('int')\n",
    "data1['buisness_year']=data1['buisness_year'].astype('int')"
   ]
  },
  {
   "cell_type": "raw",
   "metadata": {},
   "source": [
    "'''#converting to string type\n",
    "\n",
    "data1['due_in_date']=data1['due_in_date'].astype('str')\n",
    "data1['document_create_date.1']=data1['document_create_date.1'].astype('str')\n",
    "data1['document_create_date']=data1['document_create_date'].astype('str')\n",
    "data1['baseline_create_date']=data1['baseline_create_date'].astype('str')\n",
    "data1['clear_date']=data1['clear_date'].astype('str')\n",
    "data1['posting_date']=data1['posting_date'].astype('str')'''"
   ]
  },
  {
   "cell_type": "code",
   "execution_count": 27,
   "metadata": {},
   "outputs": [],
   "source": [
    "# converting to Datetime datatype\n",
    "\n",
    "data1[\"due_in_date\"] = pd.to_datetime(\n",
    "    data1[\"due_in_date\"], format=\"%Y-%m-%d\"\n",
    ").dt.date\n",
    "data1[\"clear_date\"] = pd.to_datetime(\n",
    "    data1[\"clear_date\"], format=\"%Y-%m-%d\"\n",
    ").dt.date\n",
    "data1[\"document_create_date\"] = pd.to_datetime(\n",
    "    data1[\"document_create_date\"], format=\"%Y-%m-%d\"\n",
    ").dt.date\n",
    "data1[\"document_create_date.1\"] = pd.to_datetime(\n",
    "    data1[\"document_create_date.1\"], format=\"%Y-%m-%d\"\n",
    ").dt.date\n",
    "data1[\"posting_date\"] = pd.to_datetime(\n",
    "    data1[\"posting_date\"], format=\"%Y-%m-%d\"\n",
    ").dt.date\n",
    "data1[\"baseline_create_date\"] = pd.to_datetime(\n",
    "    data1[\"baseline_create_date\"], format=\"%Y-%m-%d\"\n",
    ").dt.date"
   ]
  },
  {
   "cell_type": "code",
   "execution_count": 28,
   "metadata": {},
   "outputs": [],
   "source": [
    "# converting to Datetime datatype\n",
    "\n",
    "data_null[\"due_in_date\"] = pd.to_datetime(\n",
    "    data_null[\"due_in_date\"], format=\"%Y-%m-%d\"\n",
    ").dt.date\n",
    "# data_null['clear_date']=pd.to_datetime(data_null['clear_date'],format='%Y-%m-%d').dt.date\n",
    "data_null[\"document_create_date\"] = pd.to_datetime(\n",
    "    data_null[\"document_create_date\"], format=\"%Y-%m-%d\"\n",
    ").dt.date\n",
    "data_null[\"document_create_date.1\"] = pd.to_datetime(\n",
    "    data_null[\"document_create_date.1\"], format=\"%Y-%m-%d\"\n",
    ").dt.date\n",
    "data_null[\"posting_date\"] = pd.to_datetime(\n",
    "    data_null[\"posting_date\"], format=\"%Y-%m-%d\"\n",
    ").dt.date\n",
    "data_null[\"baseline_create_date\"] = pd.to_datetime(\n",
    "    data_null[\"baseline_create_date\"], format=\"%Y-%m-%d\"\n",
    ").dt.date"
   ]
  },
  {
   "cell_type": "code",
   "execution_count": 29,
   "metadata": {},
   "outputs": [
    {
     "data": {
      "text/plain": [
       "(6, 19)"
      ]
     },
     "execution_count": 29,
     "metadata": {},
     "output_type": "execute_result"
    }
   ],
   "source": [
    "data1[data1[\"invoice_id\"].isnull()].shape"
   ]
  },
  {
   "cell_type": "code",
   "execution_count": 30,
   "metadata": {},
   "outputs": [
    {
     "data": {
      "text/html": [
       "<div>\n",
       "<style scoped>\n",
       "    .dataframe tbody tr th:only-of-type {\n",
       "        vertical-align: middle;\n",
       "    }\n",
       "\n",
       "    .dataframe tbody tr th {\n",
       "        vertical-align: top;\n",
       "    }\n",
       "\n",
       "    .dataframe thead th {\n",
       "        text-align: right;\n",
       "    }\n",
       "</style>\n",
       "<table border=\"1\" class=\"dataframe\">\n",
       "  <thead>\n",
       "    <tr style=\"text-align: right;\">\n",
       "      <th></th>\n",
       "      <th>business_code</th>\n",
       "      <th>cust_number</th>\n",
       "      <th>name_customer</th>\n",
       "      <th>buisness_year</th>\n",
       "      <th>doc_id</th>\n",
       "      <th>posting_date</th>\n",
       "      <th>document_create_date</th>\n",
       "      <th>document_create_date.1</th>\n",
       "      <th>due_in_date</th>\n",
       "      <th>invoice_currency</th>\n",
       "      <th>document type</th>\n",
       "      <th>posting_id</th>\n",
       "      <th>area_business</th>\n",
       "      <th>total_open_amount</th>\n",
       "      <th>baseline_create_date</th>\n",
       "      <th>cust_payment_terms</th>\n",
       "      <th>invoice_id</th>\n",
       "      <th>isOpen</th>\n",
       "    </tr>\n",
       "  </thead>\n",
       "  <tbody>\n",
       "    <tr>\n",
       "      <th>3</th>\n",
       "      <td>CA02</td>\n",
       "      <td>0140105686</td>\n",
       "      <td>SYSC llc</td>\n",
       "      <td>2020.0</td>\n",
       "      <td>2.960623e+09</td>\n",
       "      <td>2020-03-30</td>\n",
       "      <td>2020-03-30</td>\n",
       "      <td>2020-03-30</td>\n",
       "      <td>2020-04-10</td>\n",
       "      <td>CAD</td>\n",
       "      <td>RV</td>\n",
       "      <td>1.0</td>\n",
       "      <td>NaN</td>\n",
       "      <td>3299.70</td>\n",
       "      <td>2020-03-31</td>\n",
       "      <td>CA10</td>\n",
       "      <td>2.960623e+09</td>\n",
       "      <td>1</td>\n",
       "    </tr>\n",
       "    <tr>\n",
       "      <th>7</th>\n",
       "      <td>U001</td>\n",
       "      <td>0200744019</td>\n",
       "      <td>TARG us</td>\n",
       "      <td>2020.0</td>\n",
       "      <td>1.930659e+09</td>\n",
       "      <td>2020-03-19</td>\n",
       "      <td>2020-03-18</td>\n",
       "      <td>2020-03-19</td>\n",
       "      <td>2020-04-03</td>\n",
       "      <td>USD</td>\n",
       "      <td>RV</td>\n",
       "      <td>1.0</td>\n",
       "      <td>NaN</td>\n",
       "      <td>11173.02</td>\n",
       "      <td>2020-03-19</td>\n",
       "      <td>NAA8</td>\n",
       "      <td>1.930659e+09</td>\n",
       "      <td>1</td>\n",
       "    </tr>\n",
       "    <tr>\n",
       "      <th>10</th>\n",
       "      <td>U001</td>\n",
       "      <td>0200418007</td>\n",
       "      <td>AM</td>\n",
       "      <td>2020.0</td>\n",
       "      <td>1.930611e+09</td>\n",
       "      <td>2020-03-11</td>\n",
       "      <td>2020-03-06</td>\n",
       "      <td>2020-03-11</td>\n",
       "      <td>2020-03-26</td>\n",
       "      <td>USD</td>\n",
       "      <td>RV</td>\n",
       "      <td>1.0</td>\n",
       "      <td>NaN</td>\n",
       "      <td>3525.59</td>\n",
       "      <td>2020-03-11</td>\n",
       "      <td>NAA8</td>\n",
       "      <td>1.930611e+09</td>\n",
       "      <td>1</td>\n",
       "    </tr>\n",
       "    <tr>\n",
       "      <th>14</th>\n",
       "      <td>U001</td>\n",
       "      <td>0200739534</td>\n",
       "      <td>OK systems</td>\n",
       "      <td>2020.0</td>\n",
       "      <td>1.930788e+09</td>\n",
       "      <td>2020-04-15</td>\n",
       "      <td>2020-04-15</td>\n",
       "      <td>2020-04-15</td>\n",
       "      <td>2020-04-30</td>\n",
       "      <td>USD</td>\n",
       "      <td>RV</td>\n",
       "      <td>1.0</td>\n",
       "      <td>NaN</td>\n",
       "      <td>121105.65</td>\n",
       "      <td>2020-04-15</td>\n",
       "      <td>NAA8</td>\n",
       "      <td>1.930788e+09</td>\n",
       "      <td>1</td>\n",
       "    </tr>\n",
       "    <tr>\n",
       "      <th>15</th>\n",
       "      <td>U001</td>\n",
       "      <td>0200353024</td>\n",
       "      <td>DECA corporation</td>\n",
       "      <td>2020.0</td>\n",
       "      <td>1.930817e+09</td>\n",
       "      <td>2020-04-23</td>\n",
       "      <td>2020-04-23</td>\n",
       "      <td>2020-04-23</td>\n",
       "      <td>2020-04-26</td>\n",
       "      <td>USD</td>\n",
       "      <td>RV</td>\n",
       "      <td>1.0</td>\n",
       "      <td>NaN</td>\n",
       "      <td>3726.06</td>\n",
       "      <td>2020-04-16</td>\n",
       "      <td>NAM2</td>\n",
       "      <td>1.930817e+09</td>\n",
       "      <td>1</td>\n",
       "    </tr>\n",
       "    <tr>\n",
       "      <th>...</th>\n",
       "      <td>...</td>\n",
       "      <td>...</td>\n",
       "      <td>...</td>\n",
       "      <td>...</td>\n",
       "      <td>...</td>\n",
       "      <td>...</td>\n",
       "      <td>...</td>\n",
       "      <td>...</td>\n",
       "      <td>...</td>\n",
       "      <td>...</td>\n",
       "      <td>...</td>\n",
       "      <td>...</td>\n",
       "      <td>...</td>\n",
       "      <td>...</td>\n",
       "      <td>...</td>\n",
       "      <td>...</td>\n",
       "      <td>...</td>\n",
       "      <td>...</td>\n",
       "    </tr>\n",
       "    <tr>\n",
       "      <th>49975</th>\n",
       "      <td>U001</td>\n",
       "      <td>0200769623</td>\n",
       "      <td>WAL-MAR in</td>\n",
       "      <td>2020.0</td>\n",
       "      <td>1.930625e+09</td>\n",
       "      <td>2020-03-10</td>\n",
       "      <td>2020-03-09</td>\n",
       "      <td>2020-03-10</td>\n",
       "      <td>2020-03-25</td>\n",
       "      <td>USD</td>\n",
       "      <td>RV</td>\n",
       "      <td>1.0</td>\n",
       "      <td>NaN</td>\n",
       "      <td>13114.99</td>\n",
       "      <td>2020-03-10</td>\n",
       "      <td>NAH4</td>\n",
       "      <td>1.930625e+09</td>\n",
       "      <td>1</td>\n",
       "    </tr>\n",
       "    <tr>\n",
       "      <th>49980</th>\n",
       "      <td>U001</td>\n",
       "      <td>0200769623</td>\n",
       "      <td>WAL-MAR corporation</td>\n",
       "      <td>2020.0</td>\n",
       "      <td>1.930851e+09</td>\n",
       "      <td>2020-05-03</td>\n",
       "      <td>2020-05-02</td>\n",
       "      <td>2020-05-03</td>\n",
       "      <td>2020-05-18</td>\n",
       "      <td>USD</td>\n",
       "      <td>RV</td>\n",
       "      <td>1.0</td>\n",
       "      <td>NaN</td>\n",
       "      <td>8899.71</td>\n",
       "      <td>2020-05-03</td>\n",
       "      <td>NAH4</td>\n",
       "      <td>1.930851e+09</td>\n",
       "      <td>1</td>\n",
       "    </tr>\n",
       "    <tr>\n",
       "      <th>49982</th>\n",
       "      <td>U001</td>\n",
       "      <td>0200148860</td>\n",
       "      <td>DOLLA co</td>\n",
       "      <td>2020.0</td>\n",
       "      <td>1.930638e+09</td>\n",
       "      <td>2020-03-11</td>\n",
       "      <td>2020-03-11</td>\n",
       "      <td>2020-03-11</td>\n",
       "      <td>2020-03-26</td>\n",
       "      <td>USD</td>\n",
       "      <td>RV</td>\n",
       "      <td>1.0</td>\n",
       "      <td>NaN</td>\n",
       "      <td>4967.06</td>\n",
       "      <td>2020-03-11</td>\n",
       "      <td>NAA8</td>\n",
       "      <td>1.930638e+09</td>\n",
       "      <td>1</td>\n",
       "    </tr>\n",
       "    <tr>\n",
       "      <th>49992</th>\n",
       "      <td>U001</td>\n",
       "      <td>0200900909</td>\n",
       "      <td>SYSCO co</td>\n",
       "      <td>2020.0</td>\n",
       "      <td>1.930702e+09</td>\n",
       "      <td>2020-03-25</td>\n",
       "      <td>2020-03-25</td>\n",
       "      <td>2020-03-25</td>\n",
       "      <td>2020-04-09</td>\n",
       "      <td>USD</td>\n",
       "      <td>RV</td>\n",
       "      <td>1.0</td>\n",
       "      <td>NaN</td>\n",
       "      <td>1998.64</td>\n",
       "      <td>2020-03-25</td>\n",
       "      <td>NAA8</td>\n",
       "      <td>1.930702e+09</td>\n",
       "      <td>1</td>\n",
       "    </tr>\n",
       "    <tr>\n",
       "      <th>49995</th>\n",
       "      <td>U001</td>\n",
       "      <td>0200561861</td>\n",
       "      <td>CO corporation</td>\n",
       "      <td>2020.0</td>\n",
       "      <td>1.930797e+09</td>\n",
       "      <td>2020-04-21</td>\n",
       "      <td>2020-04-17</td>\n",
       "      <td>2020-04-21</td>\n",
       "      <td>2020-05-06</td>\n",
       "      <td>USD</td>\n",
       "      <td>RV</td>\n",
       "      <td>1.0</td>\n",
       "      <td>NaN</td>\n",
       "      <td>3187.86</td>\n",
       "      <td>2020-04-21</td>\n",
       "      <td>NAA8</td>\n",
       "      <td>1.930797e+09</td>\n",
       "      <td>1</td>\n",
       "    </tr>\n",
       "  </tbody>\n",
       "</table>\n",
       "<p>10000 rows × 18 columns</p>\n",
       "</div>"
      ],
      "text/plain": [
       "      business_code cust_number        name_customer  buisness_year  \\\n",
       "3              CA02  0140105686             SYSC llc         2020.0   \n",
       "7              U001  0200744019              TARG us         2020.0   \n",
       "10             U001  0200418007                  AM          2020.0   \n",
       "14             U001  0200739534           OK systems         2020.0   \n",
       "15             U001  0200353024     DECA corporation         2020.0   \n",
       "...             ...         ...                  ...            ...   \n",
       "49975          U001  0200769623           WAL-MAR in         2020.0   \n",
       "49980          U001  0200769623  WAL-MAR corporation         2020.0   \n",
       "49982          U001  0200148860             DOLLA co         2020.0   \n",
       "49992          U001  0200900909             SYSCO co         2020.0   \n",
       "49995          U001  0200561861       CO corporation         2020.0   \n",
       "\n",
       "             doc_id posting_date document_create_date document_create_date.1  \\\n",
       "3      2.960623e+09   2020-03-30           2020-03-30             2020-03-30   \n",
       "7      1.930659e+09   2020-03-19           2020-03-18             2020-03-19   \n",
       "10     1.930611e+09   2020-03-11           2020-03-06             2020-03-11   \n",
       "14     1.930788e+09   2020-04-15           2020-04-15             2020-04-15   \n",
       "15     1.930817e+09   2020-04-23           2020-04-23             2020-04-23   \n",
       "...             ...          ...                  ...                    ...   \n",
       "49975  1.930625e+09   2020-03-10           2020-03-09             2020-03-10   \n",
       "49980  1.930851e+09   2020-05-03           2020-05-02             2020-05-03   \n",
       "49982  1.930638e+09   2020-03-11           2020-03-11             2020-03-11   \n",
       "49992  1.930702e+09   2020-03-25           2020-03-25             2020-03-25   \n",
       "49995  1.930797e+09   2020-04-21           2020-04-17             2020-04-21   \n",
       "\n",
       "      due_in_date invoice_currency document type  posting_id  area_business  \\\n",
       "3      2020-04-10              CAD            RV         1.0            NaN   \n",
       "7      2020-04-03              USD            RV         1.0            NaN   \n",
       "10     2020-03-26              USD            RV         1.0            NaN   \n",
       "14     2020-04-30              USD            RV         1.0            NaN   \n",
       "15     2020-04-26              USD            RV         1.0            NaN   \n",
       "...           ...              ...           ...         ...            ...   \n",
       "49975  2020-03-25              USD            RV         1.0            NaN   \n",
       "49980  2020-05-18              USD            RV         1.0            NaN   \n",
       "49982  2020-03-26              USD            RV         1.0            NaN   \n",
       "49992  2020-04-09              USD            RV         1.0            NaN   \n",
       "49995  2020-05-06              USD            RV         1.0            NaN   \n",
       "\n",
       "       total_open_amount baseline_create_date cust_payment_terms  \\\n",
       "3                3299.70           2020-03-31               CA10   \n",
       "7               11173.02           2020-03-19               NAA8   \n",
       "10               3525.59           2020-03-11               NAA8   \n",
       "14             121105.65           2020-04-15               NAA8   \n",
       "15               3726.06           2020-04-16               NAM2   \n",
       "...                  ...                  ...                ...   \n",
       "49975           13114.99           2020-03-10               NAH4   \n",
       "49980            8899.71           2020-05-03               NAH4   \n",
       "49982            4967.06           2020-03-11               NAA8   \n",
       "49992            1998.64           2020-03-25               NAA8   \n",
       "49995            3187.86           2020-04-21               NAA8   \n",
       "\n",
       "         invoice_id  isOpen  \n",
       "3      2.960623e+09       1  \n",
       "7      1.930659e+09       1  \n",
       "10     1.930611e+09       1  \n",
       "14     1.930788e+09       1  \n",
       "15     1.930817e+09       1  \n",
       "...             ...     ...  \n",
       "49975  1.930625e+09       1  \n",
       "49980  1.930851e+09       1  \n",
       "49982  1.930638e+09       1  \n",
       "49992  1.930702e+09       1  \n",
       "49995  1.930797e+09       1  \n",
       "\n",
       "[10000 rows x 18 columns]"
      ]
     },
     "execution_count": 30,
     "metadata": {},
     "output_type": "execute_result"
    }
   ],
   "source": [
    "data_null"
   ]
  },
  {
   "cell_type": "code",
   "execution_count": null,
   "metadata": {},
   "outputs": [],
   "source": [
    "data1"
   ]
  },
  {
   "cell_type": "code",
   "execution_count": 31,
   "metadata": {},
   "outputs": [
    {
     "data": {
      "text/plain": [
       "(0, 19)"
      ]
     },
     "execution_count": 31,
     "metadata": {},
     "output_type": "execute_result"
    }
   ],
   "source": [
    "# checking for errors in the data\n",
    "\n",
    "data[data[\"due_in_date\"] < data[\"baseline_create_date\"]].shape"
   ]
  },
  {
   "cell_type": "code",
   "execution_count": null,
   "metadata": {},
   "outputs": [],
   "source": []
  },
  {
   "cell_type": "code",
   "execution_count": 32,
   "metadata": {},
   "outputs": [
    {
     "data": {
      "text/plain": [
       "(2, 19)"
      ]
     },
     "execution_count": 32,
     "metadata": {},
     "output_type": "execute_result"
    }
   ],
   "source": [
    "# checking for errors in the data\n",
    "\n",
    "data1[data1[\"clear_date\"] < data1[\"baseline_create_date\"]].shape\n",
    "\n",
    "# here we got 8 rows where clear data is smaller than create date\n",
    "# how is this even possible , it has to be an error."
   ]
  },
  {
   "cell_type": "code",
   "execution_count": null,
   "metadata": {},
   "outputs": [],
   "source": [
    "# since there is no clear date in data_null so there is no need to check for the anomalys"
   ]
  },
  {
   "cell_type": "code",
   "execution_count": 33,
   "metadata": {},
   "outputs": [
    {
     "data": {
      "text/plain": [
       "(40000, 19)"
      ]
     },
     "execution_count": 33,
     "metadata": {},
     "output_type": "execute_result"
    }
   ],
   "source": [
    "data1.shape"
   ]
  },
  {
   "cell_type": "code",
   "execution_count": 34,
   "metadata": {},
   "outputs": [
    {
     "data": {
      "text/plain": [
       "(10000, 18)"
      ]
     },
     "execution_count": 34,
     "metadata": {},
     "output_type": "execute_result"
    }
   ],
   "source": [
    "data_null.shape"
   ]
  },
  {
   "cell_type": "code",
   "execution_count": 35,
   "metadata": {},
   "outputs": [
    {
     "data": {
      "text/html": [
       "<div>\n",
       "<style scoped>\n",
       "    .dataframe tbody tr th:only-of-type {\n",
       "        vertical-align: middle;\n",
       "    }\n",
       "\n",
       "    .dataframe tbody tr th {\n",
       "        vertical-align: top;\n",
       "    }\n",
       "\n",
       "    .dataframe thead th {\n",
       "        text-align: right;\n",
       "    }\n",
       "</style>\n",
       "<table border=\"1\" class=\"dataframe\">\n",
       "  <thead>\n",
       "    <tr style=\"text-align: right;\">\n",
       "      <th></th>\n",
       "      <th>business_code</th>\n",
       "      <th>cust_number</th>\n",
       "      <th>name_customer</th>\n",
       "      <th>clear_date</th>\n",
       "      <th>buisness_year</th>\n",
       "      <th>doc_id</th>\n",
       "      <th>posting_date</th>\n",
       "      <th>document_create_date</th>\n",
       "      <th>document_create_date.1</th>\n",
       "      <th>due_in_date</th>\n",
       "      <th>invoice_currency</th>\n",
       "      <th>document type</th>\n",
       "      <th>posting_id</th>\n",
       "      <th>area_business</th>\n",
       "      <th>total_open_amount</th>\n",
       "      <th>baseline_create_date</th>\n",
       "      <th>cust_payment_terms</th>\n",
       "      <th>invoice_id</th>\n",
       "      <th>isOpen</th>\n",
       "    </tr>\n",
       "  </thead>\n",
       "  <tbody>\n",
       "    <tr>\n",
       "      <th>0</th>\n",
       "      <td>U001</td>\n",
       "      <td>0200769623</td>\n",
       "      <td>WAL-MAR corp</td>\n",
       "      <td>2020-02-11</td>\n",
       "      <td>2020.0</td>\n",
       "      <td>1.930438e+09</td>\n",
       "      <td>2020-01-26</td>\n",
       "      <td>2020-01-25</td>\n",
       "      <td>2020-01-26</td>\n",
       "      <td>2020-02-10</td>\n",
       "      <td>USD</td>\n",
       "      <td>RV</td>\n",
       "      <td>1.0</td>\n",
       "      <td>NaN</td>\n",
       "      <td>54273.28</td>\n",
       "      <td>2020-01-26</td>\n",
       "      <td>NAH4</td>\n",
       "      <td>1.930438e+09</td>\n",
       "      <td>0</td>\n",
       "    </tr>\n",
       "    <tr>\n",
       "      <th>1</th>\n",
       "      <td>U001</td>\n",
       "      <td>0200980828</td>\n",
       "      <td>BEN E</td>\n",
       "      <td>2019-08-08</td>\n",
       "      <td>2019.0</td>\n",
       "      <td>1.929646e+09</td>\n",
       "      <td>2019-07-22</td>\n",
       "      <td>2019-07-22</td>\n",
       "      <td>2019-07-22</td>\n",
       "      <td>2019-08-11</td>\n",
       "      <td>USD</td>\n",
       "      <td>RV</td>\n",
       "      <td>1.0</td>\n",
       "      <td>NaN</td>\n",
       "      <td>79656.60</td>\n",
       "      <td>2019-07-22</td>\n",
       "      <td>NAD1</td>\n",
       "      <td>1.929646e+09</td>\n",
       "      <td>0</td>\n",
       "    </tr>\n",
       "    <tr>\n",
       "      <th>2</th>\n",
       "      <td>U001</td>\n",
       "      <td>0200792734</td>\n",
       "      <td>MDV/ trust</td>\n",
       "      <td>2019-12-30</td>\n",
       "      <td>2019.0</td>\n",
       "      <td>1.929874e+09</td>\n",
       "      <td>2019-09-14</td>\n",
       "      <td>2019-09-14</td>\n",
       "      <td>2019-09-14</td>\n",
       "      <td>2019-09-29</td>\n",
       "      <td>USD</td>\n",
       "      <td>RV</td>\n",
       "      <td>1.0</td>\n",
       "      <td>NaN</td>\n",
       "      <td>2253.86</td>\n",
       "      <td>2019-09-14</td>\n",
       "      <td>NAA8</td>\n",
       "      <td>1.929874e+09</td>\n",
       "      <td>0</td>\n",
       "    </tr>\n",
       "    <tr>\n",
       "      <th>4</th>\n",
       "      <td>U001</td>\n",
       "      <td>0200769623</td>\n",
       "      <td>WAL-MAR foundation</td>\n",
       "      <td>2019-11-25</td>\n",
       "      <td>2019.0</td>\n",
       "      <td>1.930148e+09</td>\n",
       "      <td>2019-11-13</td>\n",
       "      <td>2019-11-13</td>\n",
       "      <td>2019-11-13</td>\n",
       "      <td>2019-11-28</td>\n",
       "      <td>USD</td>\n",
       "      <td>RV</td>\n",
       "      <td>1.0</td>\n",
       "      <td>NaN</td>\n",
       "      <td>33133.29</td>\n",
       "      <td>2019-11-13</td>\n",
       "      <td>NAH4</td>\n",
       "      <td>1.930148e+09</td>\n",
       "      <td>0</td>\n",
       "    </tr>\n",
       "    <tr>\n",
       "      <th>5</th>\n",
       "      <td>CA02</td>\n",
       "      <td>0140106181</td>\n",
       "      <td>THE  corporation</td>\n",
       "      <td>2019-12-04</td>\n",
       "      <td>2019.0</td>\n",
       "      <td>2.960581e+09</td>\n",
       "      <td>2019-09-20</td>\n",
       "      <td>2019-09-20</td>\n",
       "      <td>2019-09-20</td>\n",
       "      <td>2019-10-04</td>\n",
       "      <td>CAD</td>\n",
       "      <td>RV</td>\n",
       "      <td>1.0</td>\n",
       "      <td>NaN</td>\n",
       "      <td>22225.84</td>\n",
       "      <td>2019-09-24</td>\n",
       "      <td>CA10</td>\n",
       "      <td>2.960581e+09</td>\n",
       "      <td>0</td>\n",
       "    </tr>\n",
       "  </tbody>\n",
       "</table>\n",
       "</div>"
      ],
      "text/plain": [
       "  business_code cust_number       name_customer  clear_date  buisness_year  \\\n",
       "0          U001  0200769623        WAL-MAR corp  2020-02-11         2020.0   \n",
       "1          U001  0200980828              BEN E   2019-08-08         2019.0   \n",
       "2          U001  0200792734          MDV/ trust  2019-12-30         2019.0   \n",
       "4          U001  0200769623  WAL-MAR foundation  2019-11-25         2019.0   \n",
       "5          CA02  0140106181    THE  corporation  2019-12-04         2019.0   \n",
       "\n",
       "         doc_id posting_date document_create_date document_create_date.1  \\\n",
       "0  1.930438e+09   2020-01-26           2020-01-25             2020-01-26   \n",
       "1  1.929646e+09   2019-07-22           2019-07-22             2019-07-22   \n",
       "2  1.929874e+09   2019-09-14           2019-09-14             2019-09-14   \n",
       "4  1.930148e+09   2019-11-13           2019-11-13             2019-11-13   \n",
       "5  2.960581e+09   2019-09-20           2019-09-20             2019-09-20   \n",
       "\n",
       "  due_in_date invoice_currency document type  posting_id  area_business  \\\n",
       "0  2020-02-10              USD            RV         1.0            NaN   \n",
       "1  2019-08-11              USD            RV         1.0            NaN   \n",
       "2  2019-09-29              USD            RV         1.0            NaN   \n",
       "4  2019-11-28              USD            RV         1.0            NaN   \n",
       "5  2019-10-04              CAD            RV         1.0            NaN   \n",
       "\n",
       "   total_open_amount baseline_create_date cust_payment_terms    invoice_id  \\\n",
       "0           54273.28           2020-01-26               NAH4  1.930438e+09   \n",
       "1           79656.60           2019-07-22               NAD1  1.929646e+09   \n",
       "2            2253.86           2019-09-14               NAA8  1.929874e+09   \n",
       "4           33133.29           2019-11-13               NAH4  1.930148e+09   \n",
       "5           22225.84           2019-09-24               CA10  2.960581e+09   \n",
       "\n",
       "   isOpen  \n",
       "0       0  \n",
       "1       0  \n",
       "2       0  \n",
       "4       0  \n",
       "5       0  "
      ]
     },
     "execution_count": 35,
     "metadata": {},
     "output_type": "execute_result"
    }
   ],
   "source": [
    "# removing the anomalys from the data1 dataset.\n",
    "data1.drop(\n",
    "    data1[data1[\"clear_date\"] < data1[\"baseline_create_date\"]].index,\n",
    "    index=None,\n",
    "    inplace=True,\n",
    ")\n",
    "data1.head()"
   ]
  },
  {
   "cell_type": "code",
   "execution_count": 36,
   "metadata": {},
   "outputs": [
    {
     "data": {
      "text/plain": [
       "(39998, 19)"
      ]
     },
     "execution_count": 36,
     "metadata": {},
     "output_type": "execute_result"
    }
   ],
   "source": [
    "data1.shape"
   ]
  },
  {
   "cell_type": "code",
   "execution_count": null,
   "metadata": {},
   "outputs": [],
   "source": [
    "# we are going o remove this column and also the correlation btw invoice id and dco id is .999 which means they are highly correlated\n",
    "# thats why well drop this column.\n",
    "\n",
    "\"\"\"#removing duplicate invoice ids as I think two bills cant have same invoice number\n",
    "#this has to be a mistake.\n",
    "\n",
    "data1.drop_duplicates('invoice_id',keep='first',inplace=True)\n",
    "data1.shape\n",
    "\"\"\""
   ]
  },
  {
   "cell_type": "code",
   "execution_count": 37,
   "metadata": {},
   "outputs": [],
   "source": [
    "# making the delay column\n",
    "\n",
    "data1[\"delay\"] = (data1[\"clear_date\"] - data1[\"due_in_date\"]).dt.days"
   ]
  },
  {
   "cell_type": "code",
   "execution_count": 38,
   "metadata": {},
   "outputs": [],
   "source": [
    "data1.sort_values(\n",
    "    by=\"document_create_date.1\", inplace=True, ignore_index=1, ascending=True\n",
    ")\n",
    "\n",
    "# sorting the data wrt to document_create_date1"
   ]
  },
  {
   "cell_type": "code",
   "execution_count": 39,
   "metadata": {},
   "outputs": [
    {
     "data": {
      "text/html": [
       "<div>\n",
       "<style scoped>\n",
       "    .dataframe tbody tr th:only-of-type {\n",
       "        vertical-align: middle;\n",
       "    }\n",
       "\n",
       "    .dataframe tbody tr th {\n",
       "        vertical-align: top;\n",
       "    }\n",
       "\n",
       "    .dataframe thead th {\n",
       "        text-align: right;\n",
       "    }\n",
       "</style>\n",
       "<table border=\"1\" class=\"dataframe\">\n",
       "  <thead>\n",
       "    <tr style=\"text-align: right;\">\n",
       "      <th></th>\n",
       "      <th>buisness_year</th>\n",
       "      <th>doc_id</th>\n",
       "      <th>posting_id</th>\n",
       "      <th>area_business</th>\n",
       "      <th>total_open_amount</th>\n",
       "      <th>invoice_id</th>\n",
       "      <th>isOpen</th>\n",
       "      <th>delay</th>\n",
       "    </tr>\n",
       "  </thead>\n",
       "  <tbody>\n",
       "    <tr>\n",
       "      <th>count</th>\n",
       "      <td>39998.000000</td>\n",
       "      <td>3.999800e+04</td>\n",
       "      <td>39998.0</td>\n",
       "      <td>0.0</td>\n",
       "      <td>39998.000000</td>\n",
       "      <td>3.999200e+04</td>\n",
       "      <td>39998.0</td>\n",
       "      <td>39998.000000</td>\n",
       "    </tr>\n",
       "    <tr>\n",
       "      <th>mean</th>\n",
       "      <td>2019.132132</td>\n",
       "      <td>2.013481e+09</td>\n",
       "      <td>1.0</td>\n",
       "      <td>NaN</td>\n",
       "      <td>32061.969706</td>\n",
       "      <td>2.012358e+09</td>\n",
       "      <td>0.0</td>\n",
       "      <td>0.838442</td>\n",
       "    </tr>\n",
       "    <tr>\n",
       "      <th>std</th>\n",
       "      <td>0.338638</td>\n",
       "      <td>2.931565e+08</td>\n",
       "      <td>0.0</td>\n",
       "      <td>NaN</td>\n",
       "      <td>39524.195911</td>\n",
       "      <td>2.784660e+08</td>\n",
       "      <td>0.0</td>\n",
       "      <td>10.831443</td>\n",
       "    </tr>\n",
       "    <tr>\n",
       "      <th>min</th>\n",
       "      <td>2019.000000</td>\n",
       "      <td>1.928502e+09</td>\n",
       "      <td>1.0</td>\n",
       "      <td>NaN</td>\n",
       "      <td>0.790000</td>\n",
       "      <td>1.928502e+09</td>\n",
       "      <td>0.0</td>\n",
       "      <td>-89.000000</td>\n",
       "    </tr>\n",
       "    <tr>\n",
       "      <th>25%</th>\n",
       "      <td>2019.000000</td>\n",
       "      <td>1.929181e+09</td>\n",
       "      <td>1.0</td>\n",
       "      <td>NaN</td>\n",
       "      <td>4702.905000</td>\n",
       "      <td>1.929181e+09</td>\n",
       "      <td>0.0</td>\n",
       "      <td>-3.000000</td>\n",
       "    </tr>\n",
       "    <tr>\n",
       "      <th>50%</th>\n",
       "      <td>2019.000000</td>\n",
       "      <td>1.929733e+09</td>\n",
       "      <td>1.0</td>\n",
       "      <td>NaN</td>\n",
       "      <td>17283.500000</td>\n",
       "      <td>1.929733e+09</td>\n",
       "      <td>0.0</td>\n",
       "      <td>0.000000</td>\n",
       "    </tr>\n",
       "    <tr>\n",
       "      <th>75%</th>\n",
       "      <td>2019.000000</td>\n",
       "      <td>1.930209e+09</td>\n",
       "      <td>1.0</td>\n",
       "      <td>NaN</td>\n",
       "      <td>46542.090000</td>\n",
       "      <td>1.930208e+09</td>\n",
       "      <td>0.0</td>\n",
       "      <td>2.000000</td>\n",
       "    </tr>\n",
       "    <tr>\n",
       "      <th>max</th>\n",
       "      <td>2020.000000</td>\n",
       "      <td>9.500000e+09</td>\n",
       "      <td>1.0</td>\n",
       "      <td>NaN</td>\n",
       "      <td>668593.360000</td>\n",
       "      <td>2.960617e+09</td>\n",
       "      <td>0.0</td>\n",
       "      <td>204.000000</td>\n",
       "    </tr>\n",
       "  </tbody>\n",
       "</table>\n",
       "</div>"
      ],
      "text/plain": [
       "       buisness_year        doc_id  posting_id  area_business  \\\n",
       "count   39998.000000  3.999800e+04     39998.0            0.0   \n",
       "mean     2019.132132  2.013481e+09         1.0            NaN   \n",
       "std         0.338638  2.931565e+08         0.0            NaN   \n",
       "min      2019.000000  1.928502e+09         1.0            NaN   \n",
       "25%      2019.000000  1.929181e+09         1.0            NaN   \n",
       "50%      2019.000000  1.929733e+09         1.0            NaN   \n",
       "75%      2019.000000  1.930209e+09         1.0            NaN   \n",
       "max      2020.000000  9.500000e+09         1.0            NaN   \n",
       "\n",
       "       total_open_amount    invoice_id   isOpen         delay  \n",
       "count       39998.000000  3.999200e+04  39998.0  39998.000000  \n",
       "mean        32061.969706  2.012358e+09      0.0      0.838442  \n",
       "std         39524.195911  2.784660e+08      0.0     10.831443  \n",
       "min             0.790000  1.928502e+09      0.0    -89.000000  \n",
       "25%          4702.905000  1.929181e+09      0.0     -3.000000  \n",
       "50%         17283.500000  1.929733e+09      0.0      0.000000  \n",
       "75%         46542.090000  1.930208e+09      0.0      2.000000  \n",
       "max        668593.360000  2.960617e+09      0.0    204.000000  "
      ]
     },
     "execution_count": 39,
     "metadata": {},
     "output_type": "execute_result"
    }
   ],
   "source": [
    "data1.describe()"
   ]
  },
  {
   "cell_type": "code",
   "execution_count": 40,
   "metadata": {},
   "outputs": [
    {
     "data": {
      "text/plain": [
       "Text(0, 0.5, 'density')"
      ]
     },
     "execution_count": 40,
     "metadata": {},
     "output_type": "execute_result"
    },
    {
     "data": {
      "image/png": "[encoded data removed]",
      "text/plain": [
       "<Figure size 432x288 with 1 Axes>"
      ]
     },
     "metadata": {
      "needs_background": "light"
     },
     "output_type": "display_data"
    }
   ],
   "source": [
    "import seaborn as sns\n",
    "\n",
    "sns.boxplot(x=data1[\"delay\"])\n",
    "plt.ylabel(\"density\")\n",
    "\n",
    "# this graph show the density of delays\n",
    "# max people submitted the payment with 0 delay\n",
    "\n",
    "# and we can spot some outliers too"
   ]
  },
  {
   "cell_type": "code",
   "execution_count": 41,
   "metadata": {},
   "outputs": [
    {
     "data": {
      "text/plain": [
       "Text(0.5, 1.0, 'delay range')"
      ]
     },
     "execution_count": 41,
     "metadata": {},
     "output_type": "execute_result"
    },
    {
     "data": {
      "image/png": "[encoded data removed]",
      "text/plain": [
       "<Figure size 432x288 with 1 Axes>"
      ]
     },
     "metadata": {
      "needs_background": "light"
     },
     "output_type": "display_data"
    }
   ],
   "source": [
    "plt.hist(data1[\"delay\"])\n",
    "plt.xlabel(\"delay\")\n",
    "plt.ylabel(\"density\")\n",
    "plt.title(\"delay range\")"
   ]
  },
  {
   "cell_type": "markdown",
   "metadata": {},
   "source": [
    "#### using IQR to spot and remove outliers in the dataset"
   ]
  },
  {
   "cell_type": "code",
   "execution_count": 42,
   "metadata": {},
   "outputs": [
    {
     "name": "stdout",
     "output_type": "stream",
     "text": [
      "Q1 25 percentile of the given data is,  -19.0\n",
      "Q1 50 percentile of the given data is,  0.0\n",
      "Q1 75 percentile of the given data is,  90.0\n"
     ]
    }
   ],
   "source": [
    "# after many hit and trial i was able to fing my Q3 values to successfully point out my outliers\n",
    "\n",
    "Q1 = np.percentile(data1[\"delay\"], 1)\n",
    "Q2 = np.percentile(data1[\"delay\"], 50)\n",
    "Q3 = np.percentile(data1[\"delay\"], 99.74)\n",
    "\n",
    "print(\"Q1 25 percentile of the given data is, \", Q1)\n",
    "print(\"Q1 50 percentile of the given data is, \", Q2)\n",
    "print(\"Q1 75 percentile of the given data is, \", Q3)"
   ]
  },
  {
   "cell_type": "code",
   "execution_count": 43,
   "metadata": {},
   "outputs": [
    {
     "name": "stdout",
     "output_type": "stream",
     "text": [
      "Interquartile range is 109.0\n"
     ]
    }
   ],
   "source": [
    "IQR = Q3 - Q1\n",
    "print(\"Interquartile range is\", IQR)"
   ]
  },
  {
   "cell_type": "code",
   "execution_count": 44,
   "metadata": {},
   "outputs": [
    {
     "name": "stdout",
     "output_type": "stream",
     "text": [
      "low_limit is -182.5\n",
      "up_limit is 253.5\n"
     ]
    }
   ],
   "source": [
    "low_lim = Q1 - 1.5 * IQR\n",
    "up_lim = Q3 + 1.5 * IQR\n",
    "print(\"low_limit is\", low_lim)\n",
    "print(\"up_limit is\", up_lim)"
   ]
  },
  {
   "cell_type": "code",
   "execution_count": 45,
   "metadata": {},
   "outputs": [
    {
     "name": "stdout",
     "output_type": "stream",
     "text": [
      " outlier in the dataset is []\n"
     ]
    }
   ],
   "source": [
    "outlier = []\n",
    "for x in data1[\"delay\"]:\n",
    "    if (x > up_lim) or (x < low_lim):\n",
    "        outlier.append(x)\n",
    "print(\" outlier in the dataset is\", outlier)"
   ]
  },
  {
   "cell_type": "code",
   "execution_count": 47,
   "metadata": {},
   "outputs": [],
   "source": [
    "# remove outliers in delay\n",
    "\n",
    "data1.drop(data1[data1[\"delay\"] > up_lim].index, index=None, inplace=True)"
   ]
  },
  {
   "cell_type": "code",
   "execution_count": 48,
   "metadata": {},
   "outputs": [
    {
     "data": {
      "text/plain": [
       "<AxesSubplot:xlabel='delay'>"
      ]
     },
     "execution_count": 48,
     "metadata": {},
     "output_type": "execute_result"
    },
    {
     "data": {
      "image/png": "[encoded data removed]",
      "text/plain": [
       "<Figure size 432x288 with 1 Axes>"
      ]
     },
     "metadata": {
      "needs_background": "light"
     },
     "output_type": "display_data"
    }
   ],
   "source": [
    "sns.boxplot(x=data1[\"delay\"])"
   ]
  },
  {
   "cell_type": "markdown",
   "metadata": {},
   "source": [
    "# Train Test Split"
   ]
  },
  {
   "cell_type": "code",
   "execution_count": null,
   "metadata": {},
   "outputs": [],
   "source": [
    "data[\"cust_number\"].value_counts()"
   ]
  },
  {
   "cell_type": "code",
   "execution_count": null,
   "metadata": {},
   "outputs": [],
   "source": [
    "data1.head()"
   ]
  },
  {
   "cell_type": "code",
   "execution_count": 49,
   "metadata": {},
   "outputs": [
    {
     "data": {
      "text/plain": [
       "(39998, 20)"
      ]
     },
     "execution_count": 49,
     "metadata": {},
     "output_type": "execute_result"
    }
   ],
   "source": [
    "X = data1.drop(\"delay\", axis=1)\n",
    "y = data1[\"delay\"]\n",
    "data1.shape"
   ]
  },
  {
   "cell_type": "markdown",
   "metadata": {},
   "source": [
    "#### applying Train Test split"
   ]
  },
  {
   "cell_type": "code",
   "execution_count": 50,
   "metadata": {},
   "outputs": [],
   "source": [
    "from sklearn.model_selection import train_test_split"
   ]
  },
  {
   "cell_type": "code",
   "execution_count": 51,
   "metadata": {},
   "outputs": [],
   "source": [
    "X_train, X_test, y_train, y_test = train_test_split(\n",
    "    X, y, shuffle=False, test_size=0.2\n",
    ")"
   ]
  },
  {
   "cell_type": "code",
   "execution_count": 52,
   "metadata": {},
   "outputs": [
    {
     "data": {
      "text/plain": [
       "((31998, 19), (8000, 19))"
      ]
     },
     "execution_count": 52,
     "metadata": {},
     "output_type": "execute_result"
    }
   ],
   "source": [
    "X_train.shape, X_test.shape\n",
    "\n",
    "# ((37134, 20), (9284, 20))"
   ]
  },
  {
   "cell_type": "markdown",
   "metadata": {},
   "source": [
    "#### splitting X_test into X-validation and X_test1"
   ]
  },
  {
   "cell_type": "code",
   "execution_count": 53,
   "metadata": {},
   "outputs": [
    {
     "data": {
      "text/plain": [
       "((4000, 19), (4000, 19))"
      ]
     },
     "execution_count": 53,
     "metadata": {},
     "output_type": "execute_result"
    }
   ],
   "source": [
    "X_val, X_test1, y_val, y_test1 = train_test_split(\n",
    "    X_test, y_test, test_size=0.50, shuffle=False\n",
    ")\n",
    "X_val.shape, X_test1.shape\n",
    "\n",
    "# ((4642, 20), (4642, 20))"
   ]
  },
  {
   "cell_type": "markdown",
   "metadata": {},
   "source": [
    "*****************************************************************"
   ]
  },
  {
   "cell_type": "markdown",
   "metadata": {},
   "source": [
    "# EDA"
   ]
  },
  {
   "cell_type": "markdown",
   "metadata": {},
   "source": [
    "#### lets do some Data Analysis and Visulaization"
   ]
  },
  {
   "cell_type": "code",
   "execution_count": 54,
   "metadata": {},
   "outputs": [],
   "source": [
    "X_train[\"delay\"] = pd.DataFrame(y_train, X_train.index)"
   ]
  },
  {
   "cell_type": "code",
   "execution_count": 57,
   "metadata": {},
   "outputs": [
    {
     "data": {
      "text/plain": [
       "<AxesSubplot:xlabel='document_create_date.1', ylabel='delay'>"
      ]
     },
     "execution_count": 57,
     "metadata": {},
     "output_type": "execute_result"
    },
    {
     "data": {
      "image/png": "[encoded data removed]",
      "text/plain": [
       "<Figure size 1440x1080 with 1 Axes>"
      ]
     },
     "metadata": {
      "needs_background": "light"
     },
     "output_type": "display_data"
    }
   ],
   "source": [
    "plt.figure(figsize=(20, 15))\n",
    "sns.scatterplot(x=X_train[\"document_create_date.1\"], y=X_train[\"delay\"])"
   ]
  },
  {
   "cell_type": "code",
   "execution_count": 58,
   "metadata": {},
   "outputs": [],
   "source": [
    "map_cust_num = X_train.groupby(\"cust_number\")[\"delay\"].mean().to_dict()\n",
    "\n",
    "X_train[\"mean_delay\"] = X_train[\"cust_number\"].map(map_cust_num)"
   ]
  },
  {
   "cell_type": "code",
   "execution_count": 59,
   "metadata": {},
   "outputs": [
    {
     "name": "stderr",
     "output_type": "stream",
     "text": [
      "/tmp/ipykernel_1803/1279746346.py:2: SettingWithCopyWarning: \n",
      "A value is trying to be set on a copy of a slice from a DataFrame\n",
      "\n",
      "See the caveats in the documentation: https://pandas.pydata.org/pandas-docs/stable/user_guide/indexing.html#returning-a-view-versus-a-copy\n",
      "  X_val[\"mean_delay\"][X_val[\"mean_delay\"].isnull()] = X_train[\"delay\"].mean()\n"
     ]
    }
   ],
   "source": [
    "X_val[\"mean_delay\"] = X_val[\"cust_number\"].map(map_cust_num)\n",
    "X_val[\"mean_delay\"][X_val[\"mean_delay\"].isnull()] = X_train[\"delay\"].mean()"
   ]
  },
  {
   "cell_type": "code",
   "execution_count": 60,
   "metadata": {},
   "outputs": [
    {
     "name": "stderr",
     "output_type": "stream",
     "text": [
      "/tmp/ipykernel_1803/4119590750.py:2: SettingWithCopyWarning: \n",
      "A value is trying to be set on a copy of a slice from a DataFrame\n",
      "\n",
      "See the caveats in the documentation: https://pandas.pydata.org/pandas-docs/stable/user_guide/indexing.html#returning-a-view-versus-a-copy\n",
      "  X_test1[\"mean_delay\"][X_test1[\"mean_delay\"].isnull()] = X_train[\"delay\"].mean()\n"
     ]
    }
   ],
   "source": [
    "X_test1[\"mean_delay\"] = X_test1[\"cust_number\"].map(map_cust_num)\n",
    "X_test1[\"mean_delay\"][X_test1[\"mean_delay\"].isnull()] = X_train[\"delay\"].mean()"
   ]
  },
  {
   "cell_type": "code",
   "execution_count": 61,
   "metadata": {},
   "outputs": [
    {
     "data": {
      "text/plain": [
       "1.0252203262703918"
      ]
     },
     "execution_count": 61,
     "metadata": {},
     "output_type": "execute_result"
    }
   ],
   "source": [
    "X_train[\"delay\"].mean()"
   ]
  },
  {
   "cell_type": "code",
   "execution_count": 62,
   "metadata": {},
   "outputs": [
    {
     "name": "stderr",
     "output_type": "stream",
     "text": [
      "/tmp/ipykernel_1803/974276814.py:2: SettingWithCopyWarning: \n",
      "A value is trying to be set on a copy of a slice from a DataFrame\n",
      "\n",
      "See the caveats in the documentation: https://pandas.pydata.org/pandas-docs/stable/user_guide/indexing.html#returning-a-view-versus-a-copy\n",
      "  data_null[\"mean_delay\"][data_null[\"mean_delay\"].isnull()] = X_train[\n"
     ]
    }
   ],
   "source": [
    "data_null[\"mean_delay\"] = data_null[\"cust_number\"].map(map_cust_num)\n",
    "data_null[\"mean_delay\"][data_null[\"mean_delay\"].isnull()] = X_train[\n",
    "    \"delay\"\n",
    "].mean()"
   ]
  },
  {
   "cell_type": "raw",
   "metadata": {},
   "source": [
    "map_cust_num"
   ]
  },
  {
   "cell_type": "raw",
   "metadata": {},
   "source": [
    "extra_dict={'0100057168':0,'0100043895':-2,'0100004803':10,'0100012050':27,\n",
    "            ''}\n",
    "extra_dict\n",
    "\n",
    "my_dict = dict.fromkeys(['a', 'c', 'd'], 10)\n",
    "my_dict.update(dict.fromkeys(['b', 'e'], 20))\n",
    "my_dict\n"
   ]
  },
  {
   "cell_type": "code",
   "execution_count": null,
   "metadata": {},
   "outputs": [],
   "source": []
  },
  {
   "cell_type": "raw",
   "metadata": {},
   "source": [
    "['0100057168','0100043895','0100004803','0100012050','200494102','0200703231','0200966944',\n",
    "                                  '0100053741','0100053741','0200490745','0100048218','0200824658','0100057874','0100025376',]"
   ]
  },
  {
   "cell_type": "raw",
   "metadata": {},
   "source": [
    "a=[]\n",
    "for i in rows_with_NaN['cust_number']:\n",
    "    a.append(i)\n",
    "a    "
   ]
  },
  {
   "cell_type": "raw",
   "metadata": {},
   "source": [
    "map_cust_num.update(dict.fromkeys(a,0))"
   ]
  },
  {
   "cell_type": "code",
   "execution_count": null,
   "metadata": {},
   "outputs": [],
   "source": []
  },
  {
   "cell_type": "code",
   "execution_count": 63,
   "metadata": {},
   "outputs": [],
   "source": [
    "# removing some constant columns:-\n",
    "\n",
    "X_train.drop(\n",
    "    columns=[\n",
    "        \"posting_id\",\n",
    "        \"area_business\",\n",
    "        \"isOpen\",\n",
    "        \"document_create_date\",\n",
    "        \"posting_date\",\n",
    "        \"name_customer\",\n",
    "    ],\n",
    "    axis=1,\n",
    "    inplace=True,\n",
    ")\n",
    "X_test1.drop(\n",
    "    columns=[\n",
    "        \"posting_id\",\n",
    "        \"area_business\",\n",
    "        \"isOpen\",\n",
    "        \"document_create_date\",\n",
    "        \"posting_date\",\n",
    "        \"name_customer\",\n",
    "    ],\n",
    "    axis=1,\n",
    "    inplace=True,\n",
    ")\n",
    "X_val.drop(\n",
    "    columns=[\n",
    "        \"posting_id\",\n",
    "        \"area_business\",\n",
    "        \"isOpen\",\n",
    "        \"document_create_date\",\n",
    "        \"posting_date\",\n",
    "        \"name_customer\",\n",
    "    ],\n",
    "    axis=1,\n",
    "    inplace=True,\n",
    ")"
   ]
  },
  {
   "cell_type": "code",
   "execution_count": 64,
   "metadata": {},
   "outputs": [
    {
     "data": {
      "text/plain": [
       "(10000, 13)"
      ]
     },
     "execution_count": 64,
     "metadata": {},
     "output_type": "execute_result"
    }
   ],
   "source": [
    "data_null.drop(\n",
    "    columns=[\n",
    "        \"posting_id\",\n",
    "        \"area_business\",\n",
    "        \"isOpen\",\n",
    "        \"document_create_date\",\n",
    "        \"posting_date\",\n",
    "        \"name_customer\",\n",
    "    ],\n",
    "    axis=1,\n",
    "    inplace=True,\n",
    ")\n",
    "data_null.shape"
   ]
  },
  {
   "cell_type": "code",
   "execution_count": 65,
   "metadata": {},
   "outputs": [
    {
     "data": {
      "text/html": [
       "<div>\n",
       "<style scoped>\n",
       "    .dataframe tbody tr th:only-of-type {\n",
       "        vertical-align: middle;\n",
       "    }\n",
       "\n",
       "    .dataframe tbody tr th {\n",
       "        vertical-align: top;\n",
       "    }\n",
       "\n",
       "    .dataframe thead th {\n",
       "        text-align: right;\n",
       "    }\n",
       "</style>\n",
       "<table border=\"1\" class=\"dataframe\">\n",
       "  <thead>\n",
       "    <tr style=\"text-align: right;\">\n",
       "      <th></th>\n",
       "      <th>business_code</th>\n",
       "      <th>cust_number</th>\n",
       "      <th>buisness_year</th>\n",
       "      <th>doc_id</th>\n",
       "      <th>document_create_date.1</th>\n",
       "      <th>due_in_date</th>\n",
       "      <th>invoice_currency</th>\n",
       "      <th>document type</th>\n",
       "      <th>total_open_amount</th>\n",
       "      <th>baseline_create_date</th>\n",
       "      <th>cust_payment_terms</th>\n",
       "      <th>invoice_id</th>\n",
       "      <th>mean_delay</th>\n",
       "    </tr>\n",
       "  </thead>\n",
       "  <tbody>\n",
       "    <tr>\n",
       "      <th>3</th>\n",
       "      <td>CA02</td>\n",
       "      <td>0140105686</td>\n",
       "      <td>2020.0</td>\n",
       "      <td>2.960623e+09</td>\n",
       "      <td>2020-03-30</td>\n",
       "      <td>2020-04-10</td>\n",
       "      <td>CAD</td>\n",
       "      <td>RV</td>\n",
       "      <td>3299.70</td>\n",
       "      <td>2020-03-31</td>\n",
       "      <td>CA10</td>\n",
       "      <td>2.960623e+09</td>\n",
       "      <td>6.522124</td>\n",
       "    </tr>\n",
       "    <tr>\n",
       "      <th>7</th>\n",
       "      <td>U001</td>\n",
       "      <td>0200744019</td>\n",
       "      <td>2020.0</td>\n",
       "      <td>1.930659e+09</td>\n",
       "      <td>2020-03-19</td>\n",
       "      <td>2020-04-03</td>\n",
       "      <td>USD</td>\n",
       "      <td>RV</td>\n",
       "      <td>11173.02</td>\n",
       "      <td>2020-03-19</td>\n",
       "      <td>NAA8</td>\n",
       "      <td>1.930659e+09</td>\n",
       "      <td>2.849117</td>\n",
       "    </tr>\n",
       "    <tr>\n",
       "      <th>10</th>\n",
       "      <td>U001</td>\n",
       "      <td>0200418007</td>\n",
       "      <td>2020.0</td>\n",
       "      <td>1.930611e+09</td>\n",
       "      <td>2020-03-11</td>\n",
       "      <td>2020-03-26</td>\n",
       "      <td>USD</td>\n",
       "      <td>RV</td>\n",
       "      <td>3525.59</td>\n",
       "      <td>2020-03-11</td>\n",
       "      <td>NAA8</td>\n",
       "      <td>1.930611e+09</td>\n",
       "      <td>-0.908815</td>\n",
       "    </tr>\n",
       "    <tr>\n",
       "      <th>14</th>\n",
       "      <td>U001</td>\n",
       "      <td>0200739534</td>\n",
       "      <td>2020.0</td>\n",
       "      <td>1.930788e+09</td>\n",
       "      <td>2020-04-15</td>\n",
       "      <td>2020-04-30</td>\n",
       "      <td>USD</td>\n",
       "      <td>RV</td>\n",
       "      <td>121105.65</td>\n",
       "      <td>2020-04-15</td>\n",
       "      <td>NAA8</td>\n",
       "      <td>1.930788e+09</td>\n",
       "      <td>1.759124</td>\n",
       "    </tr>\n",
       "    <tr>\n",
       "      <th>15</th>\n",
       "      <td>U001</td>\n",
       "      <td>0200353024</td>\n",
       "      <td>2020.0</td>\n",
       "      <td>1.930817e+09</td>\n",
       "      <td>2020-04-23</td>\n",
       "      <td>2020-04-26</td>\n",
       "      <td>USD</td>\n",
       "      <td>RV</td>\n",
       "      <td>3726.06</td>\n",
       "      <td>2020-04-16</td>\n",
       "      <td>NAM2</td>\n",
       "      <td>1.930817e+09</td>\n",
       "      <td>-4.152174</td>\n",
       "    </tr>\n",
       "    <tr>\n",
       "      <th>...</th>\n",
       "      <td>...</td>\n",
       "      <td>...</td>\n",
       "      <td>...</td>\n",
       "      <td>...</td>\n",
       "      <td>...</td>\n",
       "      <td>...</td>\n",
       "      <td>...</td>\n",
       "      <td>...</td>\n",
       "      <td>...</td>\n",
       "      <td>...</td>\n",
       "      <td>...</td>\n",
       "      <td>...</td>\n",
       "      <td>...</td>\n",
       "    </tr>\n",
       "    <tr>\n",
       "      <th>49975</th>\n",
       "      <td>U001</td>\n",
       "      <td>0200769623</td>\n",
       "      <td>2020.0</td>\n",
       "      <td>1.930625e+09</td>\n",
       "      <td>2020-03-10</td>\n",
       "      <td>2020-03-25</td>\n",
       "      <td>USD</td>\n",
       "      <td>RV</td>\n",
       "      <td>13114.99</td>\n",
       "      <td>2020-03-10</td>\n",
       "      <td>NAH4</td>\n",
       "      <td>1.930625e+09</td>\n",
       "      <td>-2.260712</td>\n",
       "    </tr>\n",
       "    <tr>\n",
       "      <th>49980</th>\n",
       "      <td>U001</td>\n",
       "      <td>0200769623</td>\n",
       "      <td>2020.0</td>\n",
       "      <td>1.930851e+09</td>\n",
       "      <td>2020-05-03</td>\n",
       "      <td>2020-05-18</td>\n",
       "      <td>USD</td>\n",
       "      <td>RV</td>\n",
       "      <td>8899.71</td>\n",
       "      <td>2020-05-03</td>\n",
       "      <td>NAH4</td>\n",
       "      <td>1.930851e+09</td>\n",
       "      <td>-2.260712</td>\n",
       "    </tr>\n",
       "    <tr>\n",
       "      <th>49982</th>\n",
       "      <td>U001</td>\n",
       "      <td>0200148860</td>\n",
       "      <td>2020.0</td>\n",
       "      <td>1.930638e+09</td>\n",
       "      <td>2020-03-11</td>\n",
       "      <td>2020-03-26</td>\n",
       "      <td>USD</td>\n",
       "      <td>RV</td>\n",
       "      <td>4967.06</td>\n",
       "      <td>2020-03-11</td>\n",
       "      <td>NAA8</td>\n",
       "      <td>1.930638e+09</td>\n",
       "      <td>-5.490099</td>\n",
       "    </tr>\n",
       "    <tr>\n",
       "      <th>49992</th>\n",
       "      <td>U001</td>\n",
       "      <td>0200900909</td>\n",
       "      <td>2020.0</td>\n",
       "      <td>1.930702e+09</td>\n",
       "      <td>2020-03-25</td>\n",
       "      <td>2020-04-09</td>\n",
       "      <td>USD</td>\n",
       "      <td>RV</td>\n",
       "      <td>1998.64</td>\n",
       "      <td>2020-03-25</td>\n",
       "      <td>NAA8</td>\n",
       "      <td>1.930702e+09</td>\n",
       "      <td>1.463768</td>\n",
       "    </tr>\n",
       "    <tr>\n",
       "      <th>49995</th>\n",
       "      <td>U001</td>\n",
       "      <td>0200561861</td>\n",
       "      <td>2020.0</td>\n",
       "      <td>1.930797e+09</td>\n",
       "      <td>2020-04-21</td>\n",
       "      <td>2020-05-06</td>\n",
       "      <td>USD</td>\n",
       "      <td>RV</td>\n",
       "      <td>3187.86</td>\n",
       "      <td>2020-04-21</td>\n",
       "      <td>NAA8</td>\n",
       "      <td>1.930797e+09</td>\n",
       "      <td>-0.386364</td>\n",
       "    </tr>\n",
       "  </tbody>\n",
       "</table>\n",
       "<p>10000 rows × 13 columns</p>\n",
       "</div>"
      ],
      "text/plain": [
       "      business_code cust_number  buisness_year        doc_id  \\\n",
       "3              CA02  0140105686         2020.0  2.960623e+09   \n",
       "7              U001  0200744019         2020.0  1.930659e+09   \n",
       "10             U001  0200418007         2020.0  1.930611e+09   \n",
       "14             U001  0200739534         2020.0  1.930788e+09   \n",
       "15             U001  0200353024         2020.0  1.930817e+09   \n",
       "...             ...         ...            ...           ...   \n",
       "49975          U001  0200769623         2020.0  1.930625e+09   \n",
       "49980          U001  0200769623         2020.0  1.930851e+09   \n",
       "49982          U001  0200148860         2020.0  1.930638e+09   \n",
       "49992          U001  0200900909         2020.0  1.930702e+09   \n",
       "49995          U001  0200561861         2020.0  1.930797e+09   \n",
       "\n",
       "      document_create_date.1 due_in_date invoice_currency document type  \\\n",
       "3                 2020-03-30  2020-04-10              CAD            RV   \n",
       "7                 2020-03-19  2020-04-03              USD            RV   \n",
       "10                2020-03-11  2020-03-26              USD            RV   \n",
       "14                2020-04-15  2020-04-30              USD            RV   \n",
       "15                2020-04-23  2020-04-26              USD            RV   \n",
       "...                      ...         ...              ...           ...   \n",
       "49975             2020-03-10  2020-03-25              USD            RV   \n",
       "49980             2020-05-03  2020-05-18              USD            RV   \n",
       "49982             2020-03-11  2020-03-26              USD            RV   \n",
       "49992             2020-03-25  2020-04-09              USD            RV   \n",
       "49995             2020-04-21  2020-05-06              USD            RV   \n",
       "\n",
       "       total_open_amount baseline_create_date cust_payment_terms  \\\n",
       "3                3299.70           2020-03-31               CA10   \n",
       "7               11173.02           2020-03-19               NAA8   \n",
       "10               3525.59           2020-03-11               NAA8   \n",
       "14             121105.65           2020-04-15               NAA8   \n",
       "15               3726.06           2020-04-16               NAM2   \n",
       "...                  ...                  ...                ...   \n",
       "49975           13114.99           2020-03-10               NAH4   \n",
       "49980            8899.71           2020-05-03               NAH4   \n",
       "49982            4967.06           2020-03-11               NAA8   \n",
       "49992            1998.64           2020-03-25               NAA8   \n",
       "49995            3187.86           2020-04-21               NAA8   \n",
       "\n",
       "         invoice_id  mean_delay  \n",
       "3      2.960623e+09    6.522124  \n",
       "7      1.930659e+09    2.849117  \n",
       "10     1.930611e+09   -0.908815  \n",
       "14     1.930788e+09    1.759124  \n",
       "15     1.930817e+09   -4.152174  \n",
       "...             ...         ...  \n",
       "49975  1.930625e+09   -2.260712  \n",
       "49980  1.930851e+09   -2.260712  \n",
       "49982  1.930638e+09   -5.490099  \n",
       "49992  1.930702e+09    1.463768  \n",
       "49995  1.930797e+09   -0.386364  \n",
       "\n",
       "[10000 rows x 13 columns]"
      ]
     },
     "execution_count": 65,
     "metadata": {},
     "output_type": "execute_result"
    }
   ],
   "source": [
    "data_null"
   ]
  },
  {
   "cell_type": "code",
   "execution_count": 69,
   "metadata": {},
   "outputs": [
    {
     "data": {
      "text/html": [
       "<div>\n",
       "<style scoped>\n",
       "    .dataframe tbody tr th:only-of-type {\n",
       "        vertical-align: middle;\n",
       "    }\n",
       "\n",
       "    .dataframe tbody tr th {\n",
       "        vertical-align: top;\n",
       "    }\n",
       "\n",
       "    .dataframe thead th {\n",
       "        text-align: right;\n",
       "    }\n",
       "</style>\n",
       "<table border=\"1\" class=\"dataframe\">\n",
       "  <thead>\n",
       "    <tr style=\"text-align: right;\">\n",
       "      <th></th>\n",
       "      <th>business_code</th>\n",
       "      <th>cust_number</th>\n",
       "      <th>clear_date</th>\n",
       "      <th>buisness_year</th>\n",
       "      <th>doc_id</th>\n",
       "      <th>document_create_date.1</th>\n",
       "      <th>due_in_date</th>\n",
       "      <th>invoice_currency</th>\n",
       "      <th>document type</th>\n",
       "      <th>total_open_amount</th>\n",
       "      <th>baseline_create_date</th>\n",
       "      <th>cust_payment_terms</th>\n",
       "      <th>invoice_id</th>\n",
       "      <th>delay</th>\n",
       "      <th>mean_delay</th>\n",
       "    </tr>\n",
       "  </thead>\n",
       "  <tbody>\n",
       "    <tr>\n",
       "      <th>0</th>\n",
       "      <td>U001</td>\n",
       "      <td>0200726979</td>\n",
       "      <td>2019-01-15</td>\n",
       "      <td>2019.0</td>\n",
       "      <td>1.928538e+09</td>\n",
       "      <td>2018-12-30</td>\n",
       "      <td>2019-01-14</td>\n",
       "      <td>USD</td>\n",
       "      <td>RV</td>\n",
       "      <td>58.18</td>\n",
       "      <td>2018-12-30</td>\n",
       "      <td>NAA8</td>\n",
       "      <td>1.928538e+09</td>\n",
       "      <td>1</td>\n",
       "      <td>0.956110</td>\n",
       "    </tr>\n",
       "    <tr>\n",
       "      <th>1</th>\n",
       "      <td>U001</td>\n",
       "      <td>0200769623</td>\n",
       "      <td>2019-01-09</td>\n",
       "      <td>2019.0</td>\n",
       "      <td>1.928541e+09</td>\n",
       "      <td>2018-12-30</td>\n",
       "      <td>2019-01-14</td>\n",
       "      <td>USD</td>\n",
       "      <td>RV</td>\n",
       "      <td>20695.38</td>\n",
       "      <td>2018-12-30</td>\n",
       "      <td>NAH4</td>\n",
       "      <td>1.928541e+09</td>\n",
       "      <td>-5</td>\n",
       "      <td>-2.260712</td>\n",
       "    </tr>\n",
       "    <tr>\n",
       "      <th>2</th>\n",
       "      <td>U001</td>\n",
       "      <td>0200794332</td>\n",
       "      <td>2019-01-23</td>\n",
       "      <td>2019.0</td>\n",
       "      <td>1.928523e+09</td>\n",
       "      <td>2018-12-30</td>\n",
       "      <td>2019-01-14</td>\n",
       "      <td>USD</td>\n",
       "      <td>RV</td>\n",
       "      <td>8041.59</td>\n",
       "      <td>2018-12-30</td>\n",
       "      <td>NAAX</td>\n",
       "      <td>1.928523e+09</td>\n",
       "      <td>9</td>\n",
       "      <td>-0.185131</td>\n",
       "    </tr>\n",
       "    <tr>\n",
       "      <th>3</th>\n",
       "      <td>U001</td>\n",
       "      <td>0200769623</td>\n",
       "      <td>2019-01-16</td>\n",
       "      <td>2019.0</td>\n",
       "      <td>1.928534e+09</td>\n",
       "      <td>2018-12-30</td>\n",
       "      <td>2019-01-14</td>\n",
       "      <td>USD</td>\n",
       "      <td>RV</td>\n",
       "      <td>344.91</td>\n",
       "      <td>2018-12-30</td>\n",
       "      <td>NAH4</td>\n",
       "      <td>1.928534e+09</td>\n",
       "      <td>2</td>\n",
       "      <td>-2.260712</td>\n",
       "    </tr>\n",
       "    <tr>\n",
       "      <th>4</th>\n",
       "      <td>U001</td>\n",
       "      <td>0200769623</td>\n",
       "      <td>2019-01-11</td>\n",
       "      <td>2019.0</td>\n",
       "      <td>1.928543e+09</td>\n",
       "      <td>2018-12-30</td>\n",
       "      <td>2019-01-14</td>\n",
       "      <td>USD</td>\n",
       "      <td>RV</td>\n",
       "      <td>43689.83</td>\n",
       "      <td>2018-12-30</td>\n",
       "      <td>NAH4</td>\n",
       "      <td>1.928543e+09</td>\n",
       "      <td>-3</td>\n",
       "      <td>-2.260712</td>\n",
       "    </tr>\n",
       "    <tr>\n",
       "      <th>...</th>\n",
       "      <td>...</td>\n",
       "      <td>...</td>\n",
       "      <td>...</td>\n",
       "      <td>...</td>\n",
       "      <td>...</td>\n",
       "      <td>...</td>\n",
       "      <td>...</td>\n",
       "      <td>...</td>\n",
       "      <td>...</td>\n",
       "      <td>...</td>\n",
       "      <td>...</td>\n",
       "      <td>...</td>\n",
       "      <td>...</td>\n",
       "      <td>...</td>\n",
       "      <td>...</td>\n",
       "    </tr>\n",
       "    <tr>\n",
       "      <th>31993</th>\n",
       "      <td>U001</td>\n",
       "      <td>0200785971</td>\n",
       "      <td>2019-12-23</td>\n",
       "      <td>2019.0</td>\n",
       "      <td>1.930169e+09</td>\n",
       "      <td>2019-11-18</td>\n",
       "      <td>2019-12-20</td>\n",
       "      <td>USD</td>\n",
       "      <td>RV</td>\n",
       "      <td>6985.28</td>\n",
       "      <td>2019-11-18</td>\n",
       "      <td>NA32</td>\n",
       "      <td>1.930169e+09</td>\n",
       "      <td>3</td>\n",
       "      <td>1.762712</td>\n",
       "    </tr>\n",
       "    <tr>\n",
       "      <th>31994</th>\n",
       "      <td>U001</td>\n",
       "      <td>0200782669</td>\n",
       "      <td>2019-12-09</td>\n",
       "      <td>2019.0</td>\n",
       "      <td>1.930166e+09</td>\n",
       "      <td>2019-11-18</td>\n",
       "      <td>2019-12-03</td>\n",
       "      <td>USD</td>\n",
       "      <td>RV</td>\n",
       "      <td>8649.76</td>\n",
       "      <td>2019-11-18</td>\n",
       "      <td>NAA8</td>\n",
       "      <td>1.930166e+09</td>\n",
       "      <td>6</td>\n",
       "      <td>-0.103093</td>\n",
       "    </tr>\n",
       "    <tr>\n",
       "      <th>31995</th>\n",
       "      <td>U001</td>\n",
       "      <td>0200741831</td>\n",
       "      <td>2019-12-05</td>\n",
       "      <td>2019.0</td>\n",
       "      <td>1.930168e+09</td>\n",
       "      <td>2019-11-18</td>\n",
       "      <td>2019-12-03</td>\n",
       "      <td>USD</td>\n",
       "      <td>RV</td>\n",
       "      <td>50364.28</td>\n",
       "      <td>2019-11-18</td>\n",
       "      <td>NAA8</td>\n",
       "      <td>1.930168e+09</td>\n",
       "      <td>2</td>\n",
       "      <td>3.388889</td>\n",
       "    </tr>\n",
       "    <tr>\n",
       "      <th>31996</th>\n",
       "      <td>U001</td>\n",
       "      <td>0200726979</td>\n",
       "      <td>2019-12-03</td>\n",
       "      <td>2019.0</td>\n",
       "      <td>1.930170e+09</td>\n",
       "      <td>2019-11-18</td>\n",
       "      <td>2019-12-03</td>\n",
       "      <td>USD</td>\n",
       "      <td>RV</td>\n",
       "      <td>195.46</td>\n",
       "      <td>2019-11-18</td>\n",
       "      <td>NAA8</td>\n",
       "      <td>1.930170e+09</td>\n",
       "      <td>0</td>\n",
       "      <td>0.956110</td>\n",
       "    </tr>\n",
       "    <tr>\n",
       "      <th>31997</th>\n",
       "      <td>U001</td>\n",
       "      <td>0200706844</td>\n",
       "      <td>2019-12-03</td>\n",
       "      <td>2019.0</td>\n",
       "      <td>1.930163e+09</td>\n",
       "      <td>2019-11-18</td>\n",
       "      <td>2019-12-03</td>\n",
       "      <td>USD</td>\n",
       "      <td>RV</td>\n",
       "      <td>41301.85</td>\n",
       "      <td>2019-11-18</td>\n",
       "      <td>NAA8</td>\n",
       "      <td>1.930163e+09</td>\n",
       "      <td>0</td>\n",
       "      <td>0.288538</td>\n",
       "    </tr>\n",
       "  </tbody>\n",
       "</table>\n",
       "<p>31998 rows × 15 columns</p>\n",
       "</div>"
      ],
      "text/plain": [
       "      business_code cust_number  clear_date  buisness_year        doc_id  \\\n",
       "0              U001  0200726979  2019-01-15         2019.0  1.928538e+09   \n",
       "1              U001  0200769623  2019-01-09         2019.0  1.928541e+09   \n",
       "2              U001  0200794332  2019-01-23         2019.0  1.928523e+09   \n",
       "3              U001  0200769623  2019-01-16         2019.0  1.928534e+09   \n",
       "4              U001  0200769623  2019-01-11         2019.0  1.928543e+09   \n",
       "...             ...         ...         ...            ...           ...   \n",
       "31993          U001  0200785971  2019-12-23         2019.0  1.930169e+09   \n",
       "31994          U001  0200782669  2019-12-09         2019.0  1.930166e+09   \n",
       "31995          U001  0200741831  2019-12-05         2019.0  1.930168e+09   \n",
       "31996          U001  0200726979  2019-12-03         2019.0  1.930170e+09   \n",
       "31997          U001  0200706844  2019-12-03         2019.0  1.930163e+09   \n",
       "\n",
       "      document_create_date.1 due_in_date invoice_currency document type  \\\n",
       "0                 2018-12-30  2019-01-14              USD            RV   \n",
       "1                 2018-12-30  2019-01-14              USD            RV   \n",
       "2                 2018-12-30  2019-01-14              USD            RV   \n",
       "3                 2018-12-30  2019-01-14              USD            RV   \n",
       "4                 2018-12-30  2019-01-14              USD            RV   \n",
       "...                      ...         ...              ...           ...   \n",
       "31993             2019-11-18  2019-12-20              USD            RV   \n",
       "31994             2019-11-18  2019-12-03              USD            RV   \n",
       "31995             2019-11-18  2019-12-03              USD            RV   \n",
       "31996             2019-11-18  2019-12-03              USD            RV   \n",
       "31997             2019-11-18  2019-12-03              USD            RV   \n",
       "\n",
       "       total_open_amount baseline_create_date cust_payment_terms  \\\n",
       "0                  58.18           2018-12-30               NAA8   \n",
       "1               20695.38           2018-12-30               NAH4   \n",
       "2                8041.59           2018-12-30               NAAX   \n",
       "3                 344.91           2018-12-30               NAH4   \n",
       "4               43689.83           2018-12-30               NAH4   \n",
       "...                  ...                  ...                ...   \n",
       "31993            6985.28           2019-11-18               NA32   \n",
       "31994            8649.76           2019-11-18               NAA8   \n",
       "31995           50364.28           2019-11-18               NAA8   \n",
       "31996             195.46           2019-11-18               NAA8   \n",
       "31997           41301.85           2019-11-18               NAA8   \n",
       "\n",
       "         invoice_id  delay  mean_delay  \n",
       "0      1.928538e+09      1    0.956110  \n",
       "1      1.928541e+09     -5   -2.260712  \n",
       "2      1.928523e+09      9   -0.185131  \n",
       "3      1.928534e+09      2   -2.260712  \n",
       "4      1.928543e+09     -3   -2.260712  \n",
       "...             ...    ...         ...  \n",
       "31993  1.930169e+09      3    1.762712  \n",
       "31994  1.930166e+09      6   -0.103093  \n",
       "31995  1.930168e+09      2    3.388889  \n",
       "31996  1.930170e+09      0    0.956110  \n",
       "31997  1.930163e+09      0    0.288538  \n",
       "\n",
       "[31998 rows x 15 columns]"
      ]
     },
     "execution_count": 69,
     "metadata": {},
     "output_type": "execute_result"
    }
   ],
   "source": [
    "X_train"
   ]
  },
  {
   "cell_type": "markdown",
   "metadata": {},
   "source": [
    "#### finding correlation between independent variables"
   ]
  },
  {
   "cell_type": "code",
   "execution_count": 67,
   "metadata": {},
   "outputs": [],
   "source": [
    "import matplotlib.pyplot as plt\n",
    "import seaborn as sns\n",
    "from scipy.stats import pearsonr"
   ]
  },
  {
   "cell_type": "code",
   "execution_count": 68,
   "metadata": {},
   "outputs": [
    {
     "data": {
      "text/plain": [
       "(0.9869898473092885, 0.0)"
      ]
     },
     "execution_count": 68,
     "metadata": {},
     "output_type": "execute_result"
    }
   ],
   "source": [
    "pearsonr(doc_c_date, doc_c_date1)"
   ]
  },
  {
   "cell_type": "code",
   "execution_count": 70,
   "metadata": {},
   "outputs": [
    {
     "data": {
      "text/plain": [
       "<AxesSubplot:title={'center':'doc create date vs doc create date1 (r=0.986990)'}, xlabel='document_create_date', ylabel='document_create_date.1'>"
      ]
     },
     "execution_count": 70,
     "metadata": {},
     "output_type": "execute_result"
    },
    {
     "data": {
      "image/png": "[encoded data removed]",
      "text/plain": [
       "<Figure size 432x288 with 1 Axes>"
      ]
     },
     "metadata": {
      "needs_background": "light"
     },
     "output_type": "display_data"
    }
   ],
   "source": [
    "plt.title(\n",
    "    \"doc create date vs doc create date1 (r={0:02f})\".format(\n",
    "        pearsonr(doc_c_date, doc_c_date1)[0]\n",
    "    )\n",
    ")\n",
    "sns.scatterplot(x=doc_c_date, y=doc_c_date1, data=data1)\n",
    "\n",
    "# doc_c_date1 and doc_c_date are defined above.\n",
    "\n",
    "# as we can see the data is highly correlated. the Graph is linear with some outliers.\n",
    "# since these are independent variable , we can drop one of them from our feature lit."
   ]
  },
  {
   "cell_type": "code",
   "execution_count": 71,
   "metadata": {},
   "outputs": [
    {
     "data": {
      "text/plain": [
       "<AxesSubplot:title={'center':'due day vs delay'}, xlabel='total_open_amount', ylabel='delay'>"
      ]
     },
     "execution_count": 71,
     "metadata": {},
     "output_type": "execute_result"
    },
    {
     "data": {
      "image/png": "[encoded data removed]",
      "text/plain": [
       "<Figure size 432x288 with 1 Axes>"
      ]
     },
     "metadata": {
      "needs_background": "light"
     },
     "output_type": "display_data"
    }
   ],
   "source": [
    "plt.title(\"due day vs delay\".format(X_train[\"total_open_amount\"], y_train))\n",
    "sns.scatterplot(x=X_train[\"total_open_amount\"], y=y_train)"
   ]
  },
  {
   "cell_type": "code",
   "execution_count": 72,
   "metadata": {},
   "outputs": [
    {
     "data": {
      "text/html": [
       "<div>\n",
       "<style scoped>\n",
       "    .dataframe tbody tr th:only-of-type {\n",
       "        vertical-align: middle;\n",
       "    }\n",
       "\n",
       "    .dataframe tbody tr th {\n",
       "        vertical-align: top;\n",
       "    }\n",
       "\n",
       "    .dataframe thead th {\n",
       "        text-align: right;\n",
       "    }\n",
       "</style>\n",
       "<table border=\"1\" class=\"dataframe\">\n",
       "  <thead>\n",
       "    <tr style=\"text-align: right;\">\n",
       "      <th></th>\n",
       "      <th>business_code</th>\n",
       "      <th>cust_number</th>\n",
       "      <th>name_customer</th>\n",
       "      <th>clear_date</th>\n",
       "      <th>buisness_year</th>\n",
       "      <th>doc_id</th>\n",
       "      <th>posting_date</th>\n",
       "      <th>document_create_date</th>\n",
       "      <th>document_create_date.1</th>\n",
       "      <th>due_in_date</th>\n",
       "      <th>invoice_currency</th>\n",
       "      <th>document type</th>\n",
       "      <th>posting_id</th>\n",
       "      <th>area_business</th>\n",
       "      <th>total_open_amount</th>\n",
       "      <th>baseline_create_date</th>\n",
       "      <th>cust_payment_terms</th>\n",
       "      <th>invoice_id</th>\n",
       "      <th>isOpen</th>\n",
       "      <th>delay</th>\n",
       "    </tr>\n",
       "  </thead>\n",
       "  <tbody>\n",
       "    <tr>\n",
       "      <th>0</th>\n",
       "      <td>U001</td>\n",
       "      <td>0200726979</td>\n",
       "      <td>BJ'S  systems</td>\n",
       "      <td>2019-01-15</td>\n",
       "      <td>2019.0</td>\n",
       "      <td>1.928538e+09</td>\n",
       "      <td>2018-12-30</td>\n",
       "      <td>2018-12-29</td>\n",
       "      <td>2018-12-30</td>\n",
       "      <td>2019-01-14</td>\n",
       "      <td>USD</td>\n",
       "      <td>RV</td>\n",
       "      <td>1.0</td>\n",
       "      <td>NaN</td>\n",
       "      <td>58.18</td>\n",
       "      <td>2018-12-30</td>\n",
       "      <td>NAA8</td>\n",
       "      <td>1.928538e+09</td>\n",
       "      <td>0</td>\n",
       "      <td>1</td>\n",
       "    </tr>\n",
       "    <tr>\n",
       "      <th>1</th>\n",
       "      <td>U001</td>\n",
       "      <td>0200769623</td>\n",
       "      <td>WAL-MAR foundation</td>\n",
       "      <td>2019-01-09</td>\n",
       "      <td>2019.0</td>\n",
       "      <td>1.928541e+09</td>\n",
       "      <td>2018-12-30</td>\n",
       "      <td>2018-12-29</td>\n",
       "      <td>2018-12-30</td>\n",
       "      <td>2019-01-14</td>\n",
       "      <td>USD</td>\n",
       "      <td>RV</td>\n",
       "      <td>1.0</td>\n",
       "      <td>NaN</td>\n",
       "      <td>20695.38</td>\n",
       "      <td>2018-12-30</td>\n",
       "      <td>NAH4</td>\n",
       "      <td>1.928541e+09</td>\n",
       "      <td>0</td>\n",
       "      <td>-5</td>\n",
       "    </tr>\n",
       "    <tr>\n",
       "      <th>2</th>\n",
       "      <td>U001</td>\n",
       "      <td>0200794332</td>\n",
       "      <td>COST foundation</td>\n",
       "      <td>2019-01-23</td>\n",
       "      <td>2019.0</td>\n",
       "      <td>1.928523e+09</td>\n",
       "      <td>2018-12-30</td>\n",
       "      <td>2018-12-31</td>\n",
       "      <td>2018-12-30</td>\n",
       "      <td>2019-01-14</td>\n",
       "      <td>USD</td>\n",
       "      <td>RV</td>\n",
       "      <td>1.0</td>\n",
       "      <td>NaN</td>\n",
       "      <td>8041.59</td>\n",
       "      <td>2018-12-30</td>\n",
       "      <td>NAAX</td>\n",
       "      <td>1.928523e+09</td>\n",
       "      <td>0</td>\n",
       "      <td>9</td>\n",
       "    </tr>\n",
       "    <tr>\n",
       "      <th>3</th>\n",
       "      <td>U001</td>\n",
       "      <td>0200769623</td>\n",
       "      <td>WAL-MAR associates</td>\n",
       "      <td>2019-01-16</td>\n",
       "      <td>2019.0</td>\n",
       "      <td>1.928534e+09</td>\n",
       "      <td>2018-12-30</td>\n",
       "      <td>2018-12-29</td>\n",
       "      <td>2018-12-30</td>\n",
       "      <td>2019-01-14</td>\n",
       "      <td>USD</td>\n",
       "      <td>RV</td>\n",
       "      <td>1.0</td>\n",
       "      <td>NaN</td>\n",
       "      <td>344.91</td>\n",
       "      <td>2018-12-30</td>\n",
       "      <td>NAH4</td>\n",
       "      <td>1.928534e+09</td>\n",
       "      <td>0</td>\n",
       "      <td>2</td>\n",
       "    </tr>\n",
       "    <tr>\n",
       "      <th>4</th>\n",
       "      <td>U001</td>\n",
       "      <td>0200769623</td>\n",
       "      <td>WAL-MAR in</td>\n",
       "      <td>2019-01-11</td>\n",
       "      <td>2019.0</td>\n",
       "      <td>1.928543e+09</td>\n",
       "      <td>2018-12-30</td>\n",
       "      <td>2018-12-30</td>\n",
       "      <td>2018-12-30</td>\n",
       "      <td>2019-01-14</td>\n",
       "      <td>USD</td>\n",
       "      <td>RV</td>\n",
       "      <td>1.0</td>\n",
       "      <td>NaN</td>\n",
       "      <td>43689.83</td>\n",
       "      <td>2018-12-30</td>\n",
       "      <td>NAH4</td>\n",
       "      <td>1.928543e+09</td>\n",
       "      <td>0</td>\n",
       "      <td>-3</td>\n",
       "    </tr>\n",
       "    <tr>\n",
       "      <th>...</th>\n",
       "      <td>...</td>\n",
       "      <td>...</td>\n",
       "      <td>...</td>\n",
       "      <td>...</td>\n",
       "      <td>...</td>\n",
       "      <td>...</td>\n",
       "      <td>...</td>\n",
       "      <td>...</td>\n",
       "      <td>...</td>\n",
       "      <td>...</td>\n",
       "      <td>...</td>\n",
       "      <td>...</td>\n",
       "      <td>...</td>\n",
       "      <td>...</td>\n",
       "      <td>...</td>\n",
       "      <td>...</td>\n",
       "      <td>...</td>\n",
       "      <td>...</td>\n",
       "      <td>...</td>\n",
       "      <td>...</td>\n",
       "    </tr>\n",
       "    <tr>\n",
       "      <th>39993</th>\n",
       "      <td>U001</td>\n",
       "      <td>0200714710</td>\n",
       "      <td>SYSCO  in</td>\n",
       "      <td>2020-03-16</td>\n",
       "      <td>2020.0</td>\n",
       "      <td>1.930576e+09</td>\n",
       "      <td>2020-02-26</td>\n",
       "      <td>2020-02-27</td>\n",
       "      <td>2020-02-26</td>\n",
       "      <td>2020-03-12</td>\n",
       "      <td>USD</td>\n",
       "      <td>RV</td>\n",
       "      <td>1.0</td>\n",
       "      <td>NaN</td>\n",
       "      <td>8452.06</td>\n",
       "      <td>2020-02-26</td>\n",
       "      <td>NAA8</td>\n",
       "      <td>1.930576e+09</td>\n",
       "      <td>0</td>\n",
       "      <td>4</td>\n",
       "    </tr>\n",
       "    <tr>\n",
       "      <th>39994</th>\n",
       "      <td>U001</td>\n",
       "      <td>0100031704</td>\n",
       "      <td>DELHAIZE associates</td>\n",
       "      <td>2020-03-12</td>\n",
       "      <td>2020.0</td>\n",
       "      <td>1.930566e+09</td>\n",
       "      <td>2020-02-26</td>\n",
       "      <td>2020-02-25</td>\n",
       "      <td>2020-02-26</td>\n",
       "      <td>2020-05-01</td>\n",
       "      <td>USD</td>\n",
       "      <td>RV</td>\n",
       "      <td>1.0</td>\n",
       "      <td>NaN</td>\n",
       "      <td>14443.35</td>\n",
       "      <td>2020-02-26</td>\n",
       "      <td>NAGD</td>\n",
       "      <td>1.930566e+09</td>\n",
       "      <td>0</td>\n",
       "      <td>-50</td>\n",
       "    </tr>\n",
       "    <tr>\n",
       "      <th>39995</th>\n",
       "      <td>U001</td>\n",
       "      <td>0200418007</td>\n",
       "      <td>AM associates</td>\n",
       "      <td>2020-03-19</td>\n",
       "      <td>2020.0</td>\n",
       "      <td>1.930568e+09</td>\n",
       "      <td>2020-02-27</td>\n",
       "      <td>2020-02-25</td>\n",
       "      <td>2020-02-27</td>\n",
       "      <td>2020-03-13</td>\n",
       "      <td>USD</td>\n",
       "      <td>RV</td>\n",
       "      <td>1.0</td>\n",
       "      <td>NaN</td>\n",
       "      <td>10349.36</td>\n",
       "      <td>2020-02-27</td>\n",
       "      <td>NAA8</td>\n",
       "      <td>1.930568e+09</td>\n",
       "      <td>0</td>\n",
       "      <td>6</td>\n",
       "    </tr>\n",
       "    <tr>\n",
       "      <th>39996</th>\n",
       "      <td>U001</td>\n",
       "      <td>0200739044</td>\n",
       "      <td>PERFOR corporation</td>\n",
       "      <td>2020-03-16</td>\n",
       "      <td>2020.0</td>\n",
       "      <td>1.930574e+09</td>\n",
       "      <td>2020-02-27</td>\n",
       "      <td>2020-02-26</td>\n",
       "      <td>2020-02-27</td>\n",
       "      <td>2020-03-13</td>\n",
       "      <td>USD</td>\n",
       "      <td>RV</td>\n",
       "      <td>1.0</td>\n",
       "      <td>NaN</td>\n",
       "      <td>25143.02</td>\n",
       "      <td>2020-02-27</td>\n",
       "      <td>NAA8</td>\n",
       "      <td>1.930574e+09</td>\n",
       "      <td>0</td>\n",
       "      <td>3</td>\n",
       "    </tr>\n",
       "    <tr>\n",
       "      <th>39997</th>\n",
       "      <td>U001</td>\n",
       "      <td>0200759878</td>\n",
       "      <td>SA corp</td>\n",
       "      <td>2020-03-13</td>\n",
       "      <td>2020.0</td>\n",
       "      <td>1.930574e+09</td>\n",
       "      <td>2020-02-27</td>\n",
       "      <td>2020-02-26</td>\n",
       "      <td>2020-02-27</td>\n",
       "      <td>2020-03-13</td>\n",
       "      <td>USD</td>\n",
       "      <td>RV</td>\n",
       "      <td>1.0</td>\n",
       "      <td>NaN</td>\n",
       "      <td>49290.19</td>\n",
       "      <td>2020-02-27</td>\n",
       "      <td>NAH4</td>\n",
       "      <td>1.930574e+09</td>\n",
       "      <td>0</td>\n",
       "      <td>0</td>\n",
       "    </tr>\n",
       "  </tbody>\n",
       "</table>\n",
       "<p>39998 rows × 20 columns</p>\n",
       "</div>"
      ],
      "text/plain": [
       "      business_code cust_number        name_customer  clear_date  \\\n",
       "0              U001  0200726979        BJ'S  systems  2019-01-15   \n",
       "1              U001  0200769623   WAL-MAR foundation  2019-01-09   \n",
       "2              U001  0200794332      COST foundation  2019-01-23   \n",
       "3              U001  0200769623   WAL-MAR associates  2019-01-16   \n",
       "4              U001  0200769623           WAL-MAR in  2019-01-11   \n",
       "...             ...         ...                  ...         ...   \n",
       "39993          U001  0200714710            SYSCO  in  2020-03-16   \n",
       "39994          U001  0100031704  DELHAIZE associates  2020-03-12   \n",
       "39995          U001  0200418007        AM associates  2020-03-19   \n",
       "39996          U001  0200739044   PERFOR corporation  2020-03-16   \n",
       "39997          U001  0200759878              SA corp  2020-03-13   \n",
       "\n",
       "       buisness_year        doc_id posting_date document_create_date  \\\n",
       "0             2019.0  1.928538e+09   2018-12-30           2018-12-29   \n",
       "1             2019.0  1.928541e+09   2018-12-30           2018-12-29   \n",
       "2             2019.0  1.928523e+09   2018-12-30           2018-12-31   \n",
       "3             2019.0  1.928534e+09   2018-12-30           2018-12-29   \n",
       "4             2019.0  1.928543e+09   2018-12-30           2018-12-30   \n",
       "...              ...           ...          ...                  ...   \n",
       "39993         2020.0  1.930576e+09   2020-02-26           2020-02-27   \n",
       "39994         2020.0  1.930566e+09   2020-02-26           2020-02-25   \n",
       "39995         2020.0  1.930568e+09   2020-02-27           2020-02-25   \n",
       "39996         2020.0  1.930574e+09   2020-02-27           2020-02-26   \n",
       "39997         2020.0  1.930574e+09   2020-02-27           2020-02-26   \n",
       "\n",
       "      document_create_date.1 due_in_date invoice_currency document type  \\\n",
       "0                 2018-12-30  2019-01-14              USD            RV   \n",
       "1                 2018-12-30  2019-01-14              USD            RV   \n",
       "2                 2018-12-30  2019-01-14              USD            RV   \n",
       "3                 2018-12-30  2019-01-14              USD            RV   \n",
       "4                 2018-12-30  2019-01-14              USD            RV   \n",
       "...                      ...         ...              ...           ...   \n",
       "39993             2020-02-26  2020-03-12              USD            RV   \n",
       "39994             2020-02-26  2020-05-01              USD            RV   \n",
       "39995             2020-02-27  2020-03-13              USD            RV   \n",
       "39996             2020-02-27  2020-03-13              USD            RV   \n",
       "39997             2020-02-27  2020-03-13              USD            RV   \n",
       "\n",
       "       posting_id  area_business  total_open_amount baseline_create_date  \\\n",
       "0             1.0            NaN              58.18           2018-12-30   \n",
       "1             1.0            NaN           20695.38           2018-12-30   \n",
       "2             1.0            NaN            8041.59           2018-12-30   \n",
       "3             1.0            NaN             344.91           2018-12-30   \n",
       "4             1.0            NaN           43689.83           2018-12-30   \n",
       "...           ...            ...                ...                  ...   \n",
       "39993         1.0            NaN            8452.06           2020-02-26   \n",
       "39994         1.0            NaN           14443.35           2020-02-26   \n",
       "39995         1.0            NaN           10349.36           2020-02-27   \n",
       "39996         1.0            NaN           25143.02           2020-02-27   \n",
       "39997         1.0            NaN           49290.19           2020-02-27   \n",
       "\n",
       "      cust_payment_terms    invoice_id  isOpen  delay  \n",
       "0                   NAA8  1.928538e+09       0      1  \n",
       "1                   NAH4  1.928541e+09       0     -5  \n",
       "2                   NAAX  1.928523e+09       0      9  \n",
       "3                   NAH4  1.928534e+09       0      2  \n",
       "4                   NAH4  1.928543e+09       0     -3  \n",
       "...                  ...           ...     ...    ...  \n",
       "39993               NAA8  1.930576e+09       0      4  \n",
       "39994               NAGD  1.930566e+09       0    -50  \n",
       "39995               NAA8  1.930568e+09       0      6  \n",
       "39996               NAA8  1.930574e+09       0      3  \n",
       "39997               NAH4  1.930574e+09       0      0  \n",
       "\n",
       "[39998 rows x 20 columns]"
      ]
     },
     "execution_count": 72,
     "metadata": {},
     "output_type": "execute_result"
    }
   ],
   "source": [
    "data1"
   ]
  },
  {
   "cell_type": "code",
   "execution_count": null,
   "metadata": {},
   "outputs": [],
   "source": []
  },
  {
   "cell_type": "markdown",
   "metadata": {},
   "source": [
    "# Feature Engineering"
   ]
  },
  {
   "cell_type": "markdown",
   "metadata": {},
   "source": [
    "'''X_tt=X_train.copy()\n",
    "#droping nulls from invoice id :-\n",
    "X_tt.dropna(subset=['invoice_id'],inplace=True)\n",
    "\n",
    "#checking correlation between invoice_id and doc_id\n",
    "\n",
    "from scipy.stats import pearsonr\n",
    "pearsonr(X_tt['invoice_id'],X_tt['doc_id'])'''"
   ]
  },
  {
   "cell_type": "code",
   "execution_count": 73,
   "metadata": {},
   "outputs": [],
   "source": [
    "# high corr btw independent vars so we can safely drop ione of them\n",
    "\n",
    "X_train.drop([\"invoice_id\"], axis=1, inplace=True)\n",
    "X_test1.drop([\"invoice_id\"], axis=1, inplace=True)\n",
    "X_val.drop([\"invoice_id\"], axis=1, inplace=True)\n",
    "\n",
    "# and since there are all unique values in doc id so removing that too wont affect our model\n",
    "\n",
    "X_train.drop([\"doc_id\"], axis=1, inplace=True)\n",
    "X_test1.drop([\"doc_id\"], axis=1, inplace=True)\n",
    "X_val.drop([\"doc_id\"], axis=1, inplace=True)"
   ]
  },
  {
   "cell_type": "code",
   "execution_count": 74,
   "metadata": {},
   "outputs": [],
   "source": [
    "# doing the same with data_null\n",
    "\n",
    "data_null.drop([\"invoice_id\"], axis=1, inplace=True)\n",
    "data_null.drop([\"doc_id\"], axis=1, inplace=True)"
   ]
  },
  {
   "cell_type": "markdown",
   "metadata": {},
   "source": [
    "#### making features from due date"
   ]
  },
  {
   "cell_type": "code",
   "execution_count": 75,
   "metadata": {},
   "outputs": [
    {
     "name": "stderr",
     "output_type": "stream",
     "text": [
      "/tmp/ipykernel_1803/4183335976.py:1: FutureWarning: Series.dt.weekofyear and Series.dt.week have been deprecated. Please use Series.dt.isocalendar().week instead.\n",
      "  X_train[\"due_dt_week\"] = pd.to_datetime(X_train[\"due_in_date\"]).dt.week\n"
     ]
    }
   ],
   "source": [
    "X_train[\"due_dt_week\"] = pd.to_datetime(X_train[\"due_in_date\"]).dt.week\n",
    "X_train[\"due_dt_mon\"] = pd.to_datetime(X_train[\"due_in_date\"]).dt.month\n",
    "X_train[\"due_dt_day_of_week\"] = pd.to_datetime(\n",
    "    X_train[\"due_in_date\"]\n",
    ").dt.dayofweek"
   ]
  },
  {
   "cell_type": "code",
   "execution_count": 76,
   "metadata": {},
   "outputs": [],
   "source": [
    "X_train[\"due_dt_day\"] = pd.to_datetime(X_train[\"due_in_date\"]).dt.day"
   ]
  },
  {
   "cell_type": "code",
   "execution_count": 77,
   "metadata": {},
   "outputs": [
    {
     "name": "stderr",
     "output_type": "stream",
     "text": [
      "/tmp/ipykernel_1803/2282083523.py:1: FutureWarning: Series.dt.weekofyear and Series.dt.week have been deprecated. Please use Series.dt.isocalendar().week instead.\n",
      "  X_test1[\"due_dt_week\"] = pd.to_datetime(X_test1[\"due_in_date\"]).dt.week\n"
     ]
    }
   ],
   "source": [
    "X_test1[\"due_dt_week\"] = pd.to_datetime(X_test1[\"due_in_date\"]).dt.week\n",
    "X_test1[\"due_dt_mon\"] = pd.to_datetime(X_test1[\"due_in_date\"]).dt.month\n",
    "X_test1[\"due_dt_day_of_week\"] = pd.to_datetime(\n",
    "    X_test1[\"due_in_date\"]\n",
    ").dt.dayofweek"
   ]
  },
  {
   "cell_type": "code",
   "execution_count": 78,
   "metadata": {},
   "outputs": [
    {
     "name": "stderr",
     "output_type": "stream",
     "text": [
      "/tmp/ipykernel_1803/1518671645.py:1: FutureWarning: Series.dt.weekofyear and Series.dt.week have been deprecated. Please use Series.dt.isocalendar().week instead.\n",
      "  X_val[\"due_dt_week\"] = pd.to_datetime(X_val[\"due_in_date\"]).dt.week\n"
     ]
    }
   ],
   "source": [
    "X_val[\"due_dt_week\"] = pd.to_datetime(X_val[\"due_in_date\"]).dt.week\n",
    "X_val[\"due_dt_mon\"] = pd.to_datetime(X_val[\"due_in_date\"]).dt.month\n",
    "X_val[\"due_dt_day_of_week\"] = pd.to_datetime(X_val[\"due_in_date\"]).dt.dayofweek"
   ]
  },
  {
   "cell_type": "code",
   "execution_count": 79,
   "metadata": {},
   "outputs": [
    {
     "name": "stderr",
     "output_type": "stream",
     "text": [
      "/tmp/ipykernel_1803/1014608420.py:1: FutureWarning: Series.dt.weekofyear and Series.dt.week have been deprecated. Please use Series.dt.isocalendar().week instead.\n",
      "  data_null[\"due_dt_week\"] = pd.to_datetime(data_null[\"due_in_date\"]).dt.week\n"
     ]
    }
   ],
   "source": [
    "data_null[\"due_dt_week\"] = pd.to_datetime(data_null[\"due_in_date\"]).dt.week\n",
    "data_null[\"due_dt_mon\"] = pd.to_datetime(data_null[\"due_in_date\"]).dt.month\n",
    "data_null[\"due_dt_day_of_week\"] = pd.to_datetime(\n",
    "    data_null[\"due_in_date\"]\n",
    ").dt.dayofweek"
   ]
  },
  {
   "cell_type": "markdown",
   "metadata": {},
   "source": [
    "#### plotting some graphs for insight on data"
   ]
  },
  {
   "cell_type": "code",
   "execution_count": 80,
   "metadata": {},
   "outputs": [
    {
     "name": "stderr",
     "output_type": "stream",
     "text": [
      "/opt/conda/lib/python3.9/site-packages/seaborn/_decorators.py:36: FutureWarning: Pass the following variables as keyword args: x, y. From version 0.12, the only valid positional argument will be `data`, and passing other arguments without an explicit keyword will result in an error or misinterpretation.\n",
      "  warnings.warn(\n"
     ]
    },
    {
     "data": {
      "text/plain": [
       "<AxesSubplot:xlabel='due_dt_week', ylabel='delay'>"
      ]
     },
     "execution_count": 80,
     "metadata": {},
     "output_type": "execute_result"
    },
    {
     "data": {
      "image/png": "[encoded data removed]",
      "text/plain": [
       "<Figure size 1080x360 with 1 Axes>"
      ]
     },
     "metadata": {
      "needs_background": "light"
     },
     "output_type": "display_data"
    }
   ],
   "source": [
    "plt.figure(figsize=(15, 5))\n",
    "sns.lineplot(X_train[\"due_dt_week\"], X_train[\"delay\"], color=\"green\")"
   ]
  },
  {
   "cell_type": "code",
   "execution_count": 81,
   "metadata": {},
   "outputs": [
    {
     "name": "stderr",
     "output_type": "stream",
     "text": [
      "/opt/conda/lib/python3.9/site-packages/seaborn/_decorators.py:36: FutureWarning: Pass the following variables as keyword args: x, y. From version 0.12, the only valid positional argument will be `data`, and passing other arguments without an explicit keyword will result in an error or misinterpretation.\n",
      "  warnings.warn(\n"
     ]
    },
    {
     "data": {
      "text/plain": [
       "Text(0.5, 1.0, 'due weekday vs delay')"
      ]
     },
     "execution_count": 81,
     "metadata": {},
     "output_type": "execute_result"
    },
    {
     "data": {
      "image/png": "[encoded data removed]",
      "text/plain": [
       "<Figure size 1080x360 with 1 Axes>"
      ]
     },
     "metadata": {
      "needs_background": "light"
     },
     "output_type": "display_data"
    }
   ],
   "source": [
    "plt.figure(figsize=(15, 5))\n",
    "sns.lineplot(X_train[\"due_dt_day_of_week\"], X_train[\"delay\"], color=\"pink\")\n",
    "plt.title(\"due weekday vs delay\")"
   ]
  },
  {
   "cell_type": "code",
   "execution_count": 82,
   "metadata": {},
   "outputs": [
    {
     "data": {
      "text/plain": [
       "<AxesSubplot:xlabel='due_dt_day', ylabel='delay'>"
      ]
     },
     "execution_count": 82,
     "metadata": {},
     "output_type": "execute_result"
    },
    {
     "data": {
      "image/png": "[encoded data removed]",
      "text/plain": [
       "<Figure size 1080x504 with 1 Axes>"
      ]
     },
     "metadata": {
      "needs_background": "light"
     },
     "output_type": "display_data"
    }
   ],
   "source": [
    "plt.figure(figsize=(15, 7))\n",
    "sns.lineplot(x=\"due_dt_day\", y=\"delay\", data=X_train, color=\"orange\")"
   ]
  },
  {
   "cell_type": "code",
   "execution_count": 83,
   "metadata": {},
   "outputs": [],
   "source": [
    "X_train.drop(\"due_dt_day\", axis=1, inplace=True)"
   ]
  },
  {
   "cell_type": "code",
   "execution_count": 84,
   "metadata": {},
   "outputs": [
    {
     "data": {
      "text/plain": [
       "<AxesSubplot:xlabel='due_dt_mon', ylabel='delay'>"
      ]
     },
     "execution_count": 84,
     "metadata": {},
     "output_type": "execute_result"
    },
    {
     "data": {
      "image/png": "[encoded data removed]",
      "text/plain": [
       "<Figure size 1080x504 with 1 Axes>"
      ]
     },
     "metadata": {
      "needs_background": "light"
     },
     "output_type": "display_data"
    }
   ],
   "source": [
    "plt.figure(figsize=(15, 7))\n",
    "sns.barplot(x=\"due_dt_mon\", y=\"delay\", data=X_train)"
   ]
  },
  {
   "cell_type": "code",
   "execution_count": 85,
   "metadata": {},
   "outputs": [
    {
     "data": {
      "text/plain": [
       "array([0, 1, 3, 6, 5, 4, 2])"
      ]
     },
     "execution_count": 85,
     "metadata": {},
     "output_type": "execute_result"
    }
   ],
   "source": [
    "X_train[\"due_dt_day_of_week\"].unique()"
   ]
  },
  {
   "cell_type": "code",
   "execution_count": 86,
   "metadata": {},
   "outputs": [],
   "source": [
    "X_train[\"is_weekend\"] = np.where(X_train[\"due_dt_day_of_week\"] > 3, 1, 0)\n",
    "X_val[\"is_weekend\"] = np.where(X_val[\"due_dt_day_of_week\"] > 3, 1, 0)\n",
    "X_test1[\"is_weekend\"] = np.where(X_test1[\"due_dt_day_of_week\"] > 3, 1, 0)"
   ]
  },
  {
   "cell_type": "code",
   "execution_count": 87,
   "metadata": {},
   "outputs": [
    {
     "data": {
      "text/plain": [
       "<AxesSubplot:xlabel='is_weekend', ylabel='delay'>"
      ]
     },
     "execution_count": 87,
     "metadata": {},
     "output_type": "execute_result"
    },
    {
     "data": {
      "image/png": "[encoded data removed]",
      "text/plain": [
       "<Figure size 432x288 with 1 Axes>"
      ]
     },
     "metadata": {
      "needs_background": "light"
     },
     "output_type": "display_data"
    }
   ],
   "source": [
    "sns.barplot(x=\"is_weekend\", y=\"delay\", data=X_train, hue=\"invoice_currency\")"
   ]
  },
  {
   "cell_type": "code",
   "execution_count": 88,
   "metadata": {},
   "outputs": [
    {
     "data": {
      "text/plain": [
       "<AxesSubplot:xlabel='total_open_amount', ylabel='delay'>"
      ]
     },
     "execution_count": 88,
     "metadata": {},
     "output_type": "execute_result"
    },
    {
     "data": {
      "image/png": "[encoded data removed]",
      "text/plain": [
       "<Figure size 432x288 with 1 Axes>"
      ]
     },
     "metadata": {
      "needs_background": "light"
     },
     "output_type": "display_data"
    }
   ],
   "source": [
    "sns.lineplot(x=\"total_open_amount\", y=\"delay\", data=X_train)"
   ]
  },
  {
   "cell_type": "code",
   "execution_count": 89,
   "metadata": {},
   "outputs": [],
   "source": [
    "data_null[\"is_weekend\"] = np.where(data_null[\"due_dt_day_of_week\"] > 3, 1, 0)"
   ]
  },
  {
   "cell_type": "code",
   "execution_count": 90,
   "metadata": {},
   "outputs": [],
   "source": [
    "X_train.drop(\"delay\", axis=1, inplace=True)"
   ]
  },
  {
   "cell_type": "markdown",
   "metadata": {},
   "source": [
    "#### we cant make any features outof clearing date \n",
    "X_train['clr_dt_days']=pd.to_datetime(X_train['clear_date']).dt.day\n",
    "X_train['clr_dt_mon']=pd.to_datetime(X_train['clear_date']).dt.month\n",
    "X_train['clr_dt_day_week']=pd.to_datetime(X_train['clear_date']).dt.weekday"
   ]
  },
  {
   "cell_type": "code",
   "execution_count": 91,
   "metadata": {},
   "outputs": [
    {
     "data": {
      "text/html": [
       "<div>\n",
       "<style scoped>\n",
       "    .dataframe tbody tr th:only-of-type {\n",
       "        vertical-align: middle;\n",
       "    }\n",
       "\n",
       "    .dataframe tbody tr th {\n",
       "        vertical-align: top;\n",
       "    }\n",
       "\n",
       "    .dataframe thead th {\n",
       "        text-align: right;\n",
       "    }\n",
       "</style>\n",
       "<table border=\"1\" class=\"dataframe\">\n",
       "  <thead>\n",
       "    <tr style=\"text-align: right;\">\n",
       "      <th></th>\n",
       "      <th>business_code</th>\n",
       "      <th>cust_number</th>\n",
       "      <th>clear_date</th>\n",
       "      <th>buisness_year</th>\n",
       "      <th>document_create_date.1</th>\n",
       "      <th>due_in_date</th>\n",
       "      <th>invoice_currency</th>\n",
       "      <th>document type</th>\n",
       "      <th>total_open_amount</th>\n",
       "      <th>baseline_create_date</th>\n",
       "      <th>cust_payment_terms</th>\n",
       "      <th>mean_delay</th>\n",
       "      <th>due_dt_week</th>\n",
       "      <th>due_dt_mon</th>\n",
       "      <th>due_dt_day_of_week</th>\n",
       "      <th>is_weekend</th>\n",
       "    </tr>\n",
       "  </thead>\n",
       "  <tbody>\n",
       "    <tr>\n",
       "      <th>0</th>\n",
       "      <td>U001</td>\n",
       "      <td>0200726979</td>\n",
       "      <td>2019-01-15</td>\n",
       "      <td>2019.0</td>\n",
       "      <td>2018-12-30</td>\n",
       "      <td>2019-01-14</td>\n",
       "      <td>USD</td>\n",
       "      <td>RV</td>\n",
       "      <td>58.18</td>\n",
       "      <td>2018-12-30</td>\n",
       "      <td>NAA8</td>\n",
       "      <td>0.956110</td>\n",
       "      <td>3</td>\n",
       "      <td>1</td>\n",
       "      <td>0</td>\n",
       "      <td>0</td>\n",
       "    </tr>\n",
       "    <tr>\n",
       "      <th>1</th>\n",
       "      <td>U001</td>\n",
       "      <td>0200769623</td>\n",
       "      <td>2019-01-09</td>\n",
       "      <td>2019.0</td>\n",
       "      <td>2018-12-30</td>\n",
       "      <td>2019-01-14</td>\n",
       "      <td>USD</td>\n",
       "      <td>RV</td>\n",
       "      <td>20695.38</td>\n",
       "      <td>2018-12-30</td>\n",
       "      <td>NAH4</td>\n",
       "      <td>-2.260712</td>\n",
       "      <td>3</td>\n",
       "      <td>1</td>\n",
       "      <td>0</td>\n",
       "      <td>0</td>\n",
       "    </tr>\n",
       "    <tr>\n",
       "      <th>2</th>\n",
       "      <td>U001</td>\n",
       "      <td>0200794332</td>\n",
       "      <td>2019-01-23</td>\n",
       "      <td>2019.0</td>\n",
       "      <td>2018-12-30</td>\n",
       "      <td>2019-01-14</td>\n",
       "      <td>USD</td>\n",
       "      <td>RV</td>\n",
       "      <td>8041.59</td>\n",
       "      <td>2018-12-30</td>\n",
       "      <td>NAAX</td>\n",
       "      <td>-0.185131</td>\n",
       "      <td>3</td>\n",
       "      <td>1</td>\n",
       "      <td>0</td>\n",
       "      <td>0</td>\n",
       "    </tr>\n",
       "    <tr>\n",
       "      <th>3</th>\n",
       "      <td>U001</td>\n",
       "      <td>0200769623</td>\n",
       "      <td>2019-01-16</td>\n",
       "      <td>2019.0</td>\n",
       "      <td>2018-12-30</td>\n",
       "      <td>2019-01-14</td>\n",
       "      <td>USD</td>\n",
       "      <td>RV</td>\n",
       "      <td>344.91</td>\n",
       "      <td>2018-12-30</td>\n",
       "      <td>NAH4</td>\n",
       "      <td>-2.260712</td>\n",
       "      <td>3</td>\n",
       "      <td>1</td>\n",
       "      <td>0</td>\n",
       "      <td>0</td>\n",
       "    </tr>\n",
       "    <tr>\n",
       "      <th>4</th>\n",
       "      <td>U001</td>\n",
       "      <td>0200769623</td>\n",
       "      <td>2019-01-11</td>\n",
       "      <td>2019.0</td>\n",
       "      <td>2018-12-30</td>\n",
       "      <td>2019-01-14</td>\n",
       "      <td>USD</td>\n",
       "      <td>RV</td>\n",
       "      <td>43689.83</td>\n",
       "      <td>2018-12-30</td>\n",
       "      <td>NAH4</td>\n",
       "      <td>-2.260712</td>\n",
       "      <td>3</td>\n",
       "      <td>1</td>\n",
       "      <td>0</td>\n",
       "      <td>0</td>\n",
       "    </tr>\n",
       "    <tr>\n",
       "      <th>...</th>\n",
       "      <td>...</td>\n",
       "      <td>...</td>\n",
       "      <td>...</td>\n",
       "      <td>...</td>\n",
       "      <td>...</td>\n",
       "      <td>...</td>\n",
       "      <td>...</td>\n",
       "      <td>...</td>\n",
       "      <td>...</td>\n",
       "      <td>...</td>\n",
       "      <td>...</td>\n",
       "      <td>...</td>\n",
       "      <td>...</td>\n",
       "      <td>...</td>\n",
       "      <td>...</td>\n",
       "      <td>...</td>\n",
       "    </tr>\n",
       "    <tr>\n",
       "      <th>31993</th>\n",
       "      <td>U001</td>\n",
       "      <td>0200785971</td>\n",
       "      <td>2019-12-23</td>\n",
       "      <td>2019.0</td>\n",
       "      <td>2019-11-18</td>\n",
       "      <td>2019-12-20</td>\n",
       "      <td>USD</td>\n",
       "      <td>RV</td>\n",
       "      <td>6985.28</td>\n",
       "      <td>2019-11-18</td>\n",
       "      <td>NA32</td>\n",
       "      <td>1.762712</td>\n",
       "      <td>51</td>\n",
       "      <td>12</td>\n",
       "      <td>4</td>\n",
       "      <td>1</td>\n",
       "    </tr>\n",
       "    <tr>\n",
       "      <th>31994</th>\n",
       "      <td>U001</td>\n",
       "      <td>0200782669</td>\n",
       "      <td>2019-12-09</td>\n",
       "      <td>2019.0</td>\n",
       "      <td>2019-11-18</td>\n",
       "      <td>2019-12-03</td>\n",
       "      <td>USD</td>\n",
       "      <td>RV</td>\n",
       "      <td>8649.76</td>\n",
       "      <td>2019-11-18</td>\n",
       "      <td>NAA8</td>\n",
       "      <td>-0.103093</td>\n",
       "      <td>49</td>\n",
       "      <td>12</td>\n",
       "      <td>1</td>\n",
       "      <td>0</td>\n",
       "    </tr>\n",
       "    <tr>\n",
       "      <th>31995</th>\n",
       "      <td>U001</td>\n",
       "      <td>0200741831</td>\n",
       "      <td>2019-12-05</td>\n",
       "      <td>2019.0</td>\n",
       "      <td>2019-11-18</td>\n",
       "      <td>2019-12-03</td>\n",
       "      <td>USD</td>\n",
       "      <td>RV</td>\n",
       "      <td>50364.28</td>\n",
       "      <td>2019-11-18</td>\n",
       "      <td>NAA8</td>\n",
       "      <td>3.388889</td>\n",
       "      <td>49</td>\n",
       "      <td>12</td>\n",
       "      <td>1</td>\n",
       "      <td>0</td>\n",
       "    </tr>\n",
       "    <tr>\n",
       "      <th>31996</th>\n",
       "      <td>U001</td>\n",
       "      <td>0200726979</td>\n",
       "      <td>2019-12-03</td>\n",
       "      <td>2019.0</td>\n",
       "      <td>2019-11-18</td>\n",
       "      <td>2019-12-03</td>\n",
       "      <td>USD</td>\n",
       "      <td>RV</td>\n",
       "      <td>195.46</td>\n",
       "      <td>2019-11-18</td>\n",
       "      <td>NAA8</td>\n",
       "      <td>0.956110</td>\n",
       "      <td>49</td>\n",
       "      <td>12</td>\n",
       "      <td>1</td>\n",
       "      <td>0</td>\n",
       "    </tr>\n",
       "    <tr>\n",
       "      <th>31997</th>\n",
       "      <td>U001</td>\n",
       "      <td>0200706844</td>\n",
       "      <td>2019-12-03</td>\n",
       "      <td>2019.0</td>\n",
       "      <td>2019-11-18</td>\n",
       "      <td>2019-12-03</td>\n",
       "      <td>USD</td>\n",
       "      <td>RV</td>\n",
       "      <td>41301.85</td>\n",
       "      <td>2019-11-18</td>\n",
       "      <td>NAA8</td>\n",
       "      <td>0.288538</td>\n",
       "      <td>49</td>\n",
       "      <td>12</td>\n",
       "      <td>1</td>\n",
       "      <td>0</td>\n",
       "    </tr>\n",
       "  </tbody>\n",
       "</table>\n",
       "<p>31998 rows × 16 columns</p>\n",
       "</div>"
      ],
      "text/plain": [
       "      business_code cust_number  clear_date  buisness_year  \\\n",
       "0              U001  0200726979  2019-01-15         2019.0   \n",
       "1              U001  0200769623  2019-01-09         2019.0   \n",
       "2              U001  0200794332  2019-01-23         2019.0   \n",
       "3              U001  0200769623  2019-01-16         2019.0   \n",
       "4              U001  0200769623  2019-01-11         2019.0   \n",
       "...             ...         ...         ...            ...   \n",
       "31993          U001  0200785971  2019-12-23         2019.0   \n",
       "31994          U001  0200782669  2019-12-09         2019.0   \n",
       "31995          U001  0200741831  2019-12-05         2019.0   \n",
       "31996          U001  0200726979  2019-12-03         2019.0   \n",
       "31997          U001  0200706844  2019-12-03         2019.0   \n",
       "\n",
       "      document_create_date.1 due_in_date invoice_currency document type  \\\n",
       "0                 2018-12-30  2019-01-14              USD            RV   \n",
       "1                 2018-12-30  2019-01-14              USD            RV   \n",
       "2                 2018-12-30  2019-01-14              USD            RV   \n",
       "3                 2018-12-30  2019-01-14              USD            RV   \n",
       "4                 2018-12-30  2019-01-14              USD            RV   \n",
       "...                      ...         ...              ...           ...   \n",
       "31993             2019-11-18  2019-12-20              USD            RV   \n",
       "31994             2019-11-18  2019-12-03              USD            RV   \n",
       "31995             2019-11-18  2019-12-03              USD            RV   \n",
       "31996             2019-11-18  2019-12-03              USD            RV   \n",
       "31997             2019-11-18  2019-12-03              USD            RV   \n",
       "\n",
       "       total_open_amount baseline_create_date cust_payment_terms  mean_delay  \\\n",
       "0                  58.18           2018-12-30               NAA8    0.956110   \n",
       "1               20695.38           2018-12-30               NAH4   -2.260712   \n",
       "2                8041.59           2018-12-30               NAAX   -0.185131   \n",
       "3                 344.91           2018-12-30               NAH4   -2.260712   \n",
       "4               43689.83           2018-12-30               NAH4   -2.260712   \n",
       "...                  ...                  ...                ...         ...   \n",
       "31993            6985.28           2019-11-18               NA32    1.762712   \n",
       "31994            8649.76           2019-11-18               NAA8   -0.103093   \n",
       "31995           50364.28           2019-11-18               NAA8    3.388889   \n",
       "31996             195.46           2019-11-18               NAA8    0.956110   \n",
       "31997           41301.85           2019-11-18               NAA8    0.288538   \n",
       "\n",
       "       due_dt_week  due_dt_mon  due_dt_day_of_week  is_weekend  \n",
       "0                3           1                   0           0  \n",
       "1                3           1                   0           0  \n",
       "2                3           1                   0           0  \n",
       "3                3           1                   0           0  \n",
       "4                3           1                   0           0  \n",
       "...            ...         ...                 ...         ...  \n",
       "31993           51          12                   4           1  \n",
       "31994           49          12                   1           0  \n",
       "31995           49          12                   1           0  \n",
       "31996           49          12                   1           0  \n",
       "31997           49          12                   1           0  \n",
       "\n",
       "[31998 rows x 16 columns]"
      ]
     },
     "execution_count": 91,
     "metadata": {},
     "output_type": "execute_result"
    }
   ],
   "source": [
    "X_train"
   ]
  },
  {
   "cell_type": "code",
   "execution_count": 92,
   "metadata": {},
   "outputs": [
    {
     "data": {
      "text/html": [
       "<div>\n",
       "<style scoped>\n",
       "    .dataframe tbody tr th:only-of-type {\n",
       "        vertical-align: middle;\n",
       "    }\n",
       "\n",
       "    .dataframe tbody tr th {\n",
       "        vertical-align: top;\n",
       "    }\n",
       "\n",
       "    .dataframe thead th {\n",
       "        text-align: right;\n",
       "    }\n",
       "</style>\n",
       "<table border=\"1\" class=\"dataframe\">\n",
       "  <thead>\n",
       "    <tr style=\"text-align: right;\">\n",
       "      <th></th>\n",
       "      <th>business_code</th>\n",
       "      <th>cust_number</th>\n",
       "      <th>buisness_year</th>\n",
       "      <th>document_create_date.1</th>\n",
       "      <th>due_in_date</th>\n",
       "      <th>invoice_currency</th>\n",
       "      <th>document type</th>\n",
       "      <th>total_open_amount</th>\n",
       "      <th>baseline_create_date</th>\n",
       "      <th>cust_payment_terms</th>\n",
       "      <th>mean_delay</th>\n",
       "      <th>due_dt_week</th>\n",
       "      <th>due_dt_mon</th>\n",
       "      <th>due_dt_day_of_week</th>\n",
       "      <th>is_weekend</th>\n",
       "    </tr>\n",
       "  </thead>\n",
       "  <tbody>\n",
       "    <tr>\n",
       "      <th>3</th>\n",
       "      <td>CA02</td>\n",
       "      <td>0140105686</td>\n",
       "      <td>2020.0</td>\n",
       "      <td>2020-03-30</td>\n",
       "      <td>2020-04-10</td>\n",
       "      <td>CAD</td>\n",
       "      <td>RV</td>\n",
       "      <td>3299.70</td>\n",
       "      <td>2020-03-31</td>\n",
       "      <td>CA10</td>\n",
       "      <td>6.522124</td>\n",
       "      <td>15</td>\n",
       "      <td>4</td>\n",
       "      <td>4</td>\n",
       "      <td>1</td>\n",
       "    </tr>\n",
       "    <tr>\n",
       "      <th>7</th>\n",
       "      <td>U001</td>\n",
       "      <td>0200744019</td>\n",
       "      <td>2020.0</td>\n",
       "      <td>2020-03-19</td>\n",
       "      <td>2020-04-03</td>\n",
       "      <td>USD</td>\n",
       "      <td>RV</td>\n",
       "      <td>11173.02</td>\n",
       "      <td>2020-03-19</td>\n",
       "      <td>NAA8</td>\n",
       "      <td>2.849117</td>\n",
       "      <td>14</td>\n",
       "      <td>4</td>\n",
       "      <td>4</td>\n",
       "      <td>1</td>\n",
       "    </tr>\n",
       "    <tr>\n",
       "      <th>10</th>\n",
       "      <td>U001</td>\n",
       "      <td>0200418007</td>\n",
       "      <td>2020.0</td>\n",
       "      <td>2020-03-11</td>\n",
       "      <td>2020-03-26</td>\n",
       "      <td>USD</td>\n",
       "      <td>RV</td>\n",
       "      <td>3525.59</td>\n",
       "      <td>2020-03-11</td>\n",
       "      <td>NAA8</td>\n",
       "      <td>-0.908815</td>\n",
       "      <td>13</td>\n",
       "      <td>3</td>\n",
       "      <td>3</td>\n",
       "      <td>0</td>\n",
       "    </tr>\n",
       "    <tr>\n",
       "      <th>14</th>\n",
       "      <td>U001</td>\n",
       "      <td>0200739534</td>\n",
       "      <td>2020.0</td>\n",
       "      <td>2020-04-15</td>\n",
       "      <td>2020-04-30</td>\n",
       "      <td>USD</td>\n",
       "      <td>RV</td>\n",
       "      <td>121105.65</td>\n",
       "      <td>2020-04-15</td>\n",
       "      <td>NAA8</td>\n",
       "      <td>1.759124</td>\n",
       "      <td>18</td>\n",
       "      <td>4</td>\n",
       "      <td>3</td>\n",
       "      <td>0</td>\n",
       "    </tr>\n",
       "    <tr>\n",
       "      <th>15</th>\n",
       "      <td>U001</td>\n",
       "      <td>0200353024</td>\n",
       "      <td>2020.0</td>\n",
       "      <td>2020-04-23</td>\n",
       "      <td>2020-04-26</td>\n",
       "      <td>USD</td>\n",
       "      <td>RV</td>\n",
       "      <td>3726.06</td>\n",
       "      <td>2020-04-16</td>\n",
       "      <td>NAM2</td>\n",
       "      <td>-4.152174</td>\n",
       "      <td>17</td>\n",
       "      <td>4</td>\n",
       "      <td>6</td>\n",
       "      <td>1</td>\n",
       "    </tr>\n",
       "    <tr>\n",
       "      <th>...</th>\n",
       "      <td>...</td>\n",
       "      <td>...</td>\n",
       "      <td>...</td>\n",
       "      <td>...</td>\n",
       "      <td>...</td>\n",
       "      <td>...</td>\n",
       "      <td>...</td>\n",
       "      <td>...</td>\n",
       "      <td>...</td>\n",
       "      <td>...</td>\n",
       "      <td>...</td>\n",
       "      <td>...</td>\n",
       "      <td>...</td>\n",
       "      <td>...</td>\n",
       "      <td>...</td>\n",
       "    </tr>\n",
       "    <tr>\n",
       "      <th>49975</th>\n",
       "      <td>U001</td>\n",
       "      <td>0200769623</td>\n",
       "      <td>2020.0</td>\n",
       "      <td>2020-03-10</td>\n",
       "      <td>2020-03-25</td>\n",
       "      <td>USD</td>\n",
       "      <td>RV</td>\n",
       "      <td>13114.99</td>\n",
       "      <td>2020-03-10</td>\n",
       "      <td>NAH4</td>\n",
       "      <td>-2.260712</td>\n",
       "      <td>13</td>\n",
       "      <td>3</td>\n",
       "      <td>2</td>\n",
       "      <td>0</td>\n",
       "    </tr>\n",
       "    <tr>\n",
       "      <th>49980</th>\n",
       "      <td>U001</td>\n",
       "      <td>0200769623</td>\n",
       "      <td>2020.0</td>\n",
       "      <td>2020-05-03</td>\n",
       "      <td>2020-05-18</td>\n",
       "      <td>USD</td>\n",
       "      <td>RV</td>\n",
       "      <td>8899.71</td>\n",
       "      <td>2020-05-03</td>\n",
       "      <td>NAH4</td>\n",
       "      <td>-2.260712</td>\n",
       "      <td>21</td>\n",
       "      <td>5</td>\n",
       "      <td>0</td>\n",
       "      <td>0</td>\n",
       "    </tr>\n",
       "    <tr>\n",
       "      <th>49982</th>\n",
       "      <td>U001</td>\n",
       "      <td>0200148860</td>\n",
       "      <td>2020.0</td>\n",
       "      <td>2020-03-11</td>\n",
       "      <td>2020-03-26</td>\n",
       "      <td>USD</td>\n",
       "      <td>RV</td>\n",
       "      <td>4967.06</td>\n",
       "      <td>2020-03-11</td>\n",
       "      <td>NAA8</td>\n",
       "      <td>-5.490099</td>\n",
       "      <td>13</td>\n",
       "      <td>3</td>\n",
       "      <td>3</td>\n",
       "      <td>0</td>\n",
       "    </tr>\n",
       "    <tr>\n",
       "      <th>49992</th>\n",
       "      <td>U001</td>\n",
       "      <td>0200900909</td>\n",
       "      <td>2020.0</td>\n",
       "      <td>2020-03-25</td>\n",
       "      <td>2020-04-09</td>\n",
       "      <td>USD</td>\n",
       "      <td>RV</td>\n",
       "      <td>1998.64</td>\n",
       "      <td>2020-03-25</td>\n",
       "      <td>NAA8</td>\n",
       "      <td>1.463768</td>\n",
       "      <td>15</td>\n",
       "      <td>4</td>\n",
       "      <td>3</td>\n",
       "      <td>0</td>\n",
       "    </tr>\n",
       "    <tr>\n",
       "      <th>49995</th>\n",
       "      <td>U001</td>\n",
       "      <td>0200561861</td>\n",
       "      <td>2020.0</td>\n",
       "      <td>2020-04-21</td>\n",
       "      <td>2020-05-06</td>\n",
       "      <td>USD</td>\n",
       "      <td>RV</td>\n",
       "      <td>3187.86</td>\n",
       "      <td>2020-04-21</td>\n",
       "      <td>NAA8</td>\n",
       "      <td>-0.386364</td>\n",
       "      <td>19</td>\n",
       "      <td>5</td>\n",
       "      <td>2</td>\n",
       "      <td>0</td>\n",
       "    </tr>\n",
       "  </tbody>\n",
       "</table>\n",
       "<p>10000 rows × 15 columns</p>\n",
       "</div>"
      ],
      "text/plain": [
       "      business_code cust_number  buisness_year document_create_date.1  \\\n",
       "3              CA02  0140105686         2020.0             2020-03-30   \n",
       "7              U001  0200744019         2020.0             2020-03-19   \n",
       "10             U001  0200418007         2020.0             2020-03-11   \n",
       "14             U001  0200739534         2020.0             2020-04-15   \n",
       "15             U001  0200353024         2020.0             2020-04-23   \n",
       "...             ...         ...            ...                    ...   \n",
       "49975          U001  0200769623         2020.0             2020-03-10   \n",
       "49980          U001  0200769623         2020.0             2020-05-03   \n",
       "49982          U001  0200148860         2020.0             2020-03-11   \n",
       "49992          U001  0200900909         2020.0             2020-03-25   \n",
       "49995          U001  0200561861         2020.0             2020-04-21   \n",
       "\n",
       "      due_in_date invoice_currency document type  total_open_amount  \\\n",
       "3      2020-04-10              CAD            RV            3299.70   \n",
       "7      2020-04-03              USD            RV           11173.02   \n",
       "10     2020-03-26              USD            RV            3525.59   \n",
       "14     2020-04-30              USD            RV          121105.65   \n",
       "15     2020-04-26              USD            RV            3726.06   \n",
       "...           ...              ...           ...                ...   \n",
       "49975  2020-03-25              USD            RV           13114.99   \n",
       "49980  2020-05-18              USD            RV            8899.71   \n",
       "49982  2020-03-26              USD            RV            4967.06   \n",
       "49992  2020-04-09              USD            RV            1998.64   \n",
       "49995  2020-05-06              USD            RV            3187.86   \n",
       "\n",
       "      baseline_create_date cust_payment_terms  mean_delay  due_dt_week  \\\n",
       "3               2020-03-31               CA10    6.522124           15   \n",
       "7               2020-03-19               NAA8    2.849117           14   \n",
       "10              2020-03-11               NAA8   -0.908815           13   \n",
       "14              2020-04-15               NAA8    1.759124           18   \n",
       "15              2020-04-16               NAM2   -4.152174           17   \n",
       "...                    ...                ...         ...          ...   \n",
       "49975           2020-03-10               NAH4   -2.260712           13   \n",
       "49980           2020-05-03               NAH4   -2.260712           21   \n",
       "49982           2020-03-11               NAA8   -5.490099           13   \n",
       "49992           2020-03-25               NAA8    1.463768           15   \n",
       "49995           2020-04-21               NAA8   -0.386364           19   \n",
       "\n",
       "       due_dt_mon  due_dt_day_of_week  is_weekend  \n",
       "3               4                   4           1  \n",
       "7               4                   4           1  \n",
       "10              3                   3           0  \n",
       "14              4                   3           0  \n",
       "15              4                   6           1  \n",
       "...           ...                 ...         ...  \n",
       "49975           3                   2           0  \n",
       "49980           5                   0           0  \n",
       "49982           3                   3           0  \n",
       "49992           4                   3           0  \n",
       "49995           5                   2           0  \n",
       "\n",
       "[10000 rows x 15 columns]"
      ]
     },
     "execution_count": 92,
     "metadata": {},
     "output_type": "execute_result"
    }
   ],
   "source": [
    "data_null"
   ]
  },
  {
   "cell_type": "code",
   "execution_count": 93,
   "metadata": {},
   "outputs": [],
   "source": [
    "X_train.drop([\"due_in_date\", \"clear_date\"], axis=1, inplace=True)\n",
    "X_val.drop([\"due_in_date\", \"clear_date\"], axis=1, inplace=True)\n",
    "X_test1.drop([\"due_in_date\", \"clear_date\"], axis=1, inplace=True)\n",
    "\n",
    "# we extracted all the information from the due and clear date now we can safely drop them off."
   ]
  },
  {
   "cell_type": "code",
   "execution_count": 94,
   "metadata": {},
   "outputs": [],
   "source": [
    "data_null.drop([\"due_in_date\"], axis=1, inplace=True)"
   ]
  },
  {
   "cell_type": "code",
   "execution_count": 95,
   "metadata": {},
   "outputs": [
    {
     "name": "stderr",
     "output_type": "stream",
     "text": [
      "/opt/conda/lib/python3.9/site-packages/seaborn/distributions.py:2619: FutureWarning: `distplot` is a deprecated function and will be removed in a future version. Please adapt your code to use either `displot` (a figure-level function with similar flexibility) or `histplot` (an axes-level function for histograms).\n",
      "  warnings.warn(msg, FutureWarning)\n"
     ]
    },
    {
     "data": {
      "text/plain": [
       "<AxesSubplot:xlabel='total_open_amount', ylabel='Density'>"
      ]
     },
     "execution_count": 95,
     "metadata": {},
     "output_type": "execute_result"
    },
    {
     "data": {
      "image/png": "[encoded data removed]",
      "text/plain": [
       "<Figure size 432x288 with 1 Axes>"
      ]
     },
     "metadata": {
      "needs_background": "light"
     },
     "output_type": "display_data"
    }
   ],
   "source": [
    "sns.distplot(X_train[\"total_open_amount\"])\n",
    "\n",
    "# this is highly skewed graph an we cant make much out of it"
   ]
  },
  {
   "cell_type": "code",
   "execution_count": 96,
   "metadata": {},
   "outputs": [
    {
     "data": {
      "text/plain": [
       "<AxesSubplot:>"
      ]
     },
     "execution_count": 96,
     "metadata": {},
     "output_type": "execute_result"
    },
    {
     "data": {
      "image/png": "[encoded data removed]",
      "text/plain": [
       "<Figure size 432x288 with 1 Axes>"
      ]
     },
     "metadata": {
      "needs_background": "light"
     },
     "output_type": "display_data"
    }
   ],
   "source": [
    "X_train.total_open_amount.hist()\n",
    "# we cant get much info from here because the scale here is too high\n",
    "# so we must perform log normalization on the total open amount to get it into reasonable scale wrt others."
   ]
  },
  {
   "cell_type": "code",
   "execution_count": 97,
   "metadata": {},
   "outputs": [
    {
     "data": {
      "text/html": [
       "<div>\n",
       "<style scoped>\n",
       "    .dataframe tbody tr th:only-of-type {\n",
       "        vertical-align: middle;\n",
       "    }\n",
       "\n",
       "    .dataframe tbody tr th {\n",
       "        vertical-align: top;\n",
       "    }\n",
       "\n",
       "    .dataframe thead th {\n",
       "        text-align: right;\n",
       "    }\n",
       "</style>\n",
       "<table border=\"1\" class=\"dataframe\">\n",
       "  <thead>\n",
       "    <tr style=\"text-align: right;\">\n",
       "      <th></th>\n",
       "      <th>business_code</th>\n",
       "      <th>cust_number</th>\n",
       "      <th>buisness_year</th>\n",
       "      <th>document_create_date.1</th>\n",
       "      <th>invoice_currency</th>\n",
       "      <th>document type</th>\n",
       "      <th>total_open_amount</th>\n",
       "      <th>baseline_create_date</th>\n",
       "      <th>cust_payment_terms</th>\n",
       "      <th>mean_delay</th>\n",
       "      <th>due_dt_week</th>\n",
       "      <th>due_dt_mon</th>\n",
       "      <th>due_dt_day_of_week</th>\n",
       "      <th>is_weekend</th>\n",
       "    </tr>\n",
       "  </thead>\n",
       "  <tbody>\n",
       "    <tr>\n",
       "      <th>0</th>\n",
       "      <td>U001</td>\n",
       "      <td>0200726979</td>\n",
       "      <td>2019.0</td>\n",
       "      <td>2018-12-30</td>\n",
       "      <td>USD</td>\n",
       "      <td>RV</td>\n",
       "      <td>58.18</td>\n",
       "      <td>2018-12-30</td>\n",
       "      <td>NAA8</td>\n",
       "      <td>0.956110</td>\n",
       "      <td>3</td>\n",
       "      <td>1</td>\n",
       "      <td>0</td>\n",
       "      <td>0</td>\n",
       "    </tr>\n",
       "    <tr>\n",
       "      <th>1</th>\n",
       "      <td>U001</td>\n",
       "      <td>0200769623</td>\n",
       "      <td>2019.0</td>\n",
       "      <td>2018-12-30</td>\n",
       "      <td>USD</td>\n",
       "      <td>RV</td>\n",
       "      <td>20695.38</td>\n",
       "      <td>2018-12-30</td>\n",
       "      <td>NAH4</td>\n",
       "      <td>-2.260712</td>\n",
       "      <td>3</td>\n",
       "      <td>1</td>\n",
       "      <td>0</td>\n",
       "      <td>0</td>\n",
       "    </tr>\n",
       "    <tr>\n",
       "      <th>2</th>\n",
       "      <td>U001</td>\n",
       "      <td>0200794332</td>\n",
       "      <td>2019.0</td>\n",
       "      <td>2018-12-30</td>\n",
       "      <td>USD</td>\n",
       "      <td>RV</td>\n",
       "      <td>8041.59</td>\n",
       "      <td>2018-12-30</td>\n",
       "      <td>NAAX</td>\n",
       "      <td>-0.185131</td>\n",
       "      <td>3</td>\n",
       "      <td>1</td>\n",
       "      <td>0</td>\n",
       "      <td>0</td>\n",
       "    </tr>\n",
       "    <tr>\n",
       "      <th>3</th>\n",
       "      <td>U001</td>\n",
       "      <td>0200769623</td>\n",
       "      <td>2019.0</td>\n",
       "      <td>2018-12-30</td>\n",
       "      <td>USD</td>\n",
       "      <td>RV</td>\n",
       "      <td>344.91</td>\n",
       "      <td>2018-12-30</td>\n",
       "      <td>NAH4</td>\n",
       "      <td>-2.260712</td>\n",
       "      <td>3</td>\n",
       "      <td>1</td>\n",
       "      <td>0</td>\n",
       "      <td>0</td>\n",
       "    </tr>\n",
       "    <tr>\n",
       "      <th>4</th>\n",
       "      <td>U001</td>\n",
       "      <td>0200769623</td>\n",
       "      <td>2019.0</td>\n",
       "      <td>2018-12-30</td>\n",
       "      <td>USD</td>\n",
       "      <td>RV</td>\n",
       "      <td>43689.83</td>\n",
       "      <td>2018-12-30</td>\n",
       "      <td>NAH4</td>\n",
       "      <td>-2.260712</td>\n",
       "      <td>3</td>\n",
       "      <td>1</td>\n",
       "      <td>0</td>\n",
       "      <td>0</td>\n",
       "    </tr>\n",
       "    <tr>\n",
       "      <th>...</th>\n",
       "      <td>...</td>\n",
       "      <td>...</td>\n",
       "      <td>...</td>\n",
       "      <td>...</td>\n",
       "      <td>...</td>\n",
       "      <td>...</td>\n",
       "      <td>...</td>\n",
       "      <td>...</td>\n",
       "      <td>...</td>\n",
       "      <td>...</td>\n",
       "      <td>...</td>\n",
       "      <td>...</td>\n",
       "      <td>...</td>\n",
       "      <td>...</td>\n",
       "    </tr>\n",
       "    <tr>\n",
       "      <th>31993</th>\n",
       "      <td>U001</td>\n",
       "      <td>0200785971</td>\n",
       "      <td>2019.0</td>\n",
       "      <td>2019-11-18</td>\n",
       "      <td>USD</td>\n",
       "      <td>RV</td>\n",
       "      <td>6985.28</td>\n",
       "      <td>2019-11-18</td>\n",
       "      <td>NA32</td>\n",
       "      <td>1.762712</td>\n",
       "      <td>51</td>\n",
       "      <td>12</td>\n",
       "      <td>4</td>\n",
       "      <td>1</td>\n",
       "    </tr>\n",
       "    <tr>\n",
       "      <th>31994</th>\n",
       "      <td>U001</td>\n",
       "      <td>0200782669</td>\n",
       "      <td>2019.0</td>\n",
       "      <td>2019-11-18</td>\n",
       "      <td>USD</td>\n",
       "      <td>RV</td>\n",
       "      <td>8649.76</td>\n",
       "      <td>2019-11-18</td>\n",
       "      <td>NAA8</td>\n",
       "      <td>-0.103093</td>\n",
       "      <td>49</td>\n",
       "      <td>12</td>\n",
       "      <td>1</td>\n",
       "      <td>0</td>\n",
       "    </tr>\n",
       "    <tr>\n",
       "      <th>31995</th>\n",
       "      <td>U001</td>\n",
       "      <td>0200741831</td>\n",
       "      <td>2019.0</td>\n",
       "      <td>2019-11-18</td>\n",
       "      <td>USD</td>\n",
       "      <td>RV</td>\n",
       "      <td>50364.28</td>\n",
       "      <td>2019-11-18</td>\n",
       "      <td>NAA8</td>\n",
       "      <td>3.388889</td>\n",
       "      <td>49</td>\n",
       "      <td>12</td>\n",
       "      <td>1</td>\n",
       "      <td>0</td>\n",
       "    </tr>\n",
       "    <tr>\n",
       "      <th>31996</th>\n",
       "      <td>U001</td>\n",
       "      <td>0200726979</td>\n",
       "      <td>2019.0</td>\n",
       "      <td>2019-11-18</td>\n",
       "      <td>USD</td>\n",
       "      <td>RV</td>\n",
       "      <td>195.46</td>\n",
       "      <td>2019-11-18</td>\n",
       "      <td>NAA8</td>\n",
       "      <td>0.956110</td>\n",
       "      <td>49</td>\n",
       "      <td>12</td>\n",
       "      <td>1</td>\n",
       "      <td>0</td>\n",
       "    </tr>\n",
       "    <tr>\n",
       "      <th>31997</th>\n",
       "      <td>U001</td>\n",
       "      <td>0200706844</td>\n",
       "      <td>2019.0</td>\n",
       "      <td>2019-11-18</td>\n",
       "      <td>USD</td>\n",
       "      <td>RV</td>\n",
       "      <td>41301.85</td>\n",
       "      <td>2019-11-18</td>\n",
       "      <td>NAA8</td>\n",
       "      <td>0.288538</td>\n",
       "      <td>49</td>\n",
       "      <td>12</td>\n",
       "      <td>1</td>\n",
       "      <td>0</td>\n",
       "    </tr>\n",
       "  </tbody>\n",
       "</table>\n",
       "<p>31998 rows × 14 columns</p>\n",
       "</div>"
      ],
      "text/plain": [
       "      business_code cust_number  buisness_year document_create_date.1  \\\n",
       "0              U001  0200726979         2019.0             2018-12-30   \n",
       "1              U001  0200769623         2019.0             2018-12-30   \n",
       "2              U001  0200794332         2019.0             2018-12-30   \n",
       "3              U001  0200769623         2019.0             2018-12-30   \n",
       "4              U001  0200769623         2019.0             2018-12-30   \n",
       "...             ...         ...            ...                    ...   \n",
       "31993          U001  0200785971         2019.0             2019-11-18   \n",
       "31994          U001  0200782669         2019.0             2019-11-18   \n",
       "31995          U001  0200741831         2019.0             2019-11-18   \n",
       "31996          U001  0200726979         2019.0             2019-11-18   \n",
       "31997          U001  0200706844         2019.0             2019-11-18   \n",
       "\n",
       "      invoice_currency document type  total_open_amount baseline_create_date  \\\n",
       "0                  USD            RV              58.18           2018-12-30   \n",
       "1                  USD            RV           20695.38           2018-12-30   \n",
       "2                  USD            RV            8041.59           2018-12-30   \n",
       "3                  USD            RV             344.91           2018-12-30   \n",
       "4                  USD            RV           43689.83           2018-12-30   \n",
       "...                ...           ...                ...                  ...   \n",
       "31993              USD            RV            6985.28           2019-11-18   \n",
       "31994              USD            RV            8649.76           2019-11-18   \n",
       "31995              USD            RV           50364.28           2019-11-18   \n",
       "31996              USD            RV             195.46           2019-11-18   \n",
       "31997              USD            RV           41301.85           2019-11-18   \n",
       "\n",
       "      cust_payment_terms  mean_delay  due_dt_week  due_dt_mon  \\\n",
       "0                   NAA8    0.956110            3           1   \n",
       "1                   NAH4   -2.260712            3           1   \n",
       "2                   NAAX   -0.185131            3           1   \n",
       "3                   NAH4   -2.260712            3           1   \n",
       "4                   NAH4   -2.260712            3           1   \n",
       "...                  ...         ...          ...         ...   \n",
       "31993               NA32    1.762712           51          12   \n",
       "31994               NAA8   -0.103093           49          12   \n",
       "31995               NAA8    3.388889           49          12   \n",
       "31996               NAA8    0.956110           49          12   \n",
       "31997               NAA8    0.288538           49          12   \n",
       "\n",
       "       due_dt_day_of_week  is_weekend  \n",
       "0                       0           0  \n",
       "1                       0           0  \n",
       "2                       0           0  \n",
       "3                       0           0  \n",
       "4                       0           0  \n",
       "...                   ...         ...  \n",
       "31993                   4           1  \n",
       "31994                   1           0  \n",
       "31995                   1           0  \n",
       "31996                   1           0  \n",
       "31997                   1           0  \n",
       "\n",
       "[31998 rows x 14 columns]"
      ]
     },
     "execution_count": 97,
     "metadata": {},
     "output_type": "execute_result"
    }
   ],
   "source": [
    "X_train"
   ]
  },
  {
   "cell_type": "code",
   "execution_count": 98,
   "metadata": {},
   "outputs": [],
   "source": [
    "# Converting CAD to USD\n",
    "\n",
    "X_train[\"total_open_amount\"] = np.where(\n",
    "    (X_train[\"invoice_currency\"] == \"CAD\") & (X_train[\"buisness_year\"] == 2019),\n",
    "    X_train[\"total_open_amount\"] * 0.7538,\n",
    "    X_train[\"total_open_amount\"],\n",
    ")\n",
    "X_train[\"total_open_amount\"] = np.where(\n",
    "    (X_train[\"invoice_currency\"] == \"CAD\") & (X_train[\"buisness_year\"] == 2020),\n",
    "    X_train[\"total_open_amount\"] * 0.7461,\n",
    "    X_train[\"total_open_amount\"],\n",
    ")"
   ]
  },
  {
   "cell_type": "code",
   "execution_count": 99,
   "metadata": {},
   "outputs": [
    {
     "data": {
      "text/html": [
       "<div>\n",
       "<style scoped>\n",
       "    .dataframe tbody tr th:only-of-type {\n",
       "        vertical-align: middle;\n",
       "    }\n",
       "\n",
       "    .dataframe tbody tr th {\n",
       "        vertical-align: top;\n",
       "    }\n",
       "\n",
       "    .dataframe thead th {\n",
       "        text-align: right;\n",
       "    }\n",
       "</style>\n",
       "<table border=\"1\" class=\"dataframe\">\n",
       "  <thead>\n",
       "    <tr style=\"text-align: right;\">\n",
       "      <th></th>\n",
       "      <th>business_code</th>\n",
       "      <th>cust_number</th>\n",
       "      <th>buisness_year</th>\n",
       "      <th>document_create_date.1</th>\n",
       "      <th>invoice_currency</th>\n",
       "      <th>document type</th>\n",
       "      <th>total_open_amount</th>\n",
       "      <th>baseline_create_date</th>\n",
       "      <th>cust_payment_terms</th>\n",
       "      <th>mean_delay</th>\n",
       "      <th>due_dt_week</th>\n",
       "      <th>due_dt_mon</th>\n",
       "      <th>due_dt_day_of_week</th>\n",
       "      <th>is_weekend</th>\n",
       "    </tr>\n",
       "  </thead>\n",
       "  <tbody>\n",
       "    <tr>\n",
       "      <th>0</th>\n",
       "      <td>U001</td>\n",
       "      <td>0200726979</td>\n",
       "      <td>2019.0</td>\n",
       "      <td>2018-12-30</td>\n",
       "      <td>USD</td>\n",
       "      <td>RV</td>\n",
       "      <td>58.18</td>\n",
       "      <td>2018-12-30</td>\n",
       "      <td>NAA8</td>\n",
       "      <td>0.956110</td>\n",
       "      <td>3</td>\n",
       "      <td>1</td>\n",
       "      <td>0</td>\n",
       "      <td>0</td>\n",
       "    </tr>\n",
       "    <tr>\n",
       "      <th>1</th>\n",
       "      <td>U001</td>\n",
       "      <td>0200769623</td>\n",
       "      <td>2019.0</td>\n",
       "      <td>2018-12-30</td>\n",
       "      <td>USD</td>\n",
       "      <td>RV</td>\n",
       "      <td>20695.38</td>\n",
       "      <td>2018-12-30</td>\n",
       "      <td>NAH4</td>\n",
       "      <td>-2.260712</td>\n",
       "      <td>3</td>\n",
       "      <td>1</td>\n",
       "      <td>0</td>\n",
       "      <td>0</td>\n",
       "    </tr>\n",
       "    <tr>\n",
       "      <th>2</th>\n",
       "      <td>U001</td>\n",
       "      <td>0200794332</td>\n",
       "      <td>2019.0</td>\n",
       "      <td>2018-12-30</td>\n",
       "      <td>USD</td>\n",
       "      <td>RV</td>\n",
       "      <td>8041.59</td>\n",
       "      <td>2018-12-30</td>\n",
       "      <td>NAAX</td>\n",
       "      <td>-0.185131</td>\n",
       "      <td>3</td>\n",
       "      <td>1</td>\n",
       "      <td>0</td>\n",
       "      <td>0</td>\n",
       "    </tr>\n",
       "    <tr>\n",
       "      <th>3</th>\n",
       "      <td>U001</td>\n",
       "      <td>0200769623</td>\n",
       "      <td>2019.0</td>\n",
       "      <td>2018-12-30</td>\n",
       "      <td>USD</td>\n",
       "      <td>RV</td>\n",
       "      <td>344.91</td>\n",
       "      <td>2018-12-30</td>\n",
       "      <td>NAH4</td>\n",
       "      <td>-2.260712</td>\n",
       "      <td>3</td>\n",
       "      <td>1</td>\n",
       "      <td>0</td>\n",
       "      <td>0</td>\n",
       "    </tr>\n",
       "    <tr>\n",
       "      <th>4</th>\n",
       "      <td>U001</td>\n",
       "      <td>0200769623</td>\n",
       "      <td>2019.0</td>\n",
       "      <td>2018-12-30</td>\n",
       "      <td>USD</td>\n",
       "      <td>RV</td>\n",
       "      <td>43689.83</td>\n",
       "      <td>2018-12-30</td>\n",
       "      <td>NAH4</td>\n",
       "      <td>-2.260712</td>\n",
       "      <td>3</td>\n",
       "      <td>1</td>\n",
       "      <td>0</td>\n",
       "      <td>0</td>\n",
       "    </tr>\n",
       "    <tr>\n",
       "      <th>...</th>\n",
       "      <td>...</td>\n",
       "      <td>...</td>\n",
       "      <td>...</td>\n",
       "      <td>...</td>\n",
       "      <td>...</td>\n",
       "      <td>...</td>\n",
       "      <td>...</td>\n",
       "      <td>...</td>\n",
       "      <td>...</td>\n",
       "      <td>...</td>\n",
       "      <td>...</td>\n",
       "      <td>...</td>\n",
       "      <td>...</td>\n",
       "      <td>...</td>\n",
       "    </tr>\n",
       "    <tr>\n",
       "      <th>31993</th>\n",
       "      <td>U001</td>\n",
       "      <td>0200785971</td>\n",
       "      <td>2019.0</td>\n",
       "      <td>2019-11-18</td>\n",
       "      <td>USD</td>\n",
       "      <td>RV</td>\n",
       "      <td>6985.28</td>\n",
       "      <td>2019-11-18</td>\n",
       "      <td>NA32</td>\n",
       "      <td>1.762712</td>\n",
       "      <td>51</td>\n",
       "      <td>12</td>\n",
       "      <td>4</td>\n",
       "      <td>1</td>\n",
       "    </tr>\n",
       "    <tr>\n",
       "      <th>31994</th>\n",
       "      <td>U001</td>\n",
       "      <td>0200782669</td>\n",
       "      <td>2019.0</td>\n",
       "      <td>2019-11-18</td>\n",
       "      <td>USD</td>\n",
       "      <td>RV</td>\n",
       "      <td>8649.76</td>\n",
       "      <td>2019-11-18</td>\n",
       "      <td>NAA8</td>\n",
       "      <td>-0.103093</td>\n",
       "      <td>49</td>\n",
       "      <td>12</td>\n",
       "      <td>1</td>\n",
       "      <td>0</td>\n",
       "    </tr>\n",
       "    <tr>\n",
       "      <th>31995</th>\n",
       "      <td>U001</td>\n",
       "      <td>0200741831</td>\n",
       "      <td>2019.0</td>\n",
       "      <td>2019-11-18</td>\n",
       "      <td>USD</td>\n",
       "      <td>RV</td>\n",
       "      <td>50364.28</td>\n",
       "      <td>2019-11-18</td>\n",
       "      <td>NAA8</td>\n",
       "      <td>3.388889</td>\n",
       "      <td>49</td>\n",
       "      <td>12</td>\n",
       "      <td>1</td>\n",
       "      <td>0</td>\n",
       "    </tr>\n",
       "    <tr>\n",
       "      <th>31996</th>\n",
       "      <td>U001</td>\n",
       "      <td>0200726979</td>\n",
       "      <td>2019.0</td>\n",
       "      <td>2019-11-18</td>\n",
       "      <td>USD</td>\n",
       "      <td>RV</td>\n",
       "      <td>195.46</td>\n",
       "      <td>2019-11-18</td>\n",
       "      <td>NAA8</td>\n",
       "      <td>0.956110</td>\n",
       "      <td>49</td>\n",
       "      <td>12</td>\n",
       "      <td>1</td>\n",
       "      <td>0</td>\n",
       "    </tr>\n",
       "    <tr>\n",
       "      <th>31997</th>\n",
       "      <td>U001</td>\n",
       "      <td>0200706844</td>\n",
       "      <td>2019.0</td>\n",
       "      <td>2019-11-18</td>\n",
       "      <td>USD</td>\n",
       "      <td>RV</td>\n",
       "      <td>41301.85</td>\n",
       "      <td>2019-11-18</td>\n",
       "      <td>NAA8</td>\n",
       "      <td>0.288538</td>\n",
       "      <td>49</td>\n",
       "      <td>12</td>\n",
       "      <td>1</td>\n",
       "      <td>0</td>\n",
       "    </tr>\n",
       "  </tbody>\n",
       "</table>\n",
       "<p>31998 rows × 14 columns</p>\n",
       "</div>"
      ],
      "text/plain": [
       "      business_code cust_number  buisness_year document_create_date.1  \\\n",
       "0              U001  0200726979         2019.0             2018-12-30   \n",
       "1              U001  0200769623         2019.0             2018-12-30   \n",
       "2              U001  0200794332         2019.0             2018-12-30   \n",
       "3              U001  0200769623         2019.0             2018-12-30   \n",
       "4              U001  0200769623         2019.0             2018-12-30   \n",
       "...             ...         ...            ...                    ...   \n",
       "31993          U001  0200785971         2019.0             2019-11-18   \n",
       "31994          U001  0200782669         2019.0             2019-11-18   \n",
       "31995          U001  0200741831         2019.0             2019-11-18   \n",
       "31996          U001  0200726979         2019.0             2019-11-18   \n",
       "31997          U001  0200706844         2019.0             2019-11-18   \n",
       "\n",
       "      invoice_currency document type  total_open_amount baseline_create_date  \\\n",
       "0                  USD            RV              58.18           2018-12-30   \n",
       "1                  USD            RV           20695.38           2018-12-30   \n",
       "2                  USD            RV            8041.59           2018-12-30   \n",
       "3                  USD            RV             344.91           2018-12-30   \n",
       "4                  USD            RV           43689.83           2018-12-30   \n",
       "...                ...           ...                ...                  ...   \n",
       "31993              USD            RV            6985.28           2019-11-18   \n",
       "31994              USD            RV            8649.76           2019-11-18   \n",
       "31995              USD            RV           50364.28           2019-11-18   \n",
       "31996              USD            RV             195.46           2019-11-18   \n",
       "31997              USD            RV           41301.85           2019-11-18   \n",
       "\n",
       "      cust_payment_terms  mean_delay  due_dt_week  due_dt_mon  \\\n",
       "0                   NAA8    0.956110            3           1   \n",
       "1                   NAH4   -2.260712            3           1   \n",
       "2                   NAAX   -0.185131            3           1   \n",
       "3                   NAH4   -2.260712            3           1   \n",
       "4                   NAH4   -2.260712            3           1   \n",
       "...                  ...         ...          ...         ...   \n",
       "31993               NA32    1.762712           51          12   \n",
       "31994               NAA8   -0.103093           49          12   \n",
       "31995               NAA8    3.388889           49          12   \n",
       "31996               NAA8    0.956110           49          12   \n",
       "31997               NAA8    0.288538           49          12   \n",
       "\n",
       "       due_dt_day_of_week  is_weekend  \n",
       "0                       0           0  \n",
       "1                       0           0  \n",
       "2                       0           0  \n",
       "3                       0           0  \n",
       "4                       0           0  \n",
       "...                   ...         ...  \n",
       "31993                   4           1  \n",
       "31994                   1           0  \n",
       "31995                   1           0  \n",
       "31996                   1           0  \n",
       "31997                   1           0  \n",
       "\n",
       "[31998 rows x 14 columns]"
      ]
     },
     "execution_count": 99,
     "metadata": {},
     "output_type": "execute_result"
    }
   ],
   "source": [
    "X_train"
   ]
  },
  {
   "cell_type": "code",
   "execution_count": 100,
   "metadata": {},
   "outputs": [],
   "source": [
    "# Converting CAD to USD for val\n",
    "\n",
    "X_val[\"total_open_amount\"] = np.where(\n",
    "    (X_val[\"invoice_currency\"] == \"CAD\") & (X_val[\"buisness_year\"] == 2019),\n",
    "    X_val[\"total_open_amount\"] * 0.7538,\n",
    "    X_val[\"total_open_amount\"],\n",
    ")\n",
    "X_val[\"total_open_amount\"] = np.where(\n",
    "    (X_val[\"invoice_currency\"] == \"CAD\") & (X_val[\"buisness_year\"] == 2020),\n",
    "    X_val[\"total_open_amount\"] * 0.7461,\n",
    "    X_val[\"total_open_amount\"],\n",
    ")"
   ]
  },
  {
   "cell_type": "code",
   "execution_count": 101,
   "metadata": {},
   "outputs": [],
   "source": [
    "# Converting CAD to USD for test1\n",
    "X_test1[\"total_open_amount\"] = np.where(\n",
    "    (X_test1[\"invoice_currency\"] == \"CAD\") & (X_test1[\"buisness_year\"] == 2019),\n",
    "    X_test1[\"total_open_amount\"] * 0.7538,\n",
    "    X_test1[\"total_open_amount\"],\n",
    ")\n",
    "X_test1[\"total_open_amount\"] = np.where(\n",
    "    (X_test1[\"invoice_currency\"] == \"CAD\") & (X_test1[\"buisness_year\"] == 2020),\n",
    "    X_test1[\"total_open_amount\"] * 0.7461,\n",
    "    X_test1[\"total_open_amount\"],\n",
    ")"
   ]
  },
  {
   "cell_type": "code",
   "execution_count": 102,
   "metadata": {},
   "outputs": [],
   "source": [
    "# Converting CAD to USD gor data_null\n",
    "data_null[\"total_open_amount\"] = np.where(\n",
    "    (data_null[\"invoice_currency\"] == \"CAD\")\n",
    "    & (data_null[\"buisness_year\"] == 2019),\n",
    "    data_null[\"total_open_amount\"] * 0.7538,\n",
    "    data_null[\"total_open_amount\"],\n",
    ")\n",
    "data_null[\"total_open_amount\"] = np.where(\n",
    "    (data_null[\"invoice_currency\"] == \"CAD\")\n",
    "    & (data_null[\"buisness_year\"] == 2020),\n",
    "    data_null[\"total_open_amount\"] * 0.7461,\n",
    "    data_null[\"total_open_amount\"],\n",
    ")"
   ]
  },
  {
   "cell_type": "code",
   "execution_count": 103,
   "metadata": {},
   "outputs": [],
   "source": [
    "# although i tried without the currency conversion but the accurarcy was the same.\n",
    "# there i did binarization since currency column has only 2 values but result was the same."
   ]
  },
  {
   "cell_type": "code",
   "execution_count": 104,
   "metadata": {},
   "outputs": [
    {
     "data": {
      "text/plain": [
       "count     31998.000000\n",
       "mean      30783.305644\n",
       "std       36896.915661\n",
       "min           0.790000\n",
       "25%        4518.695000\n",
       "50%       16894.340000\n",
       "75%       45452.886625\n",
       "max      668593.360000\n",
       "Name: total_open_amount, dtype: float64"
      ]
     },
     "execution_count": 104,
     "metadata": {},
     "output_type": "execute_result"
    }
   ],
   "source": [
    "X_train[\"total_open_amount\"].describe()"
   ]
  },
  {
   "cell_type": "code",
   "execution_count": 105,
   "metadata": {},
   "outputs": [
    {
     "data": {
      "text/plain": [
       "count    31998.000000\n",
       "mean         9.371086\n",
       "std          1.779953\n",
       "min         -0.235722\n",
       "25%          8.415978\n",
       "50%          9.734734\n",
       "75%         10.724432\n",
       "max         13.412931\n",
       "Name: amnt_log, dtype: float64"
      ]
     },
     "execution_count": 105,
     "metadata": {},
     "output_type": "execute_result"
    }
   ],
   "source": [
    "X_train[\"amnt_log\"] = np.log(X_train[\"total_open_amount\"])\n",
    "X_train[\"amnt_log\"].describe()\n",
    "\n",
    "# the total_open_amount has high values and if i give these values to for comparision the computer will assign high priority to total open amount\n",
    "# that too when it does not deserve it and in the end give wrong prediction\n",
    "# so it is important to scale the values before giving the dataset for feature selection."
   ]
  },
  {
   "cell_type": "code",
   "execution_count": 106,
   "metadata": {},
   "outputs": [],
   "source": [
    "X_test1[\"amnt_log\"] = np.log(X_test1[\"total_open_amount\"])\n",
    "X_val[\"amnt_log\"] = np.log(X_val[\"total_open_amount\"])\n",
    "data_null[\"amnt_log\"] = np.log(data_null[\"total_open_amount\"])"
   ]
  },
  {
   "cell_type": "code",
   "execution_count": null,
   "metadata": {},
   "outputs": [],
   "source": [
    "data_null[\"amnt_log\"].describe()"
   ]
  },
  {
   "cell_type": "code",
   "execution_count": null,
   "metadata": {},
   "outputs": [],
   "source": [
    "X_val[\"amnt_log\"].describe()"
   ]
  },
  {
   "cell_type": "code",
   "execution_count": null,
   "metadata": {},
   "outputs": [],
   "source": [
    "X_test1[\"amnt_log\"].describe()"
   ]
  },
  {
   "cell_type": "code",
   "execution_count": 107,
   "metadata": {},
   "outputs": [
    {
     "name": "stderr",
     "output_type": "stream",
     "text": [
      "/opt/conda/lib/python3.9/site-packages/seaborn/_decorators.py:36: FutureWarning: Pass the following variables as keyword args: x, y. From version 0.12, the only valid positional argument will be `data`, and passing other arguments without an explicit keyword will result in an error or misinterpretation.\n",
      "  warnings.warn(\n"
     ]
    },
    {
     "data": {
      "text/plain": [
       "<AxesSubplot:xlabel='amnt_log', ylabel='delay'>"
      ]
     },
     "execution_count": 107,
     "metadata": {},
     "output_type": "execute_result"
    },
    {
     "data": {
      "image/png": "[encoded data removed]",
      "text/plain": [
       "<Figure size 2160x720 with 1 Axes>"
      ]
     },
     "metadata": {
      "needs_background": "light"
     },
     "output_type": "display_data"
    }
   ],
   "source": [
    "plt.figure(figsize=(30, 10))\n",
    "sns.lineplot(X_train[\"amnt_log\"], y_train, color=\"pink\")"
   ]
  },
  {
   "cell_type": "code",
   "execution_count": 108,
   "metadata": {},
   "outputs": [],
   "source": [
    "X_train[\"amnt_log\"] = X_train[\"amnt_log\"] + 0.4\n",
    "\n",
    "# since the amount cant be negative so i am adding all the values wiht 0.4 so that the min value(-0.3) will get positive.\n",
    "# as we cant have amount due in -ves.\n",
    "\n",
    "X_train.drop(\"total_open_amount\", axis=1, inplace=True)"
   ]
  },
  {
   "cell_type": "code",
   "execution_count": 109,
   "metadata": {},
   "outputs": [],
   "source": [
    "X_val[\"amnt_log\"] = X_val[\"amnt_log\"] + 1.715\n",
    "X_val.drop(\"total_open_amount\", axis=1, inplace=True)\n",
    "X_test1.drop(\"total_open_amount\", axis=1, inplace=True)"
   ]
  },
  {
   "cell_type": "code",
   "execution_count": 110,
   "metadata": {},
   "outputs": [],
   "source": [
    "data_null[\"amnt_log\"] = data_null[\"amnt_log\"] + 1.8\n",
    "# since the amount cant be negative so i am adding all the values wiht 1.8 so that the min value will get positive.\n",
    "data_null.drop(\"total_open_amount\", axis=1, inplace=True)"
   ]
  },
  {
   "cell_type": "code",
   "execution_count": 111,
   "metadata": {},
   "outputs": [
    {
     "name": "stderr",
     "output_type": "stream",
     "text": [
      "/opt/conda/lib/python3.9/site-packages/seaborn/distributions.py:2619: FutureWarning: `distplot` is a deprecated function and will be removed in a future version. Please adapt your code to use either `displot` (a figure-level function with similar flexibility) or `histplot` (an axes-level function for histograms).\n",
      "  warnings.warn(msg, FutureWarning)\n"
     ]
    },
    {
     "data": {
      "text/plain": [
       "Text(0.5, 1.0, 'X_train amount log')"
      ]
     },
     "execution_count": 111,
     "metadata": {},
     "output_type": "execute_result"
    },
    {
     "data": {
      "image/png": "[encoded data removed]",
      "text/plain": [
       "<Figure size 432x288 with 1 Axes>"
      ]
     },
     "metadata": {
      "needs_background": "light"
     },
     "output_type": "display_data"
    }
   ],
   "source": [
    "sns.distplot(X_train[\"amnt_log\"], color=\"orange\")\n",
    "plt.title(\"X_train amount log\")\n",
    "\n",
    "# this graphs makes more sense than the previous high skewed one."
   ]
  },
  {
   "cell_type": "code",
   "execution_count": 113,
   "metadata": {},
   "outputs": [
    {
     "data": {
      "text/plain": [
       "<AxesSubplot:>"
      ]
     },
     "execution_count": 113,
     "metadata": {},
     "output_type": "execute_result"
    },
    {
     "data": {
      "image/png": "[encoded data removed]",
      "text/plain": [
       "<Figure size 432x288 with 1 Axes>"
      ]
     },
     "metadata": {
      "needs_background": "light"
     },
     "output_type": "display_data"
    }
   ],
   "source": [
    "X_train.amnt_log.hist()"
   ]
  },
  {
   "cell_type": "code",
   "execution_count": 114,
   "metadata": {},
   "outputs": [
    {
     "name": "stderr",
     "output_type": "stream",
     "text": [
      "/opt/conda/lib/python3.9/site-packages/seaborn/distributions.py:2619: FutureWarning: `distplot` is a deprecated function and will be removed in a future version. Please adapt your code to use either `displot` (a figure-level function with similar flexibility) or `histplot` (an axes-level function for histograms).\n",
      "  warnings.warn(msg, FutureWarning)\n"
     ]
    },
    {
     "data": {
      "text/plain": [
       "Text(0.5, 1.0, 'data_null amount log')"
      ]
     },
     "execution_count": 114,
     "metadata": {},
     "output_type": "execute_result"
    },
    {
     "data": {
      "image/png": "[encoded data removed]",
      "text/plain": [
       "<Figure size 432x288 with 1 Axes>"
      ]
     },
     "metadata": {
      "needs_background": "light"
     },
     "output_type": "display_data"
    }
   ],
   "source": [
    "sns.distplot(data_null[\"amnt_log\"], color=\"red\")\n",
    "plt.title(\"data_null amount log\")"
   ]
  },
  {
   "cell_type": "markdown",
   "metadata": {},
   "source": [
    "#### Making feature out of cust_payment_terms"
   ]
  },
  {
   "cell_type": "code",
   "execution_count": 115,
   "metadata": {},
   "outputs": [
    {
     "data": {
      "text/plain": [
       "NAA8    12833\n",
       "NAH4     8325\n",
       "CA10     2504\n",
       "NAC6     1058\n",
       "NAM4      838\n",
       "        ...  \n",
       "NAD8        1\n",
       "NAV2        1\n",
       "NABD        1\n",
       "BR12        1\n",
       "CA60        1\n",
       "Name: cust_payment_terms, Length: 69, dtype: int64"
      ]
     },
     "execution_count": 115,
     "metadata": {},
     "output_type": "execute_result"
    }
   ],
   "source": [
    "X_train[\"cust_payment_terms\"].value_counts()"
   ]
  },
  {
   "cell_type": "code",
   "execution_count": null,
   "metadata": {},
   "outputs": [],
   "source": [
    "# since there are many values with have occurance 1 or low values and if we try to find mean of their occurance then it would be negligible wrt to NAA8 and the others\n",
    "# so I am grouping them in a list and later will replace those values with a common one called others\n",
    "\n",
    "fem = [\n",
    "    xdd\n",
    "    for xdd in X_train[\"cust_payment_terms\"]\n",
    "    if xdd not in [\"NAA8\", \"NAH4\", \"CA10\", \"NAC6\", \"NAM4\", \"NAAX\"]\n",
    "]\n",
    "fem_val = [\n",
    "    xdd1\n",
    "    for xdd1 in X_val[\"cust_payment_terms\"]\n",
    "    if xdd1 not in [\"NAA8\", \"NAH4\", \"CA10\", \"NAC6\", \"NAM4\", \"NAAX\"]\n",
    "]\n",
    "fem_test1 = [\n",
    "    xdd2\n",
    "    for xdd2 in X_test1[\"cust_payment_terms\"]\n",
    "    if xdd2 not in [\"NAA8\", \"NAH4\", \"CA10\", \"NAC6\", \"NAM4\", \"NAAX\"]\n",
    "]"
   ]
  },
  {
   "cell_type": "code",
   "execution_count": null,
   "metadata": {},
   "outputs": [],
   "source": [
    "fem_null = [\n",
    "    xdd3\n",
    "    for xdd3 in data_null[\"cust_payment_terms\"]\n",
    "    if xdd3 not in [\"NAA8\", \"NAH4\", \"CA10\", \"NAC6\", \"NAM4\", \"NAAX\"]\n",
    "]"
   ]
  },
  {
   "cell_type": "code",
   "execution_count": null,
   "metadata": {},
   "outputs": [],
   "source": [
    "# replacing the list elements with others\n",
    "X_train[\"cust_payment_terms\"] = X_train[\"cust_payment_terms\"].replace(\n",
    "    fem, \"others\"\n",
    ")\n",
    "X_val[\"cust_payment_terms\"] = X_val[\"cust_payment_terms\"].replace(\n",
    "    fem_val, \"others\"\n",
    ")\n",
    "X_test1[\"cust_payment_terms\"] = X_test1[\"cust_payment_terms\"].replace(\n",
    "    fem_test1, \"others\"\n",
    ")"
   ]
  },
  {
   "cell_type": "code",
   "execution_count": null,
   "metadata": {},
   "outputs": [],
   "source": [
    "data_null[\"cust_payment_terms\"] = data_null[\"cust_payment_terms\"].replace(\n",
    "    fem_null, \"others\"\n",
    ")"
   ]
  },
  {
   "cell_type": "code",
   "execution_count": null,
   "metadata": {},
   "outputs": [],
   "source": [
    "X_train[\"cust_payment_terms\"].value_counts()\n",
    "# this reduces the total unique values and we can make a feature out of them."
   ]
  },
  {
   "cell_type": "code",
   "execution_count": null,
   "metadata": {},
   "outputs": [],
   "source": [
    "data_null[\"cust_payment_terms\"].value_counts()"
   ]
  },
  {
   "cell_type": "code",
   "execution_count": null,
   "metadata": {},
   "outputs": [],
   "source": [
    "X_train[\"cust_payment_terms\"].value_counts(normalize=True)\n",
    "# this is giving us mean of each value."
   ]
  },
  {
   "cell_type": "code",
   "execution_count": null,
   "metadata": {},
   "outputs": [],
   "source": [
    "data_null[\"cust_payment_terms\"].value_counts(normalize=True)"
   ]
  },
  {
   "cell_type": "code",
   "execution_count": null,
   "metadata": {},
   "outputs": [],
   "source": [
    "cus_pay_terms = {\n",
    "    \"NAA8\": 0.401007,\n",
    "    \"NAH4\": 0.297426,\n",
    "    \"CA10\": 0.078930,\n",
    "    \"NAC6\": 0.035143,\n",
    "    \"NAM4\": 0.025179,\n",
    "    \"NAAX\": 0.024775,\n",
    "    \"others\": 0.174988,\n",
    "}\n",
    "cus_pay_terms\n",
    "\n",
    "# here i made a list where i inserted value name and the mean of their occurance.\n",
    "# frequency encoding"
   ]
  },
  {
   "cell_type": "code",
   "execution_count": null,
   "metadata": {},
   "outputs": [],
   "source": [
    "# mapping the list with train,test,val and data_null.\n",
    "\n",
    "X_train[\"cust_payment_terms\"] = X_train[\"cust_payment_terms\"].map(cus_pay_terms)\n",
    "X_val[\"cust_payment_terms\"] = X_val[\"cust_payment_terms\"].map(cus_pay_terms)\n",
    "X_test1[\"cust_payment_terms\"] = X_test1[\"cust_payment_terms\"].map(cus_pay_terms)\n",
    "data_null[\"cust_payment_terms\"] = data_null[\"cust_payment_terms\"].map(\n",
    "    cus_pay_terms\n",
    ")"
   ]
  },
  {
   "cell_type": "code",
   "execution_count": null,
   "metadata": {},
   "outputs": [],
   "source": []
  },
  {
   "cell_type": "code",
   "execution_count": null,
   "metadata": {},
   "outputs": [],
   "source": [
    "X_train"
   ]
  },
  {
   "cell_type": "raw",
   "metadata": {},
   "source": [
    "#e arlier i wrote the full code but later after complteing this file i replaced this with a fore loop you saw above.\n",
    "\n",
    "X_train['cust_payment_terms'] = X_train['cust_payment_terms'].replace('NAA8',0.401007)\n",
    "X_train['cust_payment_terms'] = X_train['cust_payment_terms'].replace('NAH4',0.259977)\n",
    "X_train['cust_payment_terms'] = X_train['cust_payment_terms'].replace('CA10',0.078930)\n",
    "X_train['cust_payment_terms'] = X_train['cust_payment_terms'].replace('NAC6',0.035143)\n",
    "X_train['cust_payment_terms'] = X_train['cust_payment_terms'].replace('NAM4',0.025179)\n",
    "X_train['cust_payment_terms'] = X_train['cust_payment_terms'].replace('NAAX',0.024775)\n",
    "X_train['cust_payment_terms'] = X_train['cust_payment_terms'].replace('others',0.174988)\n",
    "\n",
    "X_val['cust_payment_terms'] = X_val['cust_payment_terms'].replace('NAA8',0.401007)\n",
    "X_val['cust_payment_terms'] = X_val['cust_payment_terms'].replace('NAH4',0.259977)\n",
    "X_val['cust_payment_terms'] = X_val['cust_payment_terms'].replace('CA10',0.078930)\n",
    "X_val['cust_payment_terms'] = X_val['cust_payment_terms'].replace('NAC6',0.035143)\n",
    "X_val['cust_payment_terms'] = X_val['cust_payment_terms'].replace('NAM4',0.025179)\n",
    "X_val['cust_payment_terms'] = X_val['cust_payment_terms'].replace('NAAX',0.024775)\n",
    "X_val['cust_payment_terms'] = X_val['cust_payment_terms'].replace('others',0.174988)\n",
    "\n",
    "X_test1['cust_payment_terms'] = X_test1['cust_payment_terms'].replace('NAA8',0.401007)\n",
    "X_test1['cust_payment_terms'] = X_test1['cust_payment_terms'].replace('NAH4',0.259977)\n",
    "X_test1['cust_payment_terms'] = X_test1['cust_payment_terms'].replace('CA10',0.078930)\n",
    "X_test1['cust_payment_terms'] = X_test1['cust_payment_terms'].replace('NAC6',0.035143)\n",
    "X_test1['cust_payment_terms'] = X_test1['cust_payment_terms'].replace('NAM4',0.025179)\n",
    "X_test1['cust_payment_terms'] = X_test1['cust_payment_terms'].replace('NAAX',0.024775)\n",
    "X_test1['cust_payment_terms'] = X_test1['cust_payment_terms'].replace('others',0.174988)\n",
    "\n",
    "data_null['cust_payment_terms'] = data_null['cust_payment_terms'].replace('NAA8',0.401007)\n",
    "data_null['cust_payment_terms'] = data_null['cust_payment_terms'].replace('NAH4',0.259977)\n",
    "data_null['cust_payment_terms'] = data_null['cust_payment_terms'].replace('CA10',0.078930)\n",
    "data_null['cust_payment_terms'] = data_null['cust_payment_terms'].replace('NAC6',0.035143)\n",
    "data_null['cust_payment_terms'] = data_null['cust_payment_terms'].replace('NAM4',0.025179)\n",
    "data_null['cust_payment_terms'] = data_null['cust_payment_terms'].replace('NAAX',0.024775)\n",
    "data_null['cust_payment_terms'] = data_null['cust_payment_terms'].replace('others',0.174988)"
   ]
  },
  {
   "cell_type": "code",
   "execution_count": null,
   "metadata": {},
   "outputs": [],
   "source": [
    "X_train[\"cust_payment_terms\"]"
   ]
  },
  {
   "cell_type": "code",
   "execution_count": null,
   "metadata": {},
   "outputs": [],
   "source": [
    "X_train"
   ]
  },
  {
   "cell_type": "code",
   "execution_count": null,
   "metadata": {},
   "outputs": [],
   "source": [
    "# dropping these values because i can't file them of any use\n",
    "\n",
    "X_train.drop(\n",
    "    [\"baseline_create_date\", \"document_create_date.1\", \"buisness_year\"],\n",
    "    axis=1,\n",
    "    inplace=True,\n",
    ")\n",
    "X_val.drop(\n",
    "    [\"baseline_create_date\", \"document_create_date.1\", \"buisness_year\"],\n",
    "    axis=1,\n",
    "    inplace=True,\n",
    ")\n",
    "X_test1.drop(\n",
    "    [\"baseline_create_date\", \"document_create_date.1\", \"buisness_year\"],\n",
    "    axis=1,\n",
    "    inplace=True,\n",
    ")\n",
    "data_null.drop(\n",
    "    [\"baseline_create_date\", \"document_create_date.1\", \"buisness_year\"],\n",
    "    axis=1,\n",
    "    inplace=True,\n",
    ")"
   ]
  },
  {
   "cell_type": "markdown",
   "metadata": {},
   "source": [
    "#### making feature out of business code using frequency encoding"
   ]
  },
  {
   "cell_type": "code",
   "execution_count": null,
   "metadata": {},
   "outputs": [],
   "source": [
    "X_train[\"business_code\"].value_counts()\n",
    "\n",
    "# here i can see that below 3 values are having very less occrance in the table so ill group them in a category called others."
   ]
  },
  {
   "cell_type": "markdown",
   "metadata": {},
   "source": [
    "X_train=pd.concat([X_train,pd.get_dummies(X_train['business_code'])],axis=1)\n",
    "\n",
    "i tried using dummy variable but it will increase my features by 6 columns and dimensionality will also be a problem btw train and test sets."
   ]
  },
  {
   "cell_type": "code",
   "execution_count": null,
   "metadata": {},
   "outputs": [],
   "source": [
    "X_train[\"business_code\"].value_counts(normalize=True)\n",
    "# normalize return proportion\n",
    "# ie U001 is at 90% etc..."
   ]
  },
  {
   "cell_type": "code",
   "execution_count": null,
   "metadata": {},
   "outputs": [],
   "source": [
    "# here i did the same thing which I did with cust_payment_terms.\n",
    "# categorizing low freq values in others category"
   ]
  },
  {
   "cell_type": "code",
   "execution_count": null,
   "metadata": {},
   "outputs": [],
   "source": [
    "X_train[\"business_code\"] = X_train[\"business_code\"].replace(\n",
    "    [\"U002\", \"U005\", \"U007\", \"U013\"], \"others\"\n",
    ")\n",
    "\n",
    "X_val[\"business_code\"] = X_val[\"business_code\"].replace(\n",
    "    [\"U002\", \"U005\", \"U007\", \"U013\"], \"others\"\n",
    ")\n",
    "\n",
    "X_test1[\"business_code\"] = X_test1[\"business_code\"].replace(\n",
    "    [\"U002\", \"U005\", \"U007\", \"U013\"], \"others\"\n",
    ")"
   ]
  },
  {
   "cell_type": "code",
   "execution_count": null,
   "metadata": {},
   "outputs": [],
   "source": [
    "data_null[\"business_code\"] = data_null[\"business_code\"].replace(\n",
    "    [\"U002\", \"U005\", \"U007\", \"U013\"], \"others\"\n",
    ")"
   ]
  },
  {
   "cell_type": "code",
   "execution_count": null,
   "metadata": {},
   "outputs": [],
   "source": [
    "X_train[\"business_code\"].value_counts(normalize=True)"
   ]
  },
  {
   "cell_type": "raw",
   "metadata": {},
   "source": [
    "\n",
    "X_train['business_code'] = X_train['business_code'].replace('U001',0.900469)\n",
    "X_train['business_code'] = X_train['business_code'].replace('CA02',0.081166)\n",
    "X_train['business_code'] = X_train['business_code'].replace('others',0.018366)\n",
    "\n",
    "X_val['business_code'] = X_val['business_code'].replace('U001',0.900469)\n",
    "X_val['business_code'] = X_val['business_code'].replace('CA02',0.081166)\n",
    "X_val['business_code'] = X_val['business_code'].replace('others',0.018366)\n",
    "\n",
    "X_test1['business_code'] = X_test1['business_code'].replace('U001',0.900469)\n",
    "X_test1['business_code'] = X_test1['business_code'].replace('CA02',0.081166)\n",
    "X_test1['business_code'] = X_test1['business_code'].replace('others',0.018366)\n"
   ]
  },
  {
   "cell_type": "code",
   "execution_count": null,
   "metadata": {},
   "outputs": [],
   "source": [
    "buss_code = {\"U001\": 0.900517, \"CA02\": 0.081116, \"others\": 0.018367}\n",
    "\n",
    "# dictionary which can be used for mapping which will reduce labour."
   ]
  },
  {
   "cell_type": "code",
   "execution_count": null,
   "metadata": {},
   "outputs": [],
   "source": [
    "X_train[\"business_code\"] = X_train[\"business_code\"].map(buss_code)\n",
    "X_train"
   ]
  },
  {
   "cell_type": "code",
   "execution_count": null,
   "metadata": {},
   "outputs": [],
   "source": [
    "data_null[\"business_code\"] = data_null[\"business_code\"].map(buss_code)\n",
    "X_test1[\"business_code\"] = X_test1[\"business_code\"].map(buss_code)\n",
    "X_val[\"business_code\"] = X_val[\"business_code\"].map(buss_code)"
   ]
  },
  {
   "cell_type": "raw",
   "metadata": {},
   "source": [
    "data_null['business_code'] = data_null['business_code'].replace('U001',0.900469)\n",
    "data_null['business_code'] = data_null['business_code'].replace('CA02',0.081166)\n",
    "data_null['business_code'] = data_null['business_code'].replace('others',0.018366)\n"
   ]
  },
  {
   "cell_type": "code",
   "execution_count": null,
   "metadata": {},
   "outputs": [],
   "source": [
    "X_train"
   ]
  },
  {
   "cell_type": "code",
   "execution_count": null,
   "metadata": {},
   "outputs": [],
   "source": [
    "data_null"
   ]
  },
  {
   "cell_type": "markdown",
   "metadata": {},
   "source": [
    "#### checking the dimension of all the datasets before moving forward"
   ]
  },
  {
   "cell_type": "code",
   "execution_count": null,
   "metadata": {},
   "outputs": [],
   "source": [
    "X_train.shape, X_test1.shape, X_val.shape, data_null.shape"
   ]
  },
  {
   "cell_type": "markdown",
   "metadata": {},
   "source": [
    "#### making a feature out of document type using binarization"
   ]
  },
  {
   "cell_type": "code",
   "execution_count": null,
   "metadata": {},
   "outputs": [],
   "source": [
    "X_train[\"doc_type\"] = np.where(X_train[\"document type\"] == \"RV\", 1, 0)\n",
    "X_train.drop(\"document type\", axis=1, inplace=True)\n",
    "\n",
    "X_val[\"doc_type\"] = np.where(X_val[\"document type\"] == \"RV\", 1, 0)\n",
    "X_val.drop(\"document type\", axis=1, inplace=True)\n",
    "\n",
    "X_test1[\"doc_type\"] = np.where(X_test1[\"document type\"] == \"RV\", 1, 0)\n",
    "X_test1.drop(\"document type\", axis=1, inplace=True)\n",
    "\n",
    "data_null[\"doc_type\"] = np.where(data_null[\"document type\"] == \"RV\", 1, 0)\n",
    "data_null.drop(\"document type\", axis=1, inplace=True)"
   ]
  },
  {
   "cell_type": "code",
   "execution_count": null,
   "metadata": {},
   "outputs": [],
   "source": [
    "X_train[\"invoice_currency\"].value_counts()"
   ]
  },
  {
   "cell_type": "code",
   "execution_count": null,
   "metadata": {},
   "outputs": [],
   "source": [
    "# Earlier i tried binariztion with invoive currency too\n",
    "\n",
    "\"\"\"X_train['invoice_currency']=np.where(X_train['invoice_currency']==\"USD\",1,0)\n",
    "\n",
    "X_val['invoice_currency']=np.where(X_val['invoice_currency']==\"USD\",1,0)\n",
    "\n",
    "X_test1['invoice_currency']=np.where(X_test1['invoice_currency']==\"USD\",1,0)\n",
    "\"\"\""
   ]
  },
  {
   "cell_type": "code",
   "execution_count": null,
   "metadata": {},
   "outputs": [],
   "source": [
    "\"\"\"data_null['invoice_currency']=np.where(data_null['invoice_currency']==\"USD\",1,0)\n",
    "\"\"\""
   ]
  },
  {
   "cell_type": "code",
   "execution_count": null,
   "metadata": {},
   "outputs": [],
   "source": [
    "X_train.shape"
   ]
  },
  {
   "cell_type": "code",
   "execution_count": null,
   "metadata": {},
   "outputs": [],
   "source": [
    "# dropping customer number because i took out the mean delay with its help and now i dont need it anymore"
   ]
  },
  {
   "cell_type": "code",
   "execution_count": null,
   "metadata": {},
   "outputs": [],
   "source": [
    "X_train.drop(\"cust_number\", axis=1, inplace=True)\n",
    "X_val.drop(\"cust_number\", axis=1, inplace=True)\n",
    "X_test1.drop(\"cust_number\", axis=1, inplace=True)\n",
    "data_null.drop(\"cust_number\", axis=1, inplace=True)"
   ]
  },
  {
   "cell_type": "code",
   "execution_count": null,
   "metadata": {},
   "outputs": [],
   "source": [
    "# after currency conversion this column makes no sense so i am dropping it off"
   ]
  },
  {
   "cell_type": "code",
   "execution_count": null,
   "metadata": {},
   "outputs": [],
   "source": [
    "X_train.drop(\"invoice_currency\", axis=1, inplace=True)\n",
    "X_val.drop(\"invoice_currency\", axis=1, inplace=True)\n",
    "X_test1.drop(\"invoice_currency\", axis=1, inplace=True)\n",
    "\n",
    "data_null.drop(\"invoice_currency\", axis=1, inplace=True)"
   ]
  },
  {
   "cell_type": "code",
   "execution_count": null,
   "metadata": {},
   "outputs": [],
   "source": [
    "X_train"
   ]
  },
  {
   "cell_type": "code",
   "execution_count": null,
   "metadata": {},
   "outputs": [],
   "source": []
  },
  {
   "cell_type": "markdown",
   "metadata": {},
   "source": [
    "# Feature Selection"
   ]
  },
  {
   "cell_type": "markdown",
   "metadata": {},
   "source": [
    "#### applying filter method"
   ]
  },
  {
   "cell_type": "code",
   "execution_count": null,
   "metadata": {},
   "outputs": [],
   "source": [
    "from sklearn.feature_selection import VarianceThreshold\n",
    "\n",
    "# Passing a value of zero for the parameter will filter all the features with zero variance\n",
    "constant_filter = VarianceThreshold(threshold=0)\n",
    "# we need to simply apply this filter to our training set as shown in the following example\n",
    "constant_filter.fit(X_train)\n",
    "# the number of non-constant features.\n",
    "len(X_train.columns[constant_filter.get_support()])"
   ]
  },
  {
   "cell_type": "code",
   "execution_count": null,
   "metadata": {},
   "outputs": [],
   "source": [
    "constant_columns = [\n",
    "    column\n",
    "    for column in X_train.columns\n",
    "    if column not in X_train.columns[constant_filter.get_support()]\n",
    "]\n",
    "\n",
    "print(len(constant_columns))\n",
    "\n",
    "# this shows we dont have any constant columns"
   ]
  },
  {
   "cell_type": "markdown",
   "metadata": {},
   "source": [
    "#### Correlation Coefficient"
   ]
  },
  {
   "cell_type": "code",
   "execution_count": null,
   "metadata": {},
   "outputs": [],
   "source": [
    "train = X_train.copy()\n",
    "corr = train.corr()\n",
    "plt.figure(figsize=(14, 9))\n",
    "sns.heatmap(corr, annot=True)"
   ]
  },
  {
   "cell_type": "code",
   "execution_count": null,
   "metadata": {},
   "outputs": [],
   "source": [
    "# after reading the heat map we can drop either of due_dt_week or due_dt_mon\n",
    "# because of their high correlation but ill do that later."
   ]
  },
  {
   "cell_type": "markdown",
   "metadata": {},
   "source": [
    "#### EMBEDDED METHOD"
   ]
  },
  {
   "cell_type": "code",
   "execution_count": null,
   "metadata": {},
   "outputs": [],
   "source": [
    "# this will tell us the feature importance of our model\n",
    "\n",
    "\n",
    "def tree_based_feature_importance(x_train, y_train):\n",
    "    from sklearn.ensemble import RandomForestRegressor\n",
    "\n",
    "    # create the random forest model\n",
    "    model = RandomForestRegressor(n_estimators=120)\n",
    "\n",
    "    # fit the model to start training.\n",
    "    model.fit(X_train, y_train)\n",
    "\n",
    "    # get the importance of the resulting features.\n",
    "    importances = model.feature_importances_\n",
    "\n",
    "    # create a data frame for visualization.\n",
    "    final_df = pd.DataFrame(\n",
    "        {\"Features\": X_train.columns, \"Importances\": importances}\n",
    "    )\n",
    "    final_df.set_index(\"Importances\")\n",
    "\n",
    "    # sort in descending order\n",
    "    final_df = final_df.sort_values(\"Importances\", ascending=False)\n",
    "\n",
    "    # visualising feature importance\n",
    "    pd.Series(model.feature_importances_, index=X_train.columns).nlargest(\n",
    "        6\n",
    "    ).plot(kind=\"barh\")\n",
    "    return final_df"
   ]
  },
  {
   "cell_type": "code",
   "execution_count": null,
   "metadata": {},
   "outputs": [],
   "source": [
    "feature_importance = tree_based_feature_importance(X_train, y_train)"
   ]
  },
  {
   "cell_type": "code",
   "execution_count": null,
   "metadata": {},
   "outputs": [],
   "source": [
    "display(feature_importance)"
   ]
  },
  {
   "cell_type": "code",
   "execution_count": null,
   "metadata": {},
   "outputs": [],
   "source": [
    "X_train.describe()"
   ]
  },
  {
   "cell_type": "markdown",
   "metadata": {},
   "source": [
    "#### checking for any null values in our datasets before feeding it to the models"
   ]
  },
  {
   "cell_type": "code",
   "execution_count": null,
   "metadata": {},
   "outputs": [],
   "source": [
    "X_train.isnull().sum(), X_val.isnull().sum(), X_test1.isnull().sum()"
   ]
  },
  {
   "cell_type": "code",
   "execution_count": null,
   "metadata": {},
   "outputs": [],
   "source": [
    "X_train.drop([\"doc_type\", \"is_weekend\"], axis=1, inplace=True)\n",
    "X_val.drop([\"doc_type\", \"is_weekend\"], axis=1, inplace=True)\n",
    "X_test1.drop([\"doc_type\", \"is_weekend\"], axis=1, inplace=True)"
   ]
  },
  {
   "cell_type": "code",
   "execution_count": null,
   "metadata": {},
   "outputs": [],
   "source": [
    "data_null.drop([\"doc_type\", \"is_weekend\"], axis=1, inplace=True)"
   ]
  },
  {
   "cell_type": "markdown",
   "metadata": {},
   "source": [
    "#   *********** Testing and Predictions ***********"
   ]
  },
  {
   "cell_type": "code",
   "execution_count": null,
   "metadata": {},
   "outputs": [],
   "source": [
    "# Modeling & Accuracy Metrics\n",
    "import xgboost as xgb\n",
    "from sklearn.ensemble import RandomForestRegressor\n",
    "from sklearn.linear_model import LinearRegression\n",
    "from sklearn.metrics import mean_squared_error, r2_score\n",
    "from sklearn.svm import SVR\n",
    "from sklearn.tree import DecisionTreeRegressor"
   ]
  },
  {
   "cell_type": "markdown",
   "metadata": {},
   "source": [
    "### **1. Linear Regression**"
   ]
  },
  {
   "cell_type": "code",
   "execution_count": null,
   "metadata": {},
   "outputs": [],
   "source": [
    "# for X_val\n",
    "\n",
    "clf = LinearRegression()\n",
    "clf.fit(X_train, y_train)\n",
    "\n",
    "# Predicting the Test Set Results\n",
    "predicted = np.floor(clf.predict(X_val))\n",
    "\n",
    "print(predicted)"
   ]
  },
  {
   "cell_type": "code",
   "execution_count": null,
   "metadata": {},
   "outputs": [],
   "source": [
    "y_val"
   ]
  },
  {
   "cell_type": "code",
   "execution_count": null,
   "metadata": {},
   "outputs": [],
   "source": [
    "MSE_Score = mean_squared_error(y_val, predicted)\n",
    "R2_Score = r2_score(y_val, predicted)\n",
    "print(MSE_Score, R2_Score)"
   ]
  },
  {
   "cell_type": "code",
   "execution_count": null,
   "metadata": {},
   "outputs": [],
   "source": [
    "rmse = np.sqrt(mean_squared_error(y_val, predicted))\n",
    "rmse"
   ]
  },
  {
   "cell_type": "code",
   "execution_count": null,
   "metadata": {},
   "outputs": [],
   "source": [
    "# for local test1\n",
    "\n",
    "clf = LinearRegression()\n",
    "clf.fit(X_train, y_train)\n",
    "\n",
    "# Predicting the Test Set Results\n",
    "predicted1 = np.floor(clf.predict(X_test1))\n",
    "import math\n",
    "\n",
    "print(predicted1)\n",
    "print(\"\")\n",
    "linear_accuracy = round(clf.score(X_train, y_train) * 100, 2)\n",
    "print(\"accuracy : %.2f\" % round(linear_accuracy, 2), \"%\")"
   ]
  },
  {
   "cell_type": "code",
   "execution_count": null,
   "metadata": {},
   "outputs": [],
   "source": [
    "MSE_Score = mean_squared_error(y_test1, predicted1)\n",
    "R2_Score = r2_score(y_test1, predicted1)\n",
    "print(MSE_Score)\n",
    "print(R2_Score)"
   ]
  },
  {
   "cell_type": "code",
   "execution_count": null,
   "metadata": {},
   "outputs": [],
   "source": [
    "rmse = np.sqrt(mean_squared_error(y_test1, predicted1))\n",
    "rmse"
   ]
  },
  {
   "cell_type": "markdown",
   "metadata": {},
   "source": [
    "### **2. Gradient Boosting Regression**"
   ]
  },
  {
   "cell_type": "code",
   "execution_count": null,
   "metadata": {},
   "outputs": [],
   "source": [
    "from sklearn.ensemble import GradientBoostingRegressor\n",
    "from sklearn.metrics import mean_squared_error\n",
    "\n",
    "GBR_model = GradientBoostingRegressor(n_estimators=100, max_depth=4)\n",
    "GBR_model.fit(X_train, y_train)\n",
    "y_pred2 = GBR_model.predict(X_test1)\n",
    "GBR_model_accuracy = round(GBR_model.score(X_train, y_train) * 100, 2)\n",
    "print(round(GBR_model_accuracy, 2), \"%\")"
   ]
  },
  {
   "cell_type": "code",
   "execution_count": null,
   "metadata": {},
   "outputs": [],
   "source": [
    "mean_squared_error(y_test1, y_pred2)"
   ]
  },
  {
   "cell_type": "markdown",
   "metadata": {},
   "source": [
    "### 3. Random Forest Regression"
   ]
  },
  {
   "cell_type": "code",
   "execution_count": null,
   "metadata": {},
   "outputs": [],
   "source": [
    "random_model = RandomForestRegressor(n_estimators=120)\n",
    "random_model.fit(X_train, y_train)\n",
    "y_pred3 = random_model.predict(X_test1)\n",
    "random_model_accuracy = round(random_model.score(X_train, y_train) * 100, 2)\n",
    "print(round(random_model_accuracy, 2), \"%\")"
   ]
  },
  {
   "cell_type": "code",
   "execution_count": null,
   "metadata": {},
   "outputs": [],
   "source": [
    "best_random = rf_random.best_estimator_\n",
    "random_accuracy = evaluate(best_random, X_test1, y_test1)"
   ]
  },
  {
   "cell_type": "markdown",
   "metadata": {},
   "source": [
    "##### Hyperparameter Tuning"
   ]
  },
  {
   "cell_type": "code",
   "execution_count": null,
   "metadata": {},
   "outputs": [],
   "source": [
    "random_model = RandomForestRegressor(\n",
    "    n_estimators=1000, max_depth=150, random_state=1\n",
    ")\n",
    "random_model.fit(X_val, y_val)\n",
    "y_pro = random_model.predict(X_test1)\n",
    "random_model_accuracy = round(random_model.score(X_val, y_val) * 100, 2)\n",
    "print(round(random_model_accuracy, 2), \"%\")\n",
    "\n",
    "# 94.14% was the highest i achieved but it kept changing so i applied random state on the next highest value."
   ]
  },
  {
   "cell_type": "code",
   "execution_count": null,
   "metadata": {},
   "outputs": [],
   "source": [
    "y_pred3"
   ]
  },
  {
   "cell_type": "code",
   "execution_count": null,
   "metadata": {},
   "outputs": [],
   "source": [
    "MSE_Score1 = mean_squared_error(y_test1, y_pred3)\n",
    "R2_Score1 = r2_score(y_test1, y_pred3)\n",
    "print(MSE_Score1)\n",
    "print(R2_Score1)"
   ]
  },
  {
   "cell_type": "code",
   "execution_count": null,
   "metadata": {},
   "outputs": [],
   "source": [
    "random_model = RandomForestRegressor(n_estimators=120)\n",
    "random_model.fit(X_train, y_train)\n",
    "y_val_pred = random_model.predict(X_val)\n",
    "random_model_accuracy = round(random_model.score(X_train, y_train) * 100, 2)\n",
    "print(round(random_model_accuracy, 2), \"%\")"
   ]
  },
  {
   "cell_type": "code",
   "execution_count": null,
   "metadata": {},
   "outputs": [],
   "source": [
    "y_val_pred"
   ]
  },
  {
   "cell_type": "code",
   "execution_count": null,
   "metadata": {},
   "outputs": [],
   "source": [
    "Y_valpred = y_val.copy()\n",
    "Y_valpred = pd.DataFrame(Y_valpred)"
   ]
  },
  {
   "cell_type": "code",
   "execution_count": null,
   "metadata": {},
   "outputs": [],
   "source": [
    "Y_valpred[\"predicted\"] = np.floor(pd.Series(y_val_pred, Y_valpred.index))"
   ]
  },
  {
   "cell_type": "code",
   "execution_count": null,
   "metadata": {},
   "outputs": [],
   "source": [
    "Y_valpred"
   ]
  },
  {
   "cell_type": "code",
   "execution_count": null,
   "metadata": {},
   "outputs": [],
   "source": [
    "def act_decile(x):\n",
    "\n",
    "    if x <= 15:\n",
    "        return \"0-15 days\"\n",
    "    elif x <= 30:\n",
    "        return \"15-30 days\"\n",
    "    elif x <= 45:\n",
    "        return \"30-45 days\"\n",
    "    elif x <= 60:\n",
    "        return \"45-60 days\"\n",
    "    else:\n",
    "        return \"60+ days\"\n",
    "\n",
    "\n",
    "Y_valpred[\"age_bin\"] = Y_valpred[\"predicted\"].apply(act_decile)"
   ]
  },
  {
   "cell_type": "code",
   "execution_count": null,
   "metadata": {},
   "outputs": [],
   "source": [
    "Y_valpred"
   ]
  },
  {
   "cell_type": "code",
   "execution_count": null,
   "metadata": {},
   "outputs": [],
   "source": [
    "Y_testpred = y_test1.copy()\n",
    "Y_testpred = pd.DataFrame(Y_testpred)"
   ]
  },
  {
   "cell_type": "code",
   "execution_count": null,
   "metadata": {},
   "outputs": [],
   "source": [
    "Y_testpred[\"predicted\"] = np.floor(pd.Series(y_pred3, Y_testpred.index))"
   ]
  },
  {
   "cell_type": "code",
   "execution_count": null,
   "metadata": {},
   "outputs": [],
   "source": [
    "Y_testpred"
   ]
  },
  {
   "cell_type": "code",
   "execution_count": null,
   "metadata": {},
   "outputs": [],
   "source": [
    "Y_testpred[\"age_bin\"] = Y_testpred[\"predicted\"].apply(act_decile)"
   ]
  },
  {
   "cell_type": "code",
   "execution_count": null,
   "metadata": {},
   "outputs": [],
   "source": [
    "Y_testpred"
   ]
  },
  {
   "cell_type": "code",
   "execution_count": null,
   "metadata": {},
   "outputs": [],
   "source": [
    "plt.hist(Y_testpred[\"predicted\"], color=\"orange\")\n",
    "plt.title(\"prediction density\")"
   ]
  },
  {
   "cell_type": "markdown",
   "metadata": {},
   "source": [
    "### now lets predict the clear date of those null values"
   ]
  },
  {
   "cell_type": "code",
   "execution_count": null,
   "metadata": {},
   "outputs": [],
   "source": [
    "random_model = RandomForestRegressor(n_estimators=120)\n",
    "random_model.fit(X_train, y_train)\n",
    "y_null_pred = random_model.predict(data_null)\n",
    "random_model_accuracy = round(random_model.score(X_train, y_train) * 100, 2)\n",
    "print(round(random_model_accuracy, 2), \"%\")"
   ]
  },
  {
   "cell_type": "code",
   "execution_count": null,
   "metadata": {},
   "outputs": [],
   "source": [
    "y_null_pred"
   ]
  },
  {
   "cell_type": "code",
   "execution_count": null,
   "metadata": {},
   "outputs": [],
   "source": [
    "y_null_pred = np.round(pd.DataFrame(y_null_pred))"
   ]
  },
  {
   "cell_type": "code",
   "execution_count": null,
   "metadata": {},
   "outputs": [],
   "source": [
    "y_null_pred"
   ]
  },
  {
   "cell_type": "code",
   "execution_count": null,
   "metadata": {},
   "outputs": [],
   "source": [
    "y_null_pred = y_null_pred.rename(columns={0: \"predicted\"})\n",
    "y_null_pred"
   ]
  },
  {
   "cell_type": "code",
   "execution_count": null,
   "metadata": {},
   "outputs": [],
   "source": [
    "y_null_pred[\"age_bin\"] = y_null_pred[\"predicted\"].apply(act_decile)"
   ]
  },
  {
   "cell_type": "code",
   "execution_count": null,
   "metadata": {},
   "outputs": [],
   "source": [
    "y_null_pred"
   ]
  },
  {
   "cell_type": "code",
   "execution_count": null,
   "metadata": {},
   "outputs": [],
   "source": [
    "data_nat\n",
    "# this is acopy of data_null(data with null clear dates) which i made above"
   ]
  },
  {
   "cell_type": "code",
   "execution_count": null,
   "metadata": {
    "scrolled": true
   },
   "outputs": [],
   "source": [
    "# i am making another copy so that if anything goes wrong with dataa then i wont have to rerun the whole code\n",
    "dataa = data_nat.copy()\n",
    "dataa"
   ]
  },
  {
   "cell_type": "code",
   "execution_count": null,
   "metadata": {},
   "outputs": [],
   "source": [
    "new = y_null_pred[\"predicted\"]\n",
    "new"
   ]
  },
  {
   "cell_type": "code",
   "execution_count": null,
   "metadata": {},
   "outputs": [],
   "source": [
    "dataa[\"due_in_date\"] = dataa[\"due_in_date\"].astype(\"int\")"
   ]
  },
  {
   "cell_type": "code",
   "execution_count": null,
   "metadata": {},
   "outputs": [],
   "source": [
    "dataa[\"due_in_date\"] = dataa[\"due_in_date\"].astype(\"str\")"
   ]
  },
  {
   "cell_type": "code",
   "execution_count": null,
   "metadata": {},
   "outputs": [],
   "source": [
    "dataa[\"due_in_date\"] = pd.to_datetime(\n",
    "    dataa[\"due_in_date\"], format=\"%Y-%m-%d\"\n",
    ").dt.date"
   ]
  },
  {
   "cell_type": "code",
   "execution_count": null,
   "metadata": {},
   "outputs": [],
   "source": [
    "dataa.reset_index(drop=True, inplace=True)\n",
    "# resetting the index before appending new data"
   ]
  },
  {
   "cell_type": "code",
   "execution_count": null,
   "metadata": {},
   "outputs": [],
   "source": [
    "dataa[\"y_pred_days\"] = new\n",
    "dataa"
   ]
  },
  {
   "cell_type": "code",
   "execution_count": null,
   "metadata": {},
   "outputs": [],
   "source": [
    "# here i am converting the predicted days to a datetime datatype so that it can be added to another datetime datatype\n",
    "\n",
    "dataa[\"y_pred_days\"] = pd.to_timedelta(dataa[\"y_pred_days\"], unit=\"D\")\n",
    "dataa.drop(\"clear_date\", axis=1, inplace=True)"
   ]
  },
  {
   "cell_type": "code",
   "execution_count": null,
   "metadata": {},
   "outputs": [],
   "source": [
    "dataa[\"predicted_clear_date\"] = dataa[\"due_in_date\"] + dataa[\"y_pred_days\"]\n",
    "dataa[\"predicted_clear_date\"] = pd.to_datetime(\n",
    "    dataa[\"predicted_clear_date\"]\n",
    ").dt.date"
   ]
  },
  {
   "cell_type": "code",
   "execution_count": null,
   "metadata": {},
   "outputs": [],
   "source": [
    "binn = y_null_pred[\"age_bin\"]\n",
    "binn"
   ]
  },
  {
   "cell_type": "code",
   "execution_count": null,
   "metadata": {},
   "outputs": [],
   "source": [
    "# also appending age bin the out final result\n",
    "\n",
    "dataa[\"age_bin\"] = binn"
   ]
  },
  {
   "cell_type": "markdown",
   "metadata": {},
   "source": [
    "# ********* FINAL RESULT *********"
   ]
  },
  {
   "cell_type": "code",
   "execution_count": null,
   "metadata": {},
   "outputs": [],
   "source": [
    "dataa"
   ]
  },
  {
   "cell_type": "markdown",
   "metadata": {},
   "source": [
    "# **********Thank You for Viewing*************"
   ]
  }
 ],
 "metadata": {
  "kernelspec": {
   "display_name": "Python 3 (ipykernel)",
   "language": "python",
   "name": "python3"
  },
  "language_info": {
   "codemirror_mode": {
    "name": "ipython",
    "version": 3
   },
   "file_extension": ".py",
   "mimetype": "text/x-python",
   "name": "python",
   "nbconvert_exporter": "python",
   "pygments_lexer": "ipython3",
   "version": "3.9.7"
  }
 },
 "nbformat": 4,
 "nbformat_minor": 4
}
