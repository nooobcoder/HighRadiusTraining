{
 "cells": [
  {
   "cell_type": "code",
   "execution_count": 1,
   "id": "26a315bb-47ad-4b70-bae0-558342195219",
   "metadata": {},
   "outputs": [],
   "source": [
    "import warnings\n",
    "\n",
    "import matplotlib.pyplot as plt\n",
    "import numpy as np\n",
    "import pandas as pd\n",
    "\n",
    "# warnings.filterwarnings(\"ignore\")  # Disabling warnings"
   ]
  },
  {
   "cell_type": "code",
   "execution_count": 2,
   "id": "243daaae-929b-4849-8358-7df9257c53bd",
   "metadata": {},
   "outputs": [
    {
     "data": {
      "text/plain": "  business_code cust_number       name_customer           clear_date  \\\n0          U001  0200769623        WAL-MAR corp  2020-02-11 00:00:00   \n1          U001  0200980828              BEN E   2019-08-08 00:00:00   \n2          U001  0200792734          MDV/ trust  2019-12-30 00:00:00   \n3          CA02  0140105686            SYSC llc                  NaN   \n4          U001  0200769623  WAL-MAR foundation  2019-11-25 00:00:00   \n5          CA02  0140106181    THE  corporation  2019-12-04 00:00:00   \n6          U001  0200769623          WAL-MAR in  2019-11-12 00:00:00   \n7          U001  0200744019             TARG us                  NaN   \n8          U001  0200769623        WAL-MAR corp  2019-06-18 00:00:00   \n9          U001  0200762301      C&S WH systems  2019-03-06 00:00:00   \n\n   buisness_year        doc_id posting_date  document_create_date  \\\n0         2020.0  1.930438e+09   2020-01-26              20200125   \n1         2019.0  1.929646e+09   2019-07-22              20190722   \n2         2019.0  1.929874e+09   2019-09-14              20190914   \n3         2020.0  2.960623e+09   2020-03-30              20200330   \n4         2019.0  1.930148e+09   2019-11-13              20191113   \n5         2019.0  2.960581e+09   2019-09-20              20190920   \n6         2019.0  1.930083e+09   2019-11-01              20191031   \n7         2020.0  1.930659e+09   2020-03-19              20200318   \n8         2019.0  1.929440e+09   2019-06-07              20190605   \n9         2019.0  1.928819e+09   2019-02-20              20190219   \n\n   document_create_date.1  due_in_date invoice_currency document type  \\\n0                20200126   20200210.0              USD            RV   \n1                20190722   20190811.0              USD            RV   \n2                20190914   20190929.0              USD            RV   \n3                20200330   20200410.0              CAD            RV   \n4                20191113   20191128.0              USD            RV   \n5                20190920   20191004.0              CAD            RV   \n6                20191101   20191116.0              USD            RV   \n7                20200319   20200403.0              USD            RV   \n8                20190607   20190622.0              USD            RV   \n9                20190220   20190307.0              USD            RV   \n\n   posting_id  area_business  total_open_amount  baseline_create_date  \\\n0         1.0            NaN           54273.28            20200126.0   \n1         1.0            NaN           79656.60            20190722.0   \n2         1.0            NaN            2253.86            20190914.0   \n3         1.0            NaN            3299.70            20200331.0   \n4         1.0            NaN           33133.29            20191113.0   \n5         1.0            NaN           22225.84            20190924.0   \n6         1.0            NaN            7358.49            20191101.0   \n7         1.0            NaN           11173.02            20200319.0   \n8         1.0            NaN           15995.04            20190607.0   \n9         1.0            NaN              28.63            20190220.0   \n\n  cust_payment_terms    invoice_id  isOpen  \n0               NAH4  1.930438e+09       0  \n1               NAD1  1.929646e+09       0  \n2               NAA8  1.929874e+09       0  \n3               CA10  2.960623e+09       1  \n4               NAH4  1.930148e+09       0  \n5               CA10  2.960581e+09       0  \n6               NAH4  1.930083e+09       0  \n7               NAA8  1.930659e+09       1  \n8               NAH4  1.929440e+09       0  \n9               NAC6  1.928819e+09       0  ",
      "text/html": "<div>\n<style scoped>\n    .dataframe tbody tr th:only-of-type {\n        vertical-align: middle;\n    }\n\n    .dataframe tbody tr th {\n        vertical-align: top;\n    }\n\n    .dataframe thead th {\n        text-align: right;\n    }\n</style>\n<table border=\"1\" class=\"dataframe\">\n  <thead>\n    <tr style=\"text-align: right;\">\n      <th></th>\n      <th>business_code</th>\n      <th>cust_number</th>\n      <th>name_customer</th>\n      <th>clear_date</th>\n      <th>buisness_year</th>\n      <th>doc_id</th>\n      <th>posting_date</th>\n      <th>document_create_date</th>\n      <th>document_create_date.1</th>\n      <th>due_in_date</th>\n      <th>invoice_currency</th>\n      <th>document type</th>\n      <th>posting_id</th>\n      <th>area_business</th>\n      <th>total_open_amount</th>\n      <th>baseline_create_date</th>\n      <th>cust_payment_terms</th>\n      <th>invoice_id</th>\n      <th>isOpen</th>\n    </tr>\n  </thead>\n  <tbody>\n    <tr>\n      <th>0</th>\n      <td>U001</td>\n      <td>0200769623</td>\n      <td>WAL-MAR corp</td>\n      <td>2020-02-11 00:00:00</td>\n      <td>2020.0</td>\n      <td>1.930438e+09</td>\n      <td>2020-01-26</td>\n      <td>20200125</td>\n      <td>20200126</td>\n      <td>20200210.0</td>\n      <td>USD</td>\n      <td>RV</td>\n      <td>1.0</td>\n      <td>NaN</td>\n      <td>54273.28</td>\n      <td>20200126.0</td>\n      <td>NAH4</td>\n      <td>1.930438e+09</td>\n      <td>0</td>\n    </tr>\n    <tr>\n      <th>1</th>\n      <td>U001</td>\n      <td>0200980828</td>\n      <td>BEN E</td>\n      <td>2019-08-08 00:00:00</td>\n      <td>2019.0</td>\n      <td>1.929646e+09</td>\n      <td>2019-07-22</td>\n      <td>20190722</td>\n      <td>20190722</td>\n      <td>20190811.0</td>\n      <td>USD</td>\n      <td>RV</td>\n      <td>1.0</td>\n      <td>NaN</td>\n      <td>79656.60</td>\n      <td>20190722.0</td>\n      <td>NAD1</td>\n      <td>1.929646e+09</td>\n      <td>0</td>\n    </tr>\n    <tr>\n      <th>2</th>\n      <td>U001</td>\n      <td>0200792734</td>\n      <td>MDV/ trust</td>\n      <td>2019-12-30 00:00:00</td>\n      <td>2019.0</td>\n      <td>1.929874e+09</td>\n      <td>2019-09-14</td>\n      <td>20190914</td>\n      <td>20190914</td>\n      <td>20190929.0</td>\n      <td>USD</td>\n      <td>RV</td>\n      <td>1.0</td>\n      <td>NaN</td>\n      <td>2253.86</td>\n      <td>20190914.0</td>\n      <td>NAA8</td>\n      <td>1.929874e+09</td>\n      <td>0</td>\n    </tr>\n    <tr>\n      <th>3</th>\n      <td>CA02</td>\n      <td>0140105686</td>\n      <td>SYSC llc</td>\n      <td>NaN</td>\n      <td>2020.0</td>\n      <td>2.960623e+09</td>\n      <td>2020-03-30</td>\n      <td>20200330</td>\n      <td>20200330</td>\n      <td>20200410.0</td>\n      <td>CAD</td>\n      <td>RV</td>\n      <td>1.0</td>\n      <td>NaN</td>\n      <td>3299.70</td>\n      <td>20200331.0</td>\n      <td>CA10</td>\n      <td>2.960623e+09</td>\n      <td>1</td>\n    </tr>\n    <tr>\n      <th>4</th>\n      <td>U001</td>\n      <td>0200769623</td>\n      <td>WAL-MAR foundation</td>\n      <td>2019-11-25 00:00:00</td>\n      <td>2019.0</td>\n      <td>1.930148e+09</td>\n      <td>2019-11-13</td>\n      <td>20191113</td>\n      <td>20191113</td>\n      <td>20191128.0</td>\n      <td>USD</td>\n      <td>RV</td>\n      <td>1.0</td>\n      <td>NaN</td>\n      <td>33133.29</td>\n      <td>20191113.0</td>\n      <td>NAH4</td>\n      <td>1.930148e+09</td>\n      <td>0</td>\n    </tr>\n    <tr>\n      <th>5</th>\n      <td>CA02</td>\n      <td>0140106181</td>\n      <td>THE  corporation</td>\n      <td>2019-12-04 00:00:00</td>\n      <td>2019.0</td>\n      <td>2.960581e+09</td>\n      <td>2019-09-20</td>\n      <td>20190920</td>\n      <td>20190920</td>\n      <td>20191004.0</td>\n      <td>CAD</td>\n      <td>RV</td>\n      <td>1.0</td>\n      <td>NaN</td>\n      <td>22225.84</td>\n      <td>20190924.0</td>\n      <td>CA10</td>\n      <td>2.960581e+09</td>\n      <td>0</td>\n    </tr>\n    <tr>\n      <th>6</th>\n      <td>U001</td>\n      <td>0200769623</td>\n      <td>WAL-MAR in</td>\n      <td>2019-11-12 00:00:00</td>\n      <td>2019.0</td>\n      <td>1.930083e+09</td>\n      <td>2019-11-01</td>\n      <td>20191031</td>\n      <td>20191101</td>\n      <td>20191116.0</td>\n      <td>USD</td>\n      <td>RV</td>\n      <td>1.0</td>\n      <td>NaN</td>\n      <td>7358.49</td>\n      <td>20191101.0</td>\n      <td>NAH4</td>\n      <td>1.930083e+09</td>\n      <td>0</td>\n    </tr>\n    <tr>\n      <th>7</th>\n      <td>U001</td>\n      <td>0200744019</td>\n      <td>TARG us</td>\n      <td>NaN</td>\n      <td>2020.0</td>\n      <td>1.930659e+09</td>\n      <td>2020-03-19</td>\n      <td>20200318</td>\n      <td>20200319</td>\n      <td>20200403.0</td>\n      <td>USD</td>\n      <td>RV</td>\n      <td>1.0</td>\n      <td>NaN</td>\n      <td>11173.02</td>\n      <td>20200319.0</td>\n      <td>NAA8</td>\n      <td>1.930659e+09</td>\n      <td>1</td>\n    </tr>\n    <tr>\n      <th>8</th>\n      <td>U001</td>\n      <td>0200769623</td>\n      <td>WAL-MAR corp</td>\n      <td>2019-06-18 00:00:00</td>\n      <td>2019.0</td>\n      <td>1.929440e+09</td>\n      <td>2019-06-07</td>\n      <td>20190605</td>\n      <td>20190607</td>\n      <td>20190622.0</td>\n      <td>USD</td>\n      <td>RV</td>\n      <td>1.0</td>\n      <td>NaN</td>\n      <td>15995.04</td>\n      <td>20190607.0</td>\n      <td>NAH4</td>\n      <td>1.929440e+09</td>\n      <td>0</td>\n    </tr>\n    <tr>\n      <th>9</th>\n      <td>U001</td>\n      <td>0200762301</td>\n      <td>C&amp;S WH systems</td>\n      <td>2019-03-06 00:00:00</td>\n      <td>2019.0</td>\n      <td>1.928819e+09</td>\n      <td>2019-02-20</td>\n      <td>20190219</td>\n      <td>20190220</td>\n      <td>20190307.0</td>\n      <td>USD</td>\n      <td>RV</td>\n      <td>1.0</td>\n      <td>NaN</td>\n      <td>28.63</td>\n      <td>20190220.0</td>\n      <td>NAC6</td>\n      <td>1.928819e+09</td>\n      <td>0</td>\n    </tr>\n  </tbody>\n</table>\n</div>"
     },
     "execution_count": 2,
     "metadata": {},
     "output_type": "execute_result"
    }
   ],
   "source": [
    "df = pd.read_csv(\"./h2h_assignment_dataset.csv\")\n",
    "df.head(10)"
   ]
  },
  {
   "cell_type": "code",
   "execution_count": 3,
   "id": "8df6ee60-af77-42dc-9164-4e5f7d710764",
   "metadata": {},
   "outputs": [
    {
     "data": {
      "text/plain": "(50000, 19)"
     },
     "execution_count": 3,
     "metadata": {},
     "output_type": "execute_result"
    }
   ],
   "source": [
    "df.shape  # Getting the dimensions of the dataset"
   ]
  },
  {
   "cell_type": "markdown",
   "id": "cc3d1ac7-ab34-40e7-bd15-7dc8a72b5e3f",
   "metadata": {},
   "source": [
    "## Finding Count of Unique Values"
   ]
  },
  {
   "cell_type": "code",
   "execution_count": 4,
   "id": "1c495d4a-27d6-4439-bafd-3cf74e04653c",
   "metadata": {},
   "outputs": [
    {
     "data": {
      "text/plain": "doc_id                    48839\ninvoice_id                48833\ntotal_open_amount         44349\nname_customer              4197\ncust_number                1425\ndue_in_date                 547\ndocument_create_date        507\nposting_date                506\ndocument_create_date.1      506\nbaseline_create_date        506\nclear_date                  403\ncust_payment_terms           74\nbusiness_code                 6\ndocument type                 2\ninvoice_currency              2\nbuisness_year                 2\nisOpen                        2\nposting_id                    1\narea_business                 0\ndtype: int64"
     },
     "execution_count": 4,
     "metadata": {},
     "output_type": "execute_result"
    }
   ],
   "source": [
    "df.nunique().sort_values(ascending=False)"
   ]
  },
  {
   "cell_type": "markdown",
   "id": "422c1d75-6cca-4576-8808-22ebafa16678",
   "metadata": {},
   "source": [
    "## Calculating the Sum of NaN"
   ]
  },
  {
   "cell_type": "code",
   "execution_count": 5,
   "id": "ac9d15ad-bf9c-4c40-bfe8-453426e0de05",
   "metadata": {},
   "outputs": [
    {
     "data": {
      "text/plain": "area_business             50000\nclear_date                10000\ninvoice_id                    6\nbusiness_code                 0\ninvoice_currency              0\ncust_payment_terms            0\nbaseline_create_date          0\ntotal_open_amount             0\nposting_id                    0\ndocument type                 0\ndue_in_date                   0\ncust_number                   0\ndocument_create_date.1        0\ndocument_create_date          0\nposting_date                  0\ndoc_id                        0\nbuisness_year                 0\nname_customer                 0\nisOpen                        0\ndtype: int64"
     },
     "execution_count": 5,
     "metadata": {},
     "output_type": "execute_result"
    }
   ],
   "source": [
    "df.isnull().sum().sort_values(ascending=False)"
   ]
  },
  {
   "cell_type": "markdown",
   "id": "fc9e5234-9b5f-40a6-a5a8-1530d14c3ea7",
   "metadata": {},
   "source": [
    "# Null Value Imputation\n",
    "## Filtering \"clear_date\" column\n",
    "\n",
    "> This separation would be the first step towards filtering and estimating the payment date"
   ]
  },
  {
   "cell_type": "code",
   "execution_count": 6,
   "id": "09e076b4-d6ac-4391-9b38-744520052b14",
   "metadata": {},
   "outputs": [
    {
     "data": {
      "text/plain": "            clear_date\n0  2020-02-11 00:00:00\n1  2019-08-08 00:00:00\n2  2019-12-30 00:00:00\n4  2019-11-25 00:00:00\n5  2019-12-04 00:00:00\n6  2019-11-12 00:00:00\n8  2019-06-18 00:00:00\n9  2019-03-06 00:00:00",
      "text/html": "<div>\n<style scoped>\n    .dataframe tbody tr th:only-of-type {\n        vertical-align: middle;\n    }\n\n    .dataframe tbody tr th {\n        vertical-align: top;\n    }\n\n    .dataframe thead th {\n        text-align: right;\n    }\n</style>\n<table border=\"1\" class=\"dataframe\">\n  <thead>\n    <tr style=\"text-align: right;\">\n      <th></th>\n      <th>clear_date</th>\n    </tr>\n  </thead>\n  <tbody>\n    <tr>\n      <th>0</th>\n      <td>2020-02-11 00:00:00</td>\n    </tr>\n    <tr>\n      <th>1</th>\n      <td>2019-08-08 00:00:00</td>\n    </tr>\n    <tr>\n      <th>2</th>\n      <td>2019-12-30 00:00:00</td>\n    </tr>\n    <tr>\n      <th>4</th>\n      <td>2019-11-25 00:00:00</td>\n    </tr>\n    <tr>\n      <th>5</th>\n      <td>2019-12-04 00:00:00</td>\n    </tr>\n    <tr>\n      <th>6</th>\n      <td>2019-11-12 00:00:00</td>\n    </tr>\n    <tr>\n      <th>8</th>\n      <td>2019-06-18 00:00:00</td>\n    </tr>\n    <tr>\n      <th>9</th>\n      <td>2019-03-06 00:00:00</td>\n    </tr>\n  </tbody>\n</table>\n</div>"
     },
     "execution_count": 6,
     "metadata": {},
     "output_type": "execute_result"
    }
   ],
   "source": [
    "clear_date_filter = df[\"clear_date\"].notnull()\n",
    "df_clear_date = df[clear_date_filter].copy()\n",
    "\n",
    "df_clear_date.loc[0:9, [\"clear_date\"]]  # Printing the first 10 clear_dates"
   ]
  },
  {
   "cell_type": "code",
   "execution_count": 7,
   "outputs": [
    {
     "data": {
      "text/plain": "business_code                 6\ncust_number                1344\nname_customer              3889\nclear_date                  403\nbuisness_year                 2\ndoc_id                    39158\nposting_date                424\ndocument_create_date        427\ndocument_create_date.1      424\ndue_in_date                 491\ninvoice_currency              2\ndocument type                 2\nposting_id                    1\narea_business                 0\ntotal_open_amount         35664\nbaseline_create_date        431\ncust_payment_terms           70\ninvoice_id                39152\nisOpen                        1\ndtype: int64"
     },
     "execution_count": 7,
     "metadata": {},
     "output_type": "execute_result"
    }
   ],
   "source": [
    "df_clear_date.nunique()"
   ],
   "metadata": {
    "collapsed": false,
    "pycharm": {
     "name": "#%%\n"
    }
   }
  },
  {
   "cell_type": "markdown",
   "id": "c0b195bf-69c2-4f6b-a820-49fa000ff833",
   "metadata": {
    "pycharm": {
     "name": "#%% md\n"
    }
   },
   "source": [
    " **Confirming there are no `null` in \"clear_dates\" column**"
   ]
  },
  {
   "cell_type": "code",
   "execution_count": 8,
   "outputs": [
    {
     "data": {
      "text/plain": "0"
     },
     "execution_count": 8,
     "metadata": {},
     "output_type": "execute_result"
    }
   ],
   "source": [
    "clear_date_filter.isnull().sum()  # Should print 0, representing no null values"
   ],
   "metadata": {
    "collapsed": false,
    "pycharm": {
     "name": "#%%\n"
    }
   }
  },
  {
   "cell_type": "markdown",
   "source": [
    "## Returning the NaN clear_dates\n",
    "\n",
    "> Tilde `~` operator is used to invert a filter in pandas. [Documentation](https://blog.finxter.com/tilde-python-pandas-dataframe/#:~:text=Python's%20Tilde%20~n%20operator%20is,1%20and%20~101%20becomes%20010%20.)\n"
   ],
   "metadata": {
    "collapsed": false,
    "pycharm": {
     "name": "#%% md\n"
    }
   }
  },
  {
   "cell_type": "code",
   "execution_count": 9,
   "outputs": [
    {
     "data": {
      "text/plain": "3     NaN\n7     NaN\n10    NaN\n14    NaN\n15    NaN\n22    NaN\n25    NaN\n27    NaN\n35    NaN\n37    NaN\nName: clear_date, dtype: object"
     },
     "execution_count": 9,
     "metadata": {},
     "output_type": "execute_result"
    }
   ],
   "source": [
    "null_clear_dates = df[~clear_date_filter].copy()\n",
    "\n",
    "null_clear_dates[\"clear_date\"].head(10)  # First 10 NaN from clear_date\n",
    "# null_clear_dates.head(10)  # First 10 NaN from clear_date"
   ],
   "metadata": {
    "collapsed": false,
    "pycharm": {
     "name": "#%%\n"
    }
   }
  },
  {
   "cell_type": "markdown",
   "source": [
    "**Checking the number of unique values**"
   ],
   "metadata": {
    "collapsed": false,
    "pycharm": {
     "name": "#%% md\n"
    }
   }
  },
  {
   "cell_type": "code",
   "execution_count": 10,
   "outputs": [
    {
     "data": {
      "text/plain": "business_code                6\ncust_number                694\nname_customer             1766\nclear_date                   0\nbuisness_year                1\ndoc_id                    9681\nposting_date                83\ndocument_create_date        91\ndocument_create_date.1      83\ndue_in_date                124\ninvoice_currency             2\ndocument type                1\nposting_id                   1\narea_business                0\ntotal_open_amount         9079\nbaseline_create_date        83\ncust_payment_terms          43\ninvoice_id                9681\nisOpen                       1\ndtype: int64"
     },
     "execution_count": 10,
     "metadata": {},
     "output_type": "execute_result"
    }
   ],
   "source": [
    "null_clear_dates.nunique()"
   ],
   "metadata": {
    "collapsed": false,
    "pycharm": {
     "name": "#%%\n"
    }
   }
  },
  {
   "cell_type": "code",
   "execution_count": 11,
   "outputs": [],
   "source": [
    "data_na_test = null_clear_dates.copy()  # Setting aside the test data, will be handy at last for predicting the expected payment date."
   ],
   "metadata": {
    "collapsed": false,
    "pycharm": {
     "name": "#%%\n"
    }
   }
  },
  {
   "cell_type": "markdown",
   "source": [
    "## Schema definition for the above copied dataframe (test-dataset)"
   ],
   "metadata": {
    "collapsed": false,
    "pycharm": {
     "name": "#%% md\n"
    }
   }
  },
  {
   "cell_type": "code",
   "execution_count": 12,
   "outputs": [
    {
     "data": {
      "text/plain": "business_code              object\ncust_number                object\nname_customer              object\nclear_date                 object\nbuisness_year             float64\ndoc_id                    float64\nposting_date               object\ndocument_create_date        int64\ndocument_create_date.1      int64\ndue_in_date               float64\ninvoice_currency           object\ndocument type              object\nposting_id                float64\narea_business             float64\ntotal_open_amount         float64\nbaseline_create_date      float64\ncust_payment_terms         object\ninvoice_id                float64\nisOpen                      int64\ndtype: object"
     },
     "execution_count": 12,
     "metadata": {},
     "output_type": "execute_result"
    }
   ],
   "source": [
    "data_na_test.dtypes"
   ],
   "metadata": {
    "collapsed": false,
    "pycharm": {
     "name": "#%%\n"
    }
   }
  },
  {
   "cell_type": "markdown",
   "source": [
    "<h1> Preprocessing</h1>"
   ],
   "metadata": {
    "collapsed": false,
    "pycharm": {
     "name": "#%% md\n"
    }
   }
  },
  {
   "cell_type": "markdown",
   "source": [
    "### Dropping the \"clear_data\" column as it is NaN, and we need to predict that at the end\n",
    "\n",
    "Dropping from `null_clear_dates` dataframe"
   ],
   "metadata": {
    "collapsed": false,
    "pycharm": {
     "name": "#%% md\n"
    }
   }
  },
  {
   "cell_type": "code",
   "execution_count": 13,
   "outputs": [],
   "source": [
    "null_clear_dates.drop(columns=[\"clear_date\"], axis=1, inplace=True)"
   ],
   "metadata": {
    "collapsed": false,
    "pycharm": {
     "name": "#%%\n"
    }
   }
  },
  {
   "cell_type": "code",
   "execution_count": 14,
   "outputs": [
    {
     "data": {
      "text/plain": "(10000, 18)"
     },
     "execution_count": 14,
     "metadata": {},
     "output_type": "execute_result"
    }
   ],
   "source": [
    "null_clear_dates.shape"
   ],
   "metadata": {
    "collapsed": false,
    "pycharm": {
     "name": "#%%\n"
    }
   }
  },
  {
   "cell_type": "markdown",
   "source": [
    "## Formatting Dates"
   ],
   "metadata": {
    "collapsed": false,
    "pycharm": {
     "name": "#%% md\n"
    }
   }
  },
  {
   "cell_type": "code",
   "execution_count": 15,
   "outputs": [],
   "source": [
    "# dt and dts are new columns that will contain the formatted dates\n",
    "# dt2 has the extra column \"clear_date\" that would come handy in the test data\n",
    "dt = [\"due_in_date\",\n",
    "      \"document_create_date\",\n",
    "      \"document_create_date.1\",\n",
    "      \"baseline_create_date\", ]\n",
    "\n",
    "dt2 = dt.copy()\n",
    "dt2.append(\"clear_date\")"
   ],
   "metadata": {
    "collapsed": false,
    "pycharm": {
     "name": "#%%\n"
    }
   }
  },
  {
   "cell_type": "code",
   "execution_count": 16,
   "outputs": [],
   "source": [
    "# doc -> Document creation date\n",
    "# Copying two columns of null_clear_dates dataframe so to correlate them later\n",
    "doc_c_dt = df_clear_date[\"document_create_date.1\"] = df_clear_date[\"document_create_date.1\"].astype(\"int\")"
   ],
   "metadata": {
    "collapsed": false,
    "pycharm": {
     "name": "#%%\n"
    }
   }
  },
  {
   "cell_type": "code",
   "execution_count": 17,
   "outputs": [],
   "source": [
    "doc_c_dt2 = df_clear_date[\"document_create_date\"] = df_clear_date[\"document_create_date\"].astype(\"int\")"
   ],
   "metadata": {
    "collapsed": false,
    "pycharm": {
     "name": "#%%\n"
    }
   }
  },
  {
   "cell_type": "code",
   "execution_count": 18,
   "outputs": [
    {
     "data": {
      "text/plain": "due_in_date               float64\ndocument_create_date        int64\ndocument_create_date.1      int64\nbaseline_create_date      float64\ndtype: object"
     },
     "execution_count": 18,
     "metadata": {},
     "output_type": "execute_result"
    }
   ],
   "source": [
    "# Displaying the date columns that are in numeric (float) format -> integer (int) format\n",
    "pd.concat([df_clear_date[dt], null_clear_dates[dt]]).dtypes"
   ],
   "metadata": {
    "collapsed": false,
    "pycharm": {
     "name": "#%%\n"
    }
   }
  },
  {
   "cell_type": "code",
   "execution_count": 19,
   "outputs": [],
   "source": [
    "# Converting possible integer dates\n",
    "for x in df_clear_date[dt]:\n",
    "    df_clear_date[dt] = df_clear_date[dt].astype(\"int\")\n",
    "\n",
    "for x in null_clear_dates[dt]:\n",
    "    null_clear_dates[dt] = null_clear_dates[dt].astype(\"int\")"
   ],
   "metadata": {
    "collapsed": false,
    "pycharm": {
     "name": "#%%\n"
    }
   }
  },
  {
   "cell_type": "markdown",
   "source": [
    "### Post Conversion of dates to Int"
   ],
   "metadata": {
    "collapsed": false,
    "pycharm": {
     "name": "#%% md\n"
    }
   }
  },
  {
   "cell_type": "code",
   "execution_count": 20,
   "outputs": [
    {
     "data": {
      "text/plain": "due_in_date               int32\ndocument_create_date      int32\ndocument_create_date.1    int32\nbaseline_create_date      int32\ndtype: object"
     },
     "execution_count": 20,
     "metadata": {},
     "output_type": "execute_result"
    }
   ],
   "source": [
    "pd.concat([df_clear_date[dt], null_clear_dates[dt]]).dtypes"
   ],
   "metadata": {
    "collapsed": false,
    "pycharm": {
     "name": "#%%\n"
    }
   }
  },
  {
   "cell_type": "code",
   "execution_count": 21,
   "outputs": [],
   "source": [
    "# Converting some to string which are in supported pandas datetime\n",
    "for x in df_clear_date[dt2]:\n",
    "    df_clear_date[dt2] = df_clear_date[dt2].astype(\"str\")\n",
    "\n",
    "for x in null_clear_dates[dt]:\n",
    "    null_clear_dates[dt] = null_clear_dates[dt].astype(\"str\")"
   ],
   "metadata": {
    "collapsed": false,
    "pycharm": {
     "name": "#%%\n"
    }
   }
  },
  {
   "cell_type": "markdown",
   "source": [
    "## Conversion to Pandas Datetime"
   ],
   "metadata": {
    "collapsed": false,
    "pycharm": {
     "name": "#%% md\n"
    }
   }
  },
  {
   "cell_type": "code",
   "execution_count": 22,
   "outputs": [],
   "source": [
    "# converting to Datetime datatype\n",
    "\n",
    "df_clear_date[\"due_in_date\"] = pd.to_datetime(\n",
    "    df_clear_date[\"due_in_date\"], format=\"%Y-%m-%d\"\n",
    ").dt.date\n",
    "df_clear_date[\"clear_date\"] = pd.to_datetime(\n",
    "    df_clear_date[\"clear_date\"], format=\"%Y-%m-%d\"\n",
    ").dt.date\n",
    "df_clear_date[\"document_create_date\"] = pd.to_datetime(\n",
    "    df_clear_date[\"document_create_date\"], format=\"%Y-%m-%d\"\n",
    ").dt.date\n",
    "df_clear_date[\"document_create_date.1\"] = pd.to_datetime(\n",
    "    df_clear_date[\"document_create_date.1\"], format=\"%Y-%m-%d\"\n",
    ").dt.date\n",
    "df_clear_date[\"posting_date\"] = pd.to_datetime(\n",
    "    df_clear_date[\"posting_date\"], format=\"%Y-%m-%d\"\n",
    ").dt.date\n",
    "df_clear_date[\"baseline_create_date\"] = pd.to_datetime(\n",
    "    df_clear_date[\"baseline_create_date\"], format=\"%Y-%m-%d\"\n",
    ").dt.date"
   ],
   "metadata": {
    "collapsed": false,
    "pycharm": {
     "name": "#%%\n"
    }
   }
  },
  {
   "cell_type": "code",
   "execution_count": 23,
   "outputs": [],
   "source": [
    "# converting to Datetime datatype\n",
    "\n",
    "null_clear_dates[\"due_in_date\"] = pd.to_datetime(\n",
    "    null_clear_dates[\"due_in_date\"], format=\"%Y-%m-%d\"\n",
    ").dt.date\n",
    "# data_null['clear_date']=pd.to_datetime(data_null['clear_date'],format='%Y-%m-%d').dt.date\n",
    "null_clear_dates[\"document_create_date\"] = pd.to_datetime(\n",
    "    null_clear_dates[\"document_create_date\"], format=\"%Y-%m-%d\"\n",
    ").dt.date\n",
    "null_clear_dates[\"document_create_date.1\"] = pd.to_datetime(\n",
    "    null_clear_dates[\"document_create_date.1\"], format=\"%Y-%m-%d\"\n",
    ").dt.date\n",
    "null_clear_dates[\"posting_date\"] = pd.to_datetime(\n",
    "    null_clear_dates[\"posting_date\"], format=\"%Y-%m-%d\"\n",
    ").dt.date\n",
    "null_clear_dates[\"baseline_create_date\"] = pd.to_datetime(\n",
    "    null_clear_dates[\"baseline_create_date\"], format=\"%Y-%m-%d\"\n",
    ").dt.date"
   ],
   "metadata": {
    "collapsed": false,
    "pycharm": {
     "name": "#%%\n"
    }
   }
  },
  {
   "cell_type": "markdown",
   "source": [
    "### Checking successful Pandas Datetime conversion of the date features"
   ],
   "metadata": {
    "collapsed": false,
    "pycharm": {
     "name": "#%% md\n"
    }
   }
  },
  {
   "cell_type": "code",
   "execution_count": 24,
   "outputs": [
    {
     "data": {
      "text/plain": "      business_code cust_number        name_customer  buisness_year  \\\n3              CA02  0140105686             SYSC llc         2020.0   \n7              U001  0200744019              TARG us         2020.0   \n10             U001  0200418007                  AM          2020.0   \n14             U001  0200739534           OK systems         2020.0   \n15             U001  0200353024     DECA corporation         2020.0   \n...             ...         ...                  ...            ...   \n49975          U001  0200769623           WAL-MAR in         2020.0   \n49980          U001  0200769623  WAL-MAR corporation         2020.0   \n49982          U001  0200148860             DOLLA co         2020.0   \n49992          U001  0200900909             SYSCO co         2020.0   \n49995          U001  0200561861       CO corporation         2020.0   \n\n             doc_id posting_date document_create_date document_create_date.1  \\\n3      2.960623e+09   2020-03-30           2020-03-30             2020-03-30   \n7      1.930659e+09   2020-03-19           2020-03-18             2020-03-19   \n10     1.930611e+09   2020-03-11           2020-03-06             2020-03-11   \n14     1.930788e+09   2020-04-15           2020-04-15             2020-04-15   \n15     1.930817e+09   2020-04-23           2020-04-23             2020-04-23   \n...             ...          ...                  ...                    ...   \n49975  1.930625e+09   2020-03-10           2020-03-09             2020-03-10   \n49980  1.930851e+09   2020-05-03           2020-05-02             2020-05-03   \n49982  1.930638e+09   2020-03-11           2020-03-11             2020-03-11   \n49992  1.930702e+09   2020-03-25           2020-03-25             2020-03-25   \n49995  1.930797e+09   2020-04-21           2020-04-17             2020-04-21   \n\n      due_in_date invoice_currency document type  posting_id  area_business  \\\n3      2020-04-10              CAD            RV         1.0            NaN   \n7      2020-04-03              USD            RV         1.0            NaN   \n10     2020-03-26              USD            RV         1.0            NaN   \n14     2020-04-30              USD            RV         1.0            NaN   \n15     2020-04-26              USD            RV         1.0            NaN   \n...           ...              ...           ...         ...            ...   \n49975  2020-03-25              USD            RV         1.0            NaN   \n49980  2020-05-18              USD            RV         1.0            NaN   \n49982  2020-03-26              USD            RV         1.0            NaN   \n49992  2020-04-09              USD            RV         1.0            NaN   \n49995  2020-05-06              USD            RV         1.0            NaN   \n\n       total_open_amount baseline_create_date cust_payment_terms  \\\n3                3299.70           2020-03-31               CA10   \n7               11173.02           2020-03-19               NAA8   \n10               3525.59           2020-03-11               NAA8   \n14             121105.65           2020-04-15               NAA8   \n15               3726.06           2020-04-16               NAM2   \n...                  ...                  ...                ...   \n49975           13114.99           2020-03-10               NAH4   \n49980            8899.71           2020-05-03               NAH4   \n49982            4967.06           2020-03-11               NAA8   \n49992            1998.64           2020-03-25               NAA8   \n49995            3187.86           2020-04-21               NAA8   \n\n         invoice_id  isOpen  \n3      2.960623e+09       1  \n7      1.930659e+09       1  \n10     1.930611e+09       1  \n14     1.930788e+09       1  \n15     1.930817e+09       1  \n...             ...     ...  \n49975  1.930625e+09       1  \n49980  1.930851e+09       1  \n49982  1.930638e+09       1  \n49992  1.930702e+09       1  \n49995  1.930797e+09       1  \n\n[10000 rows x 18 columns]",
      "text/html": "<div>\n<style scoped>\n    .dataframe tbody tr th:only-of-type {\n        vertical-align: middle;\n    }\n\n    .dataframe tbody tr th {\n        vertical-align: top;\n    }\n\n    .dataframe thead th {\n        text-align: right;\n    }\n</style>\n<table border=\"1\" class=\"dataframe\">\n  <thead>\n    <tr style=\"text-align: right;\">\n      <th></th>\n      <th>business_code</th>\n      <th>cust_number</th>\n      <th>name_customer</th>\n      <th>buisness_year</th>\n      <th>doc_id</th>\n      <th>posting_date</th>\n      <th>document_create_date</th>\n      <th>document_create_date.1</th>\n      <th>due_in_date</th>\n      <th>invoice_currency</th>\n      <th>document type</th>\n      <th>posting_id</th>\n      <th>area_business</th>\n      <th>total_open_amount</th>\n      <th>baseline_create_date</th>\n      <th>cust_payment_terms</th>\n      <th>invoice_id</th>\n      <th>isOpen</th>\n    </tr>\n  </thead>\n  <tbody>\n    <tr>\n      <th>3</th>\n      <td>CA02</td>\n      <td>0140105686</td>\n      <td>SYSC llc</td>\n      <td>2020.0</td>\n      <td>2.960623e+09</td>\n      <td>2020-03-30</td>\n      <td>2020-03-30</td>\n      <td>2020-03-30</td>\n      <td>2020-04-10</td>\n      <td>CAD</td>\n      <td>RV</td>\n      <td>1.0</td>\n      <td>NaN</td>\n      <td>3299.70</td>\n      <td>2020-03-31</td>\n      <td>CA10</td>\n      <td>2.960623e+09</td>\n      <td>1</td>\n    </tr>\n    <tr>\n      <th>7</th>\n      <td>U001</td>\n      <td>0200744019</td>\n      <td>TARG us</td>\n      <td>2020.0</td>\n      <td>1.930659e+09</td>\n      <td>2020-03-19</td>\n      <td>2020-03-18</td>\n      <td>2020-03-19</td>\n      <td>2020-04-03</td>\n      <td>USD</td>\n      <td>RV</td>\n      <td>1.0</td>\n      <td>NaN</td>\n      <td>11173.02</td>\n      <td>2020-03-19</td>\n      <td>NAA8</td>\n      <td>1.930659e+09</td>\n      <td>1</td>\n    </tr>\n    <tr>\n      <th>10</th>\n      <td>U001</td>\n      <td>0200418007</td>\n      <td>AM</td>\n      <td>2020.0</td>\n      <td>1.930611e+09</td>\n      <td>2020-03-11</td>\n      <td>2020-03-06</td>\n      <td>2020-03-11</td>\n      <td>2020-03-26</td>\n      <td>USD</td>\n      <td>RV</td>\n      <td>1.0</td>\n      <td>NaN</td>\n      <td>3525.59</td>\n      <td>2020-03-11</td>\n      <td>NAA8</td>\n      <td>1.930611e+09</td>\n      <td>1</td>\n    </tr>\n    <tr>\n      <th>14</th>\n      <td>U001</td>\n      <td>0200739534</td>\n      <td>OK systems</td>\n      <td>2020.0</td>\n      <td>1.930788e+09</td>\n      <td>2020-04-15</td>\n      <td>2020-04-15</td>\n      <td>2020-04-15</td>\n      <td>2020-04-30</td>\n      <td>USD</td>\n      <td>RV</td>\n      <td>1.0</td>\n      <td>NaN</td>\n      <td>121105.65</td>\n      <td>2020-04-15</td>\n      <td>NAA8</td>\n      <td>1.930788e+09</td>\n      <td>1</td>\n    </tr>\n    <tr>\n      <th>15</th>\n      <td>U001</td>\n      <td>0200353024</td>\n      <td>DECA corporation</td>\n      <td>2020.0</td>\n      <td>1.930817e+09</td>\n      <td>2020-04-23</td>\n      <td>2020-04-23</td>\n      <td>2020-04-23</td>\n      <td>2020-04-26</td>\n      <td>USD</td>\n      <td>RV</td>\n      <td>1.0</td>\n      <td>NaN</td>\n      <td>3726.06</td>\n      <td>2020-04-16</td>\n      <td>NAM2</td>\n      <td>1.930817e+09</td>\n      <td>1</td>\n    </tr>\n    <tr>\n      <th>...</th>\n      <td>...</td>\n      <td>...</td>\n      <td>...</td>\n      <td>...</td>\n      <td>...</td>\n      <td>...</td>\n      <td>...</td>\n      <td>...</td>\n      <td>...</td>\n      <td>...</td>\n      <td>...</td>\n      <td>...</td>\n      <td>...</td>\n      <td>...</td>\n      <td>...</td>\n      <td>...</td>\n      <td>...</td>\n      <td>...</td>\n    </tr>\n    <tr>\n      <th>49975</th>\n      <td>U001</td>\n      <td>0200769623</td>\n      <td>WAL-MAR in</td>\n      <td>2020.0</td>\n      <td>1.930625e+09</td>\n      <td>2020-03-10</td>\n      <td>2020-03-09</td>\n      <td>2020-03-10</td>\n      <td>2020-03-25</td>\n      <td>USD</td>\n      <td>RV</td>\n      <td>1.0</td>\n      <td>NaN</td>\n      <td>13114.99</td>\n      <td>2020-03-10</td>\n      <td>NAH4</td>\n      <td>1.930625e+09</td>\n      <td>1</td>\n    </tr>\n    <tr>\n      <th>49980</th>\n      <td>U001</td>\n      <td>0200769623</td>\n      <td>WAL-MAR corporation</td>\n      <td>2020.0</td>\n      <td>1.930851e+09</td>\n      <td>2020-05-03</td>\n      <td>2020-05-02</td>\n      <td>2020-05-03</td>\n      <td>2020-05-18</td>\n      <td>USD</td>\n      <td>RV</td>\n      <td>1.0</td>\n      <td>NaN</td>\n      <td>8899.71</td>\n      <td>2020-05-03</td>\n      <td>NAH4</td>\n      <td>1.930851e+09</td>\n      <td>1</td>\n    </tr>\n    <tr>\n      <th>49982</th>\n      <td>U001</td>\n      <td>0200148860</td>\n      <td>DOLLA co</td>\n      <td>2020.0</td>\n      <td>1.930638e+09</td>\n      <td>2020-03-11</td>\n      <td>2020-03-11</td>\n      <td>2020-03-11</td>\n      <td>2020-03-26</td>\n      <td>USD</td>\n      <td>RV</td>\n      <td>1.0</td>\n      <td>NaN</td>\n      <td>4967.06</td>\n      <td>2020-03-11</td>\n      <td>NAA8</td>\n      <td>1.930638e+09</td>\n      <td>1</td>\n    </tr>\n    <tr>\n      <th>49992</th>\n      <td>U001</td>\n      <td>0200900909</td>\n      <td>SYSCO co</td>\n      <td>2020.0</td>\n      <td>1.930702e+09</td>\n      <td>2020-03-25</td>\n      <td>2020-03-25</td>\n      <td>2020-03-25</td>\n      <td>2020-04-09</td>\n      <td>USD</td>\n      <td>RV</td>\n      <td>1.0</td>\n      <td>NaN</td>\n      <td>1998.64</td>\n      <td>2020-03-25</td>\n      <td>NAA8</td>\n      <td>1.930702e+09</td>\n      <td>1</td>\n    </tr>\n    <tr>\n      <th>49995</th>\n      <td>U001</td>\n      <td>0200561861</td>\n      <td>CO corporation</td>\n      <td>2020.0</td>\n      <td>1.930797e+09</td>\n      <td>2020-04-21</td>\n      <td>2020-04-17</td>\n      <td>2020-04-21</td>\n      <td>2020-05-06</td>\n      <td>USD</td>\n      <td>RV</td>\n      <td>1.0</td>\n      <td>NaN</td>\n      <td>3187.86</td>\n      <td>2020-04-21</td>\n      <td>NAA8</td>\n      <td>1.930797e+09</td>\n      <td>1</td>\n    </tr>\n  </tbody>\n</table>\n<p>10000 rows × 18 columns</p>\n</div>"
     },
     "execution_count": 24,
     "metadata": {},
     "output_type": "execute_result"
    }
   ],
   "source": [
    "null_clear_dates"
   ],
   "metadata": {
    "collapsed": false,
    "pycharm": {
     "name": "#%%\n"
    }
   }
  },
  {
   "cell_type": "code",
   "execution_count": 25,
   "outputs": [
    {
     "data": {
      "text/plain": "(6, 19)"
     },
     "execution_count": 25,
     "metadata": {},
     "output_type": "execute_result"
    }
   ],
   "source": [
    "# We have 6 null entries in \"invoice_ic\" feature\n",
    "df_clear_date[df_clear_date[\"invoice_id\"].isnull()].shape"
   ],
   "metadata": {
    "collapsed": false,
    "pycharm": {
     "name": "#%%\n"
    }
   }
  },
  {
   "cell_type": "markdown",
   "source": [
    "## Error Check"
   ],
   "metadata": {
    "collapsed": false,
    "pycharm": {
     "name": "#%% md\n"
    }
   }
  },
  {
   "cell_type": "markdown",
   "source": [
    "**Checking for an error with custom due_date_filter (Due date should not be less than baseline_create_date)**"
   ],
   "metadata": {
    "collapsed": false,
    "pycharm": {
     "name": "#%% md\n"
    }
   }
  },
  {
   "cell_type": "code",
   "execution_count": 26,
   "outputs": [
    {
     "data": {
      "text/plain": "(0, 19)"
     },
     "execution_count": 26,
     "metadata": {},
     "output_type": "execute_result"
    }
   ],
   "source": [
    "due_date_filter = df[\"due_in_date\"] < df[\"baseline_create_date\"]\n",
    "df[due_date_filter].shape\n",
    "\n",
    "# Rows returned - 0 (No such error, good to go)"
   ],
   "metadata": {
    "collapsed": false,
    "pycharm": {
     "name": "#%%\n"
    }
   }
  },
  {
   "cell_type": "markdown",
   "source": [
    "**Checking for an error with filter (Clear date should not be less than baseline_create_date)**"
   ],
   "metadata": {
    "collapsed": false,
    "pycharm": {
     "name": "#%% md\n"
    }
   }
  },
  {
   "cell_type": "code",
   "execution_count": 27,
   "outputs": [
    {
     "data": {
      "text/plain": "(2, 19)"
     },
     "execution_count": 27,
     "metadata": {},
     "output_type": "execute_result"
    }
   ],
   "source": [
    "# Checking with the other null dataset\n",
    "df_clear_date[df_clear_date[\"clear_date\"] < df_clear_date[\"baseline_create_date\"]].shape\n",
    "\n",
    "# This has to be an error"
   ],
   "metadata": {
    "collapsed": false,
    "pycharm": {
     "name": "#%%\n"
    }
   }
  },
  {
   "cell_type": "code",
   "execution_count": 28,
   "outputs": [
    {
     "data": {
      "text/plain": "(40000, 19)"
     },
     "execution_count": 28,
     "metadata": {},
     "output_type": "execute_result"
    }
   ],
   "source": [
    "df_clear_date.shape"
   ],
   "metadata": {
    "collapsed": false,
    "pycharm": {
     "name": "#%%\n"
    }
   }
  },
  {
   "cell_type": "code",
   "execution_count": 29,
   "outputs": [
    {
     "data": {
      "text/plain": "(10000, 18)"
     },
     "execution_count": 29,
     "metadata": {},
     "output_type": "execute_result"
    }
   ],
   "source": [
    "null_clear_dates.shape"
   ],
   "metadata": {
    "collapsed": false,
    "pycharm": {
     "name": "#%%\n"
    }
   }
  },
  {
   "cell_type": "markdown",
   "source": [
    "**Removing the error**"
   ],
   "metadata": {
    "collapsed": false,
    "pycharm": {
     "name": "#%% md\n"
    }
   }
  },
  {
   "cell_type": "code",
   "execution_count": 30,
   "outputs": [],
   "source": [
    "df_clear_date.drop(df_clear_date[df_clear_date[\"clear_date\"] < df_clear_date[\"baseline_create_date\"]].index,\n",
    "                   inplace=True, index=None)  # inplace -> Modify inplace or not (boolean)"
   ],
   "metadata": {
    "collapsed": false,
    "pycharm": {
     "name": "#%%\n"
    }
   }
  },
  {
   "cell_type": "code",
   "execution_count": 31,
   "outputs": [
    {
     "data": {
      "text/plain": "  business_code cust_number       name_customer  clear_date  buisness_year  \\\n0          U001  0200769623        WAL-MAR corp  2020-02-11         2020.0   \n1          U001  0200980828              BEN E   2019-08-08         2019.0   \n2          U001  0200792734          MDV/ trust  2019-12-30         2019.0   \n4          U001  0200769623  WAL-MAR foundation  2019-11-25         2019.0   \n5          CA02  0140106181    THE  corporation  2019-12-04         2019.0   \n\n         doc_id posting_date document_create_date document_create_date.1  \\\n0  1.930438e+09   2020-01-26           2020-01-25             2020-01-26   \n1  1.929646e+09   2019-07-22           2019-07-22             2019-07-22   \n2  1.929874e+09   2019-09-14           2019-09-14             2019-09-14   \n4  1.930148e+09   2019-11-13           2019-11-13             2019-11-13   \n5  2.960581e+09   2019-09-20           2019-09-20             2019-09-20   \n\n  due_in_date invoice_currency document type  posting_id  area_business  \\\n0  2020-02-10              USD            RV         1.0            NaN   \n1  2019-08-11              USD            RV         1.0            NaN   \n2  2019-09-29              USD            RV         1.0            NaN   \n4  2019-11-28              USD            RV         1.0            NaN   \n5  2019-10-04              CAD            RV         1.0            NaN   \n\n   total_open_amount baseline_create_date cust_payment_terms    invoice_id  \\\n0           54273.28           2020-01-26               NAH4  1.930438e+09   \n1           79656.60           2019-07-22               NAD1  1.929646e+09   \n2            2253.86           2019-09-14               NAA8  1.929874e+09   \n4           33133.29           2019-11-13               NAH4  1.930148e+09   \n5           22225.84           2019-09-24               CA10  2.960581e+09   \n\n   isOpen  \n0       0  \n1       0  \n2       0  \n4       0  \n5       0  ",
      "text/html": "<div>\n<style scoped>\n    .dataframe tbody tr th:only-of-type {\n        vertical-align: middle;\n    }\n\n    .dataframe tbody tr th {\n        vertical-align: top;\n    }\n\n    .dataframe thead th {\n        text-align: right;\n    }\n</style>\n<table border=\"1\" class=\"dataframe\">\n  <thead>\n    <tr style=\"text-align: right;\">\n      <th></th>\n      <th>business_code</th>\n      <th>cust_number</th>\n      <th>name_customer</th>\n      <th>clear_date</th>\n      <th>buisness_year</th>\n      <th>doc_id</th>\n      <th>posting_date</th>\n      <th>document_create_date</th>\n      <th>document_create_date.1</th>\n      <th>due_in_date</th>\n      <th>invoice_currency</th>\n      <th>document type</th>\n      <th>posting_id</th>\n      <th>area_business</th>\n      <th>total_open_amount</th>\n      <th>baseline_create_date</th>\n      <th>cust_payment_terms</th>\n      <th>invoice_id</th>\n      <th>isOpen</th>\n    </tr>\n  </thead>\n  <tbody>\n    <tr>\n      <th>0</th>\n      <td>U001</td>\n      <td>0200769623</td>\n      <td>WAL-MAR corp</td>\n      <td>2020-02-11</td>\n      <td>2020.0</td>\n      <td>1.930438e+09</td>\n      <td>2020-01-26</td>\n      <td>2020-01-25</td>\n      <td>2020-01-26</td>\n      <td>2020-02-10</td>\n      <td>USD</td>\n      <td>RV</td>\n      <td>1.0</td>\n      <td>NaN</td>\n      <td>54273.28</td>\n      <td>2020-01-26</td>\n      <td>NAH4</td>\n      <td>1.930438e+09</td>\n      <td>0</td>\n    </tr>\n    <tr>\n      <th>1</th>\n      <td>U001</td>\n      <td>0200980828</td>\n      <td>BEN E</td>\n      <td>2019-08-08</td>\n      <td>2019.0</td>\n      <td>1.929646e+09</td>\n      <td>2019-07-22</td>\n      <td>2019-07-22</td>\n      <td>2019-07-22</td>\n      <td>2019-08-11</td>\n      <td>USD</td>\n      <td>RV</td>\n      <td>1.0</td>\n      <td>NaN</td>\n      <td>79656.60</td>\n      <td>2019-07-22</td>\n      <td>NAD1</td>\n      <td>1.929646e+09</td>\n      <td>0</td>\n    </tr>\n    <tr>\n      <th>2</th>\n      <td>U001</td>\n      <td>0200792734</td>\n      <td>MDV/ trust</td>\n      <td>2019-12-30</td>\n      <td>2019.0</td>\n      <td>1.929874e+09</td>\n      <td>2019-09-14</td>\n      <td>2019-09-14</td>\n      <td>2019-09-14</td>\n      <td>2019-09-29</td>\n      <td>USD</td>\n      <td>RV</td>\n      <td>1.0</td>\n      <td>NaN</td>\n      <td>2253.86</td>\n      <td>2019-09-14</td>\n      <td>NAA8</td>\n      <td>1.929874e+09</td>\n      <td>0</td>\n    </tr>\n    <tr>\n      <th>4</th>\n      <td>U001</td>\n      <td>0200769623</td>\n      <td>WAL-MAR foundation</td>\n      <td>2019-11-25</td>\n      <td>2019.0</td>\n      <td>1.930148e+09</td>\n      <td>2019-11-13</td>\n      <td>2019-11-13</td>\n      <td>2019-11-13</td>\n      <td>2019-11-28</td>\n      <td>USD</td>\n      <td>RV</td>\n      <td>1.0</td>\n      <td>NaN</td>\n      <td>33133.29</td>\n      <td>2019-11-13</td>\n      <td>NAH4</td>\n      <td>1.930148e+09</td>\n      <td>0</td>\n    </tr>\n    <tr>\n      <th>5</th>\n      <td>CA02</td>\n      <td>0140106181</td>\n      <td>THE  corporation</td>\n      <td>2019-12-04</td>\n      <td>2019.0</td>\n      <td>2.960581e+09</td>\n      <td>2019-09-20</td>\n      <td>2019-09-20</td>\n      <td>2019-09-20</td>\n      <td>2019-10-04</td>\n      <td>CAD</td>\n      <td>RV</td>\n      <td>1.0</td>\n      <td>NaN</td>\n      <td>22225.84</td>\n      <td>2019-09-24</td>\n      <td>CA10</td>\n      <td>2.960581e+09</td>\n      <td>0</td>\n    </tr>\n  </tbody>\n</table>\n</div>"
     },
     "execution_count": 31,
     "metadata": {},
     "output_type": "execute_result"
    }
   ],
   "source": [
    "df_clear_date.head()"
   ],
   "metadata": {
    "collapsed": false,
    "pycharm": {
     "name": "#%%\n"
    }
   }
  },
  {
   "cell_type": "code",
   "execution_count": 32,
   "outputs": [
    {
     "data": {
      "text/plain": "(39998, 19)"
     },
     "execution_count": 32,
     "metadata": {},
     "output_type": "execute_result"
    }
   ],
   "source": [
    "df_clear_date.shape  # Earlier the shape was (40000, 19), NOW: (39998, 19)\n",
    "# Removal successful 🧹"
   ],
   "metadata": {
    "collapsed": false,
    "pycharm": {
     "name": "#%%\n"
    }
   }
  },
  {
   "cell_type": "markdown",
   "source": [
    "# Making the \"delay\" column\n",
    "\n",
    "Formula for delay of payment date:\n",
    "> clear_date - due_in_date"
   ],
   "metadata": {
    "collapsed": false,
    "pycharm": {
     "name": "#%% md\n"
    }
   }
  },
  {
   "cell_type": "code",
   "execution_count": 33,
   "outputs": [],
   "source": [
    "df_clear_date[\"delay\"] = (df_clear_date[\"clear_date\"] - df_clear_date[\"due_in_date\"]).dt.days"
   ],
   "metadata": {
    "collapsed": false,
    "pycharm": {
     "name": "#%%\n"
    }
   }
  },
  {
   "cell_type": "code",
   "execution_count": 34,
   "outputs": [
    {
     "data": {
      "text/plain": "0     1\n1    -3\n2    92\n4    -3\n5    61\nName: delay, dtype: int64"
     },
     "execution_count": 34,
     "metadata": {},
     "output_type": "execute_result"
    }
   ],
   "source": [
    "df_clear_date[\"delay\"].head()"
   ],
   "metadata": {
    "collapsed": false,
    "pycharm": {
     "name": "#%%\n"
    }
   }
  },
  {
   "cell_type": "code",
   "execution_count": 35,
   "outputs": [
    {
     "data": {
      "text/plain": "       buisness_year        doc_id  posting_id  area_business  \\\ncount   39998.000000  3.999800e+04     39998.0            0.0   \nmean     2019.132132  2.013481e+09         1.0            NaN   \nstd         0.338638  2.931565e+08         0.0            NaN   \nmin      2019.000000  1.928502e+09         1.0            NaN   \n25%      2019.000000  1.929181e+09         1.0            NaN   \n50%      2019.000000  1.929733e+09         1.0            NaN   \n75%      2019.000000  1.930209e+09         1.0            NaN   \nmax      2020.000000  9.500000e+09         1.0            NaN   \n\n       total_open_amount    invoice_id   isOpen         delay  \ncount       39998.000000  3.999200e+04  39998.0  39998.000000  \nmean        32061.969706  2.012358e+09      0.0      0.838442  \nstd         39524.195911  2.784660e+08      0.0     10.831443  \nmin             0.790000  1.928502e+09      0.0    -89.000000  \n25%          4702.905000  1.929181e+09      0.0     -3.000000  \n50%         17283.500000  1.929733e+09      0.0      0.000000  \n75%         46542.090000  1.930208e+09      0.0      2.000000  \nmax        668593.360000  2.960617e+09      0.0    204.000000  ",
      "text/html": "<div>\n<style scoped>\n    .dataframe tbody tr th:only-of-type {\n        vertical-align: middle;\n    }\n\n    .dataframe tbody tr th {\n        vertical-align: top;\n    }\n\n    .dataframe thead th {\n        text-align: right;\n    }\n</style>\n<table border=\"1\" class=\"dataframe\">\n  <thead>\n    <tr style=\"text-align: right;\">\n      <th></th>\n      <th>buisness_year</th>\n      <th>doc_id</th>\n      <th>posting_id</th>\n      <th>area_business</th>\n      <th>total_open_amount</th>\n      <th>invoice_id</th>\n      <th>isOpen</th>\n      <th>delay</th>\n    </tr>\n  </thead>\n  <tbody>\n    <tr>\n      <th>count</th>\n      <td>39998.000000</td>\n      <td>3.999800e+04</td>\n      <td>39998.0</td>\n      <td>0.0</td>\n      <td>39998.000000</td>\n      <td>3.999200e+04</td>\n      <td>39998.0</td>\n      <td>39998.000000</td>\n    </tr>\n    <tr>\n      <th>mean</th>\n      <td>2019.132132</td>\n      <td>2.013481e+09</td>\n      <td>1.0</td>\n      <td>NaN</td>\n      <td>32061.969706</td>\n      <td>2.012358e+09</td>\n      <td>0.0</td>\n      <td>0.838442</td>\n    </tr>\n    <tr>\n      <th>std</th>\n      <td>0.338638</td>\n      <td>2.931565e+08</td>\n      <td>0.0</td>\n      <td>NaN</td>\n      <td>39524.195911</td>\n      <td>2.784660e+08</td>\n      <td>0.0</td>\n      <td>10.831443</td>\n    </tr>\n    <tr>\n      <th>min</th>\n      <td>2019.000000</td>\n      <td>1.928502e+09</td>\n      <td>1.0</td>\n      <td>NaN</td>\n      <td>0.790000</td>\n      <td>1.928502e+09</td>\n      <td>0.0</td>\n      <td>-89.000000</td>\n    </tr>\n    <tr>\n      <th>25%</th>\n      <td>2019.000000</td>\n      <td>1.929181e+09</td>\n      <td>1.0</td>\n      <td>NaN</td>\n      <td>4702.905000</td>\n      <td>1.929181e+09</td>\n      <td>0.0</td>\n      <td>-3.000000</td>\n    </tr>\n    <tr>\n      <th>50%</th>\n      <td>2019.000000</td>\n      <td>1.929733e+09</td>\n      <td>1.0</td>\n      <td>NaN</td>\n      <td>17283.500000</td>\n      <td>1.929733e+09</td>\n      <td>0.0</td>\n      <td>0.000000</td>\n    </tr>\n    <tr>\n      <th>75%</th>\n      <td>2019.000000</td>\n      <td>1.930209e+09</td>\n      <td>1.0</td>\n      <td>NaN</td>\n      <td>46542.090000</td>\n      <td>1.930208e+09</td>\n      <td>0.0</td>\n      <td>2.000000</td>\n    </tr>\n    <tr>\n      <th>max</th>\n      <td>2020.000000</td>\n      <td>9.500000e+09</td>\n      <td>1.0</td>\n      <td>NaN</td>\n      <td>668593.360000</td>\n      <td>2.960617e+09</td>\n      <td>0.0</td>\n      <td>204.000000</td>\n    </tr>\n  </tbody>\n</table>\n</div>"
     },
     "execution_count": 35,
     "metadata": {},
     "output_type": "execute_result"
    }
   ],
   "source": [
    "df_clear_date.describe()"
   ],
   "metadata": {
    "collapsed": false,
    "pycharm": {
     "name": "#%%\n"
    }
   }
  },
  {
   "cell_type": "markdown",
   "source": [
    "# Statistics"
   ],
   "metadata": {
    "collapsed": false
   }
  },
  {
   "cell_type": "markdown",
   "source": [
    "# Visualizing Delay of payment with boxplot"
   ],
   "metadata": {
    "collapsed": false,
    "pycharm": {
     "name": "#%% md\n"
    }
   }
  },
  {
   "cell_type": "code",
   "execution_count": 70,
   "outputs": [
    {
     "data": {
      "text/plain": "<Figure size 2160x360 with 1 Axes>",
      "image/png": "[encoded data removed]"
     },
     "metadata": {
      "needs_background": "light"
     },
     "output_type": "display_data"
    }
   ],
   "source": [
    "import seaborn as sns\n",
    "\n",
    "fig = plt.figure(figsize=(30, 5))\n",
    "ax = fig.add_subplot()\n",
    "ax.set_title(\"People vs Delay distribution\")\n",
    "sns.boxplot(x=df_clear_date[\"delay\"], )\n",
    "plt.ylabel(\"density\")\n",
    "plt.show()"
   ],
   "metadata": {
    "collapsed": false,
    "pycharm": {
     "name": "#%%\n"
    }
   }
  },
  {
   "cell_type": "markdown",
   "source": [
    "_The boxplot graph above is showing the density of delays, which concludes that maximum people submitted their dues with 0 delays_"
   ],
   "metadata": {
    "collapsed": false,
    "pycharm": {
     "name": "#%% md\n"
    }
   }
  },
  {
   "cell_type": "code",
   "execution_count": 81,
   "outputs": [
    {
     "data": {
      "text/plain": "Text(0, 0.5, 'density')"
     },
     "execution_count": 81,
     "metadata": {},
     "output_type": "execute_result"
    },
    {
     "data": {
      "text/plain": "<Figure size 720x360 with 1 Axes>",
      "image/png": "[encoded data removed]"
     },
     "metadata": {
      "needs_background": "light"
     },
     "output_type": "display_data"
    }
   ],
   "source": [
    "fig = plt.figure(figsize=(10, 5))\n",
    "ax = fig.add_subplot()\n",
    "ax.set_title(\"Delay Range\")\n",
    "\n",
    "plt.hist(df_clear_date[\"delay\"], color='orange', edgecolor='black', linewidth=1.2)\n",
    "plt.xlabel(\"delay\")\n",
    "plt.ylabel(\"density\")"
   ],
   "metadata": {
    "collapsed": false,
    "pycharm": {
     "name": "#%%\n"
    }
   }
  },
  {
   "cell_type": "markdown",
   "source": [
    "_[Calculating the Interquartile Range using the inbuilt 'percentile' in numpy](https://www.geeksforgeeks.org/interquartile-range-and-quartile-deviation-using-numpy-and-scipy/)_"
   ],
   "metadata": {
    "collapsed": false,
    "pycharm": {
     "name": "#%% md\n"
    }
   }
  },
  {
   "cell_type": "code",
   "source": [
    "# Calculating the quartiles\n",
    "Q1 = np.percentile(df_clear_date[\"delay\"], 1, method='midpoint')\n",
    "Q2 = np.percentile(df_clear_date[\"delay\"], 50, method='midpoint')\n",
    "Q3 = np.percentile(df_clear_date[\"delay\"], 99.74, method='midpoint')\n"
   ],
   "metadata": {
    "collapsed": false,
    "pycharm": {
     "name": "#%%\n"
    }
   },
   "execution_count": 98,
   "outputs": []
  },
  {
   "cell_type": "markdown",
   "source": [
    "**[Interquartile Range (IQR) = Q3 - Q1](https://www.geeksforgeeks.org/interquartile-range-and-quartile-deviation-using-numpy-and-scipy/)**"
   ],
   "metadata": {
    "collapsed": false,
    "pycharm": {
     "name": "#%% md\n"
    }
   }
  },
  {
   "cell_type": "code",
   "execution_count": 97,
   "outputs": [],
   "source": [
    "IQR = Q3 - Q1"
   ],
   "metadata": {
    "collapsed": false,
    "pycharm": {
     "name": "#%%\n"
    }
   }
  },
  {
   "cell_type": "code",
   "execution_count": 107,
   "outputs": [
    {
     "data": {
      "text/plain": "    25%  50%   75%    IQR\n* -19.0  0.0  90.0  109.0",
      "text/html": "<div>\n<style scoped>\n    .dataframe tbody tr th:only-of-type {\n        vertical-align: middle;\n    }\n\n    .dataframe tbody tr th {\n        vertical-align: top;\n    }\n\n    .dataframe thead th {\n        text-align: right;\n    }\n</style>\n<table border=\"1\" class=\"dataframe\">\n  <thead>\n    <tr style=\"text-align: right;\">\n      <th></th>\n      <th>25%</th>\n      <th>50%</th>\n      <th>75%</th>\n      <th>IQR</th>\n    </tr>\n  </thead>\n  <tbody>\n    <tr>\n      <th>*</th>\n      <td>-19.0</td>\n      <td>0.0</td>\n      <td>90.0</td>\n      <td>109.0</td>\n    </tr>\n  </tbody>\n</table>\n</div>"
     },
     "execution_count": 107,
     "metadata": {},
     "output_type": "execute_result"
    }
   ],
   "source": [
    "\n",
    "pd.DataFrame([{\"25%\": Q1, \"50%\": Q2, \"75%\": Q3, \"IQR\": IQR}], index=['*'])"
   ],
   "metadata": {
    "collapsed": false,
    "pycharm": {
     "name": "#%%\n"
    }
   }
  },
  {
   "cell_type": "code",
   "execution_count": 105,
   "outputs": [
    {
     "data": {
      "text/plain": "   UPPER LIMIT  LOWER LIMIT\n*        253.5       -182.5",
      "text/html": "<div>\n<style scoped>\n    .dataframe tbody tr th:only-of-type {\n        vertical-align: middle;\n    }\n\n    .dataframe tbody tr th {\n        vertical-align: top;\n    }\n\n    .dataframe thead th {\n        text-align: right;\n    }\n</style>\n<table border=\"1\" class=\"dataframe\">\n  <thead>\n    <tr style=\"text-align: right;\">\n      <th></th>\n      <th>UPPER LIMIT</th>\n      <th>LOWER LIMIT</th>\n    </tr>\n  </thead>\n  <tbody>\n    <tr>\n      <th>*</th>\n      <td>253.5</td>\n      <td>-182.5</td>\n    </tr>\n  </tbody>\n</table>\n</div>"
     },
     "execution_count": 105,
     "metadata": {},
     "output_type": "execute_result"
    }
   ],
   "source": [
    "# Calculating the lower, upper limits for getting the outliers -> https://towardsdatascience.com/what-is-an-outlier-26888fd9870d\n",
    "lower_bound = Q1 - 1.5 * IQR\n",
    "upper_bound = Q3 + 1.5 * IQR\n",
    "\n",
    "pd.DataFrame([{\"UPPER LIMIT\": upper_bound, \"LOWER LIMIT\": lower_bound}], index=['*'])"
   ],
   "metadata": {
    "collapsed": false,
    "pycharm": {
     "name": "#%%\n"
    }
   }
  },
  {
   "cell_type": "markdown",
   "source": [
    "### Calculating the outlier in delay of payments"
   ],
   "metadata": {
    "collapsed": false,
    "pycharm": {
     "name": "#%% md\n"
    }
   }
  },
  {
   "cell_type": "code",
   "execution_count": 108,
   "outputs": [
    {
     "data": {
      "text/plain": "[]"
     },
     "execution_count": 108,
     "metadata": {},
     "output_type": "execute_result"
    }
   ],
   "source": [
    "outlier = []\n",
    "for x in df_clear_date[\"delay\"]:\n",
    "    if (x > upper_bound) or (x < lower_bound):\n",
    "        outlier.append(x)\n",
    "\n",
    "outlier"
   ],
   "metadata": {
    "collapsed": false,
    "pycharm": {
     "name": "#%%\n"
    }
   }
  },
  {
   "cell_type": "code",
   "execution_count": 110,
   "outputs": [],
   "source": [
    "# Remove the outlier if any\n",
    "df_clear_date.drop(df_clear_date[df_clear_date[\"delay\"] > upper_bound].index, index=None, inplace=True)"
   ],
   "metadata": {
    "collapsed": false,
    "pycharm": {
     "name": "#%%\n"
    }
   }
  },
  {
   "cell_type": "code",
   "execution_count": 113,
   "outputs": [
    {
     "data": {
      "text/plain": "<Figure size 2160x360 with 1 Axes>",
      "image/png": "[encoded data removed]"
     },
     "metadata": {
      "needs_background": "light"
     },
     "output_type": "display_data"
    }
   ],
   "source": [
    "fig = plt.figure(figsize=(30, 5))\n",
    "ax = fig.add_subplot()\n",
    "ax.set_title(\"People vs Delay distribution\")\n",
    "sns.boxplot(x=df_clear_date[\"delay\"], )\n",
    "plt.ylabel(\"density\")\n",
    "plt.show()"
   ],
   "metadata": {
    "collapsed": false,
    "pycharm": {
     "name": "#%%\n"
    }
   }
  }
 ],
 "metadata": {
  "kernelspec": {
   "display_name": "Python 3 (ipykernel)",
   "language": "python",
   "name": "python3"
  },
  "language_info": {
   "codemirror_mode": {
    "name": "ipython",
    "version": 3
   },
   "file_extension": ".py",
   "mimetype": "text/x-python",
   "name": "python",
   "nbconvert_exporter": "python",
   "pygments_lexer": "ipython3",
   "version": "3.9.7"
  }
 },
 "nbformat": 4,
 "nbformat_minor": 5
}