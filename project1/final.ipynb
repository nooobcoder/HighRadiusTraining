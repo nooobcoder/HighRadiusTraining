{
 "cells": [
  {
   "cell_type": "code",
   "execution_count": 1,
   "id": "26a315bb-47ad-4b70-bae0-558342195219",
   "metadata": {},
   "outputs": [],
   "source": [
    "import warnings\n",
    "\n",
    "import matplotlib.pyplot as plt\n",
    "import numpy as np\n",
    "import pandas as pd\n",
    "\n",
    "# warnings.filterwarnings(\"ignore\")  # Disabling warnings"
   ]
  },
  {
   "cell_type": "code",
   "execution_count": 2,
   "id": "243daaae-929b-4849-8358-7df9257c53bd",
   "metadata": {},
   "outputs": [
    {
     "data": {
      "text/plain": "  business_code cust_number       name_customer           clear_date  \\\n0          U001  0200769623        WAL-MAR corp  2020-02-11 00:00:00   \n1          U001  0200980828              BEN E   2019-08-08 00:00:00   \n2          U001  0200792734          MDV/ trust  2019-12-30 00:00:00   \n3          CA02  0140105686            SYSC llc                  NaN   \n4          U001  0200769623  WAL-MAR foundation  2019-11-25 00:00:00   \n5          CA02  0140106181    THE  corporation  2019-12-04 00:00:00   \n6          U001  0200769623          WAL-MAR in  2019-11-12 00:00:00   \n7          U001  0200744019             TARG us                  NaN   \n8          U001  0200769623        WAL-MAR corp  2019-06-18 00:00:00   \n9          U001  0200762301      C&S WH systems  2019-03-06 00:00:00   \n\n   buisness_year        doc_id posting_date  document_create_date  \\\n0         2020.0  1.930438e+09   2020-01-26              20200125   \n1         2019.0  1.929646e+09   2019-07-22              20190722   \n2         2019.0  1.929874e+09   2019-09-14              20190914   \n3         2020.0  2.960623e+09   2020-03-30              20200330   \n4         2019.0  1.930148e+09   2019-11-13              20191113   \n5         2019.0  2.960581e+09   2019-09-20              20190920   \n6         2019.0  1.930083e+09   2019-11-01              20191031   \n7         2020.0  1.930659e+09   2020-03-19              20200318   \n8         2019.0  1.929440e+09   2019-06-07              20190605   \n9         2019.0  1.928819e+09   2019-02-20              20190219   \n\n   document_create_date.1  due_in_date invoice_currency document type  \\\n0                20200126   20200210.0              USD            RV   \n1                20190722   20190811.0              USD            RV   \n2                20190914   20190929.0              USD            RV   \n3                20200330   20200410.0              CAD            RV   \n4                20191113   20191128.0              USD            RV   \n5                20190920   20191004.0              CAD            RV   \n6                20191101   20191116.0              USD            RV   \n7                20200319   20200403.0              USD            RV   \n8                20190607   20190622.0              USD            RV   \n9                20190220   20190307.0              USD            RV   \n\n   posting_id  area_business  total_open_amount  baseline_create_date  \\\n0         1.0            NaN           54273.28            20200126.0   \n1         1.0            NaN           79656.60            20190722.0   \n2         1.0            NaN            2253.86            20190914.0   \n3         1.0            NaN            3299.70            20200331.0   \n4         1.0            NaN           33133.29            20191113.0   \n5         1.0            NaN           22225.84            20190924.0   \n6         1.0            NaN            7358.49            20191101.0   \n7         1.0            NaN           11173.02            20200319.0   \n8         1.0            NaN           15995.04            20190607.0   \n9         1.0            NaN              28.63            20190220.0   \n\n  cust_payment_terms    invoice_id  isOpen  \n0               NAH4  1.930438e+09       0  \n1               NAD1  1.929646e+09       0  \n2               NAA8  1.929874e+09       0  \n3               CA10  2.960623e+09       1  \n4               NAH4  1.930148e+09       0  \n5               CA10  2.960581e+09       0  \n6               NAH4  1.930083e+09       0  \n7               NAA8  1.930659e+09       1  \n8               NAH4  1.929440e+09       0  \n9               NAC6  1.928819e+09       0  ",
      "text/html": "<div>\n<style scoped>\n    .dataframe tbody tr th:only-of-type {\n        vertical-align: middle;\n    }\n\n    .dataframe tbody tr th {\n        vertical-align: top;\n    }\n\n    .dataframe thead th {\n        text-align: right;\n    }\n</style>\n<table border=\"1\" class=\"dataframe\">\n  <thead>\n    <tr style=\"text-align: right;\">\n      <th></th>\n      <th>business_code</th>\n      <th>cust_number</th>\n      <th>name_customer</th>\n      <th>clear_date</th>\n      <th>buisness_year</th>\n      <th>doc_id</th>\n      <th>posting_date</th>\n      <th>document_create_date</th>\n      <th>document_create_date.1</th>\n      <th>due_in_date</th>\n      <th>invoice_currency</th>\n      <th>document type</th>\n      <th>posting_id</th>\n      <th>area_business</th>\n      <th>total_open_amount</th>\n      <th>baseline_create_date</th>\n      <th>cust_payment_terms</th>\n      <th>invoice_id</th>\n      <th>isOpen</th>\n    </tr>\n  </thead>\n  <tbody>\n    <tr>\n      <th>0</th>\n      <td>U001</td>\n      <td>0200769623</td>\n      <td>WAL-MAR corp</td>\n      <td>2020-02-11 00:00:00</td>\n      <td>2020.0</td>\n      <td>1.930438e+09</td>\n      <td>2020-01-26</td>\n      <td>20200125</td>\n      <td>20200126</td>\n      <td>20200210.0</td>\n      <td>USD</td>\n      <td>RV</td>\n      <td>1.0</td>\n      <td>NaN</td>\n      <td>54273.28</td>\n      <td>20200126.0</td>\n      <td>NAH4</td>\n      <td>1.930438e+09</td>\n      <td>0</td>\n    </tr>\n    <tr>\n      <th>1</th>\n      <td>U001</td>\n      <td>0200980828</td>\n      <td>BEN E</td>\n      <td>2019-08-08 00:00:00</td>\n      <td>2019.0</td>\n      <td>1.929646e+09</td>\n      <td>2019-07-22</td>\n      <td>20190722</td>\n      <td>20190722</td>\n      <td>20190811.0</td>\n      <td>USD</td>\n      <td>RV</td>\n      <td>1.0</td>\n      <td>NaN</td>\n      <td>79656.60</td>\n      <td>20190722.0</td>\n      <td>NAD1</td>\n      <td>1.929646e+09</td>\n      <td>0</td>\n    </tr>\n    <tr>\n      <th>2</th>\n      <td>U001</td>\n      <td>0200792734</td>\n      <td>MDV/ trust</td>\n      <td>2019-12-30 00:00:00</td>\n      <td>2019.0</td>\n      <td>1.929874e+09</td>\n      <td>2019-09-14</td>\n      <td>20190914</td>\n      <td>20190914</td>\n      <td>20190929.0</td>\n      <td>USD</td>\n      <td>RV</td>\n      <td>1.0</td>\n      <td>NaN</td>\n      <td>2253.86</td>\n      <td>20190914.0</td>\n      <td>NAA8</td>\n      <td>1.929874e+09</td>\n      <td>0</td>\n    </tr>\n    <tr>\n      <th>3</th>\n      <td>CA02</td>\n      <td>0140105686</td>\n      <td>SYSC llc</td>\n      <td>NaN</td>\n      <td>2020.0</td>\n      <td>2.960623e+09</td>\n      <td>2020-03-30</td>\n      <td>20200330</td>\n      <td>20200330</td>\n      <td>20200410.0</td>\n      <td>CAD</td>\n      <td>RV</td>\n      <td>1.0</td>\n      <td>NaN</td>\n      <td>3299.70</td>\n      <td>20200331.0</td>\n      <td>CA10</td>\n      <td>2.960623e+09</td>\n      <td>1</td>\n    </tr>\n    <tr>\n      <th>4</th>\n      <td>U001</td>\n      <td>0200769623</td>\n      <td>WAL-MAR foundation</td>\n      <td>2019-11-25 00:00:00</td>\n      <td>2019.0</td>\n      <td>1.930148e+09</td>\n      <td>2019-11-13</td>\n      <td>20191113</td>\n      <td>20191113</td>\n      <td>20191128.0</td>\n      <td>USD</td>\n      <td>RV</td>\n      <td>1.0</td>\n      <td>NaN</td>\n      <td>33133.29</td>\n      <td>20191113.0</td>\n      <td>NAH4</td>\n      <td>1.930148e+09</td>\n      <td>0</td>\n    </tr>\n    <tr>\n      <th>5</th>\n      <td>CA02</td>\n      <td>0140106181</td>\n      <td>THE  corporation</td>\n      <td>2019-12-04 00:00:00</td>\n      <td>2019.0</td>\n      <td>2.960581e+09</td>\n      <td>2019-09-20</td>\n      <td>20190920</td>\n      <td>20190920</td>\n      <td>20191004.0</td>\n      <td>CAD</td>\n      <td>RV</td>\n      <td>1.0</td>\n      <td>NaN</td>\n      <td>22225.84</td>\n      <td>20190924.0</td>\n      <td>CA10</td>\n      <td>2.960581e+09</td>\n      <td>0</td>\n    </tr>\n    <tr>\n      <th>6</th>\n      <td>U001</td>\n      <td>0200769623</td>\n      <td>WAL-MAR in</td>\n      <td>2019-11-12 00:00:00</td>\n      <td>2019.0</td>\n      <td>1.930083e+09</td>\n      <td>2019-11-01</td>\n      <td>20191031</td>\n      <td>20191101</td>\n      <td>20191116.0</td>\n      <td>USD</td>\n      <td>RV</td>\n      <td>1.0</td>\n      <td>NaN</td>\n      <td>7358.49</td>\n      <td>20191101.0</td>\n      <td>NAH4</td>\n      <td>1.930083e+09</td>\n      <td>0</td>\n    </tr>\n    <tr>\n      <th>7</th>\n      <td>U001</td>\n      <td>0200744019</td>\n      <td>TARG us</td>\n      <td>NaN</td>\n      <td>2020.0</td>\n      <td>1.930659e+09</td>\n      <td>2020-03-19</td>\n      <td>20200318</td>\n      <td>20200319</td>\n      <td>20200403.0</td>\n      <td>USD</td>\n      <td>RV</td>\n      <td>1.0</td>\n      <td>NaN</td>\n      <td>11173.02</td>\n      <td>20200319.0</td>\n      <td>NAA8</td>\n      <td>1.930659e+09</td>\n      <td>1</td>\n    </tr>\n    <tr>\n      <th>8</th>\n      <td>U001</td>\n      <td>0200769623</td>\n      <td>WAL-MAR corp</td>\n      <td>2019-06-18 00:00:00</td>\n      <td>2019.0</td>\n      <td>1.929440e+09</td>\n      <td>2019-06-07</td>\n      <td>20190605</td>\n      <td>20190607</td>\n      <td>20190622.0</td>\n      <td>USD</td>\n      <td>RV</td>\n      <td>1.0</td>\n      <td>NaN</td>\n      <td>15995.04</td>\n      <td>20190607.0</td>\n      <td>NAH4</td>\n      <td>1.929440e+09</td>\n      <td>0</td>\n    </tr>\n    <tr>\n      <th>9</th>\n      <td>U001</td>\n      <td>0200762301</td>\n      <td>C&amp;S WH systems</td>\n      <td>2019-03-06 00:00:00</td>\n      <td>2019.0</td>\n      <td>1.928819e+09</td>\n      <td>2019-02-20</td>\n      <td>20190219</td>\n      <td>20190220</td>\n      <td>20190307.0</td>\n      <td>USD</td>\n      <td>RV</td>\n      <td>1.0</td>\n      <td>NaN</td>\n      <td>28.63</td>\n      <td>20190220.0</td>\n      <td>NAC6</td>\n      <td>1.928819e+09</td>\n      <td>0</td>\n    </tr>\n  </tbody>\n</table>\n</div>"
     },
     "execution_count": 2,
     "metadata": {},
     "output_type": "execute_result"
    }
   ],
   "source": [
    "df = pd.read_csv(\"./h2h_assignment_dataset.csv\")\n",
    "df.head(10)"
   ]
  },
  {
   "cell_type": "code",
   "execution_count": 3,
   "id": "8df6ee60-af77-42dc-9164-4e5f7d710764",
   "metadata": {},
   "outputs": [
    {
     "data": {
      "text/plain": "(50000, 19)"
     },
     "execution_count": 3,
     "metadata": {},
     "output_type": "execute_result"
    }
   ],
   "source": [
    "df.shape  # Getting the dimensions of the dataset"
   ]
  },
  {
   "cell_type": "markdown",
   "id": "cc3d1ac7-ab34-40e7-bd15-7dc8a72b5e3f",
   "metadata": {},
   "source": [
    "## Finding Count of Unique Values"
   ]
  },
  {
   "cell_type": "code",
   "execution_count": 4,
   "id": "1c495d4a-27d6-4439-bafd-3cf74e04653c",
   "metadata": {},
   "outputs": [
    {
     "data": {
      "text/plain": "doc_id                    48839\ninvoice_id                48833\ntotal_open_amount         44349\nname_customer              4197\ncust_number                1425\ndue_in_date                 547\ndocument_create_date        507\nposting_date                506\ndocument_create_date.1      506\nbaseline_create_date        506\nclear_date                  403\ncust_payment_terms           74\nbusiness_code                 6\ndocument type                 2\ninvoice_currency              2\nbuisness_year                 2\nisOpen                        2\nposting_id                    1\narea_business                 0\ndtype: int64"
     },
     "execution_count": 4,
     "metadata": {},
     "output_type": "execute_result"
    }
   ],
   "source": [
    "df.nunique().sort_values(ascending=False)"
   ]
  },
  {
   "cell_type": "markdown",
   "id": "422c1d75-6cca-4576-8808-22ebafa16678",
   "metadata": {},
   "source": [
    "## Calculating the Sum of NaN"
   ]
  },
  {
   "cell_type": "code",
   "execution_count": 5,
   "id": "ac9d15ad-bf9c-4c40-bfe8-453426e0de05",
   "metadata": {},
   "outputs": [
    {
     "data": {
      "text/plain": "area_business             50000\nclear_date                10000\ninvoice_id                    6\nbusiness_code                 0\ninvoice_currency              0\ncust_payment_terms            0\nbaseline_create_date          0\ntotal_open_amount             0\nposting_id                    0\ndocument type                 0\ndue_in_date                   0\ncust_number                   0\ndocument_create_date.1        0\ndocument_create_date          0\nposting_date                  0\ndoc_id                        0\nbuisness_year                 0\nname_customer                 0\nisOpen                        0\ndtype: int64"
     },
     "execution_count": 5,
     "metadata": {},
     "output_type": "execute_result"
    }
   ],
   "source": [
    "df.isnull().sum().sort_values(ascending=False)"
   ]
  },
  {
   "cell_type": "markdown",
   "id": "fc9e5234-9b5f-40a6-a5a8-1530d14c3ea7",
   "metadata": {},
   "source": [
    "# Null Value Imputation\n",
    "## Filtering \"clear_date\" column\n",
    "\n",
    "> This separation would be the first step towards filtering and estimating the payment date"
   ]
  },
  {
   "cell_type": "code",
   "execution_count": 9,
   "id": "09e076b4-d6ac-4391-9b38-744520052b14",
   "metadata": {},
   "outputs": [
    {
     "data": {
      "text/plain": "            clear_date\n0  2020-02-11 00:00:00\n1  2019-08-08 00:00:00\n2  2019-12-30 00:00:00\n4  2019-11-25 00:00:00\n5  2019-12-04 00:00:00\n6  2019-11-12 00:00:00\n8  2019-06-18 00:00:00\n9  2019-03-06 00:00:00",
      "text/html": "<div>\n<style scoped>\n    .dataframe tbody tr th:only-of-type {\n        vertical-align: middle;\n    }\n\n    .dataframe tbody tr th {\n        vertical-align: top;\n    }\n\n    .dataframe thead th {\n        text-align: right;\n    }\n</style>\n<table border=\"1\" class=\"dataframe\">\n  <thead>\n    <tr style=\"text-align: right;\">\n      <th></th>\n      <th>clear_date</th>\n    </tr>\n  </thead>\n  <tbody>\n    <tr>\n      <th>0</th>\n      <td>2020-02-11 00:00:00</td>\n    </tr>\n    <tr>\n      <th>1</th>\n      <td>2019-08-08 00:00:00</td>\n    </tr>\n    <tr>\n      <th>2</th>\n      <td>2019-12-30 00:00:00</td>\n    </tr>\n    <tr>\n      <th>4</th>\n      <td>2019-11-25 00:00:00</td>\n    </tr>\n    <tr>\n      <th>5</th>\n      <td>2019-12-04 00:00:00</td>\n    </tr>\n    <tr>\n      <th>6</th>\n      <td>2019-11-12 00:00:00</td>\n    </tr>\n    <tr>\n      <th>8</th>\n      <td>2019-06-18 00:00:00</td>\n    </tr>\n    <tr>\n      <th>9</th>\n      <td>2019-03-06 00:00:00</td>\n    </tr>\n  </tbody>\n</table>\n</div>"
     },
     "execution_count": 9,
     "metadata": {},
     "output_type": "execute_result"
    }
   ],
   "source": [
    "clear_date_filter = df[\"clear_date\"].notnull()\n",
    "df_clear_date = df[clear_date_filter].copy()\n",
    "\n",
    "df_clear_date.loc[0:9, [\"clear_date\"]]  # Printing the first 10 clear_dates"
   ]
  },
  {
   "cell_type": "code",
   "execution_count": 19,
   "outputs": [
    {
     "data": {
      "text/plain": "business_code                 6\ncust_number                1344\nname_customer              3889\nclear_date                  403\nbuisness_year                 2\ndoc_id                    39158\nposting_date                424\ndocument_create_date        427\ndocument_create_date.1      424\ndue_in_date                 491\ninvoice_currency              2\ndocument type                 2\nposting_id                    1\narea_business                 0\ntotal_open_amount         35664\nbaseline_create_date        431\ncust_payment_terms           70\ninvoice_id                39152\nisOpen                        1\ndtype: int64"
     },
     "execution_count": 19,
     "metadata": {},
     "output_type": "execute_result"
    }
   ],
   "source": [
    "df_clear_date.nunique()"
   ],
   "metadata": {
    "collapsed": false,
    "pycharm": {
     "name": "#%%\n"
    }
   }
  },
  {
   "cell_type": "markdown",
   "id": "c0b195bf-69c2-4f6b-a820-49fa000ff833",
   "metadata": {
    "pycharm": {
     "name": "#%% md\n"
    }
   },
   "source": [
    " **Confirming there are no `null` in \"clear_dates\" column**"
   ]
  },
  {
   "cell_type": "code",
   "execution_count": 11,
   "outputs": [
    {
     "data": {
      "text/plain": "0"
     },
     "execution_count": 11,
     "metadata": {},
     "output_type": "execute_result"
    }
   ],
   "source": [
    "clear_date_filter.isnull().sum()  # Should print 0, representing no null values"
   ],
   "metadata": {
    "collapsed": false,
    "pycharm": {
     "name": "#%%\n"
    }
   }
  },
  {
   "cell_type": "markdown",
   "source": [
    "## Returning the NaN clear_dates\n",
    "\n",
    "> Tilde `~` operator is used to invert a filter in pandas. [Documentation](https://blog.finxter.com/tilde-python-pandas-dataframe/#:~:text=Python's%20Tilde%20~n%20operator%20is,1%20and%20~101%20becomes%20010%20.)\n"
   ],
   "metadata": {
    "collapsed": false,
    "pycharm": {
     "name": "#%% md\n"
    }
   }
  },
  {
   "cell_type": "code",
   "execution_count": 16,
   "outputs": [
    {
     "data": {
      "text/plain": "3     NaN\n7     NaN\n10    NaN\n14    NaN\n15    NaN\n22    NaN\n25    NaN\n27    NaN\n35    NaN\n37    NaN\nName: clear_date, dtype: object"
     },
     "execution_count": 16,
     "metadata": {},
     "output_type": "execute_result"
    }
   ],
   "source": [
    "null_clear_dates = df[~clear_date_filter].copy()\n",
    "\n",
    "null_clear_dates[\"clear_date\"].head(10)  # First 10 NaN from clear_date"
   ],
   "metadata": {
    "collapsed": false,
    "pycharm": {
     "name": "#%%\n"
    }
   }
  },
  {
   "cell_type": "markdown",
   "source": [
    "**Checking the number of unique values**"
   ],
   "metadata": {
    "collapsed": false,
    "pycharm": {
     "name": "#%% md\n"
    }
   }
  },
  {
   "cell_type": "code",
   "execution_count": 17,
   "outputs": [
    {
     "data": {
      "text/plain": "business_code                6\ncust_number                694\nname_customer             1766\nclear_date                   0\nbuisness_year                1\ndoc_id                    9681\nposting_date                83\ndocument_create_date        91\ndocument_create_date.1      83\ndue_in_date                124\ninvoice_currency             2\ndocument type                1\nposting_id                   1\narea_business                0\ntotal_open_amount         9079\nbaseline_create_date        83\ncust_payment_terms          43\ninvoice_id                9681\nisOpen                       1\ndtype: int64"
     },
     "execution_count": 17,
     "metadata": {},
     "output_type": "execute_result"
    }
   ],
   "source": [
    "null_clear_dates.nunique()"
   ],
   "metadata": {
    "collapsed": false,
    "pycharm": {
     "name": "#%%\n"
    }
   }
  },
  {
   "cell_type": "code",
   "execution_count": 24,
   "outputs": [],
   "source": [
    "data_na_test = null_clear_dates.copy()  # Setting aside the test data, will be handy at last for predicting the expected payment date."
   ],
   "metadata": {
    "collapsed": false,
    "pycharm": {
     "name": "#%%\n"
    }
   }
  },
  {
   "cell_type": "markdown",
   "source": [
    "## Schema definition for the above copied dataframe (test-dataset)"
   ],
   "metadata": {
    "collapsed": false,
    "pycharm": {
     "name": "#%% md\n"
    }
   }
  },
  {
   "cell_type": "code",
   "execution_count": 26,
   "outputs": [
    {
     "data": {
      "text/plain": "business_code              object\ncust_number                object\nname_customer              object\nclear_date                 object\nbuisness_year             float64\ndoc_id                    float64\nposting_date               object\ndocument_create_date        int64\ndocument_create_date.1      int64\ndue_in_date               float64\ninvoice_currency           object\ndocument type              object\nposting_id                float64\narea_business             float64\ntotal_open_amount         float64\nbaseline_create_date      float64\ncust_payment_terms         object\ninvoice_id                float64\nisOpen                      int64\ndtype: object"
     },
     "execution_count": 26,
     "metadata": {},
     "output_type": "execute_result"
    }
   ],
   "source": [
    "data_na_test.dtypes"
   ],
   "metadata": {
    "collapsed": false,
    "pycharm": {
     "name": "#%%\n"
    }
   }
  },
  {
   "cell_type": "code",
   "execution_count": null,
   "outputs": [],
   "source": [],
   "metadata": {
    "collapsed": false,
    "pycharm": {
     "name": "#%%\n"
    }
   }
  }
 ],
 "metadata": {
  "kernelspec": {
   "display_name": "Python 3 (ipykernel)",
   "language": "python",
   "name": "python3"
  },
  "language_info": {
   "codemirror_mode": {
    "name": "ipython",
    "version": 3
   },
   "file_extension": ".py",
   "mimetype": "text/x-python",
   "name": "python",
   "nbconvert_exporter": "python",
   "pygments_lexer": "ipython3",
   "version": "3.9.7"
  }
 },
 "nbformat": 4,
 "nbformat_minor": 5
}