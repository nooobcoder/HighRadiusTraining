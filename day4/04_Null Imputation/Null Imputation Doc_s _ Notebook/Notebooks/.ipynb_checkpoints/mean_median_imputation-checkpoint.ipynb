{
 "cells": [
  {
   "cell_type": "markdown",
   "metadata": {
    "colab_type": "text",
    "id": "5DHx9SodX86l",
    "tags": []
   },
   "source": [
    "# Mean and median imputation\n",
    "\n",
    "Imputation is the act of replacing missing data with statistical estimates of the missing values. The goal of any imputation technique is to produce a **complete dataset** that can then be then used for machine learning.\n",
    "\n",
    "Mean/median imputation consists of replacing all occurrences of missing values (NA) within a variable by the mean (if the variable has a Gaussian distribution) or median (if the variable has a skewed distribution).\n",
    "\n",
    "\n",
    "### Assumptions\n",
    "\n",
    "Mean/median imputation has the assumption that the data are missing completely at random (MCAR). If this is the case, we can think of replacing the NA with the  most frequent occurrence of the variable, which is the mean if the variable has a Gaussian distribution, or the median otherwise.\n",
    "\n",
    "The rationale is to replace the population of missing values with the most frequent value, since this is the most likely occurrence.\n",
    "\n",
    "### Advantages\n",
    "\n",
    "- Easy to implement\n",
    "- Fast way of obtaining complete datasets\n",
    "\n",
    "### Limitations\n",
    "\n",
    "- Distortion of original variance\n",
    "- Distortion of covariance with remaining variables within the dataset\n",
    "\n",
    "When replacing NA with the mean or median, the variance of the variable will be distorted if the number of NA is big respect to the total number of observations (since the imputed values do not differ from the mean or from each other). Therefore leading to underestimation of the variance.\n",
    "\n",
    "In addition, estimates of covariance and correlations with other variables in the dataset may also be affected.  This is because we may be destroying intrinsic correlations since the mean/median that now replace NA will not preserve the relation with the remaining variables.\n",
    "\n",
    "\n",
    "### Final note\n",
    "Replacement of NA with mean/median is widely used in the data science community and in various data science competitions. See for example the winning solution of the KDD 2009 cup: \"Winning the KDD Cup Orange Challenge with Ensemble Selection\" (http://www.mtome.com/Publications/CiML/CiML-v3-book.pdf).\n",
    "\n",
    "Typically, mean/median imputation is done together with adding a variable to capture those observations where the data was missing, thus covering 2 angles: if the data was missing completely at random, this would be contemplated by the mean imputation, and if it wasn't this would be captured by the additional variable.\n",
    "\n",
    "In addition, both methods are extremely straight forward to implement, and therefore are a top choice in data science competitions."
   ]
  },
  {
   "cell_type": "code",
   "execution_count": 1,
   "metadata": {
    "colab": {},
    "colab_type": "code",
    "id": "PJQunJLKX86p",
    "outputId": "b1aff722-6e97-41a7-d6c9-760b2b55a41a"
   },
   "outputs": [],
   "source": [
    "import warnings\n",
    "\n",
    "import matplotlib.pyplot as plt\n",
    "import numpy as np\n",
    "import pandas as pd\n",
    "from sklearn.ensemble import RandomForestClassifier, RandomForestRegressor\n",
    "\n",
    "# for classification\n",
    "# for regression problems\n",
    "from sklearn.linear_model import LinearRegression, LogisticRegression\n",
    "\n",
    "# to evaluate classification models\n",
    "# to evaluate regression models\n",
    "from sklearn.metrics import mean_squared_error, roc_auc_score\n",
    "\n",
    "# to split and standarize the datasets\n",
    "from sklearn.model_selection import train_test_split\n",
    "from sklearn.preprocessing import StandardScaler\n",
    "from sklearn.svm import SVC\n",
    "\n",
    "%matplotlib inline\n",
    "\n",
    "\n",
    "warnings.filterwarnings(\"ignore\")"
   ]
  },
  {
   "cell_type": "code",
   "execution_count": 2,
   "metadata": {
    "colab": {},
    "colab_type": "code",
    "id": "f8A2YYUpX860",
    "outputId": "2105311b-cefd-416e-f7a7-6ea5c6976eb4"
   },
   "outputs": [
    {
     "data": {
      "text/html": [
       "<div>\n",
       "<style scoped>\n",
       "    .dataframe tbody tr th:only-of-type {\n",
       "        vertical-align: middle;\n",
       "    }\n",
       "\n",
       "    .dataframe tbody tr th {\n",
       "        vertical-align: top;\n",
       "    }\n",
       "\n",
       "    .dataframe thead th {\n",
       "        text-align: right;\n",
       "    }\n",
       "</style>\n",
       "<table border=\"1\" class=\"dataframe\">\n",
       "  <thead>\n",
       "    <tr style=\"text-align: right;\">\n",
       "      <th></th>\n",
       "      <th>Survived</th>\n",
       "      <th>Age</th>\n",
       "      <th>Fare</th>\n",
       "    </tr>\n",
       "  </thead>\n",
       "  <tbody>\n",
       "    <tr>\n",
       "      <th>0</th>\n",
       "      <td>0</td>\n",
       "      <td>22.0</td>\n",
       "      <td>7.2500</td>\n",
       "    </tr>\n",
       "    <tr>\n",
       "      <th>1</th>\n",
       "      <td>1</td>\n",
       "      <td>38.0</td>\n",
       "      <td>71.2833</td>\n",
       "    </tr>\n",
       "    <tr>\n",
       "      <th>2</th>\n",
       "      <td>1</td>\n",
       "      <td>26.0</td>\n",
       "      <td>7.9250</td>\n",
       "    </tr>\n",
       "    <tr>\n",
       "      <th>3</th>\n",
       "      <td>1</td>\n",
       "      <td>35.0</td>\n",
       "      <td>53.1000</td>\n",
       "    </tr>\n",
       "    <tr>\n",
       "      <th>4</th>\n",
       "      <td>0</td>\n",
       "      <td>35.0</td>\n",
       "      <td>8.0500</td>\n",
       "    </tr>\n",
       "  </tbody>\n",
       "</table>\n",
       "</div>"
      ],
      "text/plain": [
       "   Survived   Age     Fare\n",
       "0         0  22.0   7.2500\n",
       "1         1  38.0  71.2833\n",
       "2         1  26.0   7.9250\n",
       "3         1  35.0  53.1000\n",
       "4         0  35.0   8.0500"
      ]
     },
     "execution_count": 2,
     "metadata": {},
     "output_type": "execute_result"
    }
   ],
   "source": [
    "# load the Titanic Dataset with a few variables for demonstration\n",
    "\n",
    "data = pd.read_csv(\n",
    "    r\"../Datasets/titanic.csv\", usecols=[\"Age\", \"Fare\", \"Survived\"]\n",
    ")\n",
    "data.head()"
   ]
  },
  {
   "cell_type": "code",
   "execution_count": 4,
   "metadata": {
    "colab": {},
    "colab_type": "code",
    "id": "KJfCAmnmX869",
    "outputId": "4d80788b-061a-4eb2-dba6-48441f6b4e05"
   },
   "outputs": [
    {
     "data": {
      "text/plain": [
       "Survived      0\n",
       "Age         177\n",
       "Fare          0\n",
       "dtype: int64"
      ]
     },
     "execution_count": 4,
     "metadata": {},
     "output_type": "execute_result"
    }
   ],
   "source": [
    "# let's look at the count of NA\n",
    "\n",
    "data.isnull().sum()"
   ]
  },
  {
   "cell_type": "markdown",
   "metadata": {
    "colab_type": "text",
    "id": "lsMg6kXUX87E"
   },
   "source": [
    "# Imputation important\n",
    "\n",
    "Imputation should be done over the training set, and then propagated to the test set. This means that the mean/median to be used to fill missing values both in train and test set, should be extracted from the train set only. And this is to avoid overfitting."
   ]
  },
  {
   "cell_type": "code",
   "execution_count": 5,
   "metadata": {
    "colab": {},
    "colab_type": "code",
    "id": "R89myYopX87G",
    "outputId": "a6b45791-fd95-4653-d8f1-b43a820fd4a7"
   },
   "outputs": [
    {
     "data": {
      "text/plain": [
       "((623, 3), (268, 3))"
      ]
     },
     "execution_count": 5,
     "metadata": {},
     "output_type": "execute_result"
    }
   ],
   "source": [
    "# let's separate into training and testing set\n",
    "\n",
    "X_train, X_test, y_train, y_test = train_test_split(\n",
    "    data, data.Survived, test_size=0.3, random_state=0\n",
    ")\n",
    "X_train.shape, X_test.shape"
   ]
  },
  {
   "cell_type": "code",
   "execution_count": 6,
   "metadata": {
    "colab": {},
    "colab_type": "code",
    "id": "Xt8pf7-oX87N"
   },
   "outputs": [],
   "source": [
    "# let's make a function to create 2 variables from Age:\n",
    "# one filling NA with median, and another one filling NA with zeroes\n",
    "\n",
    "\n",
    "def impute_na(df, variable, median):\n",
    "    df[variable + \"_median\"] = df[variable].fillna(median)\n",
    "    df[variable + \"_zero\"] = df[variable].fillna(0)"
   ]
  },
  {
   "cell_type": "code",
   "execution_count": 7,
   "metadata": {
    "colab": {},
    "colab_type": "code",
    "id": "ynz9zVKGX87T",
    "outputId": "9ad54b7d-16a5-48bd-97c9-b5366f29db75"
   },
   "outputs": [
    {
     "data": {
      "text/plain": [
       "29.0"
      ]
     },
     "execution_count": 7,
     "metadata": {},
     "output_type": "execute_result"
    }
   ],
   "source": [
    "median = X_train.Age.median()\n",
    "median"
   ]
  },
  {
   "cell_type": "code",
   "execution_count": 8,
   "metadata": {
    "colab": {},
    "colab_type": "code",
    "id": "5rvT0mywX87c",
    "outputId": "1b9c8d9b-2e19-4c3d-8628-3d9bb330c485"
   },
   "outputs": [
    {
     "data": {
      "text/html": [
       "<div>\n",
       "<style scoped>\n",
       "    .dataframe tbody tr th:only-of-type {\n",
       "        vertical-align: middle;\n",
       "    }\n",
       "\n",
       "    .dataframe tbody tr th {\n",
       "        vertical-align: top;\n",
       "    }\n",
       "\n",
       "    .dataframe thead th {\n",
       "        text-align: right;\n",
       "    }\n",
       "</style>\n",
       "<table border=\"1\" class=\"dataframe\">\n",
       "  <thead>\n",
       "    <tr style=\"text-align: right;\">\n",
       "      <th></th>\n",
       "      <th>Survived</th>\n",
       "      <th>Age</th>\n",
       "      <th>Fare</th>\n",
       "      <th>Age_median</th>\n",
       "      <th>Age_zero</th>\n",
       "    </tr>\n",
       "  </thead>\n",
       "  <tbody>\n",
       "    <tr>\n",
       "      <th>857</th>\n",
       "      <td>1</td>\n",
       "      <td>51.0</td>\n",
       "      <td>26.5500</td>\n",
       "      <td>51.0</td>\n",
       "      <td>51.0</td>\n",
       "    </tr>\n",
       "    <tr>\n",
       "      <th>52</th>\n",
       "      <td>1</td>\n",
       "      <td>49.0</td>\n",
       "      <td>76.7292</td>\n",
       "      <td>49.0</td>\n",
       "      <td>49.0</td>\n",
       "    </tr>\n",
       "    <tr>\n",
       "      <th>386</th>\n",
       "      <td>0</td>\n",
       "      <td>1.0</td>\n",
       "      <td>46.9000</td>\n",
       "      <td>1.0</td>\n",
       "      <td>1.0</td>\n",
       "    </tr>\n",
       "    <tr>\n",
       "      <th>124</th>\n",
       "      <td>0</td>\n",
       "      <td>54.0</td>\n",
       "      <td>77.2875</td>\n",
       "      <td>54.0</td>\n",
       "      <td>54.0</td>\n",
       "    </tr>\n",
       "    <tr>\n",
       "      <th>578</th>\n",
       "      <td>0</td>\n",
       "      <td>NaN</td>\n",
       "      <td>14.4583</td>\n",
       "      <td>29.0</td>\n",
       "      <td>0.0</td>\n",
       "    </tr>\n",
       "    <tr>\n",
       "      <th>549</th>\n",
       "      <td>1</td>\n",
       "      <td>8.0</td>\n",
       "      <td>36.7500</td>\n",
       "      <td>8.0</td>\n",
       "      <td>8.0</td>\n",
       "    </tr>\n",
       "    <tr>\n",
       "      <th>118</th>\n",
       "      <td>0</td>\n",
       "      <td>24.0</td>\n",
       "      <td>247.5208</td>\n",
       "      <td>24.0</td>\n",
       "      <td>24.0</td>\n",
       "    </tr>\n",
       "    <tr>\n",
       "      <th>12</th>\n",
       "      <td>0</td>\n",
       "      <td>20.0</td>\n",
       "      <td>8.0500</td>\n",
       "      <td>20.0</td>\n",
       "      <td>20.0</td>\n",
       "    </tr>\n",
       "    <tr>\n",
       "      <th>157</th>\n",
       "      <td>0</td>\n",
       "      <td>30.0</td>\n",
       "      <td>8.0500</td>\n",
       "      <td>30.0</td>\n",
       "      <td>30.0</td>\n",
       "    </tr>\n",
       "    <tr>\n",
       "      <th>127</th>\n",
       "      <td>1</td>\n",
       "      <td>24.0</td>\n",
       "      <td>7.1417</td>\n",
       "      <td>24.0</td>\n",
       "      <td>24.0</td>\n",
       "    </tr>\n",
       "    <tr>\n",
       "      <th>653</th>\n",
       "      <td>1</td>\n",
       "      <td>NaN</td>\n",
       "      <td>7.8292</td>\n",
       "      <td>29.0</td>\n",
       "      <td>0.0</td>\n",
       "    </tr>\n",
       "    <tr>\n",
       "      <th>235</th>\n",
       "      <td>0</td>\n",
       "      <td>NaN</td>\n",
       "      <td>7.5500</td>\n",
       "      <td>29.0</td>\n",
       "      <td>0.0</td>\n",
       "    </tr>\n",
       "    <tr>\n",
       "      <th>785</th>\n",
       "      <td>0</td>\n",
       "      <td>25.0</td>\n",
       "      <td>7.2500</td>\n",
       "      <td>25.0</td>\n",
       "      <td>25.0</td>\n",
       "    </tr>\n",
       "    <tr>\n",
       "      <th>241</th>\n",
       "      <td>1</td>\n",
       "      <td>NaN</td>\n",
       "      <td>15.5000</td>\n",
       "      <td>29.0</td>\n",
       "      <td>0.0</td>\n",
       "    </tr>\n",
       "    <tr>\n",
       "      <th>351</th>\n",
       "      <td>0</td>\n",
       "      <td>NaN</td>\n",
       "      <td>35.0000</td>\n",
       "      <td>29.0</td>\n",
       "      <td>0.0</td>\n",
       "    </tr>\n",
       "  </tbody>\n",
       "</table>\n",
       "</div>"
      ],
      "text/plain": [
       "     Survived   Age      Fare  Age_median  Age_zero\n",
       "857         1  51.0   26.5500        51.0      51.0\n",
       "52          1  49.0   76.7292        49.0      49.0\n",
       "386         0   1.0   46.9000         1.0       1.0\n",
       "124         0  54.0   77.2875        54.0      54.0\n",
       "578         0   NaN   14.4583        29.0       0.0\n",
       "549         1   8.0   36.7500         8.0       8.0\n",
       "118         0  24.0  247.5208        24.0      24.0\n",
       "12          0  20.0    8.0500        20.0      20.0\n",
       "157         0  30.0    8.0500        30.0      30.0\n",
       "127         1  24.0    7.1417        24.0      24.0\n",
       "653         1   NaN    7.8292        29.0       0.0\n",
       "235         0   NaN    7.5500        29.0       0.0\n",
       "785         0  25.0    7.2500        25.0      25.0\n",
       "241         1   NaN   15.5000        29.0       0.0\n",
       "351         0   NaN   35.0000        29.0       0.0"
      ]
     },
     "execution_count": 8,
     "metadata": {},
     "output_type": "execute_result"
    }
   ],
   "source": [
    "impute_na(X_train, \"Age\", median)\n",
    "X_train.head(15)"
   ]
  },
  {
   "cell_type": "code",
   "execution_count": 9,
   "metadata": {
    "colab": {},
    "colab_type": "code",
    "id": "ookP7TqyX87o"
   },
   "outputs": [],
   "source": [
    "impute_na(X_test, \"Age\", median)"
   ]
  },
  {
   "cell_type": "markdown",
   "metadata": {
    "colab_type": "text",
    "id": "bJSRJhuMX87v"
   },
   "source": [
    "# Mean/median imputation alters the variance of the original distribution of the variable"
   ]
  },
  {
   "cell_type": "code",
   "execution_count": 10,
   "metadata": {
    "colab": {},
    "colab_type": "code",
    "id": "M6XEOdeWX87x",
    "outputId": "46ec7609-37d0-4490-972c-df87e2e84bef"
   },
   "outputs": [
    {
     "name": "stdout",
     "output_type": "stream",
     "text": [
      "Original Variance:  14.506993804588443\n",
      "Variance after median imputation:  13.024746215318798\n"
     ]
    }
   ],
   "source": [
    "# we can see a change in the variance after imputation\n",
    "\n",
    "print(\"Original Variance: \", X_train[\"Age\"].std())\n",
    "print(\"Variance after median imputation: \", X_train[\"Age_median\"].std())"
   ]
  },
  {
   "cell_type": "code",
   "execution_count": 11,
   "metadata": {
    "colab": {},
    "colab_type": "code",
    "id": "uOi72X9QX875",
    "outputId": "59560ac5-87a0-458b-c5d7-e7fb74423d78"
   },
   "outputs": [
    {
     "data": {
      "text/plain": [
       "<matplotlib.legend.Legend at 0x7f382d085a90>"
      ]
     },
     "execution_count": 11,
     "metadata": {},
     "output_type": "execute_result"
    },
    {
     "data": {
      "image/png": "[encoded data removed]",
      "text/plain": [
       "<Figure size 432x288 with 1 Axes>"
      ]
     },
     "metadata": {
      "needs_background": "light"
     },
     "output_type": "display_data"
    }
   ],
   "source": [
    "# we can see that the distribution has changed slightly with now more values accumulating towards the median\n",
    "fig = plt.figure()\n",
    "ax = fig.add_subplot(111)\n",
    "X_train[\"Age\"].plot(kind=\"kde\", ax=ax)\n",
    "X_train.Age_median.plot(kind=\"kde\", ax=ax, color=\"red\")\n",
    "lines, labels = ax.get_legend_handles_labels()\n",
    "ax.legend(lines, labels, loc=\"best\")"
   ]
  },
  {
   "cell_type": "markdown",
   "metadata": {
    "colab_type": "text",
    "id": "0kV6UMsPX88B"
   },
   "source": [
    "As mentioned above, the median imputation distorts the original distribution of the variable Age. The transformed variable shows more values around the median value."
   ]
  },
  {
   "cell_type": "code",
   "execution_count": 12,
   "metadata": {
    "colab": {},
    "colab_type": "code",
    "id": "D0xF2WQ9X88C",
    "outputId": "58b59b12-5ca6-490d-93c3-bf1affabf96c"
   },
   "outputs": [
    {
     "data": {
      "text/plain": [
       "<matplotlib.legend.Legend at 0x7f382af6f370>"
      ]
     },
     "execution_count": 12,
     "metadata": {},
     "output_type": "execute_result"
    },
    {
     "data": {
      "image/png": "[encoded data removed]",
      "text/plain": [
       "<Figure size 432x288 with 1 Axes>"
      ]
     },
     "metadata": {
      "needs_background": "light"
     },
     "output_type": "display_data"
    }
   ],
   "source": [
    "# filling NA with zeroes creates a peak of population around 0, as expected\n",
    "fig = plt.figure()\n",
    "ax = fig.add_subplot(111)\n",
    "X_train[\"Age\"].plot(kind=\"kde\", ax=ax)\n",
    "X_train.Age_zero.plot(kind=\"kde\", ax=ax, color=\"red\")\n",
    "lines, labels = ax.get_legend_handles_labels()\n",
    "ax.legend(lines, labels, loc=\"best\")"
   ]
  },
  {
   "cell_type": "markdown",
   "metadata": {
    "colab_type": "text",
    "id": "uhQYMiJCX88M"
   },
   "source": [
    "Filling NA with 0s also distorts the distribution of the original variable, generating an accumulation of values around 0. We will see in the next lecture a method of NA imputation that preserves variable distribution."
   ]
  },
  {
   "cell_type": "markdown",
   "metadata": {
    "colab_type": "text",
    "id": "4pUVSfZRX88N"
   },
   "source": [
    "### Machine learning model performance on different imputation methods\n",
    "\n",
    "#### Logistic Regression"
   ]
  },
  {
   "cell_type": "code",
   "execution_count": 13,
   "metadata": {
    "colab": {},
    "colab_type": "code",
    "id": "Hz7mzfSZX88O",
    "outputId": "ea8d2514-1ac9-4e93-cd8b-dedc5726e365"
   },
   "outputs": [
    {
     "name": "stdout",
     "output_type": "stream",
     "text": [
      "Train set zero imputation\n",
      "Logistic Regression roc-auc: 0.6863354374091668\n",
      "Test set zero imputation\n",
      "Logistic Regression roc-auc: 0.71375\n",
      "\n",
      "Train set median imputation\n",
      "Logistic Regression roc-auc: 0.6794863451985858\n",
      "Test set median imputation\n",
      "Logistic Regression roc-auc: 0.7244940476190477\n"
     ]
    }
   ],
   "source": [
    "# Let's compare the performance of Logistic Regression using Age filled with zeros or alternatively the median\n",
    "\n",
    "# model on NA imputed with zeroes\n",
    "logit = LogisticRegression(\n",
    "    random_state=44, C=1000\n",
    ")  # c big to avoid regularization\n",
    "logit.fit(X_train[[\"Age_zero\", \"Fare\"]], y_train)\n",
    "print(\"Train set zero imputation\")\n",
    "pred = logit.predict_proba(X_train[[\"Age_zero\", \"Fare\"]])\n",
    "print(\n",
    "    \"Logistic Regression roc-auc: {}\".format(roc_auc_score(y_train, pred[:, 1]))\n",
    ")\n",
    "print(\"Test set zero imputation\")\n",
    "pred = logit.predict_proba(X_test[[\"Age_zero\", \"Fare\"]])\n",
    "print(\n",
    "    \"Logistic Regression roc-auc: {}\".format(roc_auc_score(y_test, pred[:, 1]))\n",
    ")\n",
    "print()\n",
    "\n",
    "# model on NA imputed with median\n",
    "logit = LogisticRegression(\n",
    "    random_state=44, C=1000\n",
    ")  # c big to avoid regularization\n",
    "logit.fit(X_train[[\"Age_median\", \"Fare\"]], y_train)\n",
    "print(\"Train set median imputation\")\n",
    "pred = logit.predict_proba(X_train[[\"Age_median\", \"Fare\"]])\n",
    "print(\n",
    "    \"Logistic Regression roc-auc: {}\".format(roc_auc_score(y_train, pred[:, 1]))\n",
    ")\n",
    "print(\"Test set median imputation\")\n",
    "pred = logit.predict_proba(X_test[[\"Age_median\", \"Fare\"]])\n",
    "print(\n",
    "    \"Logistic Regression roc-auc: {}\".format(roc_auc_score(y_test, pred[:, 1]))\n",
    ")"
   ]
  },
  {
   "cell_type": "code",
   "execution_count": 14,
   "metadata": {
    "colab": {},
    "colab_type": "code",
    "id": "VyYoSFrjX88Y",
    "outputId": "887edb29-c71f-44fc-d557-78fb3e1c249e"
   },
   "outputs": [
    {
     "name": "stdout",
     "output_type": "stream",
     "text": [
      "Average total survival: 0.3884430176565008\n"
     ]
    }
   ],
   "source": [
    "print(\"Average total survival:\", X_train.Survived.mean())"
   ]
  },
  {
   "cell_type": "code",
   "execution_count": 15,
   "metadata": {
    "colab": {},
    "colab_type": "code",
    "id": "Rc3zsXc_X88f",
    "outputId": "924eb8a0-41fe-48b2-cd00-8b426abcf217"
   },
   "outputs": [
    {
     "name": "stdout",
     "output_type": "stream",
     "text": [
      "Average real survival of children:  0.5740740740740741\n",
      "Average survival of children when using Age imputed with zeroes:  0.38857142857142857\n",
      "Average survival of children when using Age imputed with median:  0.5740740740740741\n"
     ]
    }
   ],
   "source": [
    "print(\n",
    "    \"Average real survival of children: \",\n",
    "    X_train[X_train.Age < 15].Survived.mean(),\n",
    ")\n",
    "print(\n",
    "    \"Average survival of children when using Age imputed with zeroes: \",\n",
    "    X_train[X_train.Age_zero < 15].Survived.mean(),\n",
    ")\n",
    "print(\n",
    "    \"Average survival of children when using Age imputed with median: \",\n",
    "    X_train[X_train.Age_median < 15].Survived.mean(),\n",
    ")"
   ]
  },
  {
   "cell_type": "markdown",
   "metadata": {
    "colab_type": "text",
    "id": "aLQtHSI4X88o"
   },
   "source": [
    "Children were more likely to survive the catastrophe (0.57 for children vs 0.38 for the entire Titanic). Thus, smaller values of Age are a good indicator of survival.\n",
    "\n",
    "When we replace NA with zeroes, we are masking the predictive power of Age. After zero imputation it looks like children did not have a greater chance of survival, and therefore the model loses predictive power.\n",
    "\n",
    "On the other hand, replacing NA with the median, preserves the predictive power of the variable Age, as smaller Age values will favour survival."
   ]
  },
  {
   "cell_type": "markdown",
   "metadata": {
    "colab_type": "text",
    "id": "n9QHB1mwX88p"
   },
   "source": [
    "### SVM"
   ]
  },
  {
   "cell_type": "code",
   "execution_count": 16,
   "metadata": {
    "colab": {},
    "colab_type": "code",
    "id": "YLL4RnXfX88q",
    "outputId": "b6720599-7615-45bc-d003-7e84dddc10ea"
   },
   "outputs": [
    {
     "name": "stdout",
     "output_type": "stream",
     "text": [
      "Train set zero imputation\n",
      "Logistic Regression roc-auc: 0.6879514544153056\n",
      "Test set zero imputation\n",
      "Logistic Regression roc-auc: 0.7243452380952381\n",
      "\n",
      "Train set median imputation\n",
      "Logistic Regression roc-auc: 0.6931248779852932\n",
      "Test set median imputation\n",
      "Logistic Regression roc-auc: 0.7417559523809524\n",
      "\n"
     ]
    }
   ],
   "source": [
    "# Let's compare the performance of SVM using Age filled with zeros or alternatively the median\n",
    "\n",
    "SVM_model = SVC(\n",
    "    random_state=44,\n",
    "    probability=True,\n",
    "    max_iter=-1,\n",
    "    kernel=\"linear\",\n",
    ")\n",
    "SVM_model.fit(X_train[[\"Age_zero\", \"Fare\"]], y_train)\n",
    "print(\"Train set zero imputation\")\n",
    "pred = SVM_model.predict_proba(X_train[[\"Age_zero\", \"Fare\"]])\n",
    "print(\n",
    "    \"Logistic Regression roc-auc: {}\".format(roc_auc_score(y_train, pred[:, 1]))\n",
    ")\n",
    "print(\"Test set zero imputation\")\n",
    "pred = SVM_model.predict_proba(X_test[[\"Age_zero\", \"Fare\"]])\n",
    "print(\n",
    "    \"Logistic Regression roc-auc: {}\".format(roc_auc_score(y_test, pred[:, 1]))\n",
    ")\n",
    "print()\n",
    "SVM_model = SVC(random_state=44, probability=True, max_iter=-1, kernel=\"linear\")\n",
    "SVM_model.fit(X_train[[\"Age_median\", \"Fare\"]], y_train)\n",
    "print(\"Train set median imputation\")\n",
    "pred = SVM_model.predict_proba(X_train[[\"Age_median\", \"Fare\"]])\n",
    "print(\n",
    "    \"Logistic Regression roc-auc: {}\".format(roc_auc_score(y_train, pred[:, 1]))\n",
    ")\n",
    "print(\"Test set median imputation\")\n",
    "pred = SVM_model.predict_proba(X_test[[\"Age_median\", \"Fare\"]])\n",
    "print(\n",
    "    \"Logistic Regression roc-auc: {}\".format(roc_auc_score(y_test, pred[:, 1]))\n",
    ")\n",
    "print()"
   ]
  },
  {
   "cell_type": "markdown",
   "metadata": {
    "colab_type": "text",
    "id": "HUM6UosjX88y"
   },
   "source": [
    "For SVM as well, median imputation leads to better performance of the model, compared to replacing NA with zeroes.\n",
    "\n",
    "#### Random Forests"
   ]
  },
  {
   "cell_type": "code",
   "execution_count": 17,
   "metadata": {
    "colab": {},
    "colab_type": "code",
    "id": "i24Glfz9X881",
    "outputId": "7e311185-f8f5-454b-ca0d-b468dbece314"
   },
   "outputs": [
    {
     "name": "stdout",
     "output_type": "stream",
     "text": [
      "Train set zero imputation\n",
      "Random Forests roc-auc: 0.7555855621353116\n",
      "Test set zero imputation\n",
      "Random Forests zero imputation roc-auc: 0.7490476190476191\n",
      "\n",
      "Train set median imputation\n",
      "Random Forests roc-auc: 0.7515021366130887\n",
      "Test set median imputation\n",
      "Random Forests roc-auc: 0.7697619047619049\n",
      "\n"
     ]
    }
   ],
   "source": [
    "# Let's compare the performance of Random Forests using Age filled with zeros or alternatively the median\n",
    "\n",
    "rf = RandomForestClassifier(n_estimators=100, random_state=39, max_depth=3)\n",
    "rf.fit(X_train[[\"Age_zero\", \"Fare\"]], y_train)\n",
    "print(\"Train set zero imputation\")\n",
    "pred = rf.predict_proba(X_train[[\"Age_zero\", \"Fare\"]])\n",
    "print(\"Random Forests roc-auc: {}\".format(roc_auc_score(y_train, pred[:, 1])))\n",
    "print(\"Test set zero imputation\")\n",
    "pred = rf.predict_proba(X_test[[\"Age_zero\", \"Fare\"]])\n",
    "print(\n",
    "    \"Random Forests zero imputation roc-auc: {}\".format(\n",
    "        roc_auc_score(y_test, pred[:, 1])\n",
    "    )\n",
    ")\n",
    "print()\n",
    "rf = RandomForestClassifier(n_estimators=100, random_state=39, max_depth=3)\n",
    "rf.fit(X_train[[\"Age_median\", \"Fare\"]], y_train)\n",
    "print(\"Train set median imputation\")\n",
    "pred = rf.predict_proba(X_train[[\"Age_median\", \"Fare\"]])\n",
    "print(\"Random Forests roc-auc: {}\".format(roc_auc_score(y_train, pred[:, 1])))\n",
    "print(\"Test set median imputation\")\n",
    "pred = rf.predict_proba(X_test[[\"Age_median\", \"Fare\"]])\n",
    "print(\"Random Forests roc-auc: {}\".format(roc_auc_score(y_test, pred[:, 1])))\n",
    "print()"
   ]
  },
  {
   "cell_type": "markdown",
   "metadata": {
    "colab_type": "text",
    "id": "_H7WtHS8X888"
   },
   "source": [
    "Random Forests, as well as SVMs, perform better with median imputation, compared with replacing with zeroes."
   ]
  }
 ],
 "metadata": {
  "colab": {
   "collapsed_sections": [],
   "name": "mean_median_imputation.ipynb",
   "provenance": []
  },
  "kernelspec": {
   "display_name": "Python 3 (ipykernel)",
   "language": "python",
   "name": "python3"
  },
  "language_info": {
   "codemirror_mode": {
    "name": "ipython",
    "version": 3
   },
   "file_extension": ".py",
   "mimetype": "text/x-python",
   "name": "python",
   "nbconvert_exporter": "python",
   "pygments_lexer": "ipython3",
   "version": "3.9.7"
  }
 },
 "nbformat": 4,
 "nbformat_minor": 4
}
